{
 "cells": [
  {
   "cell_type": "markdown",
   "metadata": {},
   "source": [
    "# Utilizing ProteinEmbedding and Dataset formation\n",
    "\n",
    "The _ProteinEmbedding_ object can store protein sequences in combination with embedding and vector representations,\n",
    "which can then be manipulated by implementing standard operations from the __skbio__ library. \n",
    "\n",
    "To demonstrate this process, we will read in a list of protein sequences, then attempt to create a dataset from our \n",
    "embeddings to be streamed in with the standard skbio.read."
   ]
  },
  {
   "cell_type": "code",
   "execution_count": 1,
   "metadata": {},
   "outputs": [
    {
     "name": "stderr",
     "output_type": "stream",
     "text": [
      "/home/pbatra6/miniforge3/envs/.env/lib/python3.12/site-packages/tqdm/auto.py:21: TqdmWarning: IProgress not found. Please update jupyter and ipywidgets. See https://ipywidgets.readthedocs.io/en/stable/user_install.html\n",
      "  from .autonotebook import tqdm as notebook_tqdm\n"
     ]
    }
   ],
   "source": [
    "# Necessary imports\n",
    "from transformers import T5Tokenizer, T5EncoderModel\n",
    "from skbio.embedding import ProteinEmbedding\n",
    "from skbio.sequence import Protein\n",
    "from tqdm import tqdm\n",
    "import torch\n",
    "import skbio\n",
    "import re"
   ]
  },
  {
   "cell_type": "markdown",
   "metadata": {},
   "source": [
    "## Loading Embeddings\n",
    "\n",
    "These helper functions will take the inputted protein sequences and feed it through an embedding model (prot-t5), \n",
    "outputting the generated embeddings."
   ]
  },
  {
   "cell_type": "code",
   "execution_count": 4,
   "metadata": {},
   "outputs": [],
   "source": [
    "# Load Embeddings Functions\n",
    "def load_protein_t5_embedding(sequence, model_name, tokenizer_name):\n",
    "\n",
    "    tokenizer = T5Tokenizer.from_pretrained(tokenizer_name)\n",
    "    model = T5EncoderModel.from_pretrained(model_name)\n",
    "    \n",
    "    # convert sequence to formatted list of strings\n",
    "    seq_list = []\n",
    "    seq_list.append(sequence)\n",
    "    seqs = [\" \".join(list(re.sub(r\"[UZOB]\", \"X\", str(seq)))) for seq in seq_list]\n",
    "    \n",
    "    # tokenize sequences and pad up to the longest sequence in the batch\n",
    "    ids = tokenizer.batch_encode_plus(seqs, add_special_tokens=True, padding=\"longest\")\n",
    "    input_ids = torch.tensor(ids['input_ids'])\n",
    "    attention_mask = torch.tensor(ids['attention_mask'])\n",
    "    \n",
    "    # generate embeddings\n",
    "    with torch.no_grad():\n",
    "        embedding_repr = model(input_ids=input_ids,attention_mask=attention_mask)\n",
    "    emb = embedding_repr.last_hidden_state[0, :-1, :].squeeze()\n",
    "    \n",
    "    print(emb.shape)\n",
    "    print(emb)\n",
    "    \n",
    "    return ProteinEmbedding(emb, sequence)\n",
    "\n",
    "\n",
    "def to_embeddings(sequences : list, model_name, tokenizer_name):\n",
    "    # Embed the random/inputted protein sequence(s)\n",
    "    for sequence in tqdm(sequences):\n",
    "        test_embed = load_protein_t5_embedding(str(sequence), model_name, tokenizer_name)\n",
    "        #reshape embeddings to fit the skbio format\n",
    "        yield test_embed"
   ]
  },
  {
   "cell_type": "markdown",
   "metadata": {},
   "source": [
    "## Passing to file\n",
    "\n",
    "Finally, we can output the embeddings into a file, which can be utilized further as will be demonstrated in other scikit-bio tutorials.\n"
   ]
  },
  {
   "cell_type": "code",
   "execution_count": 5,
   "metadata": {},
   "outputs": [
    {
     "name": "stderr",
     "output_type": "stream",
     "text": []
    },
    {
     "name": "stdout",
     "output_type": "stream",
     "text": [
      "torch.Size([64, 1024])\n",
      "tensor([[ 0.3527, -0.2012,  0.4537,  ...,  0.2823,  0.0100, -0.0525],\n",
      "        [ 0.1412, -0.0212, -0.0139,  ...,  0.2419, -0.0761, -0.2239],\n",
      "        [ 0.0060, -0.0903, -0.0719,  ...,  0.0536, -0.2231,  0.0865],\n",
      "        ...,\n",
      "        [ 0.3742, -0.0142,  0.1068,  ..., -0.2525,  0.1522,  0.1697],\n",
      "        [-0.0415, -0.0368,  0.2598,  ...,  0.3595,  0.0954, -0.3362],\n",
      "        [-0.2692,  0.1179,  0.3329,  ...,  0.0708, -0.0560, -0.3600]])\n"
     ]
    },
    {
     "name": "stderr",
     "output_type": "stream",
     "text": []
    },
    {
     "name": "stdout",
     "output_type": "stream",
     "text": [
      "torch.Size([85, 1024])\n",
      "tensor([[ 0.0448, -0.3192,  0.0338,  ...,  0.3150,  0.1809,  0.1616],\n",
      "        [-0.1406, -0.2170, -0.0971,  ...,  0.3162,  0.0901,  0.0595],\n",
      "        [ 0.1272, -0.3383,  0.1514,  ...,  0.3010,  0.1081, -0.0971],\n",
      "        ...,\n",
      "        [ 0.0277,  0.0309,  0.3150,  ..., -0.1001,  0.0265, -0.2073],\n",
      "        [-0.0046, -0.0616,  0.3652,  ...,  0.0057,  0.4840,  0.1657],\n",
      "        [-0.0733,  0.0379,  0.5814,  ..., -0.0665,  0.1087, -0.2235]])\n"
     ]
    },
    {
     "name": "stderr",
     "output_type": "stream",
     "text": []
    },
    {
     "name": "stdout",
     "output_type": "stream",
     "text": [
      "torch.Size([57, 1024])\n",
      "tensor([[ 0.1845, -0.3951, -0.0854,  ...,  0.1404,  0.1813,  0.2917],\n",
      "        [-0.0796, -0.2827, -0.0998,  ...,  0.2809,  0.4256,  0.1024],\n",
      "        [ 0.1345, -0.2616, -0.1580,  ...,  0.0142,  0.0996, -0.1368],\n",
      "        ...,\n",
      "        [ 0.1981,  0.0453,  0.1394,  ..., -0.0543, -0.1885,  0.0168],\n",
      "        [-0.0489, -0.0764,  0.2490,  ..., -0.1048, -0.1520, -0.2704],\n",
      "        [ 0.0244, -0.1924,  0.3299,  ..., -0.0902, -0.1990,  0.0381]])\n",
      "torch.Size([21, 1024])\n",
      "tensor([[ 0.0725,  0.0187, -0.1541,  ...,  0.0581, -0.0055,  0.0638],\n",
      "        [ 0.1707,  0.1087, -0.2175,  ...,  0.2334,  0.0045,  0.0639],\n",
      "        [ 0.1556,  0.0777, -0.2653,  ...,  0.0485,  0.2728, -0.0513],\n",
      "        ...,\n",
      "        [ 0.0922,  0.1656,  0.1224,  ...,  0.2453, -0.1710, -0.0967],\n",
      "        [ 0.0379,  0.0477, -0.1381,  ...,  0.0363, -0.1200, -0.1437],\n",
      "        [ 0.0754,  0.2271,  0.1624,  ...,  0.1898, -0.0374, -0.0882]])\n"
     ]
    },
    {
     "ename": "IndexError",
     "evalue": "Index (3) out of range for (0-2)",
     "output_type": "error",
     "traceback": [
      "\u001b[0;31m---------------------------------------------------------------------------\u001b[0m",
      "\u001b[0;31mIndexError\u001b[0m                                Traceback (most recent call last)",
      "Cell \u001b[0;32mIn[5], line 7\u001b[0m\n\u001b[1;32m      5\u001b[0m sequence_list \u001b[38;5;241m=\u001b[39m skbio\u001b[38;5;241m.\u001b[39mio\u001b[38;5;241m.\u001b[39mread(\u001b[38;5;124m\"\u001b[39m\u001b[38;5;124mpdb_hits.fa\u001b[39m\u001b[38;5;124m\"\u001b[39m, \u001b[38;5;28mformat\u001b[39m\u001b[38;5;241m=\u001b[39m\u001b[38;5;124m'\u001b[39m\u001b[38;5;124mfasta\u001b[39m\u001b[38;5;124m'\u001b[39m)\n\u001b[1;32m      6\u001b[0m embed_list \u001b[38;5;241m=\u001b[39m to_embeddings(sequence_list, model_name, tokenizer_name)\n\u001b[0;32m----> 7\u001b[0m \u001b[43mskbio\u001b[49m\u001b[38;5;241;43m.\u001b[39;49m\u001b[43mwrite\u001b[49m\u001b[43m(\u001b[49m\u001b[43membed_list\u001b[49m\u001b[43m,\u001b[49m\u001b[43m \u001b[49m\u001b[38;5;28;43mformat\u001b[39;49m\u001b[38;5;241;43m=\u001b[39;49m\u001b[38;5;124;43m'\u001b[39;49m\u001b[38;5;124;43membed\u001b[39;49m\u001b[38;5;124;43m'\u001b[39;49m\u001b[43m,\u001b[49m\u001b[43m \u001b[49m\u001b[43minto\u001b[49m\u001b[38;5;241;43m=\u001b[39;49m\u001b[38;5;124;43m\"\u001b[39;49m\u001b[38;5;124;43mpdb_hits.h5\u001b[39;49m\u001b[38;5;124;43m\"\u001b[39;49m\u001b[43m)\u001b[49m\n\u001b[1;32m      9\u001b[0m \u001b[38;5;66;03m#test if the file was written correctly and output\u001b[39;00m\n\u001b[1;32m     10\u001b[0m read_embed \u001b[38;5;241m=\u001b[39m \u001b[38;5;28miter\u001b[39m(skbio\u001b[38;5;241m.\u001b[39mread(\u001b[38;5;124m\"\u001b[39m\u001b[38;5;124mpdb_hits.h5\u001b[39m\u001b[38;5;124m\"\u001b[39m, \u001b[38;5;28mformat\u001b[39m\u001b[38;5;241m=\u001b[39m\u001b[38;5;124m'\u001b[39m\u001b[38;5;124membed\u001b[39m\u001b[38;5;124m'\u001b[39m ,constructor\u001b[38;5;241m=\u001b[39mProteinEmbedding))\n",
      "File \u001b[0;32m~/miniforge3/envs/.env/lib/python3.12/site-packages/skbio/io/registry.py:1183\u001b[0m, in \u001b[0;36mwrite\u001b[0;34m(obj, format, into, **kwargs)\u001b[0m\n\u001b[1;32m   1180\u001b[0m \u001b[38;5;129m@wraps\u001b[39m(IORegistry\u001b[38;5;241m.\u001b[39mwrite)\n\u001b[1;32m   1181\u001b[0m \u001b[38;5;28;01mdef\u001b[39;00m \u001b[38;5;21mwrite\u001b[39m(obj, \u001b[38;5;28mformat\u001b[39m, into, \u001b[38;5;241m*\u001b[39m\u001b[38;5;241m*\u001b[39mkwargs):\n\u001b[1;32m   1182\u001b[0m \u001b[38;5;250m    \u001b[39m\u001b[38;5;124;03m\"\"\"Write data to file using specified format.\"\"\"\u001b[39;00m\n\u001b[0;32m-> 1183\u001b[0m     \u001b[38;5;28;01mreturn\u001b[39;00m \u001b[43mio_registry\u001b[49m\u001b[38;5;241;43m.\u001b[39;49m\u001b[43mwrite\u001b[49m\u001b[43m(\u001b[49m\u001b[43mobj\u001b[49m\u001b[43m,\u001b[49m\u001b[43m \u001b[49m\u001b[38;5;28;43mformat\u001b[39;49m\u001b[43m,\u001b[49m\u001b[43m \u001b[49m\u001b[43minto\u001b[49m\u001b[43m,\u001b[49m\u001b[43m \u001b[49m\u001b[38;5;241;43m*\u001b[39;49m\u001b[38;5;241;43m*\u001b[39;49m\u001b[43mkwargs\u001b[49m\u001b[43m)\u001b[49m\n",
      "File \u001b[0;32m~/miniforge3/envs/.env/lib/python3.12/site-packages/skbio/io/registry.py:616\u001b[0m, in \u001b[0;36mIORegistry.write\u001b[0;34m(self, obj, format, into, **kwargs)\u001b[0m\n\u001b[1;32m    610\u001b[0m \u001b[38;5;28;01mif\u001b[39;00m writer \u001b[38;5;129;01mis\u001b[39;00m \u001b[38;5;28;01mNone\u001b[39;00m:\n\u001b[1;32m    611\u001b[0m     \u001b[38;5;28;01mraise\u001b[39;00m UnrecognizedFormatError(\n\u001b[1;32m    612\u001b[0m         \u001b[38;5;124m\"\u001b[39m\u001b[38;5;124mCannot write \u001b[39m\u001b[38;5;132;01m%r\u001b[39;00m\u001b[38;5;124m into \u001b[39m\u001b[38;5;132;01m%r\u001b[39;00m\u001b[38;5;124m, no \u001b[39m\u001b[38;5;132;01m%s\u001b[39;00m\u001b[38;5;124m writer found.\u001b[39m\u001b[38;5;124m\"\u001b[39m\n\u001b[1;32m    613\u001b[0m         \u001b[38;5;241m%\u001b[39m (\u001b[38;5;28mformat\u001b[39m, into, obj\u001b[38;5;241m.\u001b[39m\u001b[38;5;18m__class__\u001b[39m\u001b[38;5;241m.\u001b[39m\u001b[38;5;18m__name__\u001b[39m)\n\u001b[1;32m    614\u001b[0m     )\n\u001b[0;32m--> 616\u001b[0m \u001b[43mwriter\u001b[49m\u001b[43m(\u001b[49m\u001b[43mobj\u001b[49m\u001b[43m,\u001b[49m\u001b[43m \u001b[49m\u001b[43minto\u001b[49m\u001b[43m,\u001b[49m\u001b[43m \u001b[49m\u001b[38;5;241;43m*\u001b[39;49m\u001b[38;5;241;43m*\u001b[39;49m\u001b[43mkwargs\u001b[49m\u001b[43m)\u001b[49m\n\u001b[1;32m    617\u001b[0m \u001b[38;5;28;01mreturn\u001b[39;00m into\n",
      "File \u001b[0;32m~/miniforge3/envs/.env/lib/python3.12/site-packages/skbio/io/registry.py:1095\u001b[0m, in \u001b[0;36mFormat.writer.<locals>.decorator.<locals>.wrapped_writer\u001b[0;34m(obj, file, encoding, newline, **kwargs)\u001b[0m\n\u001b[1;32m   1093\u001b[0m \u001b[38;5;28;01mwith\u001b[39;00m open_files(files, mode\u001b[38;5;241m=\u001b[39m\u001b[38;5;124m\"\u001b[39m\u001b[38;5;124mw\u001b[39m\u001b[38;5;124m\"\u001b[39m, \u001b[38;5;241m*\u001b[39m\u001b[38;5;241m*\u001b[39mio_kwargs) \u001b[38;5;28;01mas\u001b[39;00m fhs:\n\u001b[1;32m   1094\u001b[0m     kwargs\u001b[38;5;241m.\u001b[39mupdate(\u001b[38;5;28mzip\u001b[39m(file_keys, fhs[:\u001b[38;5;241m-\u001b[39m\u001b[38;5;241m1\u001b[39m]))\n\u001b[0;32m-> 1095\u001b[0m     \u001b[43mwriter_function\u001b[49m\u001b[43m(\u001b[49m\u001b[43mobj\u001b[49m\u001b[43m,\u001b[49m\u001b[43m \u001b[49m\u001b[43mfhs\u001b[49m\u001b[43m[\u001b[49m\u001b[38;5;241;43m-\u001b[39;49m\u001b[38;5;241;43m1\u001b[39;49m\u001b[43m]\u001b[49m\u001b[43m,\u001b[49m\u001b[43m \u001b[49m\u001b[38;5;241;43m*\u001b[39;49m\u001b[38;5;241;43m*\u001b[39;49m\u001b[43mkwargs\u001b[49m\u001b[43m)\u001b[49m\n",
      "File \u001b[0;32m~/miniforge3/envs/.env/lib/python3.12/site-packages/skbio/io/format/embed.py:319\u001b[0m, in \u001b[0;36m_generator_to_embed\u001b[0;34m(objs, fh)\u001b[0m\n\u001b[1;32m    317\u001b[0m \u001b[38;5;129m@embed\u001b[39m\u001b[38;5;241m.\u001b[39mwriter(\u001b[38;5;28;01mNone\u001b[39;00m)\n\u001b[1;32m    318\u001b[0m \u001b[38;5;28;01mdef\u001b[39;00m \u001b[38;5;21m_generator_to_embed\u001b[39m(objs, fh):\n\u001b[0;32m--> 319\u001b[0m     \u001b[38;5;28;01mreturn\u001b[39;00m \u001b[43m_objects_to_embed\u001b[49m\u001b[43m(\u001b[49m\u001b[43mobjs\u001b[49m\u001b[43m,\u001b[49m\u001b[43m \u001b[49m\u001b[43mfh\u001b[49m\u001b[43m)\u001b[49m\n",
      "File \u001b[0;32m~/miniforge3/envs/.env/lib/python3.12/site-packages/skbio/io/format/embed.py:249\u001b[0m, in \u001b[0;36m_objects_to_embed\u001b[0;34m(objs, fh, include_embedding_pointer)\u001b[0m\n\u001b[1;32m    247\u001b[0m     \u001b[38;5;28;01mif\u001b[39;00m resize:\n\u001b[1;32m    248\u001b[0m         idptr_fh\u001b[38;5;241m.\u001b[39mresize((ceil(i \u001b[38;5;241m*\u001b[39m resize_by),))\n\u001b[0;32m--> 249\u001b[0m     \u001b[43midptr_fh\u001b[49m\u001b[43m[\u001b[49m\u001b[43mi\u001b[49m\u001b[43m]\u001b[49m \u001b[38;5;241m=\u001b[39m \u001b[38;5;28mlen\u001b[39m(arr) \u001b[38;5;241m+\u001b[39m idptr_fh[i \u001b[38;5;241m-\u001b[39m \u001b[38;5;241m1\u001b[39m]\n\u001b[1;32m    250\u001b[0m \u001b[38;5;28;01melse\u001b[39;00m:\n\u001b[1;32m    251\u001b[0m     idptr_fh \u001b[38;5;241m=\u001b[39m h5grp\u001b[38;5;241m.\u001b[39mcreate_dataset(\n\u001b[1;32m    252\u001b[0m         \u001b[38;5;124m\"\u001b[39m\u001b[38;5;124midptr\u001b[39m\u001b[38;5;124m\"\u001b[39m, data\u001b[38;5;241m=\u001b[39m[\u001b[38;5;28mlen\u001b[39m(arr)], maxshape\u001b[38;5;241m=\u001b[39m(\u001b[38;5;28;01mNone\u001b[39;00m,),\n\u001b[1;32m    253\u001b[0m         dtype\u001b[38;5;241m=\u001b[39mnp\u001b[38;5;241m.\u001b[39mint32, compression\u001b[38;5;241m=\u001b[39m\u001b[38;5;124m'\u001b[39m\u001b[38;5;124mgzip\u001b[39m\u001b[38;5;124m'\u001b[39m\n\u001b[1;32m    254\u001b[0m     )\n",
      "File \u001b[0;32mh5py/_objects.pyx:54\u001b[0m, in \u001b[0;36mh5py._objects.with_phil.wrapper\u001b[0;34m()\u001b[0m\n",
      "File \u001b[0;32mh5py/_objects.pyx:55\u001b[0m, in \u001b[0;36mh5py._objects.with_phil.wrapper\u001b[0;34m()\u001b[0m\n",
      "File \u001b[0;32m~/miniforge3/envs/.env/lib/python3.12/site-packages/h5py/_hl/dataset.py:965\u001b[0m, in \u001b[0;36mDataset.__setitem__\u001b[0;34m(self, args, val)\u001b[0m\n\u001b[1;32m    962\u001b[0m     mtype \u001b[38;5;241m=\u001b[39m \u001b[38;5;28;01mNone\u001b[39;00m\n\u001b[1;32m    964\u001b[0m \u001b[38;5;66;03m# Perform the dataspace selection\u001b[39;00m\n\u001b[0;32m--> 965\u001b[0m selection \u001b[38;5;241m=\u001b[39m \u001b[43msel\u001b[49m\u001b[38;5;241;43m.\u001b[39;49m\u001b[43mselect\u001b[49m\u001b[43m(\u001b[49m\u001b[38;5;28;43mself\u001b[39;49m\u001b[38;5;241;43m.\u001b[39;49m\u001b[43mshape\u001b[49m\u001b[43m,\u001b[49m\u001b[43m \u001b[49m\u001b[43margs\u001b[49m\u001b[43m,\u001b[49m\u001b[43m \u001b[49m\u001b[43mdataset\u001b[49m\u001b[38;5;241;43m=\u001b[39;49m\u001b[38;5;28;43mself\u001b[39;49m\u001b[43m)\u001b[49m\n\u001b[1;32m    967\u001b[0m \u001b[38;5;28;01mif\u001b[39;00m selection\u001b[38;5;241m.\u001b[39mnselect \u001b[38;5;241m==\u001b[39m \u001b[38;5;241m0\u001b[39m:\n\u001b[1;32m    968\u001b[0m     \u001b[38;5;28;01mreturn\u001b[39;00m\n",
      "File \u001b[0;32m~/miniforge3/envs/.env/lib/python3.12/site-packages/h5py/_hl/selections.py:82\u001b[0m, in \u001b[0;36mselect\u001b[0;34m(shape, args, dataset)\u001b[0m\n\u001b[1;32m     79\u001b[0m     space \u001b[38;5;241m=\u001b[39m h5s\u001b[38;5;241m.\u001b[39mcreate_simple(shape)\n\u001b[1;32m     80\u001b[0m     selector \u001b[38;5;241m=\u001b[39m _selector\u001b[38;5;241m.\u001b[39mSelector(space)\n\u001b[0;32m---> 82\u001b[0m \u001b[38;5;28;01mreturn\u001b[39;00m \u001b[43mselector\u001b[49m\u001b[38;5;241;43m.\u001b[39;49m\u001b[43mmake_selection\u001b[49m\u001b[43m(\u001b[49m\u001b[43margs\u001b[49m\u001b[43m)\u001b[49m\n",
      "File \u001b[0;32mh5py/_selector.pyx:282\u001b[0m, in \u001b[0;36mh5py._selector.Selector.make_selection\u001b[0;34m()\u001b[0m\n",
      "File \u001b[0;32mh5py/_selector.pyx:151\u001b[0m, in \u001b[0;36mh5py._selector.Selector.apply_args\u001b[0;34m()\u001b[0m\n",
      "\u001b[0;31mIndexError\u001b[0m: Index (3) out of range for (0-2)"
     ]
    }
   ],
   "source": [
    "model_name = \"Rostlab/prot_t5_xl_uniref50\"\n",
    "tokenizer_name = \"Rostlab/prot_t5_xl_uniref50\"\n",
    "\n",
    "# Parse bagel.fa\n",
    "sequence_list = skbio.io.read(\"pdb_hits.fa\", format='fasta')\n",
    "embed_list = to_embeddings(sequence_list, model_name, tokenizer_name)\n",
    "skbio.write(embed_list, format='embed', into=\"pdb_hits.h5\")\n",
    "\n",
    "#test if the file was written correctly and output\n",
    "read_embed = iter(skbio.read(\"pdb_hits.h5\", format='embed' ,constructor=ProteinEmbedding))\n",
    "item = next(read_embed)\n",
    "item"
   ]
  },
  {
   "cell_type": "markdown",
   "metadata": {},
   "source": [
    "## Write to file\n",
    "\n",
    "Here, we can write our loaded embeddings to a .h5 file using skbio.write. To verify that the embeddings were stored correctly, "
   ]
  },
  {
   "cell_type": "code",
   "execution_count": null,
   "metadata": {},
   "outputs": [],
   "source": [
    "#embed_list = map(loaded_proteins, sequence_list)\n",
    "# Issue: Generator should include iterables\n",
    "skbio.write(embed_list, format='embed', into=\"bagel.h5\")\n",
    "\n",
    "#test if the file was written correctly and output\n",
    "read_embed = iter(skbio.read(\"bagel.h5\", format='embed' ,constructor=ProteinEmbedding))\n",
    "for item in read_embed:\n",
    "    print(item.embedding)"
   ]
  }
 ],
 "metadata": {
  "kernelspec": {
   "display_name": "Python 3",
   "language": "python",
   "name": "python3"
  },
  "language_info": {
   "codemirror_mode": {
    "name": "ipython",
    "version": 3
   },
   "file_extension": ".py",
   "mimetype": "text/x-python",
   "name": "python",
   "nbconvert_exporter": "python",
   "pygments_lexer": "ipython3",
   "version": "3.12.3"
  }
 },
 "nbformat": 4,
 "nbformat_minor": 2
}
