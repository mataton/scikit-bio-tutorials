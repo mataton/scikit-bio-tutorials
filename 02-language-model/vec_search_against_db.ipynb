{
 "cells": [
  {
   "cell_type": "markdown",
   "metadata": {},
   "source": [
    "# Creating and searching against vector databases with TM-Vec\n",
    "\n",
    "To form protein databases that are easily stored using vector embeddings, we will:\n",
    "1. Generate a DB of protein vectors\n",
    "2. Convert our output to a FAISS DB (for search)\n",
    "3. Search against our DB and plot the results"
   ]
  },
  {
   "cell_type": "code",
   "execution_count": null,
   "metadata": {},
   "outputs": [],
   "source": [
    "# import necessary functions\n",
    "import skbio\n",
    "import seaborn as sns\n",
    "import matplotlib.pyplot as plt\n",
    "import pandas as pd\n",
    "import numpy as np"
   ]
  },
  {
   "cell_type": "markdown",
   "metadata": {},
   "source": [
    "## Building a vector database\n",
    "\n",
    "We can directly feed our FASTA file into the tmvec build_db __CLI__ function, which will output our \n",
    "vectors as a .npz file in the specified directory.\n",
    "\n",
    "This function takes in as an input:\n",
    "1. --input-fasta: A FASTA file containing your sequences.\n",
    "2. --output: the file location to output to."
   ]
  },
  {
   "cell_type": "code",
   "execution_count": null,
   "metadata": {},
   "outputs": [],
   "source": [
    "!tmvec build-db --input-fasta bagel.fa --output test_db/bagel_fasta"
   ]
  },
  {
   "cell_type": "markdown",
   "metadata": {},
   "source": [
    "## Plot the ordination results\n",
    "\n",
    "Now, with our FAISS DB in hand, we can use the search __CLI__ function to search for proteins against our database, and return the k-nearest neighbors results.  \n",
    "\n",
    "Finally, we can utilize the embed_vec_to_ordination function to create ordination objects from our search and plot them."
   ]
  },
  {
   "cell_type": "code",
   "execution_count": null,
   "metadata": {},
   "outputs": [],
   "source": [
    "!tmvec search --input-fasta bagel.fa --database test_db/bagel_fasta.npz --output test_db/bagel_search_results --output-fmt skbio"
   ]
  },
  {
   "cell_type": "code",
   "execution_count": null,
   "metadata": {},
   "outputs": [],
   "source": [
    "df = pd.read_csv(\"test_db/bagel_search_results/results.tsv\", sep='\\t')\n",
    "\n",
    "# Show the first few rows of the DataFrame\n",
    "print(df.head())\n",
    "\n",
    "# TO-DO - Plotting"
   ]
  }
 ],
 "metadata": {
  "kernelspec": {
   "display_name": ".env",
   "language": "python",
   "name": "python3"
  },
  "language_info": {
   "codemirror_mode": {
    "name": "ipython",
    "version": 3
   },
   "file_extension": ".py",
   "mimetype": "text/x-python",
   "name": "python",
   "nbconvert_exporter": "python",
   "pygments_lexer": "ipython3",
   "version": "3.12.3"
  }
 },
 "nbformat": 4,
 "nbformat_minor": 2
}
