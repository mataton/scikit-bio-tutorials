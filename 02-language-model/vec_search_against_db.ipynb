{
 "cells": [
  {
   "cell_type": "markdown",
   "metadata": {},
   "source": [
    "# Creating and searching against vector databases with TM-Vec\n",
    "\n",
    "To form protein databases that are easily stored using vector embeddings, we will:\n",
    "1. Generate a DB of protein vectors\n",
    "2. Convert our output to a FAISS DB (for search)\n",
    "3. Search against our DB and plot the results"
   ]
  },
  {
   "cell_type": "code",
   "execution_count": null,
   "metadata": {},
   "outputs": [],
   "source": [
    "# import necessary functions\n",
    "import pandas as pd\n",
    "import numpy as np\n",
    "from skbio.io import read\n",
    "from skbio.embedding import ProteinVector\n",
    "import skbio.embedding as emb"
   ]
  },
  {
   "cell_type": "markdown",
   "metadata": {},
   "source": [
    "## Helper Functions"
   ]
  },
  {
   "cell_type": "code",
   "execution_count": null,
   "metadata": {},
   "outputs": [],
   "source": [
    "def load_vectors(file_path, sequence_list : list):\n",
    "      data = np.load(file_path)\n",
    "      vectors = data['embeddings']\n",
    "      \n",
    "      protein_vectors = [ProteinVector(vector, sequence) for vector, sequence in zip(vectors, sequence_list)]\n",
    "      return protein_vectors"
   ]
  },
  {
   "cell_type": "markdown",
   "metadata": {},
   "source": [
    "## Building a vector database\n",
    "\n",
    "We can directly feed our FASTA file into the tmvec build_db __CLI__ function, which will output our \n",
    "vectors as a .npz file in the specified directory.\n",
    "\n",
    "This function takes in as an input:\n",
    "1. --input-fasta: A FASTA file containing your sequences.\n",
    "2. --output: the file location to output to."
   ]
  },
  {
   "cell_type": "code",
   "execution_count": null,
   "metadata": {},
   "outputs": [],
   "source": [
    "!tmvec build-db --input-fasta bagel.fa --output test_db/bagel_fasta"
   ]
  },
  {
   "cell_type": "markdown",
   "metadata": {},
   "source": [
    "## Plot the ordination results\n",
    "\n",
    "Now, with our FAISS DB in hand, we can use the search __CLI__ function to search for proteins against our database, and return the k-nearest neighbors results.  \n",
    "\n",
    "Finally, we can utilize the embed_vec_to_ordination function to create ordination objects from our search and plot them."
   ]
  },
  {
   "cell_type": "code",
   "execution_count": null,
   "metadata": {},
   "outputs": [],
   "source": [
    "!tmvec search --input-fasta bagel.fa --database test_db/bagel_fasta.npz --output test_db/bagel_search_results --output-fmt skbio"
   ]
  },
  {
   "cell_type": "code",
   "execution_count": null,
   "metadata": {},
   "outputs": [],
   "source": [
    "# load sequences\n",
    "sequence_list = read(\"bagel.fa\", format='fasta')\n",
    "\n",
    "#read in vectors to generator object\n",
    "vec_generator = load_vectors(\"test_db/bagel_fasta.npz\", sequence_list)\n",
    "\n",
    "ord_results = emb.embed_vec_to_ordination(vec_generator)\n",
    "\n",
    "df = pd.read_csv(\"bagel_bacteriocins_all_classes.csv\")\n",
    "\n",
    "display(df)\n",
    "\n",
    "# plot the results\n",
    "ord_results.plot()"
   ]
  }
 ],
 "metadata": {
  "kernelspec": {
   "display_name": ".env",
   "language": "python",
   "name": "python3"
  },
  "language_info": {
   "codemirror_mode": {
    "name": "ipython",
    "version": 3
   },
   "file_extension": ".py",
   "mimetype": "text/x-python",
   "name": "python",
   "nbconvert_exporter": "python",
   "pygments_lexer": "ipython3",
   "version": "3.12.3"
  }
 },
 "nbformat": 4,
 "nbformat_minor": 2
}
