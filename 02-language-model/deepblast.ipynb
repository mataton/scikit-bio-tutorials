{
 "cells": [
  {
   "cell_type": "markdown",
   "id": "56732b74-ca01-40d1-9ffa-621d393e5bbb",
   "metadata": {},
   "source": [
    "# Load modules"
   ]
  },
  {
   "cell_type": "code",
   "execution_count": 50,
   "id": "09d0fc4c-7402-418b-949f-016cdf9225a6",
   "metadata": {},
   "outputs": [],
   "source": [
    "# Necessary imports\n",
    "from skbio.embedding import ProteinEmbedding\n",
    "from skbio.sequence import Protein\n",
    "from tqdm import tqdm\n",
    "import skbio\n",
    "\n",
    "import torch\n",
    "\n",
    "from deepblast.utils import load_model\n",
    "from skbio.alignment import PairAlignPath\n",
    "from deepblast.dataset.utils import get_sequence, pack_sequences, revstate_f\n",
    "import matplotlib.pyplot as plt\n",
    "\n",
    "def condense_cigar(cigar_str):\n",
    "    \"\"\"\n",
    "    Convert full length to condensed CIGAR\n",
    "    Example: MMMIIII = 3M4I\n",
    "    \"\"\"\n",
    "    condensed_cigar = ''\n",
    "    current_state = ''\n",
    "    count = 0\n",
    "    for i in range(len(cigar_str)):\n",
    "        if cigar_str[i] == current_state:\n",
    "            count += 1\n",
    "        else:\n",
    "            if count > 0:\n",
    "                condensed_cigar += str(count) + current_state\n",
    "            current_state = cigar_str[i]\n",
    "            count = 1\n",
    "    condensed_cigar += str(count) + current_state\n",
    "    return condensed_cigar\n",
    "\n",
    "\n",
    "def tm_to_cigar(tm_alignment_string, condensed=False):\n",
    "    \"\"\"\n",
    "    Convert TMalign style alignment string to CIGAR string\n",
    "    \"\"\"\n",
    "\n",
    "    cigar = ''\n",
    "\n",
    "    for state in tm_alignment_string:\n",
    "        if state == ':':\n",
    "            cigar += 'M'\n",
    "        elif state == '1':\n",
    "            cigar += 'I'\n",
    "        elif state == '2':\n",
    "            cigar += 'D'\n",
    "\n",
    "    return cigar\n",
    "\n",
    "def align(x, y, model):\n",
    "    pred_alignment = model.align(str(x), str(y))\n",
    "    # TODO : need to convert TMalign style string to cigar\n",
    "    cigar = tm_to_cigar(pred_alignment)\n",
    "    cigar = condense_cigar(cigar)\n",
    "    path = PairAlignPath.from_cigar(cigar)\n",
    "    return path"
   ]
  },
  {
   "cell_type": "markdown",
   "id": "c873a6ee-7e85-48c1-b5d0-c8b5717e76c8",
   "metadata": {},
   "source": [
    "# Align sequences"
   ]
  },
  {
   "cell_type": "code",
   "execution_count": 24,
   "id": "0ecea75c-81a6-4581-b0a9-32e60ce32228",
   "metadata": {},
   "outputs": [],
   "source": [
    "model_name = \"Rostlab/prot_t5_xl_uniref50\"\n",
    "tokenizer_name = \"Rostlab/prot_t5_xl_uniref50\"\n",
    "from skbio import Protein\n",
    "\n",
    "# Parse bagel.fa\n",
    "sequence_list = skbio.io.read(\"bagel.fa\", format='fasta', constructor=Protein)"
   ]
  },
  {
   "cell_type": "code",
   "execution_count": 25,
   "id": "70f8a845-1a3a-49a5-84e0-5d286e02e77d",
   "metadata": {},
   "outputs": [],
   "source": [
    "x = next(sequence_list)\n",
    "y = next(sequence_list)"
   ]
  },
  {
   "cell_type": "code",
   "execution_count": 51,
   "id": "8819fd2d-5126-45a3-b4d8-9ace7eee79a8",
   "metadata": {},
   "outputs": [
    {
     "name": "stderr",
     "output_type": "stream",
     "text": [
      "/nfs/cds-peta/exports/biol_micro_cds_gr_sunagawa/scratch/vbezshapkin/conda-envs/tmvec_slim/lib/python3.11/site-packages/huggingface_hub/file_download.py:1132: FutureWarning: `resume_download` is deprecated and will be removed in version 1.0.0. Downloads always resume when possible. If you want to force a new download, use `force_download=True`.\n",
      "  warnings.warn(\n"
     ]
    }
   ],
   "source": [
    "# smith-waterman errored out because of the sting/path length missmatch\n",
    "\n",
    "model = load_model(\"/nfs/cds-peta/exports/biol_micro_cds_gr_sunagawa/scratch/vbezshapkin/tm-vec/models/deepblast-v3.ckpt\", device=\"cpu\",\n",
    "                   alignment_mode=\"needleman-wunsch\"\n",
    "                   )\n",
    "\n",
    "path = align(x, y, model)"
   ]
  },
  {
   "cell_type": "code",
   "execution_count": 52,
   "id": "dd9fa3ae",
   "metadata": {},
   "outputs": [
    {
     "data": {
      "text/plain": [
       "<PairAlignPath, shape: Shape(sequence=2, position=50), CIGAR: '3M1I1M3D1M1D1M3D1M1I5D1M4D2M1I10D1M1D4M2D3M'>"
      ]
     },
     "execution_count": 52,
     "metadata": {},
     "output_type": "execute_result"
    }
   ],
   "source": [
    "path."
   ]
  },
  {
   "cell_type": "code",
   "execution_count": null,
   "id": "6f18b0ba-5be5-41ff-b37e-9e4d8c6da8f4",
   "metadata": {},
   "outputs": [],
   "source": [
    "from scipy.sparse import coo_matrix\n",
    "\n",
    "def state_diff_f(X):\n",
    "    \"\"\" Constructs a state transition element.\n",
    "    Notes\n",
    "    -----\n",
    "    There is a bit of a paradox regarding beginning / ending gaps.\n",
    "    To see this, try to derive an alignment matrix for the\n",
    "    following alignments\n",
    "    XXXMMMXXX\n",
    "    MMYYXXMM\n",
    "    It turns out it isn't possible to derive traversal rules\n",
    "    that are consistent between these two alignments\n",
    "    without explicitly handling start / end states as separate\n",
    "    end states. The current workaround is to force the start / end\n",
    "    states to be match states (similar to the needleman-wunsch algorithm).\n",
    "    \"\"\"\n",
    "    a, b = X\n",
    "    if a == x and b == x:\n",
    "        # Transition XX, increase tape on X\n",
    "        return (1, 0)\n",
    "    if a == x and b == m:\n",
    "        # Transition XM, increase tape on both X and Y\n",
    "        return (1, 1)\n",
    "    if a == m and b == m:\n",
    "        # Transition MM, increase tape on both X and Y\n",
    "        return (1, 1)\n",
    "    if a == m and b == x:\n",
    "        # Transition MX, increase tape on X\n",
    "        return (1, 0)\n",
    "    if a == m and b == y:\n",
    "        # Transition MY, increase tape on y\n",
    "        return (0, 1)\n",
    "    if a == y and b == y:\n",
    "        # Transition YY, increase tape on y\n",
    "        return (0, 1)\n",
    "    if a == y and b == m:\n",
    "        # Transition YM, increase tape on both X and Y\n",
    "        return (1, 1)\n",
    "    if a == x and b == y:\n",
    "        # Transition XY increase tape on y\n",
    "        return (0, 1)\n",
    "    if a == y and b == x:\n",
    "        # Transition YX increase tape on x\n",
    "        return (1, 0)\n",
    "    else:\n",
    "        raise ValueError(f'`Transition` ({a}, {b}) is not allowed.')\n",
    "\n",
    "def states2edges(states):\n",
    "    \"\"\" Converts state string to bipartite matching. \"\"\"\n",
    "    prev_s, next_s = states[:-1], states[1:]\n",
    "    transitions = list(zip(prev_s, next_s))\n",
    "    state_diffs = np.array(list(map(state_diff_f, transitions)))\n",
    "    coords = np.cumsum(state_diffs, axis=0).tolist()\n",
    "    coords = [(0, 0)] + list(map(tuple, coords))\n",
    "    return coords\n",
    "\n",
    "\n",
    "def states2matrix(states, sparse=False):\n",
    "    \"\"\" Converts state string to alignment matrix.\n",
    "\n",
    "    Parameters\n",
    "    ----------\n",
    "    states : list\n",
    "       The state string\n",
    "    \"\"\"\n",
    "    coords = states2edges(states)\n",
    "    data = np.ones(len(coords))\n",
    "    row, col = list(zip(*coords))\n",
    "    row, col = np.array(row), np.array(col)\n",
    "    N, M = max(row) + 1, max(col) + 1\n",
    "    mat = coo_matrix((data, (row, col)), shape=(N, M))\n",
    "    if sparse:\n",
    "        return mat\n",
    "    else:\n",
    "        return mat.toarray()"
   ]
  }
 ],
 "metadata": {
  "kernelspec": {
   "display_name": "Python 3 (ipykernel)",
   "language": "python",
   "name": "python3"
  },
  "language_info": {
   "codemirror_mode": {
    "name": "ipython",
    "version": 3
   },
   "file_extension": ".py",
   "mimetype": "text/x-python",
   "name": "python",
   "nbconvert_exporter": "python",
   "pygments_lexer": "ipython3",
   "version": "3.11.0"
  }
 },
 "nbformat": 4,
 "nbformat_minor": 5
}
