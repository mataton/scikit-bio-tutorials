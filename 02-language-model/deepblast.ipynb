{
 "cells": [
  {
   "cell_type": "markdown",
   "id": "56732b74-ca01-40d1-9ffa-621d393e5bbb",
   "metadata": {},
   "source": [
    "# Load modules"
   ]
  },
  {
   "cell_type": "code",
   "execution_count": 1,
   "id": "09d0fc4c-7402-418b-949f-016cdf9225a6",
   "metadata": {},
   "outputs": [],
   "source": [
    "# Necessary imports\n",
    "from skbio.embedding import ProteinEmbedding\n",
    "from skbio.sequence import Protein\n",
    "from tqdm import tqdm\n",
    "import numpy as np\n",
    "import argparse\n",
    "import skbio\n",
    "\n",
    "import torch\n",
    "from transformers import T5Tokenizer, T5EncoderModel\n",
    "from skbio.embedding import ProteinEmbedding\n",
    "\n",
    "from deepblast.utils import load_model\n",
    "from skbio.alignment import PairAlignPath\n",
    "\n",
    "\n",
    "def align(x, y, model):\n",
    "    pred_alignment = model.align(str(x), str(y))\n",
    "    # TODO : need to convert TMalign style string to cigar\n",
    "    path = PairAlignPath.from_cigar(cigar)"
   ]
  },
  {
   "cell_type": "markdown",
   "id": "c873a6ee-7e85-48c1-b5d0-c8b5717e76c8",
   "metadata": {},
   "source": [
    "# Align sequences"
   ]
  },
  {
   "cell_type": "code",
   "execution_count": 3,
   "id": "0ecea75c-81a6-4581-b0a9-32e60ce32228",
   "metadata": {},
   "outputs": [],
   "source": [
    "model_name = \"Rostlab/prot_t5_xl_uniref50\"\n",
    "tokenizer_name = \"Rostlab/prot_t5_xl_uniref50\"\n",
    "from skbio import Protein\n",
    "\n",
    "# Parse bagel.fa\n",
    "sequence_list = skbio.io.read(\"bagel.fa\", format='fasta', constructor=Protein)"
   ]
  },
  {
   "cell_type": "code",
   "execution_count": 5,
   "id": "70f8a845-1a3a-49a5-84e0-5d286e02e77d",
   "metadata": {},
   "outputs": [
    {
     "name": "stderr",
     "output_type": "stream",
     "text": [
      "0it [00:00, ?it/s]You are using the default legacy behaviour of the <class 'transformers.models.t5.tokenization_t5.T5Tokenizer'>. This is expected, and simply means that the `legacy` (previous) behavior will be used so nothing changes for you. If you want to use the new behaviour, set `legacy=False`. This should only be set if you understand what it means, and thoroughly read the reason why this was added as explained in https://github.com/huggingface/transformers/pull/24565\n",
      "1it [00:06,  6.67s/it]"
     ]
    }
   ],
   "source": [
    "x = next(sequence_list)\n",
    "y = next(sequence_list)"
   ]
  },
  {
   "cell_type": "code",
   "execution_count": null,
   "id": "8819fd2d-5126-45a3-b4d8-9ace7eee79a8",
   "metadata": {},
   "outputs": [],
   "source": [
    "model = load_model(\"deepblast-v3.ckpt\")\n",
    "\n",
    "path = align(x, y, model)\n",
    "\n",
    "# TODO : visualize path"
   ]
  },
  {
   "cell_type": "code",
   "execution_count": null,
   "id": "6f18b0ba-5be5-41ff-b37e-9e4d8c6da8f4",
   "metadata": {},
   "outputs": [],
   "source": []
  }
 ],
 "metadata": {
  "kernelspec": {
   "display_name": "Python 3 (ipykernel)",
   "language": "python",
   "name": "python3"
  },
  "language_info": {
   "codemirror_mode": {
    "name": "ipython",
    "version": 3
   },
   "file_extension": ".py",
   "mimetype": "text/x-python",
   "name": "python",
   "nbconvert_exporter": "python",
   "pygments_lexer": "ipython3",
   "version": "3.12.2"
  }
 },
 "nbformat": 4,
 "nbformat_minor": 5
}
