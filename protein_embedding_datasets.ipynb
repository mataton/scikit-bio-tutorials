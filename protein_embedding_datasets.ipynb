{
 "cells": [
  {
   "cell_type": "markdown",
   "metadata": {},
   "source": [
    "# Utilizing ProteinEmbedding and Dataset formation\n",
    "\n",
    "The _ProteinEmbedding_ object can store protein sequences in combination with embedding and vector representations,\n",
    "which can then be manipulated by implementing standard operations from the __skbio__ library. \n",
    "\n",
    "To demonstrate this process, we will read in a list of protein sequences, then attempt to create a dataset from our \n",
    "embeddings to be streamed in with the standard skbio.read."
   ]
  },
  {
   "cell_type": "code",
   "execution_count": 16,
   "metadata": {},
   "outputs": [],
   "source": [
    "# Necessary imports\n",
    "from skbio.embedding import ProteinEmbedding\n",
    "from utils import load_protein_t5_embedding\n",
    "from tqdm import tqdm\n",
    "import numpy as np\n",
    "import argparse\n",
    "import skbio"
   ]
  },
  {
   "cell_type": "markdown",
   "metadata": {},
   "source": [
    "## Loading FASTA File\n",
    "\n",
    "_Bagel.fa_ is a file containing bacteriocin sequences stored in FASTA format. We will parse this\n",
    "file and use the output to create our __ProteinEmbedding__ object."
   ]
  },
  {
   "cell_type": "code",
   "execution_count": 18,
   "metadata": {},
   "outputs": [],
   "source": [
    "# Function to read a fasta file and return a list of sequences\n",
    "def ReadFastaFile(filename, n_sequences):\n",
    "  fileObj = open(filename, 'r')\n",
    "  sequences = []\n",
    "  seqFragments = []\n",
    "  for line in fileObj:\n",
    "    if line.startswith('>'):\n",
    "      if(len(sequences) == n_sequences-1):\n",
    "        break\n",
    "      if seqFragments:\n",
    "        sequence = ''.join(seqFragments)\n",
    "        sequences.append(sequence)\n",
    "      seqFragments = []\n",
    "    else:\n",
    "      seq = line.rstrip()\n",
    "      seqFragments.append(seq)\n",
    "  if seqFragments:\n",
    "    sequence = ''.join(seqFragments)\n",
    "    sequences.append(sequence)\n",
    "  fileObj.close()\n",
    "  return sequences"
   ]
  },
  {
   "cell_type": "markdown",
   "metadata": {},
   "source": [
    "## Loading Embeddings\n",
    "\n",
    "This function will take the inputted protein sequences and feed it through an embedding model (prot-t5), \n",
    "outputting the generated embeddings."
   ]
  },
  {
   "cell_type": "code",
   "execution_count": 19,
   "metadata": {},
   "outputs": [],
   "source": [
    "def load_protein_t5_embedding(sequence, model_name, tokenizer_name):\n",
    "    import torch\n",
    "    from transformers import T5Tokenizer, T5EncoderModel\n",
    "    # (In case we want to use ONNX model)\n",
    "    # from optimum.onnxruntime import ORTModel\n",
    "    tokenizer = T5Tokenizer.from_pretrained(tokenizer_name)\n",
    "    model = T5EncoderModel.from_pretrained(model_name)\n",
    "\n",
    "    # tokenize sequences and pad up to the longest sequence in the batch\n",
    "    ids = tokenizer.batch_encode_plus(sequence, add_special_tokens=True, padding=\"longest\")\n",
    "    input_ids = torch.tensor(ids['input_ids'])\n",
    "    attention_mask = torch.tensor(ids['attention_mask'])\n",
    "\n",
    "    # generate embeddings\n",
    "    with torch.no_grad():\n",
    "        embedding_repr = model(input_ids=input_ids,attention_mask=attention_mask)\n",
    "        \n",
    "    return embedding_repr.last_hidden_state"
   ]
  },
  {
   "cell_type": "markdown",
   "metadata": {},
   "source": [
    "## Passing to file\n",
    "\n",
    "Finally, we can output the embeddings into a \"test.h5\" file, which can be utilized further\n",
    "as will be demonstrated in other scikit-bio tutorials."
   ]
  },
  {
   "cell_type": "code",
   "execution_count": 20,
   "metadata": {},
   "outputs": [
    {
     "name": "stdout",
     "output_type": "stream",
     "text": [
      "Accepted protein sequences:  ['CLGVGSCNNFAGCGYAIVCFW', 'MVRLLAKLLRSTIHGSNGVSLDAVSSTHGTPGFQTPDARVISRFGFN', 'MEPQMTELQPEAYEAPSLIEVGEFSEDTLGFGSKPLDSFGLNFF', 'MGNSILNKMTVEEMEAVKGGNLVCPPMPDYIKRLSTGKGVSSVYMAWQIANCKSSGSCMKGQTNRTC', 'MTQVSPSPLRLIRVGRALDLTRSIGDSGLRESMSSQTYWP', 'MKNFNTLSFETLANIVGGRNNLAANIGGVGGATVAGWALGNAVCGPACGFVGAHYVPIAWAGVTAATGGFGKIRK', 'MKSKKVNTEIDTLEFEIDNQELNGTSGSGWWYTAFKMTLAGRCGLCFTCSYECTTNNVHC', 'MAKNTSRPEIDSLSFEVENQELSGKSGAGWFTAVQLTLAGRCGRWFTGSFECTTNNVKCG', 'MKQDNFEIDSLDYEINSQELNGKSAAGWYTAVRLTVQGRCGWWFTHSYECTSPNVRCG', 'MKNPTLLPKLTAPVERPAVTSSDLKQASSVDAAWLNGDNNWSTPFAGVNAAWLNGDNNWSTPFAGVNAAWLNGDNNWSTPFAADGAE', 'MKEQKLEKITGLIPESELEEHLSGESSGAGTPAITTAISAIIGATAQSPCPTSACSKSCNK', 'MLDVIKNRKKIEEKLELPEILLEEVEEHSAMGGINTWNTTATSTSIIISETFGNKGKVCTYTVECVNNCRG', 'MLKEEKLEKITGLIPESELEEHLSGESSGAGTPAITTAISAIIAATAQSPCPTSACSKSCNK', 'MEKILDLDVQVKAQKESNDSSGDERITSFSLCTPGCAKTGSFNSYCC', 'MSMTMTLQQAVVDDEFRSVLLADPAAFGLSVESLPGAVERQDHEAIEAFTEAVVASEIYACASTCSFGPFTIACDGTTK', 'MNKKNILPQQGQPVIRLTAGQLSSQLAELSEEALGDAGLEASVAACITFCAYDGVEPSCTLCCTLCAYDGE', 'MNKKNILPQQGQPVIRLTAGQLSSQLAELSEEALGDAGLEASVTACITFCAYDGVEPSCTLCCALCAYDGE', 'MNKKNILPQQGQPVIRLTAGQLSSQLAELSEEALGDAGLEASVTACITFCAYDGVEPSCTLCCTLCAYDGE', 'MNKKNILPQQGQPVIRLTAGQLSSQLAELSEEALGDAGLEASLTACITFCAYDGVEPSCTLCCTLCAYDGE', 'MEMVLELQELDAPNELAYGDPSHGGGSNLSLLASCANSTVSLLTCH'] \n",
      "\n"
     ]
    },
    {
     "name": "stderr",
     "output_type": "stream",
     "text": [
      "  0%|          | 0/20 [00:00<?, ?it/s]"
     ]
    },
    {
     "name": "stdout",
     "output_type": "stream",
     "text": [
      "Accepted protein sequence:  CLGVGSCNNFAGCGYAIVCFW \n",
      "\n"
     ]
    },
    {
     "name": "stderr",
     "output_type": "stream",
     "text": [
      "  5%|▌         | 1/20 [00:04<01:22,  4.32s/it]"
     ]
    },
    {
     "name": "stdout",
     "output_type": "stream",
     "text": [
      "Accepted protein sequence:  MVRLLAKLLRSTIHGSNGVSLDAVSSTHGTPGFQTPDARVISRFGFN \n",
      "\n"
     ]
    },
    {
     "name": "stderr",
     "output_type": "stream",
     "text": [
      " 10%|█         | 2/20 [00:07<01:09,  3.85s/it]"
     ]
    },
    {
     "name": "stdout",
     "output_type": "stream",
     "text": [
      "Accepted protein sequence:  MEPQMTELQPEAYEAPSLIEVGEFSEDTLGFGSKPLDSFGLNFF \n",
      "\n"
     ]
    },
    {
     "name": "stderr",
     "output_type": "stream",
     "text": [
      " 15%|█▌        | 3/20 [00:11<01:02,  3.69s/it]"
     ]
    },
    {
     "name": "stdout",
     "output_type": "stream",
     "text": [
      "Accepted protein sequence:  MGNSILNKMTVEEMEAVKGGNLVCPPMPDYIKRLSTGKGVSSVYMAWQIANCKSSGSCMKGQTNRTC \n",
      "\n"
     ]
    },
    {
     "name": "stderr",
     "output_type": "stream",
     "text": [
      " 20%|██        | 4/20 [00:14<00:58,  3.64s/it]"
     ]
    },
    {
     "name": "stdout",
     "output_type": "stream",
     "text": [
      "Accepted protein sequence:  MTQVSPSPLRLIRVGRALDLTRSIGDSGLRESMSSQTYWP \n",
      "\n"
     ]
    },
    {
     "name": "stderr",
     "output_type": "stream",
     "text": [
      " 25%|██▌       | 5/20 [00:18<00:53,  3.54s/it]"
     ]
    },
    {
     "name": "stdout",
     "output_type": "stream",
     "text": [
      "Accepted protein sequence:  MKNFNTLSFETLANIVGGRNNLAANIGGVGGATVAGWALGNAVCGPACGFVGAHYVPIAWAGVTAATGGFGKIRK \n",
      "\n"
     ]
    },
    {
     "name": "stderr",
     "output_type": "stream",
     "text": [
      " 30%|███       | 6/20 [00:21<00:49,  3.55s/it]"
     ]
    },
    {
     "name": "stdout",
     "output_type": "stream",
     "text": [
      "Accepted protein sequence:  MKSKKVNTEIDTLEFEIDNQELNGTSGSGWWYTAFKMTLAGRCGLCFTCSYECTTNNVHC \n",
      "\n"
     ]
    },
    {
     "name": "stderr",
     "output_type": "stream",
     "text": [
      " 35%|███▌      | 7/20 [00:25<00:45,  3.52s/it]"
     ]
    },
    {
     "name": "stdout",
     "output_type": "stream",
     "text": [
      "Accepted protein sequence:  MAKNTSRPEIDSLSFEVENQELSGKSGAGWFTAVQLTLAGRCGRWFTGSFECTTNNVKCG \n",
      "\n"
     ]
    },
    {
     "name": "stderr",
     "output_type": "stream",
     "text": [
      " 40%|████      | 8/20 [00:28<00:41,  3.49s/it]"
     ]
    },
    {
     "name": "stdout",
     "output_type": "stream",
     "text": [
      "Accepted protein sequence:  MKQDNFEIDSLDYEINSQELNGKSAAGWYTAVRLTVQGRCGWWFTHSYECTSPNVRCG \n",
      "\n"
     ]
    },
    {
     "name": "stderr",
     "output_type": "stream",
     "text": [
      " 45%|████▌     | 9/20 [00:32<00:38,  3.46s/it]"
     ]
    },
    {
     "name": "stdout",
     "output_type": "stream",
     "text": [
      "Accepted protein sequence:  MKNPTLLPKLTAPVERPAVTSSDLKQASSVDAAWLNGDNNWSTPFAGVNAAWLNGDNNWSTPFAGVNAAWLNGDNNWSTPFAADGAE \n",
      "\n"
     ]
    },
    {
     "name": "stderr",
     "output_type": "stream",
     "text": [
      " 50%|█████     | 10/20 [00:35<00:35,  3.51s/it]"
     ]
    },
    {
     "name": "stdout",
     "output_type": "stream",
     "text": [
      "Accepted protein sequence:  MKEQKLEKITGLIPESELEEHLSGESSGAGTPAITTAISAIIGATAQSPCPTSACSKSCNK \n",
      "\n"
     ]
    },
    {
     "name": "stderr",
     "output_type": "stream",
     "text": [
      " 55%|█████▌    | 11/20 [00:39<00:31,  3.50s/it]"
     ]
    },
    {
     "name": "stdout",
     "output_type": "stream",
     "text": [
      "Accepted protein sequence:  MLDVIKNRKKIEEKLELPEILLEEVEEHSAMGGINTWNTTATSTSIIISETFGNKGKVCTYTVECVNNCRG \n",
      "\n"
     ]
    },
    {
     "name": "stderr",
     "output_type": "stream",
     "text": [
      " 60%|██████    | 12/20 [00:42<00:28,  3.52s/it]"
     ]
    },
    {
     "name": "stdout",
     "output_type": "stream",
     "text": [
      "Accepted protein sequence:  MLKEEKLEKITGLIPESELEEHLSGESSGAGTPAITTAISAIIAATAQSPCPTSACSKSCNK \n",
      "\n"
     ]
    },
    {
     "name": "stderr",
     "output_type": "stream",
     "text": [
      " 65%|██████▌   | 13/20 [00:46<00:24,  3.51s/it]"
     ]
    },
    {
     "name": "stdout",
     "output_type": "stream",
     "text": [
      "Accepted protein sequence:  MEKILDLDVQVKAQKESNDSSGDERITSFSLCTPGCAKTGSFNSYCC \n",
      "\n"
     ]
    },
    {
     "name": "stderr",
     "output_type": "stream",
     "text": [
      " 70%|███████   | 14/20 [00:49<00:20,  3.47s/it]"
     ]
    },
    {
     "name": "stdout",
     "output_type": "stream",
     "text": [
      "Accepted protein sequence:  MSMTMTLQQAVVDDEFRSVLLADPAAFGLSVESLPGAVERQDHEAIEAFTEAVVASEIYACASTCSFGPFTIACDGTTK \n",
      "\n"
     ]
    },
    {
     "name": "stderr",
     "output_type": "stream",
     "text": [
      " 75%|███████▌  | 15/20 [00:53<00:17,  3.56s/it]"
     ]
    },
    {
     "name": "stdout",
     "output_type": "stream",
     "text": [
      "Accepted protein sequence:  MNKKNILPQQGQPVIRLTAGQLSSQLAELSEEALGDAGLEASVAACITFCAYDGVEPSCTLCCTLCAYDGE \n",
      "\n"
     ]
    },
    {
     "name": "stderr",
     "output_type": "stream",
     "text": [
      " 80%|████████  | 16/20 [00:57<00:14,  3.59s/it]"
     ]
    },
    {
     "name": "stdout",
     "output_type": "stream",
     "text": [
      "Accepted protein sequence:  MNKKNILPQQGQPVIRLTAGQLSSQLAELSEEALGDAGLEASVTACITFCAYDGVEPSCTLCCALCAYDGE \n",
      "\n"
     ]
    },
    {
     "name": "stderr",
     "output_type": "stream",
     "text": [
      " 85%|████████▌ | 17/20 [01:00<00:10,  3.60s/it]"
     ]
    },
    {
     "name": "stdout",
     "output_type": "stream",
     "text": [
      "Accepted protein sequence:  MNKKNILPQQGQPVIRLTAGQLSSQLAELSEEALGDAGLEASVTACITFCAYDGVEPSCTLCCTLCAYDGE \n",
      "\n"
     ]
    },
    {
     "name": "stderr",
     "output_type": "stream",
     "text": [
      " 90%|█████████ | 18/20 [01:04<00:07,  3.61s/it]"
     ]
    },
    {
     "name": "stdout",
     "output_type": "stream",
     "text": [
      "Accepted protein sequence:  MNKKNILPQQGQPVIRLTAGQLSSQLAELSEEALGDAGLEASLTACITFCAYDGVEPSCTLCCTLCAYDGE \n",
      "\n"
     ]
    },
    {
     "name": "stderr",
     "output_type": "stream",
     "text": [
      " 95%|█████████▌| 19/20 [01:07<00:03,  3.62s/it]"
     ]
    },
    {
     "name": "stdout",
     "output_type": "stream",
     "text": [
      "Accepted protein sequence:  MEMVLELQELDAPNELAYGDPSHGGGSNLSLLASCANSTVSLLTCH \n",
      "\n"
     ]
    },
    {
     "name": "stderr",
     "output_type": "stream",
     "text": [
      "100%|██████████| 20/20 [01:11<00:00,  3.57s/it]\n"
     ]
    },
    {
     "name": "stdout",
     "output_type": "stream",
     "text": [
      "[[ 0.11630674 -0.1246348  -0.40021622 ... -0.01968804  0.0678182\n",
      "   0.09913086]\n",
      " [ 0.16261135 -0.16866495 -0.32378194 ...  0.01031972  0.07828719\n",
      "   0.084803  ]\n",
      " [ 0.1718336  -0.25992712 -0.3315824  ...  0.0142533   0.04639739\n",
      "   0.06483438]\n",
      " ...\n",
      " [ 0.11630684 -0.12463491 -0.40021622 ... -0.01968808  0.06781818\n",
      "   0.09913088]\n",
      " [ 0.14789036 -0.12967137 -0.32749158 ...  0.02746485  0.102824\n",
      "   0.08326133]\n",
      " [ 0.16279021 -0.09277944 -0.21457732 ...  0.01554004  0.04875093\n",
      "   0.04010428]]\n",
      "[[ 0.14986856 -0.30113626 -0.39250177 ...  0.02012079  0.06142804\n",
      "   0.09335212]\n",
      " [ 0.15781517 -0.22841084 -0.37898162 ...  0.00430088  0.06391165\n",
      "   0.08327632]\n",
      " [ 0.13699366 -0.18653494 -0.16458543 ...  0.01036704  0.03331704\n",
      "   0.05194495]\n",
      " ...\n",
      " [ 0.1718335  -0.25992715 -0.33158228 ...  0.0142533   0.04639742\n",
      "   0.06483437]\n",
      " [ 0.14789064 -0.12967144 -0.32749185 ...  0.02746486  0.10282397\n",
      "   0.08326131]\n",
      " [ 0.06867981 -0.23076493 -0.2405295  ...  0.0383425   0.04962576\n",
      "   0.10104001]]\n",
      "[[ 0.14986856 -0.30113626 -0.39250177 ...  0.02012079  0.06142804\n",
      "   0.09335212]\n",
      " [ 0.26299873 -0.25311613 -0.05108827 ...  0.03109262  0.03017809\n",
      "   0.06458269]\n",
      " [ 0.23780355 -0.16648091 -0.22935006 ...  0.02452813  0.02640929\n",
      "   0.07156599]\n",
      " ...\n",
      " [ 0.06867981 -0.23076493 -0.2405295  ...  0.0383425   0.04962576\n",
      "   0.10104001]\n",
      " [ 0.14789064 -0.12967144 -0.32749185 ...  0.02746486  0.10282397\n",
      "   0.08326131]\n",
      " [ 0.14789064 -0.12967144 -0.32749185 ...  0.02746486  0.10282397\n",
      "   0.08326131]]\n",
      "[[ 0.1498687  -0.30113626 -0.39250165 ...  0.02012079  0.06142806\n",
      "   0.09335212]\n",
      " [ 0.17183352 -0.25992706 -0.33158243 ...  0.01425332  0.0463974\n",
      "   0.06483439]\n",
      " [ 0.0686799  -0.23076482 -0.2405296  ...  0.03834247  0.04962576\n",
      "   0.10103998]\n",
      " ...\n",
      " [ 0.13699363 -0.1865349  -0.16458543 ...  0.01036704  0.03331699\n",
      "   0.051945  ]\n",
      " [ 0.24744083 -0.20879616 -0.43943912 ...  0.01792848  0.0191827\n",
      "   0.11654395]\n",
      " [ 0.1163068  -0.12463488 -0.40021637 ... -0.01968804  0.06781818\n",
      "   0.09913091]]\n",
      "[[ 0.14986856 -0.30113626 -0.39250177 ...  0.02012079  0.06142804\n",
      "   0.09335212]\n",
      " [ 0.24744073 -0.2087962  -0.43943918 ...  0.01792847  0.0191827\n",
      "   0.11654395]\n",
      " [ 0.16266835 -0.22316092 -0.2073288  ...  0.04221268  0.02743082\n",
      "   0.05729937]\n",
      " ...\n",
      " [ 0.19377808 -0.14661747 -0.329296   ...  0.02975     0.06024206\n",
      "   0.05662178]\n",
      " [ 0.16279025 -0.09277937 -0.21457742 ...  0.01554     0.04875098\n",
      "   0.04010428]\n",
      " [ 0.23780355 -0.16648091 -0.22935006 ...  0.02452813  0.02640929\n",
      "   0.07156599]]\n",
      "[[ 0.1498687  -0.30113626 -0.39250165 ...  0.02012079  0.06142806\n",
      "   0.09335212]\n",
      " [ 0.08304096 -0.21574347 -0.02853087 ...  0.02463049  0.01310301\n",
      "   0.07367372]\n",
      " [ 0.0686799  -0.23076482 -0.2405296  ...  0.03834247  0.04962576\n",
      "   0.10103998]\n",
      " ...\n",
      " [ 0.20986123 -0.24770166 -0.39317727 ...  0.01831727  0.06683809\n",
      "   0.08966676]\n",
      " [ 0.13699363 -0.1865349  -0.16458543 ...  0.01036704  0.03331699\n",
      "   0.051945  ]\n",
      " [ 0.08304096 -0.21574347 -0.02853087 ...  0.02463049  0.01310301\n",
      "   0.07367372]]\n",
      "[[ 0.14986856 -0.30113626 -0.39250177 ...  0.02012079  0.06142804\n",
      "   0.09335212]\n",
      " [ 0.08304111 -0.2157434  -0.02853064 ...  0.02463047  0.013103\n",
      "   0.07367373]\n",
      " [ 0.21181074 -0.22819147 -0.391048   ...  0.01473622  0.03666984\n",
      "   0.08037536]\n",
      " ...\n",
      " [ 0.15781517 -0.22841084 -0.37898162 ...  0.00430088  0.06391165\n",
      "   0.08327632]\n",
      " [ 0.16631941 -0.1687924  -0.16608518 ...  0.02961552  0.0348946\n",
      "   0.06065652]\n",
      " [ 0.11630689 -0.1246348  -0.40021628 ... -0.01968808  0.06781816\n",
      "   0.09913088]]\n",
      "[[ 0.14986856 -0.30113626 -0.39250177 ...  0.02012079  0.06142804\n",
      "   0.09335212]\n",
      " [ 0.16704999 -0.25221848 -0.37669823 ... -0.00546806  0.02349246\n",
      "   0.08832475]\n",
      " [ 0.08304111 -0.2157434  -0.02853064 ...  0.02463047  0.013103\n",
      "   0.07367373]\n",
      " ...\n",
      " [ 0.08304111 -0.2157434  -0.02853064 ...  0.02463047  0.013103\n",
      "   0.07367373]\n",
      " [ 0.11630689 -0.1246348  -0.40021628 ... -0.01968808  0.06781816\n",
      "   0.09913088]\n",
      " [ 0.1718335  -0.25992715 -0.33158228 ...  0.0142533   0.04639742\n",
      "   0.06483437]]\n",
      "[[ 0.14986856 -0.30113626 -0.39250177 ...  0.02012079  0.06142804\n",
      "   0.09335212]\n",
      " [ 0.08304111 -0.2157434  -0.02853064 ...  0.02463047  0.013103\n",
      "   0.07367373]\n",
      " [ 0.16266835 -0.22316092 -0.2073288  ...  0.04221268  0.02743082\n",
      "   0.05729937]\n",
      " ...\n",
      " [ 0.13699366 -0.18653494 -0.16458543 ...  0.01036704  0.03331704\n",
      "   0.05194495]\n",
      " [ 0.11630689 -0.1246348  -0.40021628 ... -0.01968808  0.06781816\n",
      "   0.09913088]\n",
      " [ 0.1718335  -0.25992715 -0.33158228 ...  0.0142533   0.04639742\n",
      "   0.06483437]]\n",
      "[[ 0.1498687  -0.30113626 -0.39250165 ...  0.02012079  0.06142806\n",
      "   0.09335212]\n",
      " [ 0.08304096 -0.21574347 -0.02853087 ...  0.02463049  0.01310301\n",
      "   0.07367372]\n",
      " [ 0.0686799  -0.23076482 -0.2405296  ...  0.03834247  0.04962576\n",
      "   0.10103998]\n",
      " ...\n",
      " [ 0.17183352 -0.25992706 -0.33158243 ...  0.01425332  0.0463974\n",
      "   0.06483439]\n",
      " [ 0.16704996 -0.2522184  -0.37669817 ... -0.00546817  0.02349246\n",
      "   0.08832474]\n",
      " [ 0.26299885 -0.25311628 -0.05108814 ...  0.03109263  0.03017809\n",
      "   0.06458271]]\n",
      "[[ 0.14986856 -0.30113626 -0.39250177 ...  0.02012079  0.06142804\n",
      "   0.09335212]\n",
      " [ 0.08304111 -0.2157434  -0.02853064 ...  0.02463047  0.013103\n",
      "   0.07367373]\n",
      " [ 0.26299873 -0.25311613 -0.05108827 ...  0.03109262  0.03017809\n",
      "   0.06458269]\n",
      " ...\n",
      " [ 0.11630689 -0.1246348  -0.40021628 ... -0.01968808  0.06781816\n",
      "   0.09913088]\n",
      " [ 0.06867981 -0.23076493 -0.2405295  ...  0.0383425   0.04962576\n",
      "   0.10104001]\n",
      " [ 0.08304111 -0.2157434  -0.02853064 ...  0.02463047  0.013103\n",
      "   0.07367373]]\n",
      "[[ 0.1498687  -0.30113626 -0.39250165 ...  0.02012079  0.06142806\n",
      "   0.09335212]\n",
      " [ 0.1626115  -0.16866483 -0.32378212 ...  0.01031973  0.07828725\n",
      "   0.08480301]\n",
      " [ 0.15966907 -0.2580858  -0.20714587 ...  0.03390519  0.04184815\n",
      "   0.07147616]\n",
      " ...\n",
      " [ 0.1163068  -0.12463488 -0.40021637 ... -0.01968804  0.06781818\n",
      "   0.09913091]\n",
      " [ 0.13699363 -0.1865349  -0.16458543 ...  0.01036704  0.03331699\n",
      "   0.051945  ]\n",
      " [ 0.17183352 -0.25992706 -0.33158243 ...  0.01425332  0.0463974\n",
      "   0.06483439]]\n",
      "[[ 0.14986856 -0.30113626 -0.39250177 ...  0.02012079  0.06142804\n",
      "   0.09335212]\n",
      " [ 0.16261162 -0.16866495 -0.3237821  ...  0.01031972  0.07828722\n",
      "   0.084803  ]\n",
      " [ 0.08304111 -0.2157434  -0.02853064 ...  0.02463047  0.013103\n",
      "   0.07367373]\n",
      " ...\n",
      " [ 0.11630689 -0.1246348  -0.40021628 ... -0.01968808  0.06781816\n",
      "   0.09913088]\n",
      " [ 0.06867981 -0.23076493 -0.2405295  ...  0.0383425   0.04962576\n",
      "   0.10104001]\n",
      " [ 0.08304111 -0.2157434  -0.02853064 ...  0.02463047  0.013103\n",
      "   0.07367373]]\n",
      "[[ 0.14986856 -0.30113626 -0.39250177 ...  0.02012079  0.06142804\n",
      "   0.09335212]\n",
      " [ 0.26299873 -0.25311613 -0.05108827 ...  0.03109262  0.03017809\n",
      "   0.06458269]\n",
      " [ 0.08304111 -0.2157434  -0.02853064 ...  0.02463047  0.013103\n",
      "   0.07367373]\n",
      " ...\n",
      " [ 0.19377808 -0.14661747 -0.329296   ...  0.02975     0.06024206\n",
      "   0.05662178]\n",
      " [ 0.11630689 -0.1246348  -0.40021628 ... -0.01968808  0.06781816\n",
      "   0.09913088]\n",
      " [ 0.11630689 -0.1246348  -0.40021628 ... -0.01968808  0.06781816\n",
      "   0.09913088]]\n",
      "[[ 0.1498687  -0.30113626 -0.39250165 ...  0.02012079  0.06142806\n",
      "   0.09335212]\n",
      " [ 0.21181083 -0.22819151 -0.3910482  ...  0.01473627  0.03666983\n",
      "   0.08037533]\n",
      " [ 0.1498687  -0.30113626 -0.39250165 ...  0.02012079  0.06142806\n",
      "   0.09335212]\n",
      " ...\n",
      " [ 0.24744083 -0.20879616 -0.43943912 ...  0.01792848  0.0191827\n",
      "   0.11654395]\n",
      " [ 0.24744083 -0.20879616 -0.43943912 ...  0.01792848  0.0191827\n",
      "   0.11654395]\n",
      " [ 0.08304096 -0.21574347 -0.02853087 ...  0.02463049  0.01310301\n",
      "   0.07367372]]\n",
      "[[ 0.1498687  -0.30113626 -0.39250165 ...  0.02012079  0.06142806\n",
      "   0.09335212]\n",
      " [ 0.0686799  -0.23076482 -0.2405296  ...  0.03834247  0.04962576\n",
      "   0.10103998]\n",
      " [ 0.08304096 -0.21574347 -0.02853087 ...  0.02463049  0.01310301\n",
      "   0.07367372]\n",
      " ...\n",
      " [ 0.15966907 -0.2580858  -0.20714587 ...  0.03390519  0.04184815\n",
      "   0.07147616]\n",
      " [ 0.17183352 -0.25992706 -0.33158243 ...  0.01425332  0.0463974\n",
      "   0.06483439]\n",
      " [ 0.26299885 -0.25311628 -0.05108814 ...  0.03109263  0.03017809\n",
      "   0.06458271]]\n",
      "[[ 0.1498687  -0.30113626 -0.39250165 ...  0.02012079  0.06142806\n",
      "   0.09335212]\n",
      " [ 0.0686799  -0.23076482 -0.2405296  ...  0.03834247  0.04962576\n",
      "   0.10103998]\n",
      " [ 0.08304096 -0.21574347 -0.02853087 ...  0.02463049  0.01310301\n",
      "   0.07367372]\n",
      " ...\n",
      " [ 0.15966907 -0.2580858  -0.20714587 ...  0.03390519  0.04184815\n",
      "   0.07147616]\n",
      " [ 0.17183352 -0.25992706 -0.33158243 ...  0.01425332  0.0463974\n",
      "   0.06483439]\n",
      " [ 0.26299885 -0.25311628 -0.05108814 ...  0.03109263  0.03017809\n",
      "   0.06458271]]\n",
      "[[ 0.1498687  -0.30113626 -0.39250165 ...  0.02012079  0.06142806\n",
      "   0.09335212]\n",
      " [ 0.0686799  -0.23076482 -0.2405296  ...  0.03834247  0.04962576\n",
      "   0.10103998]\n",
      " [ 0.08304096 -0.21574347 -0.02853087 ...  0.02463049  0.01310301\n",
      "   0.07367372]\n",
      " ...\n",
      " [ 0.15966907 -0.2580858  -0.20714587 ...  0.03390519  0.04184815\n",
      "   0.07147616]\n",
      " [ 0.17183352 -0.25992706 -0.33158243 ...  0.01425332  0.0463974\n",
      "   0.06483439]\n",
      " [ 0.26299885 -0.25311628 -0.05108814 ...  0.03109263  0.03017809\n",
      "   0.06458271]]\n",
      "[[ 0.1498687  -0.30113626 -0.39250165 ...  0.02012079  0.06142806\n",
      "   0.09335212]\n",
      " [ 0.0686799  -0.23076482 -0.2405296  ...  0.03834247  0.04962576\n",
      "   0.10103998]\n",
      " [ 0.08304096 -0.21574347 -0.02853087 ...  0.02463049  0.01310301\n",
      "   0.07367372]\n",
      " ...\n",
      " [ 0.15966907 -0.2580858  -0.20714587 ...  0.03390519  0.04184815\n",
      "   0.07147616]\n",
      " [ 0.17183352 -0.25992706 -0.33158243 ...  0.01425332  0.0463974\n",
      "   0.06483439]\n",
      " [ 0.26299885 -0.25311628 -0.05108814 ...  0.03109263  0.03017809\n",
      "   0.06458271]]\n"
     ]
    }
   ],
   "source": [
    "# parse arguments\n",
    "parser = argparse.ArgumentParser()\n",
    "\n",
    "# Modify the default values of the arguments to match the desired values\n",
    "parser.add_argument(\"--n_sequences\", type=int, default=20)\n",
    "parser.add_argument(\"--model_name\", type=str, default=\"Rostlab/prot_t5_xl_uniref50\")\n",
    "parser.add_argument(\"--tokenizer_name\", type=str, default=\"Rostlab/prot_t5_xl_uniref50\")\n",
    "args = parser.parse_args(\"\")\n",
    "\n",
    "# Parse bagel.fa\n",
    "sequence_list = ReadFastaFile(\"bagel.fa\", args.n_sequences)\n",
    "embed_list = []\n",
    "print(\"Accepted protein sequences: \", sequence_list, \"\\n\")\n",
    "\n",
    "# Embed the random/inputted protein sequence(s)\n",
    "for sequence in tqdm(sequence_list):\n",
    "    print(\"Accepted protein sequence: \", sequence, \"\\n\")\n",
    "    test_embed = load_protein_t5_embedding(sequence, args.model_name, args.tokenizer_name).numpy()\n",
    "    #reshape embeddings to fit the skbio format\n",
    "    embed_list.append(test_embed.reshape(test_embed.shape[0], -1))\n",
    "\n",
    "# cast embeddings to ProteinEmbedding object and reshape to fit hdf5 format\n",
    "embedding_sequence_list = [(embedding, sequence) for embedding, sequence in zip(embed_list, sequence_list)]\n",
    "embedding_repr = lambda x: ProteinEmbedding(*x)\n",
    "embed_objs = (x for x in map(embedding_repr, embedding_sequence_list))\n",
    "skbio.write(embed_objs, format='embed', into=\"bagel.h5\")\n",
    "\n",
    "#test if the file was written correctly and output\n",
    "read_embed = iter(skbio.read(\"bagel.h5\", format='embed' ,constructor=ProteinEmbedding))\n",
    "for item in read_embed:\n",
    "    print(item.embedding)\n",
    "\n"
   ]
  }
 ],
 "metadata": {
  "kernelspec": {
   "display_name": "Python 3",
   "language": "python",
   "name": "python3"
  },
  "language_info": {
   "codemirror_mode": {
    "name": "ipython",
    "version": 3
   },
   "file_extension": ".py",
   "mimetype": "text/x-python",
   "name": "python",
   "nbconvert_exporter": "python",
   "pygments_lexer": "ipython3",
   "version": "3.12.3"
  }
 },
 "nbformat": 4,
 "nbformat_minor": 2
}
