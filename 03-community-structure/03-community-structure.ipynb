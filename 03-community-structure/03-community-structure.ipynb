{
 "cells": [
  {
   "cell_type": "markdown",
   "id": "2ad33173-270e-4a21-b194-974ed3ccc919",
   "metadata": {},
   "source": [
    "# Section 03: Analyzing Microbial Communities\n",
    "\n",
    "- Author: Qiyun Zhu"
   ]
  },
  {
   "cell_type": "markdown",
   "id": "1a2d4632-a51d-4666-bad2-3a2497f321f5",
   "metadata": {},
   "source": [
    "A microbiome is a [**community**](https://en.wikipedia.org/wiki/Community_(ecology)) -- a group of microorganisms cohabitating the same environment, such as the gut of a human subject or the soil around a plant's root. These microbes usually interact with each other and with the environment (host or natural). The field of **community ecology** studies the distribution and relationships of community members. Modern microbiome research has adopted many notions and approaches from community ecology, as they are effective tools for decoding microbiomes and their roles in the biological system.\n",
    "\n",
    "The most familiar ecological term to a microbiome researcher may be [**diversity**](https://en.wikipedia.org/wiki/Biodiversity). While this term is intuitive, its underlying nature is tricky and much discussed. In the very basic sense, community diversity can be divided into:\n",
    "\n",
    "- [**Alpha diversity**](https://en.wikipedia.org/wiki/Alpha_diversity): The diversity within an community.\n",
    "- [**Beta diversity**](https://en.wikipedia.org/wiki/Beta_diversity): The diversity between two communities.\n",
    "\n",
    "scikit-bio implements a large variety of community diversity metrics, and efficient algorithms for pre-processing community data, calculating diversity, and subsequent analyses of diversity measurements. This section will focus on understanding, calculating and utilizing alpha diversity in microbiome research."
   ]
  },
  {
   "cell_type": "markdown",
   "id": "4b27248e-902d-45e3-acdb-7b24b7aa31bb",
   "metadata": {},
   "source": [
    "## Preparation"
   ]
  },
  {
   "cell_type": "markdown",
   "id": "77b49195-2b1d-4647-8e48-49a93a20e78b",
   "metadata": {},
   "source": [
    "Install the latest version of scikit-bio if it hasn't been (needed for every Google Colab instance)."
   ]
  },
  {
   "cell_type": "code",
   "execution_count": 1,
   "id": "a3b99283-699d-4adf-9da9-e39b5f204018",
   "metadata": {},
   "outputs": [],
   "source": [
    "from importlib.util import find_spec"
   ]
  },
  {
   "cell_type": "code",
   "execution_count": 2,
   "id": "0e0a7daa-e714-4886-a4f5-14cbb6eb9105",
   "metadata": {},
   "outputs": [],
   "source": [
    "if find_spec('skbio') is None:\n",
    "    !pip install -q scikit-bio"
   ]
  },
  {
   "cell_type": "code",
   "execution_count": 3,
   "id": "6c944978-d460-46f4-b6b8-d6a83cecad69",
   "metadata": {},
   "outputs": [
    {
     "data": {
      "text/plain": [
       "'0.7.0'"
      ]
     },
     "execution_count": 3,
     "metadata": {},
     "output_type": "execute_result"
    }
   ],
   "source": [
    "import skbio\n",
    "skbio.__version__"
   ]
  },
  {
   "cell_type": "markdown",
   "id": "e1a244f3-e7bd-4209-af0b-849690439b88",
   "metadata": {},
   "source": [
    "Download the EMP500 dataset and unzip it. (If you have done it already, skip the following code.)"
   ]
  },
  {
   "cell_type": "code",
   "execution_count": 4,
   "id": "bea4308e",
   "metadata": {},
   "outputs": [],
   "source": [
    "!wget -q -O emp500.tar.gz \"https://www.dropbox.com/scl/fi/7sepykr3vhss60647osc8/emp500.tar.gz?rlkey=6q5ac48noeax5n2htaqslvo8g&dl=0\"\n",
    "!tar zxf emp500.tar.gz"
   ]
  },
  {
   "cell_type": "code",
   "execution_count": 5,
   "id": "5f3ef648",
   "metadata": {},
   "outputs": [],
   "source": [
    "HOME = 'emp500'"
   ]
  },
  {
   "cell_type": "markdown",
   "id": "0c78fe66-6be3-424c-ba66-24f3a66f3aa0",
   "metadata": {},
   "source": [
    "Check if the directory exists by listing its content."
   ]
  },
  {
   "cell_type": "code",
   "execution_count": 6,
   "id": "105c75dc-4f15-4844-92ee-75c45297e48f",
   "metadata": {},
   "outputs": [
    {
     "name": "stdout",
     "output_type": "stream",
     "text": [
      "amplicon  assembly  masspec  README.md\tsample.tsv  shotgun\n"
     ]
    }
   ],
   "source": [
    "!ls $HOME"
   ]
  },
  {
   "cell_type": "markdown",
   "id": "1d1a9405-1a2a-47ee-b672-52ca1d9070c6",
   "metadata": {},
   "source": [
    "Import common libraries."
   ]
  },
  {
   "cell_type": "code",
   "execution_count": 7,
   "id": "52d76ef4-e92e-4bb9-ac2a-4c32abb1d17f",
   "metadata": {},
   "outputs": [],
   "source": [
    "import numpy as np\n",
    "import pandas as pd\n",
    "import matplotlib.pyplot as plt"
   ]
  },
  {
   "cell_type": "markdown",
   "id": "a341554b-1bfb-473b-844f-206da631939b",
   "metadata": {},
   "source": [
    "## Community data"
   ]
  },
  {
   "cell_type": "markdown",
   "id": "f200c747-5994-4ea0-a2cd-c155148e8bec",
   "metadata": {},
   "source": [
    "We will use the EMP500 dataset to demonstrate alpha diversity calculation and analysis."
   ]
  },
  {
   "cell_type": "markdown",
   "id": "8d843dd8-53c8-41c3-bbdf-b21b905997f1",
   "metadata": {},
   "source": [
    "As discussed in section 03, the EMP500 dataset consists of multiple omic data types. We will use the operational genomic unit (OGU) table derived from shotgun metagenomic data as the starting point. The following code for reading and previewing the OGU table was adopted from section 03."
   ]
  },
  {
   "cell_type": "code",
   "execution_count": 8,
   "id": "734d913a-1db3-4e61-8f0d-3b653387babd",
   "metadata": {},
   "outputs": [],
   "source": [
    "from skbio import Table"
   ]
  },
  {
   "cell_type": "code",
   "execution_count": 9,
   "id": "a1680eea-d7d5-4be0-9809-2406c0f8d2a1",
   "metadata": {},
   "outputs": [
    {
     "data": {
      "text/plain": [
       "14933 x 801 <class 'biom.table.Table'> with 1344863 nonzero entries (11% dense)"
      ]
     },
     "execution_count": 9,
     "metadata": {},
     "output_type": "execute_result"
    }
   ],
   "source": [
    "table = Table.read(f'{HOME}/shotgun/ogu.biom')\n",
    "table"
   ]
  },
  {
   "cell_type": "code",
   "execution_count": 10,
   "id": "029443aa-3f68-4c8d-9eb9-a375be419e5c",
   "metadata": {},
   "outputs": [
    {
     "data": {
      "text/html": [
       "<div>\n",
       "<style scoped>\n",
       "    .dataframe tbody tr th:only-of-type {\n",
       "        vertical-align: middle;\n",
       "    }\n",
       "\n",
       "    .dataframe tbody tr th {\n",
       "        vertical-align: top;\n",
       "    }\n",
       "\n",
       "    .dataframe thead th {\n",
       "        text-align: right;\n",
       "    }\n",
       "</style>\n",
       "<table border=\"1\" class=\"dataframe\">\n",
       "  <thead>\n",
       "    <tr style=\"text-align: right;\">\n",
       "      <th></th>\n",
       "      <th>13114.angenent.65.s001</th>\n",
       "      <th>13114.angenent.65.s002</th>\n",
       "      <th>13114.angenent.65.s003</th>\n",
       "      <th>13114.angenent.65.s004</th>\n",
       "      <th>13114.angenent.65.s005</th>\n",
       "      <th>13114.angenent.65.s006</th>\n",
       "      <th>13114.angenent.65.s007</th>\n",
       "      <th>13114.angenent.65.s008</th>\n",
       "      <th>13114.angenent.65.s009</th>\n",
       "      <th>13114.berry.2.s001</th>\n",
       "      <th>...</th>\n",
       "      <th>13114.zaneveld.9.s013</th>\n",
       "      <th>13114.zaneveld.9.s014</th>\n",
       "      <th>13114.zaneveld.9.s015</th>\n",
       "      <th>13114.zaneveld.9.s016</th>\n",
       "      <th>13114.zaneveld.9.s017</th>\n",
       "      <th>13114.zaneveld.9.s018</th>\n",
       "      <th>13114.zaneveld.9.s019</th>\n",
       "      <th>13114.zaneveld.9.s020</th>\n",
       "      <th>13114.zaneveld.9.s021</th>\n",
       "      <th>13114.zaneveld.9.s022</th>\n",
       "    </tr>\n",
       "  </thead>\n",
       "  <tbody>\n",
       "    <tr>\n",
       "      <th>G000005825</th>\n",
       "      <td>120.0</td>\n",
       "      <td>0</td>\n",
       "      <td>0</td>\n",
       "      <td>0</td>\n",
       "      <td>51.0</td>\n",
       "      <td>0</td>\n",
       "      <td>0</td>\n",
       "      <td>0</td>\n",
       "      <td>0</td>\n",
       "      <td>0</td>\n",
       "      <td>...</td>\n",
       "      <td>0</td>\n",
       "      <td>0</td>\n",
       "      <td>0</td>\n",
       "      <td>0</td>\n",
       "      <td>0</td>\n",
       "      <td>0</td>\n",
       "      <td>0</td>\n",
       "      <td>0</td>\n",
       "      <td>0</td>\n",
       "      <td>0</td>\n",
       "    </tr>\n",
       "    <tr>\n",
       "      <th>G000006175</th>\n",
       "      <td>0</td>\n",
       "      <td>0</td>\n",
       "      <td>0</td>\n",
       "      <td>0</td>\n",
       "      <td>0</td>\n",
       "      <td>0</td>\n",
       "      <td>0</td>\n",
       "      <td>0</td>\n",
       "      <td>0</td>\n",
       "      <td>0</td>\n",
       "      <td>...</td>\n",
       "      <td>0</td>\n",
       "      <td>0</td>\n",
       "      <td>0</td>\n",
       "      <td>0</td>\n",
       "      <td>0</td>\n",
       "      <td>0</td>\n",
       "      <td>0</td>\n",
       "      <td>0</td>\n",
       "      <td>0</td>\n",
       "      <td>0</td>\n",
       "    </tr>\n",
       "    <tr>\n",
       "      <th>G000006605</th>\n",
       "      <td>1.0</td>\n",
       "      <td>4.0</td>\n",
       "      <td>0</td>\n",
       "      <td>1.0</td>\n",
       "      <td>2.0</td>\n",
       "      <td>0</td>\n",
       "      <td>1.0</td>\n",
       "      <td>1.0</td>\n",
       "      <td>1.0</td>\n",
       "      <td>0</td>\n",
       "      <td>...</td>\n",
       "      <td>0</td>\n",
       "      <td>0</td>\n",
       "      <td>0</td>\n",
       "      <td>0</td>\n",
       "      <td>0</td>\n",
       "      <td>0</td>\n",
       "      <td>0</td>\n",
       "      <td>0</td>\n",
       "      <td>0</td>\n",
       "      <td>0</td>\n",
       "    </tr>\n",
       "    <tr>\n",
       "      <th>G000006725</th>\n",
       "      <td>11.0</td>\n",
       "      <td>9.0</td>\n",
       "      <td>0</td>\n",
       "      <td>0</td>\n",
       "      <td>0</td>\n",
       "      <td>0</td>\n",
       "      <td>0</td>\n",
       "      <td>0</td>\n",
       "      <td>0</td>\n",
       "      <td>0</td>\n",
       "      <td>...</td>\n",
       "      <td>0</td>\n",
       "      <td>0</td>\n",
       "      <td>0</td>\n",
       "      <td>0</td>\n",
       "      <td>0</td>\n",
       "      <td>0</td>\n",
       "      <td>0</td>\n",
       "      <td>0</td>\n",
       "      <td>0</td>\n",
       "      <td>0</td>\n",
       "    </tr>\n",
       "    <tr>\n",
       "      <th>G000006745</th>\n",
       "      <td>0</td>\n",
       "      <td>0</td>\n",
       "      <td>0</td>\n",
       "      <td>0</td>\n",
       "      <td>0</td>\n",
       "      <td>0</td>\n",
       "      <td>0</td>\n",
       "      <td>0</td>\n",
       "      <td>0</td>\n",
       "      <td>0</td>\n",
       "      <td>...</td>\n",
       "      <td>0</td>\n",
       "      <td>0</td>\n",
       "      <td>0</td>\n",
       "      <td>0</td>\n",
       "      <td>18.0</td>\n",
       "      <td>0</td>\n",
       "      <td>0</td>\n",
       "      <td>0</td>\n",
       "      <td>1.0</td>\n",
       "      <td>2.0</td>\n",
       "    </tr>\n",
       "  </tbody>\n",
       "</table>\n",
       "<p>5 rows × 801 columns</p>\n",
       "</div>"
      ],
      "text/plain": [
       "            13114.angenent.65.s001  13114.angenent.65.s002  \\\n",
       "G000005825                   120.0                       0   \n",
       "G000006175                       0                       0   \n",
       "G000006605                     1.0                     4.0   \n",
       "G000006725                    11.0                     9.0   \n",
       "G000006745                       0                       0   \n",
       "\n",
       "            13114.angenent.65.s003  13114.angenent.65.s004  \\\n",
       "G000005825                       0                       0   \n",
       "G000006175                       0                       0   \n",
       "G000006605                       0                     1.0   \n",
       "G000006725                       0                       0   \n",
       "G000006745                       0                       0   \n",
       "\n",
       "            13114.angenent.65.s005  13114.angenent.65.s006  \\\n",
       "G000005825                    51.0                       0   \n",
       "G000006175                       0                       0   \n",
       "G000006605                     2.0                       0   \n",
       "G000006725                       0                       0   \n",
       "G000006745                       0                       0   \n",
       "\n",
       "            13114.angenent.65.s007  13114.angenent.65.s008  \\\n",
       "G000005825                       0                       0   \n",
       "G000006175                       0                       0   \n",
       "G000006605                     1.0                     1.0   \n",
       "G000006725                       0                       0   \n",
       "G000006745                       0                       0   \n",
       "\n",
       "            13114.angenent.65.s009  13114.berry.2.s001  ...  \\\n",
       "G000005825                       0                   0  ...   \n",
       "G000006175                       0                   0  ...   \n",
       "G000006605                     1.0                   0  ...   \n",
       "G000006725                       0                   0  ...   \n",
       "G000006745                       0                   0  ...   \n",
       "\n",
       "            13114.zaneveld.9.s013  13114.zaneveld.9.s014  \\\n",
       "G000005825                      0                      0   \n",
       "G000006175                      0                      0   \n",
       "G000006605                      0                      0   \n",
       "G000006725                      0                      0   \n",
       "G000006745                      0                      0   \n",
       "\n",
       "            13114.zaneveld.9.s015  13114.zaneveld.9.s016  \\\n",
       "G000005825                      0                      0   \n",
       "G000006175                      0                      0   \n",
       "G000006605                      0                      0   \n",
       "G000006725                      0                      0   \n",
       "G000006745                      0                      0   \n",
       "\n",
       "            13114.zaneveld.9.s017  13114.zaneveld.9.s018  \\\n",
       "G000005825                      0                      0   \n",
       "G000006175                      0                      0   \n",
       "G000006605                      0                      0   \n",
       "G000006725                      0                      0   \n",
       "G000006745                   18.0                      0   \n",
       "\n",
       "            13114.zaneveld.9.s019  13114.zaneveld.9.s020  \\\n",
       "G000005825                      0                      0   \n",
       "G000006175                      0                      0   \n",
       "G000006605                      0                      0   \n",
       "G000006725                      0                      0   \n",
       "G000006745                      0                      0   \n",
       "\n",
       "            13114.zaneveld.9.s021  13114.zaneveld.9.s022  \n",
       "G000005825                      0                      0  \n",
       "G000006175                      0                      0  \n",
       "G000006605                      0                      0  \n",
       "G000006725                      0                      0  \n",
       "G000006745                    1.0                    2.0  \n",
       "\n",
       "[5 rows x 801 columns]"
      ]
     },
     "execution_count": 10,
     "metadata": {},
     "output_type": "execute_result"
    }
   ],
   "source": [
    "table.to_dataframe().head()"
   ]
  },
  {
   "cell_type": "markdown",
   "id": "b9643674-16b5-41e8-814f-2245a7b06443",
   "metadata": {},
   "source": [
    "This data table is also referred to as a [contingency table](https://en.wikipedia.org/wiki/Contingency_table), in which cell values represent the frequencies (counts) of individual variables (OGUs, ASVs, etc.). Therefore, they must be **non-negative integers**. This is a pre-requisite for community diversity analysis in its orthodox form. Although some diversity metrics actually support floating-point numbers (e.g., normalized gene expression data in the unit of TPM), they still have to be non-negative."
   ]
  },
  {
   "cell_type": "markdown",
   "id": "283305c0-988d-4721-a5b4-76d6aead46af",
   "metadata": {},
   "source": [
    "In community ecology, each variable is usually referred to as a **species**. However, this \"species\" may or may not be strictly the taxonomic rank [species](https://en.wikipedia.org/wiki/Species). In fact, any groups of organisms (or other biological entities) at a certain rank can be the target of the study. scikit-bio uses the term [**taxon**](https://en.wikipedia.org/wiki/Taxon) (plural: **taxa**) for generalization purpose (see here an [explanation](https://scikit.bio/docs/latest/diversity.html#introduction))."
   ]
  },
  {
   "cell_type": "markdown",
   "id": "92bab48f-11e8-48a1-8cb9-f00ac1580294",
   "metadata": {},
   "source": [
    "## Taxon count"
   ]
  },
  {
   "cell_type": "markdown",
   "id": "e4e47856-4fa5-4fe5-a071-4955da4926b8",
   "metadata": {},
   "source": [
    "As discussed in section 03, this contingency table (as well as other omic data tables) is [sparse](https://en.wikipedia.org/wiki/Sparse_matrix). Only 11% of the cells have non-negative values. That is, each sample only contains a small subset of the microorganisms discovered across the study."
   ]
  },
  {
   "cell_type": "code",
   "execution_count": 11,
   "id": "0059c9e1-1720-47b9-8bfb-c25c7ba892ba",
   "metadata": {},
   "outputs": [
    {
     "data": {
      "text/plain": [
       "0.11243420779272678"
      ]
     },
     "execution_count": 11,
     "metadata": {},
     "output_type": "execute_result"
    }
   ],
   "source": [
    "table.get_table_density()"
   ]
  },
  {
   "cell_type": "markdown",
   "id": "353f0eac-9bc0-4897-8ab4-944adf629420",
   "metadata": {},
   "source": [
    "We can count the number of taxa (OGUs) per sample. In the following code, [`pa`](https://scikit.bio/docs/latest/generated/skbio.table.Table.pa.html) converts counts into presence/absence (i.e., positive numbers become 1, zeros remain 0), and [`sum`](https://scikit.bio/docs/latest/generated/skbio.table.Table.sum.html) sums up the data per sample."
   ]
  },
  {
   "cell_type": "code",
   "execution_count": 12,
   "id": "8e5422d4-8c42-4abe-877d-ea5977b810a8",
   "metadata": {},
   "outputs": [
    {
     "data": {
      "text/plain": [
       "array([3365., 3541., 1007., 1963., 2511., 1231., 2741., 1259., 2098.,\n",
       "       2450.])"
      ]
     },
     "execution_count": 12,
     "metadata": {},
     "output_type": "execute_result"
    }
   ],
   "source": [
    "sums = table.pa(inplace=False).sum('sample')\n",
    "sums[:10]"
   ]
  },
  {
   "cell_type": "markdown",
   "id": "212f917e-d510-4675-a64b-e4d1fa243353",
   "metadata": {},
   "source": [
    "This simple calculation is equivalent to the most essential alpha diversity metric: [**observed species richness**](https://en.wikipedia.org/wiki/Species_richness#Trends_in_species_richness) ($S_{obs}$, or simply $S$). It is also know as \"observed features\" or \"observed OTUs\" in the current and former versions of QIIME 2."
   ]
  },
  {
   "cell_type": "markdown",
   "id": "e89d581d-dc3a-4994-9682-25a0c410ce8d",
   "metadata": {},
   "source": [
    "As revealed by this result, the 801 samples of the EMP500 study have 1679 ± 1242 taxa."
   ]
  },
  {
   "cell_type": "code",
   "execution_count": 13,
   "id": "294b22cf-ae40-4008-9b09-435854180a15",
   "metadata": {},
   "outputs": [
    {
     "data": {
      "text/plain": [
       "(np.float64(1678.980024968789), np.float64(1242.4955772961528))"
      ]
     },
     "execution_count": 13,
     "metadata": {},
     "output_type": "execute_result"
    }
   ],
   "source": [
    "sums.mean(), sums.std(ddof=1)"
   ]
  },
  {
   "cell_type": "markdown",
   "id": "d1f5461d-91ed-4259-94aa-3001e2be840b",
   "metadata": {},
   "source": [
    "An important note about read-based shotgun metagenomics (introduced in section 03) is that it is prone to false assignments, due to the similarity among reference genomes among other reasons. As a consequence, the contingency table may be inflated with low-abundance false-positive taxa ([Simon et al., 2019](https://www.cell.com/cell/fulltext/S0092-8674(19)30775-5)). There are bioinformatic methods specifically designed to mitigate false positives. Meanwhile, it is important to understand the limitations of specific data types and analyses."
   ]
  },
  {
   "cell_type": "markdown",
   "id": "be9b86bf-12a7-49eb-a102-22ba4f3068e1",
   "metadata": {},
   "source": [
    "## Alpha diversity"
   ]
  },
  {
   "cell_type": "markdown",
   "id": "eb7d0011-700d-46f4-ac13-88f0f5700f3c",
   "metadata": {},
   "source": [
    "scikit-bio has a built-in function to calculate $S_{obs}$: [`sobs`](https://scikit.bio/docs/latest/generated/skbio.diversity.alpha.sobs.html)."
   ]
  },
  {
   "cell_type": "code",
   "execution_count": 14,
   "id": "931ed820-93e9-4c6c-929a-a5aacfda88b1",
   "metadata": {},
   "outputs": [],
   "source": [
    "from skbio.diversity.alpha import sobs"
   ]
  },
  {
   "cell_type": "markdown",
   "id": "ce4af1c0-1a27-4dbb-a55c-b2912a3b8c64",
   "metadata": {},
   "source": [
    "Let's calculate $S_{obs}$ for the first sample in the table. It is a bioreactor sludge sample collected in New York, USA."
   ]
  },
  {
   "cell_type": "code",
   "execution_count": 15,
   "id": "38e58827-1873-4866-817a-d9432292ef24",
   "metadata": {},
   "outputs": [
    {
     "data": {
      "text/plain": [
       "array([120.,   0.,   1., ...,   0.,   0.,   0.], shape=(14933,))"
      ]
     },
     "execution_count": 15,
     "metadata": {},
     "output_type": "execute_result"
    }
   ],
   "source": [
    "counts = table.data('13114.angenent.65.s001')\n",
    "counts"
   ]
  },
  {
   "cell_type": "code",
   "execution_count": 16,
   "id": "119e80ff-e1cb-4f46-8d8e-7f15fbb7ff65",
   "metadata": {},
   "outputs": [
    {
     "data": {
      "text/plain": [
       "3365"
      ]
     },
     "execution_count": 16,
     "metadata": {},
     "output_type": "execute_result"
    }
   ],
   "source": [
    "sobs(counts)"
   ]
  },
  {
   "cell_type": "markdown",
   "id": "748e8700-2f60-4ef1-a9dc-790b7332a4ed",
   "metadata": {},
   "source": [
    "A large number of alpha diversity metrics are provided by the [`skbio.diversity.alpha`](https://scikit.bio/docs/latest/generated/skbio.diversity.alpha.html) module. You can read a list of them, their descriptions, and categories at:\n",
    "\n",
    "- https://scikit.bio/docs/latest/generated/skbio.diversity.alpha.html"
   ]
  },
  {
   "cell_type": "markdown",
   "id": "915ac564-bfe2-41f2-9aeb-5c742076e878",
   "metadata": {},
   "source": [
    "Alternatively, one can programmatically print a list of available metrics using:"
   ]
  },
  {
   "cell_type": "code",
   "execution_count": 17,
   "id": "27a32126-0a7b-4d31-b354-368a0a5927bd",
   "metadata": {},
   "outputs": [],
   "source": [
    "from skbio.diversity import get_alpha_diversity_metrics"
   ]
  },
  {
   "cell_type": "code",
   "execution_count": 18,
   "id": "3071237b-9307-43e5-9226-5c92df54298a",
   "metadata": {},
   "outputs": [
    {
     "name": "stdout",
     "output_type": "stream",
     "text": [
      "['ace', 'berger_parker_d', 'brillouin_d', 'chao1', 'chao1_ci', 'dominance', 'doubles', 'enspie', 'esty_ci', 'faith_pd', 'fisher_alpha', 'gini_index', 'goods_coverage', 'heip_e', 'hill', 'inv_simpson', 'kempton_taylor_q', 'lladser_ci', 'lladser_pe', 'margalef', 'mcintosh_d', 'mcintosh_e', 'menhinick', 'michaelis_menten_fit', 'observed_features', 'observed_otus', 'osd', 'phydiv', 'pielou_e', 'register_aliases', 'renyi', 'robbins', 'shannon', 'simpson', 'simpson_d', 'simpson_e', 'singles', 'sobs', 'strong', 'tsallis']\n"
     ]
    }
   ],
   "source": [
    "print(get_alpha_diversity_metrics())"
   ]
  },
  {
   "cell_type": "markdown",
   "id": "c97d074a-cf4f-4aea-ba01-e4faff25e0fa",
   "metadata": {},
   "source": [
    "Each of these metrics is a function that takes a counts vector (i.e., a vector of non-negative integers) as input, and returns a single value."
   ]
  },
  {
   "cell_type": "markdown",
   "id": "dd179eb7-d978-4ef5-bddc-b4a0c5e425fb",
   "metadata": {},
   "source": [
    "scikit-bio provides a \"driver function\": [`alpha_diversity`](https://scikit.bio/docs/latest/generated/skbio.diversity.alpha_diversity.html) to conveniently calculate a certain alpha diversity metric for all samples in the table. The output is a Pandas series."
   ]
  },
  {
   "cell_type": "code",
   "execution_count": 19,
   "id": "beca3401-8dae-4bab-9800-55e6d75d1362",
   "metadata": {},
   "outputs": [],
   "source": [
    "from skbio.diversity import alpha_diversity"
   ]
  },
  {
   "cell_type": "code",
   "execution_count": 20,
   "id": "1900908f-e19d-487f-936a-45b4fa04e756",
   "metadata": {},
   "outputs": [
    {
     "data": {
      "text/plain": [
       "13114.angenent.65.s001    3365\n",
       "13114.angenent.65.s002    3541\n",
       "13114.angenent.65.s003    1007\n",
       "13114.angenent.65.s004    1963\n",
       "13114.angenent.65.s005    2511\n",
       "                          ... \n",
       "13114.zaneveld.9.s018      182\n",
       "13114.zaneveld.9.s019      210\n",
       "13114.zaneveld.9.s020      207\n",
       "13114.zaneveld.9.s021     2575\n",
       "13114.zaneveld.9.s022     2483\n",
       "Length: 801, dtype: int64"
      ]
     },
     "execution_count": 20,
     "metadata": {},
     "output_type": "execute_result"
    }
   ],
   "source": [
    "res = alpha_diversity('sobs', table)\n",
    "res"
   ]
  },
  {
   "cell_type": "markdown",
   "id": "25e3ffce-7df3-4d1a-a97c-5a0791b7b70c",
   "metadata": {},
   "source": [
    "The input for `alpha_diversity` can also be a Pandas dataframe or a 2D NumPy array. But note: Samples need to be rows and features (taxa) columns."
   ]
  },
  {
   "cell_type": "code",
   "execution_count": 21,
   "id": "d718811c-e1b6-4c51-bf9a-ab0125beabb7",
   "metadata": {},
   "outputs": [
    {
     "data": {
      "text/plain": [
       "13114.angenent.65.s001    3365\n",
       "13114.angenent.65.s002    3541\n",
       "13114.angenent.65.s003    1007\n",
       "dtype: int64"
      ]
     },
     "execution_count": 21,
     "metadata": {},
     "output_type": "execute_result"
    }
   ],
   "source": [
    "alpha_diversity('sobs', table.to_dataframe().T).head(3)"
   ]
  },
  {
   "cell_type": "code",
   "execution_count": 22,
   "id": "7a4a6afb-9ac5-4dcb-9e41-f7667ebeabb2",
   "metadata": {},
   "outputs": [
    {
     "data": {
      "text/plain": [
       "0    3365\n",
       "1    3541\n",
       "2    1007\n",
       "dtype: int64"
      ]
     },
     "execution_count": 22,
     "metadata": {},
     "output_type": "execute_result"
    }
   ],
   "source": [
    "alpha_diversity('sobs', table.matrix_data.toarray().T).head(3)"
   ]
  },
  {
   "cell_type": "markdown",
   "id": "d28e4f37-989b-4507-bac3-fe2421cdbbde",
   "metadata": {},
   "source": [
    "## Sampling depth"
   ]
  },
  {
   "cell_type": "markdown",
   "id": "d83d2dc1-fc6f-4a90-b58f-cf9d466816c8",
   "metadata": {},
   "source": [
    "Let's plot out the distribution of # observed taxa per sample in a histogram."
   ]
  },
  {
   "cell_type": "code",
   "execution_count": 23,
   "id": "a2e3c31f-6f38-4d1a-b8c1-d7aae536133a",
   "metadata": {},
   "outputs": [
    {
     "data": {
      "image/png": "[encoded data removed]",
      "text/plain": [
       "<Figure size 640x480 with 1 Axes>"
      ]
     },
     "metadata": {},
     "output_type": "display_data"
    }
   ],
   "source": [
    "plt.figure()\n",
    "plt.hist(res, bins=20)\n",
    "plt.xlabel('# observed taxa')\n",
    "plt.ylabel('Frequency');"
   ]
  },
  {
   "cell_type": "markdown",
   "id": "4a19aff9-1d89-4ccf-bf39-af79e4de3c70",
   "metadata": {},
   "source": [
    "And calculate the descriptive statistics of the distribution."
   ]
  },
  {
   "cell_type": "code",
   "execution_count": 24,
   "id": "3d1999c1-47a0-4195-b108-1143bc9dc204",
   "metadata": {},
   "outputs": [],
   "source": [
    "from scipy.stats import describe"
   ]
  },
  {
   "cell_type": "code",
   "execution_count": 25,
   "id": "796cbce4-54f1-4a9d-ad6d-8eee1785861e",
   "metadata": {},
   "outputs": [
    {
     "data": {
      "text/plain": [
       "DescribeResult(nobs=801, minmax=(np.int64(1), np.int64(8927)), mean=np.float64(1678.980024968789), variance=np.float64(1543795.2596004994), skewness=np.float64(0.861677937132835), kurtosis=np.float64(1.4933626961082087))"
      ]
     },
     "execution_count": 25,
     "metadata": {},
     "output_type": "execute_result"
    }
   ],
   "source": [
    "describe(res)"
   ]
  },
  {
   "cell_type": "markdown",
   "id": "fdd28caf-c1b9-48ec-9093-0030e080b098",
   "metadata": {},
   "source": [
    "As shown, the observed taxon counts vary greatly across samples, from single digits to nearly 9,000."
   ]
  },
  {
   "cell_type": "markdown",
   "id": "9532e273-de52-468d-ab06-8781462c3c26",
   "metadata": {},
   "source": [
    "You may think that biodiversity naturally varies among different environments. However, a technical factor also significantly impacts the calculated alpha diversity: [**sampling depth**](https://www.metagenomics.wiki/pdf/qc/sequencing-depth).\n",
    "\n",
    "Sampling depth is the amount of data collected for each research target. In traditional ecological research, the target is a community and the sampling depth is the number of organisms one sampled from the environment they habitate. In DNA sequencing-based microbiome research, the target is a biological sample (don't confuse this \"sample\" with the next one!) and sampling depth is the number of sequencing reads one obtained from it. Therefore it is also known as **sequencing depth**.\n",
    "\n",
    "- In this shotgun metagenomics-derived contingency table, the sum of taxon counts per sample is the sampling depth. This number is equivalent to the number of sequencing reads that were mapped to reference microbial genomes, excluding low-quality ones and putative contaminations. In other words, it is the number of sequencing reads that consitute the observed community composition in the study."
   ]
  },
  {
   "cell_type": "markdown",
   "id": "07121d1d-406f-453f-913c-7fe37365fd9d",
   "metadata": {},
   "source": [
    "Why does sampling depth matter? That's because it heavily influences the number of taxa one may observe. The higher the sampling depth, the more likely you will observe a larger number of taxa. The following plot demonstrates this correlation."
   ]
  },
  {
   "cell_type": "code",
   "execution_count": 26,
   "id": "7c454542-48cb-412c-ac3e-390953f6357b",
   "metadata": {},
   "outputs": [
    {
     "data": {
      "image/png": "[encoded data removed]",
      "text/plain": [
       "<Figure size 640x480 with 1 Axes>"
      ]
     },
     "metadata": {},
     "output_type": "display_data"
    }
   ],
   "source": [
    "plt.figure()\n",
    "plt.scatter(res, table.sum('sample'))\n",
    "plt.xscale('log')\n",
    "plt.yscale('log')\n",
    "plt.xlabel('Sampling depth')\n",
    "plt.ylabel('# observed taxa');"
   ]
  },
  {
   "cell_type": "markdown",
   "id": "f1c45fb0-beb1-4db9-b4b3-2316f66f244a",
   "metadata": {},
   "source": [
    "Therefore, to ensure fair comparison, we need to make sampling depth consistent across samples. While we cannot precisely control how many sequencing reads per sample are generated from a sequencing platform, we can perform **subsampling** (a.k.a., [downsampling](https://en.wikipedia.org/wiki/Downsampling_(signal_processing))) to bring down the sum of taxon counts per sample to a constant number."
   ]
  },
  {
   "cell_type": "markdown",
   "id": "0c2a6a54-f537-4f5a-98b3-31e19051c647",
   "metadata": {},
   "source": [
    "scikit-bio's [`subsample_counts`](https://scikit.bio/docs/latest/generated/skbio.stats.subsample_counts.html) function can perform subsampling of taxon counts. This function was recently optimized such that its efficiency significantly increased."
   ]
  },
  {
   "cell_type": "code",
   "execution_count": 27,
   "id": "4bb8ad9e-517c-461b-aec4-bea4624b4338",
   "metadata": {},
   "outputs": [],
   "source": [
    "from skbio.stats import subsample_counts"
   ]
  },
  {
   "cell_type": "markdown",
   "id": "3d0951a6-28b5-460e-bc06-f032f7a6ff38",
   "metadata": {},
   "source": [
    "Let's subsample the first sample to a sampling depth of 100k."
   ]
  },
  {
   "cell_type": "code",
   "execution_count": 28,
   "id": "7cf12368-c319-4de3-ab99-75139ec433c3",
   "metadata": {},
   "outputs": [
    {
     "data": {
      "text/plain": [
       "array([120.,   0.,   1., ...,   0.,   0.,   0.], shape=(14933,))"
      ]
     },
     "execution_count": 28,
     "metadata": {},
     "output_type": "execute_result"
    }
   ],
   "source": [
    "counts = table.data('13114.angenent.65.s001')\n",
    "counts"
   ]
  },
  {
   "cell_type": "code",
   "execution_count": 29,
   "id": "3ae2886c-fd29-47c0-b2cf-6884417a0dc1",
   "metadata": {},
   "outputs": [
    {
     "data": {
      "text/plain": [
       "np.float64(5692931.0)"
      ]
     },
     "execution_count": 29,
     "metadata": {},
     "output_type": "execute_result"
    }
   ],
   "source": [
    "counts.sum()"
   ]
  },
  {
   "cell_type": "code",
   "execution_count": 30,
   "id": "860ed471-3b27-4892-aa07-f7d7c5ec7163",
   "metadata": {},
   "outputs": [
    {
     "data": {
      "text/plain": [
       "array([2, 0, 0, ..., 0, 0, 0], shape=(14933,))"
      ]
     },
     "execution_count": 30,
     "metadata": {},
     "output_type": "execute_result"
    }
   ],
   "source": [
    "counts_sub = subsample_counts(counts, 100000)\n",
    "counts_sub"
   ]
  },
  {
   "cell_type": "code",
   "execution_count": 31,
   "id": "56df2feb-6e94-4545-92b6-5ba8fcb819bb",
   "metadata": {},
   "outputs": [
    {
     "data": {
      "text/plain": [
       "np.int64(100000)"
      ]
     },
     "execution_count": 31,
     "metadata": {},
     "output_type": "execute_result"
    }
   ],
   "source": [
    "counts_sub.sum()"
   ]
  },
  {
   "cell_type": "markdown",
   "id": "e99e8355-fe47-4953-a10c-019e4d5a3843",
   "metadata": {},
   "source": [
    "The distribution of taxon counts are largely consistent before and after subsampling."
   ]
  },
  {
   "cell_type": "code",
   "execution_count": 32,
   "id": "6d441d97-4f0e-4076-8414-37757464cb9f",
   "metadata": {},
   "outputs": [
    {
     "data": {
      "image/png": "[encoded data removed]",
      "text/plain": [
       "<Figure size 640x480 with 2 Axes>"
      ]
     },
     "metadata": {},
     "output_type": "display_data"
    }
   ],
   "source": [
    "plt.subplot(2, 1, 1)\n",
    "plt.hist(counts, bins=20, density=True, log=True)\n",
    "plt.ylabel('Density')\n",
    "plt.title('Original')\n",
    "plt.subplot(2, 1, 2)\n",
    "plt.hist(counts_sub, bins=20, density=True, log=True)\n",
    "plt.ylabel('Density')\n",
    "plt.title('Subsampled')\n",
    "plt.tight_layout()"
   ]
  },
  {
   "cell_type": "markdown",
   "id": "fa549606-2ab2-4874-a787-a1bcccd656b4",
   "metadata": {},
   "source": [
    "Note: Subsampling is a stochastic process. The result will be slightly different each time you run it. If reproducibility is desired, you may specify a [random seed](https://en.wikipedia.org/wiki/Random_seed)."
   ]
  },
  {
   "cell_type": "code",
   "execution_count": 33,
   "id": "294b5714-726b-4e39-8082-c09feffc38a8",
   "metadata": {},
   "outputs": [
    {
     "data": {
      "text/plain": [
       "True"
      ]
     },
     "execution_count": 33,
     "metadata": {},
     "output_type": "execute_result"
    }
   ],
   "source": [
    "counts_sub_1 = subsample_counts(counts, 100000, seed=42)\n",
    "counts_sub_2 = subsample_counts(counts, 100000, seed=42)\n",
    "np.array_equal(counts_sub_1, counts_sub_2)"
   ]
  },
  {
   "cell_type": "markdown",
   "id": "d0120664-6411-44cb-9bf7-2fff83f3f3f4",
   "metadata": {},
   "source": [
    "Now, we will apply subsampling to all samples in the contingency table to bring them down to a **uniform sampling depth**.\n",
    "\n",
    "As you can imagine, this sampling depth must be sufficiently large, such that adequate taxa can be represented per sample. This will inevitably drop out samples that are already below this sampling depth from the study. How large a sufficient sampling depth is will be discussed in the \"Rarefaction\" section below. For now, let's use an arbitrary sampling depth of 100k."
   ]
  },
  {
   "cell_type": "code",
   "execution_count": 34,
   "id": "1aa3b28c-9174-4956-8237-c66038ebfde0",
   "metadata": {},
   "outputs": [],
   "source": [
    "depth = 100000"
   ]
  },
  {
   "cell_type": "markdown",
   "id": "3862390c-dcac-42ab-8348-2bea5c6eafd1",
   "metadata": {},
   "source": [
    "The [`subsample`](https://scikit.bio/docs/latest/generated/skbio.table.Table.subsample.html) method is a convenient shortcut that:\n",
    "\n",
    "1. Drop out samples that are below the depth threshold.\n",
    "2. Perform counts subsampling on all remaining samples to bring them down to the depth threshold.\n",
    "3. Remove features (taxa) that are zero in all samples after subsampling."
   ]
  },
  {
   "cell_type": "code",
   "execution_count": 35,
   "id": "762419b5-9074-46b5-b71e-c333915941c1",
   "metadata": {},
   "outputs": [
    {
     "data": {
      "text/plain": [
       "13892 x 375 <class 'biom.table.Table'> with 556171 nonzero entries (10% dense)"
      ]
     },
     "execution_count": 35,
     "metadata": {},
     "output_type": "execute_result"
    }
   ],
   "source": [
    "table_sub = table.subsample(depth, seed=42)\n",
    "table_sub"
   ]
  },
  {
   "cell_type": "markdown",
   "id": "0f37687e-7265-4520-bf57-c02076612374",
   "metadata": {},
   "source": [
    "Now, we are ready to perform alpha diversity calculation."
   ]
  },
  {
   "cell_type": "code",
   "execution_count": 36,
   "id": "0a393c26-712f-4076-a317-291527fb3a6f",
   "metadata": {},
   "outputs": [
    {
     "data": {
      "text/plain": [
       "13114.angenent.65.s001     972\n",
       "13114.angenent.65.s002    1072\n",
       "13114.angenent.65.s003     854\n",
       "13114.angenent.65.s004    1347\n",
       "13114.angenent.65.s005    1215\n",
       "                          ... \n",
       "13114.tucker.58.s015      1153\n",
       "13114.tucker.58.s016       847\n",
       "13114.zaneveld.9.s015      902\n",
       "13114.zaneveld.9.s021      913\n",
       "13114.zaneveld.9.s022      961\n",
       "Length: 375, dtype: int64"
      ]
     },
     "execution_count": 36,
     "metadata": {},
     "output_type": "execute_result"
    }
   ],
   "source": [
    "adiv_sobs = alpha_diversity('sobs', table_sub)\n",
    "adiv_sobs"
   ]
  },
  {
   "cell_type": "markdown",
   "id": "f5e07b7d-c255-41d3-ba4e-2641d240271c",
   "metadata": {},
   "source": [
    "## Statistical analysis"
   ]
  },
  {
   "cell_type": "markdown",
   "id": "38cbfcb1-b16f-43d1-bed3-4415e8680e87",
   "metadata": {},
   "source": [
    "The calculated alpha diversity values allow us to compare between samples and sample groups and answer biological questions. To enable this analysis, we will need the sample metadata (detailed in section 03).\n",
    "\n",
    "Just as a reminder, the EMP500 dataset consists of microbiomes collected from various environments."
   ]
  },
  {
   "cell_type": "code",
   "execution_count": 37,
   "id": "0a01cd72-4926-4c4e-aea8-b5c6a51973c4",
   "metadata": {},
   "outputs": [],
   "source": [
    "from skbio.metadata import SampleMetadata"
   ]
  },
  {
   "cell_type": "code",
   "execution_count": 38,
   "id": "85ae0ebb-80a2-4464-be59-7a9cbf91e7f0",
   "metadata": {},
   "outputs": [],
   "source": [
    "meta = SampleMetadata.load(f'{HOME}/sample.tsv', default_missing_scheme='INSDC:missing')"
   ]
  },
  {
   "cell_type": "markdown",
   "id": "496293f7-7eb6-4751-98a6-165c10ee1e3b",
   "metadata": {},
   "source": [
    "The EMP ontology (EMPO) fields define the types of environments where samples were collected."
   ]
  },
  {
   "cell_type": "code",
   "execution_count": 39,
   "id": "315cd3d2-1a77-498a-a607-88a174072ecc",
   "metadata": {},
   "outputs": [
    {
     "data": {
      "text/plain": [
       "empo_1\n",
       "Free-living        452\n",
       "Host-associated    428\n",
       "Name: count, dtype: int64"
      ]
     },
     "execution_count": 39,
     "metadata": {},
     "output_type": "execute_result"
    }
   ],
   "source": [
    "empo_1 = meta.get_column('empo_1').to_series()\n",
    "empo_1.value_counts()"
   ]
  },
  {
   "cell_type": "code",
   "execution_count": 40,
   "id": "618c8dc1-c593-4c62-b0ee-dd2c8d18471c",
   "metadata": {},
   "outputs": [
    {
     "data": {
      "text/plain": [
       "empo_2\n",
       "Non-saline    343\n",
       "Animal        301\n",
       "Plant         115\n",
       "Saline        109\n",
       "Fungus         12\n",
       "Name: count, dtype: int64"
      ]
     },
     "execution_count": 40,
     "metadata": {},
     "output_type": "execute_result"
    }
   ],
   "source": [
    "empo_2 = meta.get_column('empo_2').to_series()\n",
    "empo_2.value_counts()"
   ]
  },
  {
   "cell_type": "markdown",
   "id": "14b4351a-a2fd-42f0-8573-3463e82fa0ed",
   "metadata": {},
   "source": [
    "We can combine the EMPO fields with the calculated alpha diversity values into one dataframe."
   ]
  },
  {
   "cell_type": "code",
   "execution_count": 41,
   "id": "5c357e27-a9fa-4fca-8f0a-fecd987370b4",
   "metadata": {},
   "outputs": [
    {
     "data": {
      "text/html": [
       "<div>\n",
       "<style scoped>\n",
       "    .dataframe tbody tr th:only-of-type {\n",
       "        vertical-align: middle;\n",
       "    }\n",
       "\n",
       "    .dataframe tbody tr th {\n",
       "        vertical-align: top;\n",
       "    }\n",
       "\n",
       "    .dataframe thead th {\n",
       "        text-align: right;\n",
       "    }\n",
       "</style>\n",
       "<table border=\"1\" class=\"dataframe\">\n",
       "  <thead>\n",
       "    <tr style=\"text-align: right;\">\n",
       "      <th></th>\n",
       "      <th>empo_1</th>\n",
       "      <th>empo_2</th>\n",
       "      <th>sobs</th>\n",
       "    </tr>\n",
       "  </thead>\n",
       "  <tbody>\n",
       "    <tr>\n",
       "      <th>13114.angenent.65.s001</th>\n",
       "      <td>Host-associated</td>\n",
       "      <td>Animal</td>\n",
       "      <td>972</td>\n",
       "    </tr>\n",
       "    <tr>\n",
       "      <th>13114.angenent.65.s002</th>\n",
       "      <td>Host-associated</td>\n",
       "      <td>Animal</td>\n",
       "      <td>1072</td>\n",
       "    </tr>\n",
       "    <tr>\n",
       "      <th>13114.angenent.65.s003</th>\n",
       "      <td>Host-associated</td>\n",
       "      <td>Animal</td>\n",
       "      <td>854</td>\n",
       "    </tr>\n",
       "    <tr>\n",
       "      <th>13114.angenent.65.s004</th>\n",
       "      <td>Host-associated</td>\n",
       "      <td>Animal</td>\n",
       "      <td>1347</td>\n",
       "    </tr>\n",
       "    <tr>\n",
       "      <th>13114.angenent.65.s005</th>\n",
       "      <td>Host-associated</td>\n",
       "      <td>Animal</td>\n",
       "      <td>1215</td>\n",
       "    </tr>\n",
       "    <tr>\n",
       "      <th>...</th>\n",
       "      <td>...</td>\n",
       "      <td>...</td>\n",
       "      <td>...</td>\n",
       "    </tr>\n",
       "    <tr>\n",
       "      <th>13114.tucker.58.s015</th>\n",
       "      <td>Free-living</td>\n",
       "      <td>Non-saline</td>\n",
       "      <td>1153</td>\n",
       "    </tr>\n",
       "    <tr>\n",
       "      <th>13114.tucker.58.s016</th>\n",
       "      <td>Free-living</td>\n",
       "      <td>Non-saline</td>\n",
       "      <td>847</td>\n",
       "    </tr>\n",
       "    <tr>\n",
       "      <th>13114.zaneveld.9.s015</th>\n",
       "      <td>Host-associated</td>\n",
       "      <td>Animal</td>\n",
       "      <td>902</td>\n",
       "    </tr>\n",
       "    <tr>\n",
       "      <th>13114.zaneveld.9.s021</th>\n",
       "      <td>Free-living</td>\n",
       "      <td>Saline</td>\n",
       "      <td>913</td>\n",
       "    </tr>\n",
       "    <tr>\n",
       "      <th>13114.zaneveld.9.s022</th>\n",
       "      <td>Free-living</td>\n",
       "      <td>Saline</td>\n",
       "      <td>961</td>\n",
       "    </tr>\n",
       "  </tbody>\n",
       "</table>\n",
       "<p>375 rows × 3 columns</p>\n",
       "</div>"
      ],
      "text/plain": [
       "                                 empo_1      empo_2  sobs\n",
       "13114.angenent.65.s001  Host-associated      Animal   972\n",
       "13114.angenent.65.s002  Host-associated      Animal  1072\n",
       "13114.angenent.65.s003  Host-associated      Animal   854\n",
       "13114.angenent.65.s004  Host-associated      Animal  1347\n",
       "13114.angenent.65.s005  Host-associated      Animal  1215\n",
       "...                                 ...         ...   ...\n",
       "13114.tucker.58.s015        Free-living  Non-saline  1153\n",
       "13114.tucker.58.s016        Free-living  Non-saline   847\n",
       "13114.zaneveld.9.s015   Host-associated      Animal   902\n",
       "13114.zaneveld.9.s021       Free-living      Saline   913\n",
       "13114.zaneveld.9.s022       Free-living      Saline   961\n",
       "\n",
       "[375 rows x 3 columns]"
      ]
     },
     "execution_count": 41,
     "metadata": {},
     "output_type": "execute_result"
    }
   ],
   "source": [
    "df = pd.concat([empo_1, empo_2, adiv_sobs.rename('sobs')], join='inner', axis=1)\n",
    "df"
   ]
  },
  {
   "cell_type": "markdown",
   "id": "fbb0ea40-2fbc-4789-8070-09ab0ec5a01b",
   "metadata": {},
   "source": [
    "Group $S_{obs}$ values by EMPO1 (host-associated vs. free-living)."
   ]
  },
  {
   "cell_type": "code",
   "execution_count": 42,
   "id": "fe50dd40-1ca1-403e-a257-99730723d793",
   "metadata": {},
   "outputs": [
    {
     "data": {
      "text/plain": [
       "empo_1\n",
       "Free-living        [755, 2492, 3308, 1573, 2975, 1967, 1937, 1633...\n",
       "Host-associated    [972, 1072, 854, 1347, 1215, 913, 1468, 1041, ...\n",
       "Name: sobs, dtype: object"
      ]
     },
     "execution_count": 42,
     "metadata": {},
     "output_type": "execute_result"
    }
   ],
   "source": [
    "grouped = df.groupby('empo_1')['sobs'].apply(np.array)\n",
    "grouped"
   ]
  },
  {
   "cell_type": "markdown",
   "id": "150dc0c0-fb4a-4405-bed1-496759ba4e9c",
   "metadata": {},
   "source": [
    "Generate a boxplot."
   ]
  },
  {
   "cell_type": "code",
   "execution_count": 43,
   "id": "75d747ce-9591-45f8-a03a-ab41d97951cf",
   "metadata": {},
   "outputs": [
    {
     "data": {
      "image/png": "[encoded data removed]",
      "text/plain": [
       "<Figure size 640x480 with 1 Axes>"
      ]
     },
     "metadata": {},
     "output_type": "display_data"
    }
   ],
   "source": [
    "plt.figure()\n",
    "plt.boxplot(grouped, tick_labels=grouped.index)\n",
    "plt.ylabel('$S_{obs}$');"
   ]
  },
  {
   "cell_type": "markdown",
   "id": "45c67e45-50fd-4d6c-9cd2-e2d15f3e039e",
   "metadata": {},
   "source": [
    "It appears from the plot that free-living microbiomes have higher alpha diversity than host-associated ones. We want to confirm this by performing a statistical test."
   ]
  },
  {
   "cell_type": "markdown",
   "id": "d4537e7d-21f8-48b9-ad96-12effc4d84f0",
   "metadata": {},
   "source": [
    "In microbiome research, because data are usually highly skewed, non-parametric statistical tests (i.e., those that don't assume a normal distribution of data) are favored. They include [Mann-Whitney _U_ test](https://en.wikipedia.org/wiki/Mann%E2%80%93Whitney_U_test) (a.k.a., Wilcoxon rank-sum test) for two groups, and [Kruskal-Wallis _H_ test](https://en.wikipedia.org/wiki/Kruskal%E2%80%93Wallis_one-way_analysis_of_variance) for two or more groups."
   ]
  },
  {
   "cell_type": "code",
   "execution_count": 44,
   "id": "4b51d8f6-2ee3-4a5b-b1d2-c68c9bc1b19e",
   "metadata": {},
   "outputs": [],
   "source": [
    "from scipy.stats import mannwhitneyu"
   ]
  },
  {
   "cell_type": "code",
   "execution_count": 45,
   "id": "c1e410b0-62ca-4fb9-a4bd-a38e0bfaccde",
   "metadata": {},
   "outputs": [
    {
     "data": {
      "text/plain": [
       "MannwhitneyuResult(statistic=np.float64(21911.5), pvalue=np.float64(2.9580742771634422e-05))"
      ]
     },
     "execution_count": 45,
     "metadata": {},
     "output_type": "execute_result"
    }
   ],
   "source": [
    "mannwhitneyu(*grouped)"
   ]
  },
  {
   "cell_type": "markdown",
   "id": "c5dd5caf-e57c-4087-907e-330690f0a3b7",
   "metadata": {},
   "source": [
    "The *p*-value is between 0.001 and 0.0001 (i.e., three asterisks). Therefore, we can conclude that free-living microbiomes have significantly higher alpha diversity than host-associated microbiomes."
   ]
  },
  {
   "cell_type": "markdown",
   "id": "b9ac50ba-7843-49ed-b4bd-7e0078b8b77f",
   "metadata": {},
   "source": [
    "## Rarefaction"
   ]
  },
  {
   "cell_type": "markdown",
   "id": "43eb8a6a-0cbf-4399-8ee1-76edce55060d",
   "metadata": {},
   "source": [
    "The above conclusion is based on a uniform sampling depth of 100k among all samples. However, you may wonder: is this value sufficient for estimating the actual number of taxa within each sample (environment)? How do we know if we have missed out some taxa during this process?"
   ]
  },
  {
   "cell_type": "markdown",
   "id": "a3191d03-afd1-4192-8886-455c52d7abc7",
   "metadata": {},
   "source": [
    "[**Rarefaction**](https://en.wikipedia.org/wiki/Rarefaction_(ecology)) is the technique to address this question. It performs subsampling at a gradient of depths, and plots the alpha diversity calculated from each subsample over sample depth (called a **rarefaction curve**), and lets the researcher examine whether sampling is sufficient."
   ]
  },
  {
   "cell_type": "markdown",
   "id": "330bf808-6281-4aba-9cf1-6e4f2536aa32",
   "metadata": {},
   "source": [
    "Let's use the first sample to demonstrate this process."
   ]
  },
  {
   "cell_type": "code",
   "execution_count": 46,
   "id": "38a65b83-0e61-49db-82c9-33fa3046df4a",
   "metadata": {},
   "outputs": [
    {
     "data": {
      "text/plain": [
       "array([120.,   0.,   1., ...,   0.,   0.,   0.], shape=(14933,))"
      ]
     },
     "execution_count": 46,
     "metadata": {},
     "output_type": "execute_result"
    }
   ],
   "source": [
    "counts = table.data('13114.angenent.65.s001')\n",
    "counts"
   ]
  },
  {
   "cell_type": "markdown",
   "id": "4bacf5b8-e16b-4bab-92b1-59ee3b91cc25",
   "metadata": {},
   "source": [
    "This sample consists of ~5.7M mapped sequencing reads."
   ]
  },
  {
   "cell_type": "code",
   "execution_count": 47,
   "id": "92bd4c32-597b-4610-9ed6-1dcb3a7d4afb",
   "metadata": {},
   "outputs": [
    {
     "data": {
      "text/plain": [
       "np.float64(5692931.0)"
      ]
     },
     "execution_count": 47,
     "metadata": {},
     "output_type": "execute_result"
    }
   ],
   "source": [
    "counts.sum()"
   ]
  },
  {
   "cell_type": "markdown",
   "id": "aae02d62-42c5-4754-a6ee-ef6e182de63c",
   "metadata": {},
   "source": [
    "Define a gradient of sampling depths."
   ]
  },
  {
   "cell_type": "code",
   "execution_count": 48,
   "id": "c6575df8-45af-4d4b-baa6-54f70b85cdad",
   "metadata": {},
   "outputs": [
    {
     "data": {
      "text/plain": [
       "array([ 500000, 1000000, 1500000, 2000000, 2500000, 3000000, 3500000,\n",
       "       4000000, 4500000, 5000000, 5500000])"
      ]
     },
     "execution_count": 48,
     "metadata": {},
     "output_type": "execute_result"
    }
   ],
   "source": [
    "depths = np.arange(500000, 6000000, 500000)\n",
    "depths"
   ]
  },
  {
   "cell_type": "markdown",
   "id": "8e67b023-640e-439f-8686-281b750e3103",
   "metadata": {},
   "source": [
    "Perform 10 replicates of random sampling at each depth."
   ]
  },
  {
   "cell_type": "code",
   "execution_count": 49,
   "id": "abc7e55c-ca74-4b58-838c-c5661829df77",
   "metadata": {},
   "outputs": [],
   "source": [
    "n_reps = 10"
   ]
  },
  {
   "cell_type": "code",
   "execution_count": 50,
   "id": "1cf72305-95cf-43c3-bc3f-43f96ffe15c4",
   "metadata": {},
   "outputs": [
    {
     "data": {
      "text/plain": [
       "array([[1731, 1719, 1751, 1735, 1726, 1776, 1745, 1756, 1767, 1713],\n",
       "       [2210, 2167, 2169, 2161, 2166, 2142, 2172, 2193, 2197, 2174],\n",
       "       [2453, 2437, 2445, 2435, 2455, 2457, 2451, 2472, 2436, 2461],\n",
       "       [2659, 2660, 2657, 2668, 2690, 2673, 2690, 2659, 2668, 2654],\n",
       "       [2831, 2814, 2804, 2828, 2824, 2819, 2862, 2816, 2843, 2808],\n",
       "       [2977, 2972, 2955, 2952, 2918, 2960, 2936, 2946, 2953, 2958],\n",
       "       [3059, 3061, 3081, 3056, 3034, 3068, 3069, 3036, 3068, 3037],\n",
       "       [3174, 3141, 3163, 3165, 3139, 3147, 3151, 3147, 3154, 3152],\n",
       "       [3228, 3204, 3201, 3234, 3222, 3236, 3219, 3240, 3230, 3206],\n",
       "       [3289, 3289, 3293, 3277, 3291, 3300, 3301, 3286, 3300, 3294],\n",
       "       [3354, 3346, 3339, 3346, 3343, 3336, 3352, 3347, 3341, 3349]])"
      ]
     },
     "execution_count": 50,
     "metadata": {},
     "output_type": "execute_result"
    }
   ],
   "source": [
    "res = np.array([[sobs(subsample_counts(counts, n)) for _ in range(n_reps)] for n in depths])\n",
    "res"
   ]
  },
  {
   "cell_type": "markdown",
   "id": "bbac9a2c-628c-428e-b4d4-ab11a924aba2",
   "metadata": {},
   "source": [
    "Calculate the means and standard deviations of $S_{obs}$ values."
   ]
  },
  {
   "cell_type": "code",
   "execution_count": 51,
   "id": "7f074246-fc35-4917-956d-2cca47754eb6",
   "metadata": {},
   "outputs": [
    {
     "data": {
      "text/plain": [
       "(array([1741.9, 2175.1, 2450.2, 2667.8, 2824.9, 2952.7, 3056.9, 3153.3,\n",
       "        3222. , 3292. , 3345.3]),\n",
       " array([20.71741082, 19.74532293, 12.03513375, 13.06224415, 17.34262571,\n",
       "        16.92499795, 16.16890019, 11.06596383, 14.11854572,  7.40870359,\n",
       "         5.65783626]))"
      ]
     },
     "execution_count": 51,
     "metadata": {},
     "output_type": "execute_result"
    }
   ],
   "source": [
    "means, stds = res.mean(axis=1), res.std(axis=1, ddof=1)\n",
    "means, stds"
   ]
  },
  {
   "cell_type": "markdown",
   "id": "495b1fef-9eaa-41fb-bde4-a1c0cd94b9fa",
   "metadata": {},
   "source": [
    "Plot the $S_{obs}$ values over sampling depths. This is the rarefaction curve."
   ]
  },
  {
   "cell_type": "code",
   "execution_count": 52,
   "id": "b7c81f47-5560-4913-bdf1-c9694e04f917",
   "metadata": {},
   "outputs": [
    {
     "data": {
      "image/png": "[encoded data removed]",
      "text/plain": [
       "<Figure size 640x480 with 1 Axes>"
      ]
     },
     "metadata": {},
     "output_type": "display_data"
    }
   ],
   "source": [
    "plt.figure()\n",
    "plt.errorbar(depths, means, stds)\n",
    "plt.xlabel('Sampling depth')\n",
    "plt.ylabel('$S_{obs}$');"
   ]
  },
  {
   "cell_type": "markdown",
   "id": "87010162-20a6-49ce-b29e-523dc624bdc9",
   "metadata": {},
   "source": [
    "As we can see, the observed species richness ($S_{obs}$) increases as the sampling depth increases. It grows more slowly as the sampling depth gets larger, suggesting that it will eventually reach a plateau.\n",
    "\n",
    "However, even at the maximum sampling depth (5.5M), it has not reached the plateau. This suggests that if we were able to further increase sequencing depth (a hypothetical situation), we would expect to find more taxa in this sample. Apparently, this is a hypothetical scenario, because we only have 5.7M (mapped) sequencing reads available."
   ]
  },
  {
   "cell_type": "markdown",
   "id": "b6140e08-ba26-4e97-8b95-0535f29fbc6b",
   "metadata": {},
   "source": [
    "Let's wrap the code in a custom function such that it can be reused."
   ]
  },
  {
   "cell_type": "code",
   "execution_count": 53,
   "id": "6088d7ab-205b-4205-a086-b9736a841204",
   "metadata": {},
   "outputs": [],
   "source": [
    "def rarefy(counts, metric, depths, n_reps):\n",
    "    res = np.array([[metric(subsample_counts(counts, n)) for _ in range(n_reps)] for n in depths])\n",
    "    return res.mean(axis=1), res.std(axis=1, ddof=1)"
   ]
  },
  {
   "cell_type": "markdown",
   "id": "13503d8a-b35e-46b3-b160-6ce1f03a915d",
   "metadata": {},
   "source": [
    "## Richness"
   ]
  },
  {
   "cell_type": "markdown",
   "id": "9ad8bfc4-1da6-4b87-b161-156558662b40",
   "metadata": {},
   "source": [
    "It is usually infeasible to exhaustively collect every organism in an environment. Likewise, it is usually infeasible to sequence every microbe in a biological sample. Given this limitation, can we still somehow estimate the true number of taxa in a sample given the (limited) data?\n",
    "\n",
    "Various [**species richness**](https://en.wikipedia.org/wiki/Species_richness) metrics have been developed by ecologists to address this challenge. scikit-bio implements a [list of them](https://scikit.bio/docs/latest/generated/skbio.diversity.alpha.html#richness-metrics)."
   ]
  },
  {
   "cell_type": "markdown",
   "id": "bcfea0ad-0240-4320-b6fa-e8d9aae5d869",
   "metadata": {},
   "source": [
    "For example, **Chao1 index** is a widely used species richness metric. It assumes that taxon abundances within a sample follow a Poisson distribution, and attempts to correct the observed richness based on the numbers of rare taxa: singletons ($n_1$) and doubletons ($n_2$) (taxa that occur only once and twice in a sample).\n",
    "\n",
    "$$ chao1=S_{obs} + \\frac{n_1(n_1-1)}{2(n_2+1)} $$"
   ]
  },
  {
   "cell_type": "code",
   "execution_count": 54,
   "id": "cc6722fa-3b3c-4e14-8c43-389e454ea18f",
   "metadata": {},
   "outputs": [],
   "source": [
    "from skbio.diversity.alpha import chao1"
   ]
  },
  {
   "cell_type": "code",
   "execution_count": 55,
   "id": "dcad96e7-5363-4593-9a72-9a6033d5b38a",
   "metadata": {},
   "outputs": [
    {
     "data": {
      "text/plain": [
       "np.float64(3659.306)"
      ]
     },
     "execution_count": 55,
     "metadata": {},
     "output_type": "execute_result"
    }
   ],
   "source": [
    "chao1(counts)"
   ]
  },
  {
   "cell_type": "markdown",
   "id": "c0951754-00c7-4585-948d-e0a083e5964e",
   "metadata": {},
   "source": [
    "Draw a rarefaction curve. You can see that the Chao1 index almost reaches a plateau at large sampling depths."
   ]
  },
  {
   "cell_type": "code",
   "execution_count": 56,
   "id": "f129ae70-6496-4145-8a03-dbc3a1232cbc",
   "metadata": {},
   "outputs": [
    {
     "data": {
      "image/png": "[encoded data removed]",
      "text/plain": [
       "<Figure size 640x480 with 1 Axes>"
      ]
     },
     "metadata": {},
     "output_type": "display_data"
    }
   ],
   "source": [
    "plt.figure()\n",
    "plt.errorbar(depths, *rarefy(counts, chao1, depths, n_reps))\n",
    "plt.xlabel('Sampling depth')\n",
    "plt.ylabel('Chao1 index');"
   ]
  },
  {
   "cell_type": "markdown",
   "id": "ec8bd566-8dff-4559-bd40-285533d55462",
   "metadata": {},
   "source": [
    "Calculate Chao1 index for all samples after subsampling, and append to the result dataframe."
   ]
  },
  {
   "cell_type": "code",
   "execution_count": 57,
   "id": "a40a3e71-1451-4163-bb13-4080c1195e95",
   "metadata": {},
   "outputs": [],
   "source": [
    "df['chao1'] = alpha_diversity('chao1', table_sub)"
   ]
  },
  {
   "cell_type": "markdown",
   "id": "b4a27974-ca09-40fe-ba59-3c6aad21678b",
   "metadata": {},
   "source": [
    "Be careful however, that some omic data processing workflows filter out rare taxa, and Chao1 index may not work as anticipated in these cases."
   ]
  },
  {
   "cell_type": "markdown",
   "id": "177e200c-a4ab-411f-a1c7-c33fcc9eb29b",
   "metadata": {},
   "source": [
    "## Diversity"
   ]
  },
  {
   "cell_type": "markdown",
   "id": "58ab3520-3885-4a04-802b-d0e5eadf9a6b",
   "metadata": {},
   "source": [
    "When we talk about the \"diversity\" of a community, we not only want to know the number of taxa, but also want to compare their abundances.\n",
    "\n",
    "For example, let's imagine a healthy gut in which many commensal bacterial species are flourishing, as versus a sick gut in which one pathogenic species dominates the flora, whereas all other species are suppressed to very low abundances. Even they have the same number of taxa, we would think that the former community has higher diversity.\n",
    "\n",
    "The category of alpha diversity metrics that concerns both information are specifically referred to as [**species diversity**](https://en.wikipedia.org/wiki/Species_diversity) metrics. Their calculations are usually based on the [relative abundance](https://en.wikipedia.org/wiki/Relative_species_abundance) of taxa (i.e., the fraction of the community occupied by each taxon). scikit-bio implements multiple diversity metrics ([list](https://scikit.bio/docs/latest/generated/skbio.diversity.alpha.html#diversity-metrics))."
   ]
  },
  {
   "cell_type": "markdown",
   "id": "50c402ea-d975-4099-bacd-553920882989",
   "metadata": {},
   "source": [
    "[**Shannon index**](https://en.wikipedia.org/wiki/Diversity_index#Shannon_index) (a.k.a., Shannon-Wiener index) is among of the most commonly used diversity metrics. It is equivalent to [entropy](https://en.wikipedia.org/wiki/Entropy_(information_theory)) in information theory.\n",
    "\n",
    "$$ H' = -\\sum p\\log(p) $$\n",
    "\n",
    "In which $p$ is the relative abundance of each taxon."
   ]
  },
  {
   "cell_type": "code",
   "execution_count": 58,
   "id": "79fcd02f-9bae-4b6a-b4c0-f9b9d90ce6dd",
   "metadata": {},
   "outputs": [],
   "source": [
    "from skbio.diversity.alpha import shannon"
   ]
  },
  {
   "cell_type": "code",
   "execution_count": 59,
   "id": "6cb3deee-2d97-49f2-94dd-ef034f603cc5",
   "metadata": {},
   "outputs": [
    {
     "data": {
      "text/plain": [
       "np.float64(2.5260957786362668)"
      ]
     },
     "execution_count": 59,
     "metadata": {},
     "output_type": "execute_result"
    }
   ],
   "source": [
    "shannon(counts)"
   ]
  },
  {
   "cell_type": "markdown",
   "id": "06fba89d-4e31-4668-8d7c-02aa7f016112",
   "metadata": {},
   "source": [
    "Because its calculation is based on relative abundances, rarefaction has almost no impact on Shannon index (note the scale of the *y*-axis).\n",
    "\n",
    "This also indicates that even with a very shallow sequencing depth ([Hillmann et al., 2018](https://journals.asm.org/doi/full/10.1128/msystems.00069-18)), one can confidently estimate the Shannon index of the sample."
   ]
  },
  {
   "cell_type": "code",
   "execution_count": 60,
   "id": "c4230232-bdc3-427b-9a1d-528b174e7adf",
   "metadata": {},
   "outputs": [
    {
     "data": {
      "image/png": "[encoded data removed]",
      "text/plain": [
       "<Figure size 640x480 with 1 Axes>"
      ]
     },
     "metadata": {},
     "output_type": "display_data"
    }
   ],
   "source": [
    "plt.figure()\n",
    "plt.errorbar(depths, *rarefy(counts, shannon, depths, n_reps))\n",
    "plt.xlabel('Sampling depth')\n",
    "plt.ylabel('Shannon index');"
   ]
  },
  {
   "cell_type": "code",
   "execution_count": 61,
   "id": "9573df9b-37f7-4960-9ebe-3784209518c5",
   "metadata": {},
   "outputs": [],
   "source": [
    "df['shannon'] = alpha_diversity('shannon', table_sub)"
   ]
  },
  {
   "cell_type": "markdown",
   "id": "0ddf4706-8bc2-4538-97cc-952622f67c0b",
   "metadata": {},
   "source": [
    "**Simpson's diversity index** (a.k.a., [Gini-Simpson index](https://en.wikipedia.org/wiki/Diversity_index#Gini%E2%80%93Simpson_index)) (but don't call it Simpson index, which is ambiguous) is another popular diversity metric. It is equivalent to [Gini impurity](https://en.wikipedia.org/wiki/Decision_tree_learning#Gini_impurity) in machine learning.\n",
    "\n",
    "$$ 1 - D = 1 - \\sum p^2 $$\n",
    "\n",
    "Note: $D$ is known as Simpson's dominance index ([`dominance`](https://scikit.bio/docs/latest/generated/skbio.diversity.alpha.dominance.html) in skbio). [Dominance](https://en.wikipedia.org/wiki/Dominance_%28ecology%29) is the opposite of diversity. Instead, $1 - D$ or $1 / D$ (called inverse Simpson index) measures diversity."
   ]
  },
  {
   "cell_type": "code",
   "execution_count": 62,
   "id": "4e05b467-d912-4fbd-9565-e7eeef8cdbe5",
   "metadata": {},
   "outputs": [],
   "source": [
    "from skbio.diversity.alpha import simpson"
   ]
  },
  {
   "cell_type": "code",
   "execution_count": 63,
   "id": "deee369f-f01f-4af5-bb27-80ecb2b58432",
   "metadata": {},
   "outputs": [
    {
     "data": {
      "text/plain": [
       "np.float64(0.7283719006291497)"
      ]
     },
     "execution_count": 63,
     "metadata": {},
     "output_type": "execute_result"
    }
   ],
   "source": [
    "simpson(counts)"
   ]
  },
  {
   "cell_type": "markdown",
   "id": "d4f3416d-eeaa-4210-96af-49e8cda6bf34",
   "metadata": {},
   "source": [
    "Likewise, it is quite stable against rarefaction."
   ]
  },
  {
   "cell_type": "code",
   "execution_count": 64,
   "id": "091c8af8-511e-4efd-89f8-380e68ef3fc1",
   "metadata": {},
   "outputs": [
    {
     "data": {
      "image/png": "[encoded data removed]",
      "text/plain": [
       "<Figure size 640x480 with 1 Axes>"
      ]
     },
     "metadata": {},
     "output_type": "display_data"
    }
   ],
   "source": [
    "plt.figure()\n",
    "plt.errorbar(depths, *rarefy(counts, simpson, depths, n_reps))\n",
    "plt.xlabel('Sampling depth')\n",
    "plt.ylabel('Simpson\\'s diversity index');"
   ]
  },
  {
   "cell_type": "code",
   "execution_count": 65,
   "id": "0122c342-33fd-4de4-9967-e92eb7a7ef01",
   "metadata": {},
   "outputs": [],
   "source": [
    "df['simpson'] = alpha_diversity('simpson', table_sub)"
   ]
  },
  {
   "cell_type": "markdown",
   "id": "1c1ed798-6242-45d5-86df-22391e375b35",
   "metadata": {},
   "source": [
    "## Evenness"
   ]
  },
  {
   "cell_type": "markdown",
   "id": "a02a3a49-7066-4e83-9792-d5adc1ed9ca4",
   "metadata": {},
   "source": [
    "The third category of alpha diversity metrics, [**species evenness**](https://en.wikipedia.org/wiki/Species_evenness) (or equitability) metrics, measure the closeness of taxa in a community in terms of abundance, regardless of the total number of taxa. One may consider that diversity is a combination of richness and evenness. scikit-bio implements multiple evenness metrics ([list](https://scikit.bio/docs/latest/generated/skbio.diversity.alpha.html#evenness-metrics))."
   ]
  },
  {
   "cell_type": "markdown",
   "id": "c1a8f7b2-82d7-4013-9883-ba3a8cbf1e1e",
   "metadata": {},
   "source": [
    "**Pielou's evenness index** (a.k.a., Shannon’s equitability index) is a widely used evenness metric. It is essentially the ratio of the actual Shannon index of the sample versus the maximum-possible Shannon index given the same number of taxa and total number of individuals. The latter is achieved when all taxa have the same abundance.\n",
    "\n",
    "$$ J' = \\frac{H'}{H'_{max}} = \\frac{H'}{\\log(S_{obs})} $$\n",
    "\n",
    "Pielou's evenness index ranges between 0 (severely dominated by a few taxa) and 1 (completely even among taxa)."
   ]
  },
  {
   "cell_type": "code",
   "execution_count": 66,
   "id": "6e551d17-e8e8-4990-8ccf-a53d435352dc",
   "metadata": {},
   "outputs": [],
   "source": [
    "from skbio.diversity.alpha import pielou_e"
   ]
  },
  {
   "cell_type": "code",
   "execution_count": 67,
   "id": "90944517-145f-47ce-9b18-e96d864cb15f",
   "metadata": {},
   "outputs": [
    {
     "data": {
      "text/plain": [
       "np.float64(0.31105021316938625)"
      ]
     },
     "execution_count": 67,
     "metadata": {},
     "output_type": "execute_result"
    }
   ],
   "source": [
    "pielou_e(counts)"
   ]
  },
  {
   "cell_type": "markdown",
   "id": "a7c908a4-cc90-4601-b065-108ce3bc55c3",
   "metadata": {},
   "source": [
    "Rarefaction curve of Pielou's evenness index (note the scale of the *y*-axis)."
   ]
  },
  {
   "cell_type": "code",
   "execution_count": 68,
   "id": "34cecb7e-1bd6-42c1-bdfc-06dcb8f49c2c",
   "metadata": {},
   "outputs": [
    {
     "data": {
      "image/png": "[encoded data removed]",
      "text/plain": [
       "<Figure size 640x480 with 1 Axes>"
      ]
     },
     "metadata": {},
     "output_type": "display_data"
    }
   ],
   "source": [
    "plt.figure()\n",
    "plt.errorbar(depths, *rarefy(counts, pielou_e, depths, n_reps))\n",
    "plt.ylim(bottom=0)\n",
    "plt.xlabel('Sampling depth')\n",
    "plt.ylabel('Pielou\\'s evenness index');"
   ]
  },
  {
   "cell_type": "code",
   "execution_count": 69,
   "id": "10939e98-1419-4972-a63d-e19387ce79ea",
   "metadata": {},
   "outputs": [],
   "source": [
    "df['pielou_e'] = alpha_diversity('pielou_e', table_sub)"
   ]
  },
  {
   "cell_type": "markdown",
   "id": "19126ad9-be7f-4279-ad86-e6d1a57b8bb2",
   "metadata": {},
   "source": [
    "## Phylogenetic diversity"
   ]
  },
  {
   "cell_type": "markdown",
   "id": "941f42b4-1b20-4bbe-b3b3-b925e286a731",
   "metadata": {},
   "source": [
    "There are many microbial taxa in a sample, making the contingency table high-dimensional (discussed in section 03). However, taxa are not merely a flat list of variables. They are related. Phylogenetic tree is the quantitative model measuring the evolutionary relationships among organisms. This information can be factored in in assessing the diversity of a community.\n",
    "\n",
    "- For example, microbiome _A_ consists of 10 bacterial species spreading across the entire tree of life, whereas microbiome _B_ consists of 10 _E. coli_ strains clustered within a small clade in the phylogeny. Despite that the two communities have the same richness, one may regard _A_ as more diverse than _B_ because of the evolutionary diversity among organisms.\n",
    "\n",
    "[**Phylogenetic diversity**](https://en.wikipedia.org/wiki/Phylogenetic_diversity) (PD) is the extension of species richness that incorporates phylogenetic information. **Faith's PD** is the most classical and widely used form of phylogenetic diversity. It is simply the sum of lengths ($l$) of branches ($b$) connecting all taxa and the root of the tree.\n",
    "\n",
    "$$ PD = \\sum l(b) $$"
   ]
  },
  {
   "cell_type": "code",
   "execution_count": 70,
   "id": "4d287f99-3b93-4ada-82b8-5eeb0c25fe01",
   "metadata": {},
   "outputs": [],
   "source": [
    "from skbio.diversity.alpha import faith_pd"
   ]
  },
  {
   "cell_type": "markdown",
   "id": "c3e80ed4-3137-491b-a581-7d0a0f587095",
   "metadata": {},
   "source": [
    "To calculate phylogenetic diversity, one needs a phylogenetic tree in which tips correspond to taxa in the community. This tree is provided by `ogu.nwk` and can be parsed by scikit-bio's [`TreeNode`](https://scikit.bio/docs/latest/generated/skbio.tree.TreeNode.html) class."
   ]
  },
  {
   "cell_type": "code",
   "execution_count": 71,
   "id": "9a0add4a-f9b1-4683-8e0f-ee50ccfebb1d",
   "metadata": {},
   "outputs": [],
   "source": [
    "from skbio import TreeNode"
   ]
  },
  {
   "cell_type": "code",
   "execution_count": 72,
   "id": "f95ea7f8-6e9a-4b60-a894-c851ce191c49",
   "metadata": {},
   "outputs": [
    {
     "data": {
      "text/plain": [
       "<TreeNode, name: N1, internal node count: 15245, tips count: 15953>"
      ]
     },
     "execution_count": 72,
     "metadata": {},
     "output_type": "execute_result"
    }
   ],
   "source": [
    "tree = TreeNode.read(f'{HOME}/shotgun/ogu.nwk')\n",
    "tree"
   ]
  },
  {
   "cell_type": "markdown",
   "id": "110c7379-f473-421c-b29c-0d2b342a4a22",
   "metadata": {},
   "source": [
    "The tips are like:"
   ]
  },
  {
   "cell_type": "code",
   "execution_count": 73,
   "id": "b07f3a0b-438a-4711-84e4-908d4b7326a8",
   "metadata": {},
   "outputs": [
    {
     "data": {
      "text/plain": [
       "['G000005825', 'G000006175', 'G000006605', 'G000006725', 'G000006745']"
      ]
     },
     "execution_count": 73,
     "metadata": {},
     "output_type": "execute_result"
    }
   ],
   "source": [
    "sorted(tree.subset())[:5]"
   ]
  },
  {
   "cell_type": "markdown",
   "id": "54a6ff32-c533-4a90-ab67-dd173ae825e4",
   "metadata": {},
   "source": [
    "The counts vector doesn't have taxon IDs. Let's extract them from the contingency table."
   ]
  },
  {
   "cell_type": "code",
   "execution_count": 74,
   "id": "90ac6264-d589-4d1c-9064-7a094fa8c2c1",
   "metadata": {},
   "outputs": [
    {
     "data": {
      "text/plain": [
       "array(['G000005825', 'G000006175', 'G000006605', ..., 'G902826605',\n",
       "       'G902827015', 'G902827055'], shape=(14933,), dtype='<U10')"
      ]
     },
     "execution_count": 74,
     "metadata": {},
     "output_type": "execute_result"
    }
   ],
   "source": [
    "taxa = table.ids('observation')\n",
    "taxa"
   ]
  },
  {
   "cell_type": "markdown",
   "id": "a2e95abd-d3ce-4bfd-8d5e-3e912d038871",
   "metadata": {},
   "source": [
    "Now we can calculate Faith's PD."
   ]
  },
  {
   "cell_type": "code",
   "execution_count": 75,
   "id": "015d0396-42d8-4ccd-bc83-d3c4a808f315",
   "metadata": {},
   "outputs": [
    {
     "data": {
      "text/plain": [
       "np.float64(398.99555699999996)"
      ]
     },
     "execution_count": 75,
     "metadata": {},
     "output_type": "execute_result"
    }
   ],
   "source": [
    "faith_pd(counts, taxa, tree)"
   ]
  },
  {
   "cell_type": "code",
   "execution_count": 76,
   "id": "16b8079a-531f-4418-9d0c-69d7572fd7b9",
   "metadata": {},
   "outputs": [],
   "source": [
    "f = lambda x: faith_pd(x, taxa, tree)"
   ]
  },
  {
   "cell_type": "code",
   "execution_count": 77,
   "id": "eb8e8c0e-12f9-47a5-a8e8-c54c5f7417c2",
   "metadata": {},
   "outputs": [
    {
     "data": {
      "image/png": "[encoded data removed]",
      "text/plain": [
       "<Figure size 640x480 with 1 Axes>"
      ]
     },
     "metadata": {},
     "output_type": "display_data"
    }
   ],
   "source": [
    "plt.figure()\n",
    "plt.errorbar(depths, *rarefy(counts, f, depths, n_reps))\n",
    "plt.xlabel('Sampling depth')\n",
    "plt.ylabel('Faith\\'s PD');"
   ]
  },
  {
   "cell_type": "code",
   "execution_count": 78,
   "id": "ed006d65-83e1-4eb8-b0b7-dc27ab744f6d",
   "metadata": {},
   "outputs": [],
   "source": [
    "df['faith_pd'] = alpha_diversity('faith_pd', table_sub, tree=tree)"
   ]
  },
  {
   "cell_type": "markdown",
   "id": "334263f2-5752-49e6-bb65-fcc5cea860c6",
   "metadata": {},
   "source": [
    "There are generalized forms of phylogenetic diversity. For example, branch lengths may be weighted by the relative abundances of descending taxa. This generalization combines richness, evenness and phylogeny in one metric. [McCoy et al. (2013)](https://peerj.com/articles/157/) further proposed **balance-weighted phylogenetic diversity** (BWPD), which lets the researcher control to what degree ($\\theta$, ranges 0 - 1) branch lengths should be weighted by abundance.\n",
    "\n",
    "$$ BWPD_{\\theta} = \\sum l(b)(2\\min(p(b),1-p(b)))^\\theta $$\n",
    "\n",
    "scikit-bio implements a flexible function [`phydiv`](https://scikit.bio/docs/latest/generated/skbio.diversity.alpha.phydiv.html) that implements all variants of phylogenetic diversity.\n"
   ]
  },
  {
   "cell_type": "code",
   "execution_count": 79,
   "id": "7ea4cd77-639e-493d-a5bd-09bba1a922de",
   "metadata": {},
   "outputs": [],
   "source": [
    "from skbio.diversity.alpha import phydiv"
   ]
  },
  {
   "cell_type": "markdown",
   "id": "34d42fa2-8c99-4429-be0f-56dc9486d316",
   "metadata": {},
   "source": [
    "By default it calculates Faith's PD (unweighted PD)."
   ]
  },
  {
   "cell_type": "code",
   "execution_count": 80,
   "id": "92153d6b-fcbb-4f38-b0a4-90e741f9e9ce",
   "metadata": {},
   "outputs": [
    {
     "data": {
      "text/plain": [
       "np.float64(398.99555699999996)"
      ]
     },
     "execution_count": 80,
     "metadata": {},
     "output_type": "execute_result"
    }
   ],
   "source": [
    "phydiv(counts, taxa, tree)"
   ]
  },
  {
   "cell_type": "markdown",
   "id": "bdc0e35a-e234-4826-bf5b-3fbbeb031c2b",
   "metadata": {},
   "source": [
    "Fully-weighted PD:"
   ]
  },
  {
   "cell_type": "code",
   "execution_count": 81,
   "id": "47064d73-1984-43f7-992a-95fc2e7557ec",
   "metadata": {},
   "outputs": [
    {
     "data": {
      "text/plain": [
       "np.float64(0.7037949917116508)"
      ]
     },
     "execution_count": 81,
     "metadata": {},
     "output_type": "execute_result"
    }
   ],
   "source": [
    "phydiv(counts, taxa, tree, weight=True)"
   ]
  },
  {
   "cell_type": "markdown",
   "id": "83206ecc-1a3d-487d-be2f-c51955373305",
   "metadata": {},
   "source": [
    "$BWPD_{0.5}$, i.e., unrooted, half-weighted PD:"
   ]
  },
  {
   "cell_type": "code",
   "execution_count": 82,
   "id": "79273b2a-f5d3-45e1-9068-e3d7c4c75a5f",
   "metadata": {},
   "outputs": [
    {
     "data": {
      "text/plain": [
       "np.float64(4.171885197437131)"
      ]
     },
     "execution_count": 82,
     "metadata": {},
     "output_type": "execute_result"
    }
   ],
   "source": [
    "phydiv(counts, taxa, tree, weight=0.5, rooted=False)"
   ]
  },
  {
   "cell_type": "markdown",
   "id": "4e37b8cc-b724-42c9-81e1-62830b19d9cb",
   "metadata": {},
   "source": [
    "Because it considers the relative abundances of taxa, $BWPD_{0.5}$ is also robust during rarefaction."
   ]
  },
  {
   "cell_type": "code",
   "execution_count": 83,
   "id": "902df69d-ed91-45cb-a93f-d02b499dec89",
   "metadata": {},
   "outputs": [],
   "source": [
    "f = lambda x: phydiv(x, taxa, tree, weight=0.5, rooted=False)"
   ]
  },
  {
   "cell_type": "code",
   "execution_count": 84,
   "id": "099d3883-9226-4ef6-a0e7-7b38a10be286",
   "metadata": {},
   "outputs": [
    {
     "data": {
      "image/png": "[encoded data removed]",
      "text/plain": [
       "<Figure size 640x480 with 1 Axes>"
      ]
     },
     "metadata": {},
     "output_type": "display_data"
    }
   ],
   "source": [
    "plt.figure()\n",
    "plt.errorbar(depths, *rarefy(counts, f, depths, n_reps))\n",
    "plt.xlabel('Sampling depth')\n",
    "plt.ylabel('$BWPD_{0.5}$');"
   ]
  },
  {
   "cell_type": "code",
   "execution_count": 85,
   "id": "f59f7f3e-0bdc-4919-88be-7bfa25bc2ec7",
   "metadata": {},
   "outputs": [],
   "source": [
    "df['bwpd.5'] = alpha_diversity('phydiv', table_sub, tree=tree, weight=0.5, rooted=False)"
   ]
  },
  {
   "cell_type": "markdown",
   "id": "43819b84-a50c-4a8b-8a91-032510365591",
   "metadata": {},
   "source": [
    "## Comparison"
   ]
  },
  {
   "cell_type": "markdown",
   "id": "118936e4-2eed-4815-8efc-e4eaeee6bfba",
   "metadata": {},
   "source": [
    "It is usually a good practice to calculate different alpha diversity metrics based on a uniformly subsampled contingency table, and assess the biological patterns revealed by each of them. Note: They don't always agree with each other! Understanding each metric will help with interpretation."
   ]
  },
  {
   "cell_type": "code",
   "execution_count": 86,
   "id": "603160c5-1d45-4c91-a206-6d25862ed44c",
   "metadata": {},
   "outputs": [
    {
     "data": {
      "text/html": [
       "<div>\n",
       "<style scoped>\n",
       "    .dataframe tbody tr th:only-of-type {\n",
       "        vertical-align: middle;\n",
       "    }\n",
       "\n",
       "    .dataframe tbody tr th {\n",
       "        vertical-align: top;\n",
       "    }\n",
       "\n",
       "    .dataframe thead th {\n",
       "        text-align: right;\n",
       "    }\n",
       "</style>\n",
       "<table border=\"1\" class=\"dataframe\">\n",
       "  <thead>\n",
       "    <tr style=\"text-align: right;\">\n",
       "      <th></th>\n",
       "      <th>empo_1</th>\n",
       "      <th>empo_2</th>\n",
       "      <th>sobs</th>\n",
       "      <th>chao1</th>\n",
       "      <th>shannon</th>\n",
       "      <th>simpson</th>\n",
       "      <th>pielou_e</th>\n",
       "      <th>faith_pd</th>\n",
       "      <th>bwpd.5</th>\n",
       "    </tr>\n",
       "  </thead>\n",
       "  <tbody>\n",
       "    <tr>\n",
       "      <th>13114.angenent.65.s001</th>\n",
       "      <td>Host-associated</td>\n",
       "      <td>Animal</td>\n",
       "      <td>972</td>\n",
       "      <td>1569.044444</td>\n",
       "      <td>2.518477</td>\n",
       "      <td>0.728300</td>\n",
       "      <td>0.366092</td>\n",
       "      <td>142.392004</td>\n",
       "      <td>3.882349</td>\n",
       "    </tr>\n",
       "    <tr>\n",
       "      <th>13114.angenent.65.s002</th>\n",
       "      <td>Host-associated</td>\n",
       "      <td>Animal</td>\n",
       "      <td>1072</td>\n",
       "      <td>1673.339286</td>\n",
       "      <td>2.713439</td>\n",
       "      <td>0.790132</td>\n",
       "      <td>0.388896</td>\n",
       "      <td>164.444621</td>\n",
       "      <td>4.226190</td>\n",
       "    </tr>\n",
       "    <tr>\n",
       "      <th>13114.angenent.65.s003</th>\n",
       "      <td>Host-associated</td>\n",
       "      <td>Animal</td>\n",
       "      <td>854</td>\n",
       "      <td>1103.000000</td>\n",
       "      <td>3.074223</td>\n",
       "      <td>0.878162</td>\n",
       "      <td>0.455445</td>\n",
       "      <td>144.250886</td>\n",
       "      <td>4.594919</td>\n",
       "    </tr>\n",
       "    <tr>\n",
       "      <th>13114.angenent.65.s004</th>\n",
       "      <td>Host-associated</td>\n",
       "      <td>Animal</td>\n",
       "      <td>1347</td>\n",
       "      <td>1932.634921</td>\n",
       "      <td>3.827976</td>\n",
       "      <td>0.939748</td>\n",
       "      <td>0.531248</td>\n",
       "      <td>207.225256</td>\n",
       "      <td>5.828195</td>\n",
       "    </tr>\n",
       "    <tr>\n",
       "      <th>13114.angenent.65.s005</th>\n",
       "      <td>Host-associated</td>\n",
       "      <td>Animal</td>\n",
       "      <td>1215</td>\n",
       "      <td>1826.110465</td>\n",
       "      <td>3.516405</td>\n",
       "      <td>0.927756</td>\n",
       "      <td>0.495094</td>\n",
       "      <td>183.998908</td>\n",
       "      <td>5.208686</td>\n",
       "    </tr>\n",
       "    <tr>\n",
       "      <th>...</th>\n",
       "      <td>...</td>\n",
       "      <td>...</td>\n",
       "      <td>...</td>\n",
       "      <td>...</td>\n",
       "      <td>...</td>\n",
       "      <td>...</td>\n",
       "      <td>...</td>\n",
       "      <td>...</td>\n",
       "      <td>...</td>\n",
       "    </tr>\n",
       "    <tr>\n",
       "      <th>13114.tucker.58.s015</th>\n",
       "      <td>Free-living</td>\n",
       "      <td>Non-saline</td>\n",
       "      <td>1153</td>\n",
       "      <td>1679.331492</td>\n",
       "      <td>3.979834</td>\n",
       "      <td>0.968841</td>\n",
       "      <td>0.564506</td>\n",
       "      <td>196.345494</td>\n",
       "      <td>4.863223</td>\n",
       "    </tr>\n",
       "    <tr>\n",
       "      <th>13114.tucker.58.s016</th>\n",
       "      <td>Free-living</td>\n",
       "      <td>Non-saline</td>\n",
       "      <td>847</td>\n",
       "      <td>1349.500000</td>\n",
       "      <td>2.826184</td>\n",
       "      <td>0.834675</td>\n",
       "      <td>0.419209</td>\n",
       "      <td>155.118753</td>\n",
       "      <td>4.695164</td>\n",
       "    </tr>\n",
       "    <tr>\n",
       "      <th>13114.zaneveld.9.s015</th>\n",
       "      <td>Host-associated</td>\n",
       "      <td>Animal</td>\n",
       "      <td>902</td>\n",
       "      <td>1350.156028</td>\n",
       "      <td>3.383282</td>\n",
       "      <td>0.948666</td>\n",
       "      <td>0.497204</td>\n",
       "      <td>149.989952</td>\n",
       "      <td>2.809366</td>\n",
       "    </tr>\n",
       "    <tr>\n",
       "      <th>13114.zaneveld.9.s021</th>\n",
       "      <td>Free-living</td>\n",
       "      <td>Saline</td>\n",
       "      <td>913</td>\n",
       "      <td>1468.118110</td>\n",
       "      <td>2.255039</td>\n",
       "      <td>0.683640</td>\n",
       "      <td>0.330809</td>\n",
       "      <td>148.895108</td>\n",
       "      <td>4.124211</td>\n",
       "    </tr>\n",
       "    <tr>\n",
       "      <th>13114.zaneveld.9.s022</th>\n",
       "      <td>Free-living</td>\n",
       "      <td>Saline</td>\n",
       "      <td>961</td>\n",
       "      <td>1531.000000</td>\n",
       "      <td>4.432581</td>\n",
       "      <td>0.978987</td>\n",
       "      <td>0.645399</td>\n",
       "      <td>161.479084</td>\n",
       "      <td>6.040580</td>\n",
       "    </tr>\n",
       "  </tbody>\n",
       "</table>\n",
       "<p>375 rows × 9 columns</p>\n",
       "</div>"
      ],
      "text/plain": [
       "                                 empo_1      empo_2  sobs        chao1  \\\n",
       "13114.angenent.65.s001  Host-associated      Animal   972  1569.044444   \n",
       "13114.angenent.65.s002  Host-associated      Animal  1072  1673.339286   \n",
       "13114.angenent.65.s003  Host-associated      Animal   854  1103.000000   \n",
       "13114.angenent.65.s004  Host-associated      Animal  1347  1932.634921   \n",
       "13114.angenent.65.s005  Host-associated      Animal  1215  1826.110465   \n",
       "...                                 ...         ...   ...          ...   \n",
       "13114.tucker.58.s015        Free-living  Non-saline  1153  1679.331492   \n",
       "13114.tucker.58.s016        Free-living  Non-saline   847  1349.500000   \n",
       "13114.zaneveld.9.s015   Host-associated      Animal   902  1350.156028   \n",
       "13114.zaneveld.9.s021       Free-living      Saline   913  1468.118110   \n",
       "13114.zaneveld.9.s022       Free-living      Saline   961  1531.000000   \n",
       "\n",
       "                         shannon   simpson  pielou_e    faith_pd    bwpd.5  \n",
       "13114.angenent.65.s001  2.518477  0.728300  0.366092  142.392004  3.882349  \n",
       "13114.angenent.65.s002  2.713439  0.790132  0.388896  164.444621  4.226190  \n",
       "13114.angenent.65.s003  3.074223  0.878162  0.455445  144.250886  4.594919  \n",
       "13114.angenent.65.s004  3.827976  0.939748  0.531248  207.225256  5.828195  \n",
       "13114.angenent.65.s005  3.516405  0.927756  0.495094  183.998908  5.208686  \n",
       "...                          ...       ...       ...         ...       ...  \n",
       "13114.tucker.58.s015    3.979834  0.968841  0.564506  196.345494  4.863223  \n",
       "13114.tucker.58.s016    2.826184  0.834675  0.419209  155.118753  4.695164  \n",
       "13114.zaneveld.9.s015   3.383282  0.948666  0.497204  149.989952  2.809366  \n",
       "13114.zaneveld.9.s021   2.255039  0.683640  0.330809  148.895108  4.124211  \n",
       "13114.zaneveld.9.s022   4.432581  0.978987  0.645399  161.479084  6.040580  \n",
       "\n",
       "[375 rows x 9 columns]"
      ]
     },
     "execution_count": 86,
     "metadata": {},
     "output_type": "execute_result"
    }
   ],
   "source": [
    "df"
   ]
  },
  {
   "cell_type": "code",
   "execution_count": 87,
   "id": "92c313ab-03c2-4d02-a420-ba83ed7c0b6f",
   "metadata": {},
   "outputs": [],
   "source": [
    "metrics = ['sobs', 'chao1', 'shannon', 'simpson', 'pielou_e', 'faith_pd', 'bwpd.5']\n",
    "n = len(metrics)"
   ]
  },
  {
   "cell_type": "code",
   "execution_count": 88,
   "id": "592a3e59-c965-452a-978a-128399268a1d",
   "metadata": {},
   "outputs": [],
   "source": [
    "grouped = df.groupby('empo_1')\n",
    "labels = ['Free', 'Host']"
   ]
  },
  {
   "cell_type": "code",
   "execution_count": 89,
   "id": "98c118ad-2a39-45c2-9f48-377b1e7a2ffe",
   "metadata": {},
   "outputs": [
    {
     "data": {
      "image/png": "[encoded data removed]",
      "text/plain": [
       "<Figure size 1200x400 with 7 Axes>"
      ]
     },
     "metadata": {},
     "output_type": "display_data"
    }
   ],
   "source": [
    "plt.figure(figsize=(12, 4))\n",
    "for i, metric in enumerate(metrics):\n",
    "    plt.subplot(1, n, i + 1)\n",
    "    plt.boxplot(grouped[metric].apply(np.array), tick_labels=labels, widths=0.7)\n",
    "    plt.title(metric)\n",
    "plt.tight_layout()"
   ]
  },
  {
   "cell_type": "markdown",
   "id": "080c5699-3a33-4627-87f8-6fe9a53e30cb",
   "metadata": {},
   "source": [
    "## Summary"
   ]
  },
  {
   "cell_type": "markdown",
   "id": "58f8a863-4ff6-4de9-9f5b-16789f070bff",
   "metadata": {},
   "source": [
    "This section introduces alpha diversity and its application in studying microbial communities. It demonstrates how to calculate various alpha diversity metrics using scikit-bio, including richness, diversity and evenness metrics, without or with phylogeny. It also discusses sampling depth, and how subsampling can help assessing the adequacy of sampling and ensuring cross-comparability among samples."
   ]
  },
  {
   "cell_type": "code",
   "execution_count": null,
   "id": "f8a03102-99cd-4050-8376-c8b558929a34",
   "metadata": {},
   "outputs": [],
   "source": []
  }
 ],
 "metadata": {
  "kernelspec": {
   "display_name": "Python [conda env:skbio-070]",
   "language": "python",
   "name": "conda-env-skbio-070-py"
  },
  "language_info": {
   "codemirror_mode": {
    "name": "ipython",
    "version": 3
   },
   "file_extension": ".py",
   "mimetype": "text/x-python",
   "name": "python",
   "nbconvert_exporter": "python",
   "pygments_lexer": "ipython3",
   "version": "3.13.5"
  }
 },
 "nbformat": 4,
 "nbformat_minor": 5
}
