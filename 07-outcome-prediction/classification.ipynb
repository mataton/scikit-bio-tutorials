{
 "cells": [
  {
   "cell_type": "code",
   "execution_count": 1,
   "id": "e55500bb-392d-4185-8f5a-b784af979193",
   "metadata": {},
   "outputs": [],
   "source": [
    "# TODO : highlight Unifrac / KNN\n",
    "# TODO : highlight phylogenetic random forests"
   ]
  },
  {
   "cell_type": "code",
   "execution_count": null,
   "id": "98738a99-25c9-4405-95ec-d66f30db2e17",
   "metadata": {},
   "outputs": [],
   "source": []
  }
 ],
 "metadata": {
  "kernelspec": {
   "display_name": "Python 3 (ipykernel)",
   "language": "python",
   "name": "python3"
  },
  "language_info": {
   "codemirror_mode": {
    "name": "ipython",
    "version": 3
   },
   "file_extension": ".py",
   "mimetype": "text/x-python",
   "name": "python",
   "nbconvert_exporter": "python",
   "pygments_lexer": "ipython3",
   "version": "3.12.2"
  }
 },
 "nbformat": 4,
 "nbformat_minor": 5
}
