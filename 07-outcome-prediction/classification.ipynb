{
 "cells": [
  {
   "cell_type": "code",
   "execution_count": 2,
   "id": "98738a99-25c9-4405-95ec-d66f30db2e17",
   "metadata": {},
   "outputs": [],
   "source": [
    "import biom\n",
    "import pandas as pd\n",
    "import numpy as np\n",
    "from functools import partial\n",
    "\n",
    "from skbio.diversity.beta import unweighted_unifrac\n",
    "from skbio.diversity import beta_diversity\n",
    "from skbio.diversity._util import _vectorize_counts_and_tree as vectorize_counts_and_tree\n",
    "from skbio import TreeNode\n",
    "from sklearn.neighbors import KNeighborsClassifier\n",
    "from sklearn.ensemble import RandomForestClassifier\n",
    "from sklearn.linear_model import LogisticRegression\n",
    "from sklearn.preprocessing import LabelEncoder\n",
    "from sklearn.metrics import confusion_matrix\n",
    "import seaborn as sns\n",
    "import matplotlib.pyplot as plt\n",
    "import warnings\n",
    "warnings.simplefilter('ignore')\n",
    "\n",
    "table = biom.load_table('../Data/amplicon/16s_subset.biom')\n",
    "metadata = pd.read_table('../Data/sample.tsv', index_col=0)\n",
    "\n",
    "# subset the table down for the sake of the tutorial\n",
    "abundance_data = table.to_dataframe().T\n",
    "md = metadata.loc[abundance_data.index]\n",
    "tree = TreeNode.read('../Data/amplicon/16s_subset.nwk')"
   ]
  },
  {
   "cell_type": "markdown",
   "id": "9fffc39a-776e-4fb7-bbec-17aa3186f03e",
   "metadata": {},
   "source": [
    "In this tutorial, we will go over best practices when training classifiers, as well as how to use scikit-bios functions to build customized\n",
    "classifiers that can leverage biological domain knowledge, such as phylogenetic trees."
   ]
  },
  {
   "cell_type": "code",
   "execution_count": 3,
   "id": "a1e9897d-3c00-42a3-a4cc-54d938a3cd7f",
   "metadata": {},
   "outputs": [],
   "source": [
    "ids = abundance_data.index\n",
    "taxa = abundance_data.columns\n",
    "data = abundance_data.values\n",
    "unifrac_dm = beta_diversity(\"unweighted_unifrac\", data, ids, tree=tree, taxa=taxa)\n",
    "\n",
    "dist_mat = unifrac_dm.data\n",
    "labels = LabelEncoder().fit_transform(md['empo_1'])"
   ]
  },
  {
   "cell_type": "markdown",
   "id": "89f8cbd9-4141-4a39-a4c4-8f107956291a",
   "metadata": {},
   "source": [
    "## Unifrac"
   ]
  },
  {
   "cell_type": "code",
   "execution_count": 4,
   "id": "841ea038-b9be-4d5e-8a53-8fa656262a77",
   "metadata": {},
   "outputs": [],
   "source": [
    "# we will use the first entries in the table for training,\n",
    "# and the rest for testing\n",
    "n_train  = len(md) * 8 // 10 \n",
    "# the upper left block is the pairwise distances between training samples\n",
    "train_X = dist_mat[:n_train, :n_train]\n",
    "train_y = labels[:n_train]\n",
    "# entry X_ij in the lower left block contains distance\n",
    "# between test sample i and training sample j.\n",
    "test_X = dist_mat[n_train:, :n_train]\n",
    "test_y = labels[n_train:]"
   ]
  },
  {
   "cell_type": "code",
   "execution_count": 5,
   "id": "786b7636-c60a-46de-b3f3-992863ec80c3",
   "metadata": {},
   "outputs": [],
   "source": [
    "kneigh = KNeighborsClassifier(n_neighbors=2, metric='precomputed')\n",
    "kneigh.fit(train_X, train_y)\n",
    "test_pred = kneigh.predict(test_X)"
   ]
  },
  {
   "cell_type": "code",
   "execution_count": 6,
   "id": "bb0cca7a-fed4-40fe-b77b-fa2e972436a1",
   "metadata": {},
   "outputs": [
    {
     "data": {
      "text/plain": [
       "Text(50.722222222222214, 0.5, 'Truth')"
      ]
     },
     "execution_count": 6,
     "metadata": {},
     "output_type": "execute_result"
    },
    {
     "data": {
      "image/png": "[encoded data removed]",
      "text/plain": [
       "<Figure size 640x480 with 2 Axes>"
      ]
     },
     "metadata": {},
     "output_type": "display_data"
    }
   ],
   "source": [
    "cm = confusion_matrix(test_y, test_pred)\n",
    "sns.heatmap(cm, annot=True)\n",
    "plt.xlabel('Predicted')\n",
    "plt.ylabel('Truth')"
   ]
  },
  {
   "cell_type": "markdown",
   "id": "80cdae8d-d52a-479d-9553-f9f1ff340b9f",
   "metadata": {},
   "source": [
    "## Random Forests"
   ]
  },
  {
   "cell_type": "code",
   "execution_count": 7,
   "id": "75ef56cc-416c-4f47-b621-d6f9c768357e",
   "metadata": {},
   "outputs": [],
   "source": [
    "phylo_data = vectorize_counts_and_tree(abundance_data, taxa, tree)[0]"
   ]
  },
  {
   "cell_type": "code",
   "execution_count": 12,
   "id": "6484153c-eaa4-4de8-baa0-ebeaaa21fb71",
   "metadata": {},
   "outputs": [],
   "source": [
    "# we will use the first entries in the table for training,\n",
    "# and the rest for testing\n",
    "n_train  = len(md) * 8 // 10 \n",
    "# the upper left block is the pairwise distances between training samples\n",
    "train_X = phylo_data[:n_train]\n",
    "train_y = labels[:n_train]\n",
    "# entry X_ij in the lower left block contains distance\n",
    "# between test sample i and training sample j.\n",
    "test_X = phylo_data[n_train:]\n",
    "test_y = labels[n_train:]"
   ]
  },
  {
   "cell_type": "code",
   "execution_count": 15,
   "id": "6f603912-2c64-44f9-9ce4-1e2f818895c4",
   "metadata": {},
   "outputs": [],
   "source": [
    "rf = RandomForestClassifier()\n",
    "rf.fit(train_X, train_y)\n",
    "test_pred = rf.predict(test_X)"
   ]
  },
  {
   "cell_type": "code",
   "execution_count": 16,
   "id": "4ee00c73-5258-4126-aac6-d5982814884b",
   "metadata": {},
   "outputs": [
    {
     "data": {
      "text/plain": [
       "Text(50.722222222222214, 0.5, 'Truth')"
      ]
     },
     "execution_count": 16,
     "metadata": {},
     "output_type": "execute_result"
    },
    {
     "data": {
      "image/png": "[encoded data removed]",
      "text/plain": [
       "<Figure size 640x480 with 2 Axes>"
      ]
     },
     "metadata": {},
     "output_type": "display_data"
    }
   ],
   "source": [
    "cm = confusion_matrix(test_y, test_pred)\n",
    "sns.heatmap(cm, annot=True)\n",
    "plt.xlabel('Predicted')\n",
    "plt.ylabel('Truth')"
   ]
  },
  {
   "cell_type": "code",
   "execution_count": null,
   "id": "4ddc9967-67c1-457a-b1af-4498d6c08145",
   "metadata": {},
   "outputs": [],
   "source": []
  }
 ],
 "metadata": {
  "kernelspec": {
   "display_name": "Python 3 (ipykernel)",
   "language": "python",
   "name": "python3"
  },
  "language_info": {
   "codemirror_mode": {
    "name": "ipython",
    "version": 3
   },
   "file_extension": ".py",
   "mimetype": "text/x-python",
   "name": "python",
   "nbconvert_exporter": "python",
   "pygments_lexer": "ipython3",
   "version": "3.11.8"
  }
 },
 "nbformat": 4,
 "nbformat_minor": 5
}
