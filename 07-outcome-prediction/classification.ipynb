{
 "cells": [
  {
   "cell_type": "markdown",
   "id": "c68d0907-bff4-42bd-9afa-ab547f11916c",
   "metadata": {},
   "source": [
    "# Setup"
   ]
  },
  {
   "cell_type": "code",
   "execution_count": null,
   "id": "328c40b0-741f-45c6-b5f9-a24bb794b154",
   "metadata": {},
   "outputs": [],
   "source": [
    "%%bash\n",
    "wget -q -O emp500.tar.gz \"https://www.dropbox.com/scl/fi/7sepykr3vhss60647osc8/emp500.tar.gz?rlkey=6q5ac48noeax5n2htaqslvo8g&dl=0\"\n",
    "tar -zxvf emp500.tar.gz"
   ]
  },
  {
   "cell_type": "code",
   "execution_count": 1,
   "id": "ac329228-950c-4e02-a158-48686e06de46",
   "metadata": {},
   "outputs": [],
   "source": [
    "import biom\n",
    "import pandas as pd\n",
    "import numpy as np\n",
    "from functools import partial\n",
    "\n",
    "from skbio.diversity.beta import unweighted_unifrac\n",
    "from skbio.diversity import beta_diversity\n",
    "from skbio.diversity._util import _vectorize_counts_and_tree as vectorize_counts_and_tree\n",
    "from skbio import TreeNode\n",
    "from sklearn.neighbors import KNeighborsClassifier\n",
    "from sklearn.ensemble import RandomForestClassifier\n",
    "from sklearn.linear_model import LogisticRegression\n",
    "from sklearn.preprocessing import LabelEncoder\n",
    "from sklearn.metrics import confusion_matrix\n",
    "from sklearn.metrics import roc_curve\n",
    "\n",
    "import seaborn as sns\n",
    "import matplotlib.pyplot as plt\n",
    "import warnings\n",
    "warnings.simplefilter('ignore')\n",
    "\n",
    "table = biom.load_table('emp500/amplicon/subset/16s.biom')\n",
    "metadata = pd.read_table('emp500/sample.tsv', index_col=0)\n",
    "\n",
    "# subset the table down for the sake of the tutorial\n",
    "abundance_data = table.to_dataframe().T\n",
    "md = metadata.loc[abundance_data.index]\n",
    "tree = TreeNode.read('emp500/amplicon/subset/16s_labeled.nwk')\n",
    "# remove dead nodes left over from subsetting\n",
    "tree.prune()"
   ]
  },
  {
   "cell_type": "markdown",
   "id": "9fffc39a-776e-4fb7-bbec-17aa3186f03e",
   "metadata": {},
   "source": [
    "In this tutorial, we will go over best practices when training classifiers, as well as how to use scikit-bios functions to build customized\n",
    "classifiers that can leverage biological domain knowledge, such as phylogenetic trees.\n",
    "\n",
    "# K-nearest neighbors classification with Unifrac\n",
    "\n",
    "The underlying idea behind k-nearest neighbors (KNN) is using distances to classify new data points. For instance, if a patient to be diagnosed has biomarker profiles similar to 5 other disease patients, then the KNN classifier will classify the new patient as diseased.\n",
    "\n",
    "The accuracy of KNN is highly dependent on the choice of distance metric. A commonly used metric is euclidean, which may not be ideal for omics data, particularly if there is the data is sparse (i.e. little overlap of biomarkers between samples).  This is where Unifrac shines. By incorporating phylogenetic relateness, Unifrac can take into account the evolutionary relateness of different biomarkers. This approach also extends to other omics data types that can incorporate other similar structures (i.e. molecular networks).\n",
    "\n",
    "First, we will rerun beta diversity, passing in the abundance data, the phylogenetic tree, as well as the taxa names.  We will then show how we can use the resulting distance matrix to train an KNN classifier."
   ]
  },
  {
   "cell_type": "code",
   "execution_count": 2,
   "id": "a1e9897d-3c00-42a3-a4cc-54d938a3cd7f",
   "metadata": {},
   "outputs": [],
   "source": [
    "ids = abundance_data.index\n",
    "taxa = abundance_data.columns\n",
    "data = abundance_data.values\n",
    "unifrac_dm = beta_diversity(\"weighted_unifrac\", data, ids, tree=tree, taxa=taxa)\n",
    "\n",
    "dist_mat = unifrac_dm.data\n",
    "le = LabelEncoder()\n",
    "labels = le.fit_transform(md['empo_1'])"
   ]
  },
  {
   "cell_type": "markdown",
   "id": "89f8cbd9-4141-4a39-a4c4-8f107956291a",
   "metadata": {},
   "source": [
    "Once we got the distance matrix, we can subet the distance matrix such that all of the distances between the training set samples are used for training the KNN. Furthermore, all of the distances involving the test set samples are excluded in training the KNN to be used for cross-validation.\n"
   ]
  },
  {
   "cell_type": "code",
   "execution_count": 3,
   "id": "841ea038-b9be-4d5e-8a53-8fa656262a77",
   "metadata": {},
   "outputs": [],
   "source": [
    "# we will use the first entries in the table for training,\n",
    "# and the rest for testing\n",
    "n_train  = len(md) * 8 // 10 \n",
    "# the upper left block is the pairwise distances between training samples\n",
    "train_X = dist_mat[:n_train, :n_train]\n",
    "train_y = labels[:n_train]\n",
    "# entry X_ij in the lower left block contains distance\n",
    "# between test sample i and training sample j.\n",
    "test_X = dist_mat[n_train:, :n_train]\n",
    "test_y = labels[n_train:]"
   ]
  },
  {
   "cell_type": "markdown",
   "id": "48f96713-126a-4178-869d-7f48e4aa9b01",
   "metadata": {},
   "source": [
    "Once the train / test splits are obtained, the KNN classifier can be trained.  Here, we will use the scikit-learn KNN configuration that allows for distance matrices to be directly passed in. We can then use this model to generate predictions for test set samples."
   ]
  },
  {
   "cell_type": "code",
   "execution_count": 4,
   "id": "786b7636-c60a-46de-b3f3-992863ec80c3",
   "metadata": {},
   "outputs": [],
   "source": [
    "kneigh = KNeighborsClassifier(n_neighbors=2, metric='precomputed')\n",
    "kneigh.fit(train_X, train_y)\n",
    "test_pred = kneigh.predict(test_X)"
   ]
  },
  {
   "cell_type": "markdown",
   "id": "82e1311e-33c6-4481-92e3-7120f3b7a4fd",
   "metadata": {},
   "source": [
    "Once the model is trained and evaluated, we can evaluate the accuracy. Below we will generate a confusion matrix."
   ]
  },
  {
   "cell_type": "code",
   "execution_count": 5,
   "id": "bb0cca7a-fed4-40fe-b77b-fa2e972436a1",
   "metadata": {},
   "outputs": [
    {
     "data": {
      "text/plain": [
       "[Text(0, 0.5, 'Free-living'), Text(0, 1.5, 'Host-associated')]"
      ]
     },
     "execution_count": 5,
     "metadata": {},
     "output_type": "execute_result"
    },
    {
     "data": {
      "image/png": "[encoded data removed]",
      "text/plain": [
       "<Figure size 640x480 with 2 Axes>"
      ]
     },
     "metadata": {},
     "output_type": "display_data"
    }
   ],
   "source": [
    "cm = confusion_matrix(test_y, test_pred)\n",
    "\n",
    "# to be used later\n",
    "unifrac_tpr, unifrac_fpr, thresholds = roc_curve(test_y, test_pred)\n",
    "\n",
    "fig, ax = plt.subplots()\n",
    "sns.heatmap(cm, annot=True, ax=ax)\n",
    "ax.set_xlabel('Predicted')\n",
    "ax.set_ylabel('Truth')\n",
    "ax.set_xticklabels(le.classes_)\n",
    "ax.set_yticklabels(le.classes_)"
   ]
  },
  {
   "cell_type": "markdown",
   "id": "70b7b453-7eda-44d9-93c6-4f994de0cf0d",
   "metadata": {},
   "source": [
    "We can also compare this directly against other metrics such as Jaccard distance to evaluate the improvement in classification accuracy"
   ]
  },
  {
   "cell_type": "code",
   "execution_count": 6,
   "id": "b2e5eca4-e6ba-433b-88a7-fff9520799c1",
   "metadata": {},
   "outputs": [],
   "source": [
    "kneigh = KNeighborsClassifier(n_neighbors=2, metric='jaccard')\n",
    "train_data = data[:n_train]\n",
    "test_data = data[n_train:]\n",
    "\n",
    "kneigh.fit(train_data, train_y)\n",
    "test_pred = kneigh.predict(test_data)"
   ]
  },
  {
   "cell_type": "markdown",
   "id": "698d4a4e-6a26-4697-bbbf-d59a81aaf048",
   "metadata": {},
   "source": [
    "And we can use metrics from scikit-learn such as roc curves to evaluate the differences in classification accuracy."
   ]
  },
  {
   "cell_type": "code",
   "execution_count": 7,
   "id": "f0954c18-698b-467f-89bb-1e34ba5819d0",
   "metadata": {},
   "outputs": [
    {
     "data": {
      "text/plain": [
       "<matplotlib.legend.Legend at 0x165133390>"
      ]
     },
     "execution_count": 7,
     "metadata": {},
     "output_type": "execute_result"
    },
    {
     "data": {
      "image/png": "[encoded data removed]",
      "text/plain": [
       "<Figure size 640x480 with 1 Axes>"
      ]
     },
     "metadata": {},
     "output_type": "display_data"
    }
   ],
   "source": [
    "euc_tpr, euc_fpr, thresholds = roc_curve(test_y, test_pred)\n",
    "plt.plot(euc_tpr, euc_fpr, label='jaccard')\n",
    "plt.plot(unifrac_tpr, unifrac_fpr, label='unifrac')\n",
    "plt.legend()"
   ]
  },
  {
   "cell_type": "markdown",
   "id": "e88480b3-3c59-44cb-8eca-78e317acfcc6",
   "metadata": {},
   "source": [
    "Overall, this showcases how Unifrac can be used for K-nearest neighbors classification, and can be a competitive tool compared to other distance metrics."
   ]
  },
  {
   "cell_type": "markdown",
   "id": "80cdae8d-d52a-479d-9553-f9f1ff340b9f",
   "metadata": {},
   "source": [
    "## Phylogenetic Random Forests\n",
    "\n",
    "Underneadth the hood of the weighted Unifrac distance is a weighted L1-distance between both the taxa abundances and the internal node abundances, where\n",
    "\n",
    "$$\n",
    "d(x, y) = \\sum_i l_i |x_i - y_i|\n",
    "$$\n",
    "\n",
    "Where $i$ represents a node in the phylogenetic tree, $x_i$ represents node abundances in sample $x$, $y_i$ represents node abundances in sample $y$ and $l_i$ represents the branch length for the corresponding node $i$. When considering a taxonomic tree, nodes could be species, genera, families, classes, orders or phyla.  When computing Unifrac distances, all of the node abundances are also considered.  Furthemore, we can directly compute these node abundances as follows"
   ]
  },
  {
   "cell_type": "code",
   "execution_count": 8,
   "id": "75ef56cc-416c-4f47-b621-d6f9c768357e",
   "metadata": {},
   "outputs": [],
   "source": [
    "node_abundances, tree_index, branch_lengths = vectorize_counts_and_tree(abundance_data, taxa, tree)"
   ]
  },
  {
   "cell_type": "markdown",
   "id": "13dec277-a80a-46f2-a476-7540436724c6",
   "metadata": {},
   "source": [
    "Looking at dimensionality of the node_abundances, one can see that the number of features is dramatically larger than the original abundance dimensionality. This is because for each internal node, the internal node abundances represents the sum of all of the taxa underneadth it."
   ]
  },
  {
   "cell_type": "code",
   "execution_count": 9,
   "id": "84403a86-199a-42ff-8677-5845effab616",
   "metadata": {},
   "outputs": [
    {
     "data": {
      "text/plain": [
       "((539, 529), (539, 1038))"
      ]
     },
     "execution_count": 9,
     "metadata": {},
     "output_type": "execute_result"
    }
   ],
   "source": [
    "abundance_data.shape, node_abundances.shape"
   ]
  },
  {
   "cell_type": "markdown",
   "id": "57e0e8db-ca13-4da1-ad20-126978dc3602",
   "metadata": {},
   "source": [
    "Instead of using these node abundances for computing Unifrac distances, we can also pass them directly into downstream ML models.\n",
    "For instance, we can fit Random Forests using both the taxa abundances *and* the internal node abundances. This provides Random forests additional phylogenetic information to help further boost performance."
   ]
  },
  {
   "cell_type": "code",
   "execution_count": 10,
   "id": "6484153c-eaa4-4de8-baa0-ebeaaa21fb71",
   "metadata": {},
   "outputs": [],
   "source": [
    "# we will use the first entries in the table for training,\n",
    "# and the rest for testing\n",
    "n_train  = len(md) * 8 // 10 \n",
    "# the upper left block is the pairwise distances between training samples\n",
    "train_X = node_abundances[:n_train]\n",
    "train_y = labels[:n_train]\n",
    "# entry X_ij in the lower left block contains distance\n",
    "# between test sample i and training sample j.\n",
    "test_X = node_abundances[n_train:]\n",
    "test_y = labels[n_train:]"
   ]
  },
  {
   "cell_type": "markdown",
   "id": "435a6e8a-eceb-4d03-b5d4-85ec69ee8089",
   "metadata": {},
   "source": [
    "We can then pass these internal node abundances directly into Random Forests training and cross-validation"
   ]
  },
  {
   "cell_type": "code",
   "execution_count": 11,
   "id": "6f603912-2c64-44f9-9ce4-1e2f818895c4",
   "metadata": {},
   "outputs": [],
   "source": [
    "rf = RandomForestClassifier()\n",
    "rf.fit(train_X, train_y)\n",
    "test_pred = rf.predict(test_X)"
   ]
  },
  {
   "cell_type": "markdown",
   "id": "0b3641c0-42b7-4247-9519-f053730e5ad8",
   "metadata": {},
   "source": [
    "Similarly, we can evaluate the classification accuracy below"
   ]
  },
  {
   "cell_type": "code",
   "execution_count": 12,
   "id": "4ee00c73-5258-4126-aac6-d5982814884b",
   "metadata": {},
   "outputs": [
    {
     "data": {
      "text/plain": [
       "Text(50.722222222222214, 0.5, 'Truth')"
      ]
     },
     "execution_count": 12,
     "metadata": {},
     "output_type": "execute_result"
    },
    {
     "data": {
      "image/png": "[encoded data removed]",
      "text/plain": [
       "<Figure size 640x480 with 2 Axes>"
      ]
     },
     "metadata": {},
     "output_type": "display_data"
    }
   ],
   "source": [
    "# to be used later\n",
    "rf_phylo_tpr, rf_phylo_fpr, thresholds = roc_curve(test_y, test_pred)\n",
    "\n",
    "cm = confusion_matrix(test_y, test_pred)\n",
    "sns.heatmap(cm, annot=True)\n",
    "plt.xlabel('Predicted')\n",
    "plt.ylabel('Truth')"
   ]
  },
  {
   "cell_type": "markdown",
   "id": "2bf4ecef-7144-4900-82ae-bad2b3492851",
   "metadata": {},
   "source": [
    "We can also compare this phylogenetically augmented random forests model to the standard random forests model"
   ]
  },
  {
   "cell_type": "code",
   "execution_count": 13,
   "id": "e198c75c-ca02-4de2-97c3-e8960d12b205",
   "metadata": {},
   "outputs": [],
   "source": [
    "# we will use the first entries in the table for training,\n",
    "# and the rest for testing\n",
    "n_train  = len(md) * 8 // 10 \n",
    "# the upper left block is the pairwise distances between training samples\n",
    "train_X = abundance_data[:n_train]\n",
    "train_y = labels[:n_train]\n",
    "# entry X_ij in the lower left block contains distance\n",
    "# between test sample i and training sample j.\n",
    "test_X = abundance_data[n_train:]\n",
    "test_y = labels[n_train:]"
   ]
  },
  {
   "cell_type": "code",
   "execution_count": 14,
   "id": "956b2125-5541-4606-b06e-12611a58e1d7",
   "metadata": {},
   "outputs": [],
   "source": [
    "rf = RandomForestClassifier()\n",
    "rf.fit(train_X, train_y)\n",
    "test_pred = rf.predict(test_X)"
   ]
  },
  {
   "cell_type": "code",
   "execution_count": 15,
   "id": "cabd6681-9d88-4126-a53c-dfc7a7bd7c08",
   "metadata": {},
   "outputs": [
    {
     "data": {
      "text/plain": [
       "Text(50.722222222222214, 0.5, 'Truth')"
      ]
     },
     "execution_count": 15,
     "metadata": {},
     "output_type": "execute_result"
    },
    {
     "data": {
      "image/png": "[encoded data removed]",
      "text/plain": [
       "<Figure size 640x480 with 2 Axes>"
      ]
     },
     "metadata": {},
     "output_type": "display_data"
    }
   ],
   "source": [
    "# to be used later\n",
    "rf_tpr, rf_fpr, thresholds = roc_curve(test_y, test_pred)\n",
    "\n",
    "cm = confusion_matrix(test_y, test_pred)\n",
    "sns.heatmap(cm, annot=True)\n",
    "plt.xlabel('Predicted')\n",
    "plt.ylabel('Truth')"
   ]
  },
  {
   "cell_type": "code",
   "execution_count": 16,
   "id": "904b0e2e-8069-424e-bc56-2fc59db4c275",
   "metadata": {},
   "outputs": [
    {
     "data": {
      "text/plain": [
       "<matplotlib.legend.Legend at 0x165885090>"
      ]
     },
     "execution_count": 16,
     "metadata": {},
     "output_type": "execute_result"
    },
    {
     "data": {
      "image/png": "[encoded data removed]",
      "text/plain": [
       "<Figure size 640x480 with 1 Axes>"
      ]
     },
     "metadata": {},
     "output_type": "display_data"
    }
   ],
   "source": [
    "plt.plot(rf_tpr, rf_fpr, label='Random Forests')\n",
    "plt.plot(rf_phylo_tpr, rf_phylo_fpr, label='Phylogenetic Random Forests')\n",
    "plt.legend()"
   ]
  },
  {
   "cell_type": "markdown",
   "id": "b50d05cc-4816-429f-8e62-5da7dae26746",
   "metadata": {},
   "source": [
    "Altogether, this tutorial shows how one can incorporate biological domain knowledge such as phylogenetic trees into conventional machine learning tools.\n",
    "\n",
    "Exercise : Can you convert the differential abundance analysis discussed previously into an sklearn compatible classifier?"
   ]
  },
  {
   "cell_type": "code",
   "execution_count": null,
   "id": "73fef95d-558d-4d3b-ae90-a6184fdacecd",
   "metadata": {},
   "outputs": [],
   "source": []
  }
 ],
 "metadata": {
  "kernelspec": {
   "display_name": "Python 3 (ipykernel)",
   "language": "python",
   "name": "python3"
  },
  "language_info": {
   "codemirror_mode": {
    "name": "ipython",
    "version": 3
   },
   "file_extension": ".py",
   "mimetype": "text/x-python",
   "name": "python",
   "nbconvert_exporter": "python",
   "pygments_lexer": "ipython3",
   "version": "3.11.8"
  }
 },
 "nbformat": 4,
 "nbformat_minor": 5
}
