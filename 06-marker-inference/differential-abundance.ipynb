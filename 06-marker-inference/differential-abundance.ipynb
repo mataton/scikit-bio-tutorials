{
 "cells": [
  {
   "cell_type": "code",
   "execution_count": 1,
   "id": "17aac6c5-07ea-41cb-9bb9-98777cbb90ed",
   "metadata": {},
   "outputs": [],
   "source": [
    "from skbio.stats.composition import clr, ilr, centralize, dirmult_ttest"
   ]
  },
  {
   "cell_type": "code",
   "execution_count": null,
   "id": "75c362dc-dca8-4962-9371-526bfd1a9366",
   "metadata": {},
   "outputs": [],
   "source": []
  },
  {
   "cell_type": "code",
   "execution_count": null,
   "id": "9ff725b9-8042-426e-9607-837f40263703",
   "metadata": {},
   "outputs": [],
   "source": [
    "# TODO : Briefly provide background of compositional data analysis"
   ]
  },
  {
   "cell_type": "code",
   "execution_count": null,
   "id": "cc4cb3a9-afbc-4e44-8f7c-65d0a566f1ae",
   "metadata": {},
   "outputs": [],
   "source": [
    "# TODO : Highlight differences between the ALR, CLR and ILR transforms, and imputation approaches"
   ]
  },
  {
   "cell_type": "code",
   "execution_count": null,
   "id": "00d9870a-164f-409c-b172-be899d764188",
   "metadata": {},
   "outputs": [],
   "source": [
    "# TODO : Highlight ANCOM"
   ]
  },
  {
   "cell_type": "code",
   "execution_count": null,
   "id": "774bd5a0-61cb-44e1-930c-1272eb8a0ecd",
   "metadata": {},
   "outputs": [],
   "source": [
    "# TODO : Highlight the Dirichlet Multinomial test"
   ]
  },
  {
   "cell_type": "code",
   "execution_count": null,
   "id": "fc94b989-e6ad-4ad3-8408-191aaa5e265d",
   "metadata": {},
   "outputs": [],
   "source": [
    "dirmult_ttest"
   ]
  },
  {
   "cell_type": "code",
   "execution_count": null,
   "id": "fd345e78-402f-404c-a071-1989e5af0be4",
   "metadata": {},
   "outputs": [],
   "source": [
    "# TODO : analyze the results from the dirmult_ttest"
   ]
  }
 ],
 "metadata": {
  "kernelspec": {
   "display_name": "Python 3 (ipykernel)",
   "language": "python",
   "name": "python3"
  },
  "language_info": {
   "codemirror_mode": {
    "name": "ipython",
    "version": 3
   },
   "file_extension": ".py",
   "mimetype": "text/x-python",
   "name": "python",
   "nbconvert_exporter": "python",
   "pygments_lexer": "ipython3",
   "version": "3.12.2"
  }
 },
 "nbformat": 4,
 "nbformat_minor": 5
}
