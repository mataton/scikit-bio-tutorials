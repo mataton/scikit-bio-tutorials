{
  "nbformat": 4,
  "nbformat_minor": 0,
  "metadata": {
    "colab": {
      "provenance": []
    },
    "kernelspec": {
      "name": "python3",
      "display_name": "Python 3"
    },
    "language_info": {
      "name": "python"
    }
  },
  "cells": [
    {
      "cell_type": "markdown",
      "source": [
        "# Community diversity\n",
        "\n",
        "In this workshop section, we will focus on beta-diversity using UniFrac, on the 16S rRNA V4 data from the EMP 500 set.\n",
        "\n",
        "## Preliminaries\n",
        "\n",
        "Before we get started, we're going to setup a few libraries that we'll subsequently use. Specifically, we're going to instruct the Notebook that we way to use \"matplotlib\" and display any images \"inline\" in the Notebook. Next, we're going to install scikit-bio.\n",
        "\n",
        "## Background\n",
        "\n",
        "We assume users of this Notebook have worked through the prior Notebooks, and therefore have at least a high level understanding of the EMP 500.\n",
        "\n",
        "In this Notebook, we will apply UniFrac which is a popular phylogenetic beta-diversity metric. The similarity computed is the **uni**que **frac**tion of the phylogenetic branch length between a pair of samples. Then, we will perform Principal Coordinates Analysis to visualize the primary axes of variation among samples. We will then apply PERMANOVA to test for significant differences among groups of samples.\n",
        "\n",
        "Last, to further explore the capabilities of scikit-bio, we will  test whether sample similarities are correlated between two prevalent phyla using both a Mantel test and Procrustes analysis.\n",
        "\n",
        "## Learning objectives\n",
        "\n",
        "In this section of the workshop, you will learn how to:\n",
        "\n",
        "* Filter and rarefy a feature table\n",
        "* Run UniFrac programmatically\n",
        "* Apply Principal Coordinates analysis, and visualize the resulting coordinates\n",
        "* Perform PERMANOVA, Mantel and Procustes tests\n",
        "* Use the TreeNode to identify common phyla, and constrain subsequent analyses based on the subtrees"
      ],
      "metadata": {
        "id": "EPh7zQDBEgpW"
      }
    },
    {
      "cell_type": "code",
      "execution_count": 2,
      "metadata": {
        "colab": {
          "base_uri": "https://localhost:8080/"
        },
        "id": "ofwaW-T1W6AS",
        "outputId": "cff0bc50-21ac-42f2-858f-c9960c0500f0"
      },
      "outputs": [
        {
          "output_type": "stream",
          "name": "stdout",
          "text": [
            "\u001b[?25l     \u001b[90m━━━━━━━━━━━━━━━━━━━━━━━━━━━━━━━━━━━━━━━━\u001b[0m \u001b[32m0.0/2.7 MB\u001b[0m \u001b[31m?\u001b[0m eta \u001b[36m-:--:--\u001b[0m\r\u001b[2K     \u001b[90m━━━━━━━━━━━━━━━━━━━━━━━━━━━━━━━━━━━━━━━━\u001b[0m \u001b[32m0.0/2.7 MB\u001b[0m \u001b[31m756.8 kB/s\u001b[0m eta \u001b[36m0:00:04\u001b[0m\r\u001b[2K     \u001b[91m━━━\u001b[0m\u001b[91m╸\u001b[0m\u001b[90m━━━━━━━━━━━━━━━━━━━━━━━━━━━━━━━━━━━━\u001b[0m \u001b[32m0.2/2.7 MB\u001b[0m \u001b[31m3.2 MB/s\u001b[0m eta \u001b[36m0:00:01\u001b[0m\r\u001b[2K     \u001b[91m━━━━━━━━━━━━━━━━━━━━━━━━━━\u001b[0m\u001b[91m╸\u001b[0m\u001b[90m━━━━━━━━━━━━━\u001b[0m \u001b[32m1.8/2.7 MB\u001b[0m \u001b[31m16.8 MB/s\u001b[0m eta \u001b[36m0:00:01\u001b[0m\r\u001b[2K     \u001b[91m━━━━━━━━━━━━━━━━━━━━━━━━━━━━━━━━━━━━━━━\u001b[0m\u001b[91m╸\u001b[0m \u001b[32m2.7/2.7 MB\u001b[0m \u001b[31m23.0 MB/s\u001b[0m eta \u001b[36m0:00:01\u001b[0m\r\u001b[2K     \u001b[90m━━━━━━━━━━━━━━━━━━━━━━━━━━━━━━━━━━━━━━━━\u001b[0m \u001b[32m2.7/2.7 MB\u001b[0m \u001b[31m18.0 MB/s\u001b[0m eta \u001b[36m0:00:00\u001b[0m\n",
            "\u001b[?25h  Installing build dependencies ... \u001b[?25l\u001b[?25hdone\n",
            "  Getting requirements to build wheel ... \u001b[?25l\u001b[?25hdone\n",
            "  Preparing metadata (pyproject.toml) ... \u001b[?25l\u001b[?25hdone\n",
            "\u001b[2K     \u001b[90m━━━━━━━━━━━━━━━━━━━━━━━━━━━━━━━━━━━━━━━━\u001b[0m \u001b[32m11.7/11.7 MB\u001b[0m \u001b[31m33.4 MB/s\u001b[0m eta \u001b[36m0:00:00\u001b[0m\n",
            "\u001b[?25h  Installing build dependencies ... \u001b[?25l\u001b[?25hdone\n",
            "  Getting requirements to build wheel ... \u001b[?25l\u001b[?25hdone\n",
            "  Preparing metadata (pyproject.toml) ... \u001b[?25l\u001b[?25hdone\n",
            "  Building wheel for scikit-bio (pyproject.toml) ... \u001b[?25l\u001b[?25hdone\n",
            "  Building wheel for biom-format (pyproject.toml) ... \u001b[?25l\u001b[?25hdone\n"
          ]
        }
      ],
      "source": [
        "import importlib.util\n",
        "\n",
        "if importlib.util.find_spec('skbio') is None:\n",
        "  !pip install -q scikit-bio"
      ]
    },
    {
      "cell_type": "code",
      "source": [
        "%matplotlib inline\n",
        "\n",
        "import skbio\n",
        "import matplotlib.pyplot as plt\n",
        "import scipy\n",
        "from functools import reduce\n",
        "from operator import itemgetter, or_"
      ],
      "metadata": {
        "id": "C-NorEnVlaIX"
      },
      "execution_count": 56,
      "outputs": []
    },
    {
      "cell_type": "markdown",
      "source": [
        "# TODO: REPLACE DOWNLOAD URLS"
      ],
      "metadata": {
        "id": "W7Mcv8VYZDJa"
      }
    },
    {
      "cell_type": "code",
      "source": [
        "!wget -O 16s_subset.biom \"https://www.dropbox.com/scl/fi/ywkf4up62065s1hi8mlkk/16s_subset.biom?rlkey=39lmm88d47zfnyltb6gcw234p&dl=0\""
      ],
      "metadata": {
        "colab": {
          "base_uri": "https://localhost:8080/"
        },
        "id": "5gEA6zP6dxfS",
        "outputId": "2b17fe4d-a1ab-4f1b-e978-d6a564ae8a31"
      },
      "execution_count": 6,
      "outputs": [
        {
          "output_type": "stream",
          "name": "stdout",
          "text": [
            "--2024-06-27 04:53:55--  https://www.dropbox.com/scl/fi/ywkf4up62065s1hi8mlkk/16s_subset.biom?rlkey=39lmm88d47zfnyltb6gcw234p&dl=0\n",
            "Resolving www.dropbox.com (www.dropbox.com)... 162.125.5.18, 2620:100:601d:18::a27d:512\n",
            "Connecting to www.dropbox.com (www.dropbox.com)|162.125.5.18|:443... connected.\n",
            "HTTP request sent, awaiting response... 302 Found\n",
            "Location: https://uc9032dcd72742b204f1bdd9e057.dl.dropboxusercontent.com/cd/0/inline/CVnCDYiY0k2CzEzio6OlfwmjrL2uI_xKTv1HvF9rMhhG1e5rFKWw57RDmgF0cfrIyiS_JHGSKAMNi6V7LzElef244iwJATWqKddxy2t6eP2x41xs8redaZG4OmEGLKoaQqo/file# [following]\n",
            "--2024-06-27 04:53:55--  https://uc9032dcd72742b204f1bdd9e057.dl.dropboxusercontent.com/cd/0/inline/CVnCDYiY0k2CzEzio6OlfwmjrL2uI_xKTv1HvF9rMhhG1e5rFKWw57RDmgF0cfrIyiS_JHGSKAMNi6V7LzElef244iwJATWqKddxy2t6eP2x41xs8redaZG4OmEGLKoaQqo/file\n",
            "Resolving uc9032dcd72742b204f1bdd9e057.dl.dropboxusercontent.com (uc9032dcd72742b204f1bdd9e057.dl.dropboxusercontent.com)... 162.125.5.15, 2620:100:601d:15::a27d:50f\n",
            "Connecting to uc9032dcd72742b204f1bdd9e057.dl.dropboxusercontent.com (uc9032dcd72742b204f1bdd9e057.dl.dropboxusercontent.com)|162.125.5.15|:443... connected.\n",
            "HTTP request sent, awaiting response... 302 Found\n",
            "Location: /cd/0/inline2/CVnsB_2CDKmdYuCEvx4QUb2uRNELoZlbdduIjAY4oFSxja4lc3ImkPexmV1mM7Sb_EjPMQ8snkWE_LiziS65wBJsooxIXyG_xwfqlrdgI4J5uj8V5lfFm3FJ6b47BrTNSYA31B798V3fw4UdyCS7N7Gh5NaLL0mak72gBwp55EqP8hO66Jpcm7q-qx4SbzFUnxz22zRy0L26pJQ_G3yyt1tPIuTXsbH6jvuxKzVJpTSDerZg4-046F4CXZs0oSu-zsPvlVf5I8Ss0dopskQQRiIFOi-WqxGpMF0t9oTpv422SGjzZbtyNWMNfv0TysKaL1N9mRf4ajwWoLDz3fxtiKtai7kh36klV65L3MqepJUV2A/file [following]\n",
            "--2024-06-27 04:53:56--  https://uc9032dcd72742b204f1bdd9e057.dl.dropboxusercontent.com/cd/0/inline2/CVnsB_2CDKmdYuCEvx4QUb2uRNELoZlbdduIjAY4oFSxja4lc3ImkPexmV1mM7Sb_EjPMQ8snkWE_LiziS65wBJsooxIXyG_xwfqlrdgI4J5uj8V5lfFm3FJ6b47BrTNSYA31B798V3fw4UdyCS7N7Gh5NaLL0mak72gBwp55EqP8hO66Jpcm7q-qx4SbzFUnxz22zRy0L26pJQ_G3yyt1tPIuTXsbH6jvuxKzVJpTSDerZg4-046F4CXZs0oSu-zsPvlVf5I8Ss0dopskQQRiIFOi-WqxGpMF0t9oTpv422SGjzZbtyNWMNfv0TysKaL1N9mRf4ajwWoLDz3fxtiKtai7kh36klV65L3MqepJUV2A/file\n",
            "Reusing existing connection to uc9032dcd72742b204f1bdd9e057.dl.dropboxusercontent.com:443.\n",
            "HTTP request sent, awaiting response... 200 OK\n",
            "Length: 417244 (407K) [application/octet-stream]\n",
            "Saving to: ‘16s_subset.biom’\n",
            "\n",
            "16s_subset.biom     100%[===================>] 407.46K  --.-KB/s    in 0.08s   \n",
            "\n",
            "2024-06-27 04:53:56 (4.99 MB/s) - ‘16s_subset.biom’ saved [417244/417244]\n",
            "\n"
          ]
        }
      ]
    },
    {
      "cell_type": "code",
      "source": [
        "!wget -O 16s_subset_labeled.nwk \"https://www.dropbox.com/scl/fi/cdx11k6f00ayevg1scwll/16s_subset_labeled.nwk?rlkey=r6j432eko89dhmsfw5msjhprq&dl=0\""
      ],
      "metadata": {
        "colab": {
          "base_uri": "https://localhost:8080/"
        },
        "id": "xZHN9iXDXl1j",
        "outputId": "b0dbe046-3454-49cc-85f9-0aff12674777"
      },
      "execution_count": 7,
      "outputs": [
        {
          "output_type": "stream",
          "name": "stdout",
          "text": [
            "--2024-06-27 04:53:56--  https://www.dropbox.com/scl/fi/cdx11k6f00ayevg1scwll/16s_subset_labeled.nwk?rlkey=r6j432eko89dhmsfw5msjhprq&dl=0\n",
            "Resolving www.dropbox.com (www.dropbox.com)... 162.125.5.18, 2620:100:601d:18::a27d:512\n",
            "Connecting to www.dropbox.com (www.dropbox.com)|162.125.5.18|:443... connected.\n",
            "HTTP request sent, awaiting response... 302 Found\n",
            "Location: https://ucd9309ebe1761ee2bbb6b4d37d5.dl.dropboxusercontent.com/cd/0/inline/CVkbf2_nGgg3TrFEt8sO-rHY-fY5aoZkkkeN5JljsXLaNBirT0Rdlx261W3U8t7AQR31ZxbNxGsl3SU8YcRI5tChw34rtQsvBRIYARldiK8zzFEq7MOw4XQCEyFyjGqjrUg/file# [following]\n",
            "--2024-06-27 04:53:56--  https://ucd9309ebe1761ee2bbb6b4d37d5.dl.dropboxusercontent.com/cd/0/inline/CVkbf2_nGgg3TrFEt8sO-rHY-fY5aoZkkkeN5JljsXLaNBirT0Rdlx261W3U8t7AQR31ZxbNxGsl3SU8YcRI5tChw34rtQsvBRIYARldiK8zzFEq7MOw4XQCEyFyjGqjrUg/file\n",
            "Resolving ucd9309ebe1761ee2bbb6b4d37d5.dl.dropboxusercontent.com (ucd9309ebe1761ee2bbb6b4d37d5.dl.dropboxusercontent.com)... 162.125.5.15, 2620:100:601d:15::a27d:50f\n",
            "Connecting to ucd9309ebe1761ee2bbb6b4d37d5.dl.dropboxusercontent.com (ucd9309ebe1761ee2bbb6b4d37d5.dl.dropboxusercontent.com)|162.125.5.15|:443... connected.\n",
            "HTTP request sent, awaiting response... 200 OK\n",
            "Length: 131542 (128K) [text/plain]\n",
            "Saving to: ‘16s_subset_labeled.nwk’\n",
            "\n",
            "16s_subset_labeled. 100%[===================>] 128.46K  --.-KB/s    in 0.05s   \n",
            "\n",
            "2024-06-27 04:53:57 (2.30 MB/s) - ‘16s_subset_labeled.nwk’ saved [131542/131542]\n",
            "\n"
          ]
        }
      ]
    },
    {
      "cell_type": "code",
      "source": [
        "!wget -O sample.tsv \"https://www.dropbox.com/scl/fi/mk1f1ieg4d1c3kka9zsng/sample.tsv?rlkey=60b0xmss2k4q1vhc3tjs98yur&dl=0\""
      ],
      "metadata": {
        "colab": {
          "base_uri": "https://localhost:8080/"
        },
        "id": "GERm3MZAfC53",
        "outputId": "645ed7b8-8b4a-4241-9031-6a86eefe1683"
      },
      "execution_count": 8,
      "outputs": [
        {
          "output_type": "stream",
          "name": "stdout",
          "text": [
            "--2024-06-27 04:53:57--  https://www.dropbox.com/scl/fi/mk1f1ieg4d1c3kka9zsng/sample.tsv?rlkey=60b0xmss2k4q1vhc3tjs98yur&dl=0\n",
            "Resolving www.dropbox.com (www.dropbox.com)... 162.125.5.18, 2620:100:601d:18::a27d:512\n",
            "Connecting to www.dropbox.com (www.dropbox.com)|162.125.5.18|:443... connected.\n",
            "HTTP request sent, awaiting response... 302 Found\n",
            "Location: https://uc3788c48a55d3a1961a37d236b6.dl.dropboxusercontent.com/cd/0/inline/CVnGkBnzdEFmEKKdcngMiP9tAo86fc6Jie0fMPC1feItb8s8nCWHec-IZ6sCFGfJ_fSMiryfb9RGW1YFRbAIpgbn0MLyvCW-tVnJ3K4rF1IQp2ZCZTbqXI28H-nyC7t8HE8/file# [following]\n",
            "--2024-06-27 04:53:58--  https://uc3788c48a55d3a1961a37d236b6.dl.dropboxusercontent.com/cd/0/inline/CVnGkBnzdEFmEKKdcngMiP9tAo86fc6Jie0fMPC1feItb8s8nCWHec-IZ6sCFGfJ_fSMiryfb9RGW1YFRbAIpgbn0MLyvCW-tVnJ3K4rF1IQp2ZCZTbqXI28H-nyC7t8HE8/file\n",
            "Resolving uc3788c48a55d3a1961a37d236b6.dl.dropboxusercontent.com (uc3788c48a55d3a1961a37d236b6.dl.dropboxusercontent.com)... 162.125.2.15, 2620:100:601f:15::a27d:90f\n",
            "Connecting to uc3788c48a55d3a1961a37d236b6.dl.dropboxusercontent.com (uc3788c48a55d3a1961a37d236b6.dl.dropboxusercontent.com)|162.125.2.15|:443... connected.\n",
            "HTTP request sent, awaiting response... 200 OK\n",
            "Length: 518403 (506K) [text/plain]\n",
            "Saving to: ‘sample.tsv’\n",
            "\n",
            "sample.tsv          100%[===================>] 506.25K  1.63MB/s    in 0.3s    \n",
            "\n",
            "2024-06-27 04:53:58 (1.63 MB/s) - ‘sample.tsv’ saved [518403/518403]\n",
            "\n"
          ]
        }
      ]
    },
    {
      "cell_type": "markdown",
      "source": [
        "Before we can do anything exciting, we need to load the various pieces of data into memory.\n",
        "\n",
        "First, we're going to load the phylogeny into the `TreeNode` object. A `TreeNode` provides a rich set of methods for interacting with phylogeny, including operations to traverse, compare trees, aggregate information, collect subtrees and more. Later on in the Notebook, we will show an example of aggregating information up a tree, following by collecting tips from specific clades.\n",
        "\n",
        "Next, we're going to load the feature table into the `Table` object. Often, feature tables are quite sparse -- in the American Gut Project, we observe < .1% of values in a feature table are non-zero. To account for the sparsity, this object represents the matrix of sample / feature counts using a sparse matrix representation which only stores the non-zero data. Like the `TreeNode`, the `Table` object has a rich set of methods for filtering, transforming, collapsing, partitioning, subsampling (i.e., rarefaction) and more.\n",
        "\n",
        "Last, we will load the sample metadata, which has been discussed in prior sections. We will focus on the `empo_1` category which describes whether a sample is host associated or environmental, so we'll pull that column out upfront.\n",
        "\n"
      ],
      "metadata": {
        "id": "6xUp9GaZd--G"
      }
    },
    {
      "cell_type": "code",
      "source": [
        "phylogeny = skbio.TreeNode.read('16s_subset_labeled.nwk', format='newick')"
      ],
      "metadata": {
        "id": "6CajJy30dFdb"
      },
      "execution_count": 118,
      "outputs": []
    },
    {
      "cell_type": "code",
      "source": [
        "table = skbio.Table.read('16s_subset.biom')"
      ],
      "metadata": {
        "id": "JIBewY2edNOX"
      },
      "execution_count": 10,
      "outputs": []
    },
    {
      "cell_type": "code",
      "source": [
        "metadata = skbio.metadata.SampleMetadata.load('sample.tsv')\n",
        "empo_1 = metadata.get_column('empo_1').to_series()"
      ],
      "metadata": {
        "id": "z7beKytLeV0b"
      },
      "execution_count": 125,
      "outputs": []
    },
    {
      "cell_type": "markdown",
      "source": [
        "UniFrac is sensitive to uneven sequencing effort among samples. To account for this, we will rarefy the table a single time. In interests of simplifying compute in the tutorial, we will rarefy to a fairly shallow level of 100 sequences per sample. However, as we will see, this shallow depth is still sufficient to differentiate a high effect size variable like whether a sample is host associated or environmental.\n",
        "\n",
        "**NOTE**: Not all diversity calculations are sensitive to sequencing depth. However, with those other metrics such as [RPCA](https://journals.asm.org/doi/10.1128/msystems.00016-19) and [Phylo-PRCA](https://journals.asm.org/doi/10.1128/msystems.00050-22) it may still be important to remove samples with too few sequences.\n",
        "\n"
      ],
      "metadata": {
        "id": "QnEvmpskgbe-"
      }
    },
    {
      "cell_type": "code",
      "source": [
        "depth = 100\n",
        "even_table = table.subsample(depth)"
      ],
      "metadata": {
        "id": "V-2yBooFgXoB"
      },
      "execution_count": 119,
      "outputs": []
    },
    {
      "cell_type": "markdown",
      "source": [
        "While not strictly necessary, we will remove unnecessary vertices and edges from the phylogeny relative to the rarefied table. Doing so reduces the compute for UniFrac later on.\n",
        "\n",
        "**NOTE**: scikit-bio is the reference implementation for [Fast UniFrac](https://www.nature.com/articles/ismej200997). However, subsequent large [algorithmic improvements](https://journals.asm.org/doi/10.1128/msystems.00028-22) have been developed. This advanced variant will be included directly in scikit-bio in the future."
      ],
      "metadata": {
        "id": "TDHkjO40glUw"
      }
    },
    {
      "cell_type": "code",
      "source": [
        "even_phylogeny = phylogeny.shear(set(even_table.ids(axis='observation')))"
      ],
      "metadata": {
        "id": "0ZbA2Hljgjf5"
      },
      "execution_count": 120,
      "outputs": []
    },
    {
      "cell_type": "markdown",
      "source": [
        "Let's go ahead and run UniFrac now.\n",
        "\n",
        "If you're unfamiliar with UniFrac, it is a [distance metric](https://www.nature.com/articles/ismej2010133) that computes a distance between two samples based on the amount of unique branch length within each sample. For example, given a sample composed entirely of Archaea, and a sample composed entirely of Bacteria, all branches of the tree would be unique to each sample, leading to a maximal distance of 1.0. In constrast, a sample composed of *Prevotella* and *Bacteroides*, and a sample composed of *Lactobacillus* and *Faecalibacterium*, would have a fair amount of shared branches with fewer branches unique to a sample -- the distance between them would be far less than 1.0. The original UniFrac algorithm is described [here](https://journals.asm.org/doi/10.1128/aem.71.12.8228-8235.2005)."
      ],
      "metadata": {
        "id": "qyvsQDkyhfaL"
      }
    },
    {
      "cell_type": "code",
      "source": [
        "full_dm = skbio.diversity.beta_diversity('unweighted_unifrac', even_table, tree=even_phylogeny)"
      ],
      "metadata": {
        "id": "fFBJ3I0thFs7"
      },
      "execution_count": 121,
      "outputs": []
    },
    {
      "cell_type": "markdown",
      "source": [
        "The subsequent `DistanceMatrix` object has support methods for pulling interesting sets of distances. Let's take a quick look at obtaining distances \"within\" a group, and contrast them to the distances \"between\" two groups.\n"
      ],
      "metadata": {
        "id": "3WaK58Gwk7uU"
      }
    },
    {
      "cell_type": "code",
      "source": [
        "empo_1 = empo_1.loc[list(full_dm.ids)]\n",
        "\n",
        "labels = []\n",
        "for env in empo_1.unique():\n",
        "  env_ids = set(empo_1[empo_1 == env].index)\n",
        "\n",
        "  within_data = full_dm.within(env_ids)\n",
        "  plt.hist(within_data['value'], alpha=0.65, bins=100)\n",
        "  labels.append(env)\n",
        "\n",
        "from_label, to_label = empo_1.unique()\n",
        "from_ = empo_1[empo_1 == from_label].index\n",
        "to_ = empo_1[empo_1 == to_label].index\n",
        "\n",
        "between_data = full_dm.between(from_, to_)\n",
        "plt.hist(between_data['value'], alpha=0.65, bins=100)\n",
        "labels.append(f'{from_label} vs. {to_label}')\n",
        "\n",
        "plt.legend(labels)"
      ],
      "metadata": {
        "colab": {
          "base_uri": "https://localhost:8080/",
          "height": 448
        },
        "id": "qph9Fp1VLsbf",
        "outputId": "841a5c8b-fcfa-4509-a7e1-4413512ab99d"
      },
      "execution_count": 139,
      "outputs": [
        {
          "output_type": "execute_result",
          "data": {
            "text/plain": [
              "<matplotlib.legend.Legend at 0x7babf0eb5570>"
            ]
          },
          "metadata": {},
          "execution_count": 139
        },
        {
          "output_type": "display_data",
          "data": {
            "text/plain": [
              "<Figure size 640x480 with 1 Axes>"
            ],
            "image/png": "[encoded data removed]"
          },
          "metadata": {}
        }
      ]
    },
    {
      "cell_type": "markdown",
      "source": [
        "Let's now move on to Principal Coordinates Analysis (PCoA). PCoA is a dimensionality reduction technique, which allows us to examine the primary axes of variation in a dataset. The scikit-bio implementation is based on [Legendre & Legendre](https://shop.elsevier.com/books/numerical-ecology/legendre/978-0-444-89249-2), but scikit-bio also supports an approximate version of PCoA, where the number of dimensions calculated is parameterized, and is scalable to quite large datasets.\n",
        "\n",
        "As we'll see, the `OrdinationResults` object has a few member methods, including a `DataFrame` representation of the coordinate data."
      ],
      "metadata": {
        "id": "VOQGcVv9SuS0"
      }
    },
    {
      "cell_type": "code",
      "source": [
        "pc = skbio.stats.ordination.pcoa(full_dm, number_of_dimensions=10)"
      ],
      "metadata": {
        "colab": {
          "base_uri": "https://localhost:8080/"
        },
        "id": "vw8PFFnsi7TQ",
        "outputId": "a9911843-34a0-45bd-da41-e72ee4591765"
      },
      "execution_count": 140,
      "outputs": [
        {
          "output_type": "stream",
          "name": "stderr",
          "text": [
            "/usr/local/lib/python3.10/dist-packages/skbio/stats/ordination/_principal_coordinate_analysis.py:146: RuntimeWarning: The result contains negative eigenvalues. Please compare their magnitude with the magnitude of some of the largest positive eigenvalues. If the negative ones are smaller, it's probably safe to ignore them, but if they are large in magnitude, the results won't be useful. See the Notes section for more details. The smallest eigenvalue is -0.13006993369499145 and the largest is 30.547145147549504.\n",
            "  warn(\n"
          ]
        }
      ]
    },
    {
      "cell_type": "code",
      "source": [
        "pc.proportion_explained"
      ],
      "metadata": {
        "colab": {
          "base_uri": "https://localhost:8080/"
        },
        "id": "7UTTnpWuO5Mc",
        "outputId": "a5980a3d-f5fe-4c1b-dd2d-f5dce51c9562"
      },
      "execution_count": 141,
      "outputs": [
        {
          "output_type": "execute_result",
          "data": {
            "text/plain": [
              "PC1     0.162332\n",
              "PC2     0.104613\n",
              "PC3     0.057328\n",
              "PC4     0.048732\n",
              "PC5     0.034714\n",
              "PC6     0.029752\n",
              "PC7     0.027814\n",
              "PC8     0.025586\n",
              "PC9     0.020016\n",
              "PC10    0.018488\n",
              "dtype: float64"
            ]
          },
          "metadata": {},
          "execution_count": 141
        }
      ]
    },
    {
      "cell_type": "code",
      "source": [
        "pc.samples.head()"
      ],
      "metadata": {
        "colab": {
          "base_uri": "https://localhost:8080/",
          "height": 207
        },
        "id": "ny1LpwS8lCnK",
        "outputId": "f5dad8d5-a023-4934-e69a-b4d49e71a0ea"
      },
      "execution_count": 142,
      "outputs": [
        {
          "output_type": "execute_result",
          "data": {
            "text/plain": [
              "                             PC1       PC2       PC3       PC4       PC5  \\\n",
              "13114.song.51.s009      0.023317 -0.051658 -0.247908  0.041966 -0.176730   \n",
              "13114.minich.76.s006    0.163732 -0.122986 -0.253442  0.086046 -0.124228   \n",
              "13114.stegen.38.s015    0.009595  0.327276  0.173003 -0.015656  0.011465   \n",
              "13114.mousseau.88.s056 -0.329605 -0.087515 -0.095712  0.028768 -0.066979   \n",
              "13114.king.27.s017      0.131945 -0.053207 -0.378280  0.097676  0.057511   \n",
              "\n",
              "                             PC6       PC7       PC8       PC9      PC10  \n",
              "13114.song.51.s009     -0.156197 -0.239486  0.096027 -0.112810  0.021831  \n",
              "13114.minich.76.s006   -0.115030 -0.043390 -0.069038  0.120781 -0.072686  \n",
              "13114.stegen.38.s015   -0.099660 -0.038498  0.250351  0.016467 -0.034087  \n",
              "13114.mousseau.88.s056 -0.056682 -0.145358  0.008798  0.027389 -0.067931  \n",
              "13114.king.27.s017      0.238568  0.041243  0.000310 -0.030538 -0.064424  "
            ],
            "text/html": [
              "\n",
              "  <div id=\"df-55402101-3850-4351-8ba7-9be58aa02aff\" class=\"colab-df-container\">\n",
              "    <div>\n",
              "<style scoped>\n",
              "    .dataframe tbody tr th:only-of-type {\n",
              "        vertical-align: middle;\n",
              "    }\n",
              "\n",
              "    .dataframe tbody tr th {\n",
              "        vertical-align: top;\n",
              "    }\n",
              "\n",
              "    .dataframe thead th {\n",
              "        text-align: right;\n",
              "    }\n",
              "</style>\n",
              "<table border=\"1\" class=\"dataframe\">\n",
              "  <thead>\n",
              "    <tr style=\"text-align: right;\">\n",
              "      <th></th>\n",
              "      <th>PC1</th>\n",
              "      <th>PC2</th>\n",
              "      <th>PC3</th>\n",
              "      <th>PC4</th>\n",
              "      <th>PC5</th>\n",
              "      <th>PC6</th>\n",
              "      <th>PC7</th>\n",
              "      <th>PC8</th>\n",
              "      <th>PC9</th>\n",
              "      <th>PC10</th>\n",
              "    </tr>\n",
              "  </thead>\n",
              "  <tbody>\n",
              "    <tr>\n",
              "      <th>13114.song.51.s009</th>\n",
              "      <td>0.023317</td>\n",
              "      <td>-0.051658</td>\n",
              "      <td>-0.247908</td>\n",
              "      <td>0.041966</td>\n",
              "      <td>-0.176730</td>\n",
              "      <td>-0.156197</td>\n",
              "      <td>-0.239486</td>\n",
              "      <td>0.096027</td>\n",
              "      <td>-0.112810</td>\n",
              "      <td>0.021831</td>\n",
              "    </tr>\n",
              "    <tr>\n",
              "      <th>13114.minich.76.s006</th>\n",
              "      <td>0.163732</td>\n",
              "      <td>-0.122986</td>\n",
              "      <td>-0.253442</td>\n",
              "      <td>0.086046</td>\n",
              "      <td>-0.124228</td>\n",
              "      <td>-0.115030</td>\n",
              "      <td>-0.043390</td>\n",
              "      <td>-0.069038</td>\n",
              "      <td>0.120781</td>\n",
              "      <td>-0.072686</td>\n",
              "    </tr>\n",
              "    <tr>\n",
              "      <th>13114.stegen.38.s015</th>\n",
              "      <td>0.009595</td>\n",
              "      <td>0.327276</td>\n",
              "      <td>0.173003</td>\n",
              "      <td>-0.015656</td>\n",
              "      <td>0.011465</td>\n",
              "      <td>-0.099660</td>\n",
              "      <td>-0.038498</td>\n",
              "      <td>0.250351</td>\n",
              "      <td>0.016467</td>\n",
              "      <td>-0.034087</td>\n",
              "    </tr>\n",
              "    <tr>\n",
              "      <th>13114.mousseau.88.s056</th>\n",
              "      <td>-0.329605</td>\n",
              "      <td>-0.087515</td>\n",
              "      <td>-0.095712</td>\n",
              "      <td>0.028768</td>\n",
              "      <td>-0.066979</td>\n",
              "      <td>-0.056682</td>\n",
              "      <td>-0.145358</td>\n",
              "      <td>0.008798</td>\n",
              "      <td>0.027389</td>\n",
              "      <td>-0.067931</td>\n",
              "    </tr>\n",
              "    <tr>\n",
              "      <th>13114.king.27.s017</th>\n",
              "      <td>0.131945</td>\n",
              "      <td>-0.053207</td>\n",
              "      <td>-0.378280</td>\n",
              "      <td>0.097676</td>\n",
              "      <td>0.057511</td>\n",
              "      <td>0.238568</td>\n",
              "      <td>0.041243</td>\n",
              "      <td>0.000310</td>\n",
              "      <td>-0.030538</td>\n",
              "      <td>-0.064424</td>\n",
              "    </tr>\n",
              "  </tbody>\n",
              "</table>\n",
              "</div>\n",
              "    <div class=\"colab-df-buttons\">\n",
              "\n",
              "  <div class=\"colab-df-container\">\n",
              "    <button class=\"colab-df-convert\" onclick=\"convertToInteractive('df-55402101-3850-4351-8ba7-9be58aa02aff')\"\n",
              "            title=\"Convert this dataframe to an interactive table.\"\n",
              "            style=\"display:none;\">\n",
              "\n",
              "  <svg xmlns=\"http://www.w3.org/2000/svg\" height=\"24px\" viewBox=\"0 -960 960 960\">\n",
              "    <path d=\"M120-120v-720h720v720H120Zm60-500h600v-160H180v160Zm220 220h160v-160H400v160Zm0 220h160v-160H400v160ZM180-400h160v-160H180v160Zm440 0h160v-160H620v160ZM180-180h160v-160H180v160Zm440 0h160v-160H620v160Z\"/>\n",
              "  </svg>\n",
              "    </button>\n",
              "\n",
              "  <style>\n",
              "    .colab-df-container {\n",
              "      display:flex;\n",
              "      gap: 12px;\n",
              "    }\n",
              "\n",
              "    .colab-df-convert {\n",
              "      background-color: #E8F0FE;\n",
              "      border: none;\n",
              "      border-radius: 50%;\n",
              "      cursor: pointer;\n",
              "      display: none;\n",
              "      fill: #1967D2;\n",
              "      height: 32px;\n",
              "      padding: 0 0 0 0;\n",
              "      width: 32px;\n",
              "    }\n",
              "\n",
              "    .colab-df-convert:hover {\n",
              "      background-color: #E2EBFA;\n",
              "      box-shadow: 0px 1px 2px rgba(60, 64, 67, 0.3), 0px 1px 3px 1px rgba(60, 64, 67, 0.15);\n",
              "      fill: #174EA6;\n",
              "    }\n",
              "\n",
              "    .colab-df-buttons div {\n",
              "      margin-bottom: 4px;\n",
              "    }\n",
              "\n",
              "    [theme=dark] .colab-df-convert {\n",
              "      background-color: #3B4455;\n",
              "      fill: #D2E3FC;\n",
              "    }\n",
              "\n",
              "    [theme=dark] .colab-df-convert:hover {\n",
              "      background-color: #434B5C;\n",
              "      box-shadow: 0px 1px 3px 1px rgba(0, 0, 0, 0.15);\n",
              "      filter: drop-shadow(0px 1px 2px rgba(0, 0, 0, 0.3));\n",
              "      fill: #FFFFFF;\n",
              "    }\n",
              "  </style>\n",
              "\n",
              "    <script>\n",
              "      const buttonEl =\n",
              "        document.querySelector('#df-55402101-3850-4351-8ba7-9be58aa02aff button.colab-df-convert');\n",
              "      buttonEl.style.display =\n",
              "        google.colab.kernel.accessAllowed ? 'block' : 'none';\n",
              "\n",
              "      async function convertToInteractive(key) {\n",
              "        const element = document.querySelector('#df-55402101-3850-4351-8ba7-9be58aa02aff');\n",
              "        const dataTable =\n",
              "          await google.colab.kernel.invokeFunction('convertToInteractive',\n",
              "                                                    [key], {});\n",
              "        if (!dataTable) return;\n",
              "\n",
              "        const docLinkHtml = 'Like what you see? Visit the ' +\n",
              "          '<a target=\"_blank\" href=https://colab.research.google.com/notebooks/data_table.ipynb>data table notebook</a>'\n",
              "          + ' to learn more about interactive tables.';\n",
              "        element.innerHTML = '';\n",
              "        dataTable['output_type'] = 'display_data';\n",
              "        await google.colab.output.renderOutput(dataTable, element);\n",
              "        const docLink = document.createElement('div');\n",
              "        docLink.innerHTML = docLinkHtml;\n",
              "        element.appendChild(docLink);\n",
              "      }\n",
              "    </script>\n",
              "  </div>\n",
              "\n",
              "\n",
              "<div id=\"df-56eadbb8-fe16-4f2d-afdf-c04ef901e966\">\n",
              "  <button class=\"colab-df-quickchart\" onclick=\"quickchart('df-56eadbb8-fe16-4f2d-afdf-c04ef901e966')\"\n",
              "            title=\"Suggest charts\"\n",
              "            style=\"display:none;\">\n",
              "\n",
              "<svg xmlns=\"http://www.w3.org/2000/svg\" height=\"24px\"viewBox=\"0 0 24 24\"\n",
              "     width=\"24px\">\n",
              "    <g>\n",
              "        <path d=\"M19 3H5c-1.1 0-2 .9-2 2v14c0 1.1.9 2 2 2h14c1.1 0 2-.9 2-2V5c0-1.1-.9-2-2-2zM9 17H7v-7h2v7zm4 0h-2V7h2v10zm4 0h-2v-4h2v4z\"/>\n",
              "    </g>\n",
              "</svg>\n",
              "  </button>\n",
              "\n",
              "<style>\n",
              "  .colab-df-quickchart {\n",
              "      --bg-color: #E8F0FE;\n",
              "      --fill-color: #1967D2;\n",
              "      --hover-bg-color: #E2EBFA;\n",
              "      --hover-fill-color: #174EA6;\n",
              "      --disabled-fill-color: #AAA;\n",
              "      --disabled-bg-color: #DDD;\n",
              "  }\n",
              "\n",
              "  [theme=dark] .colab-df-quickchart {\n",
              "      --bg-color: #3B4455;\n",
              "      --fill-color: #D2E3FC;\n",
              "      --hover-bg-color: #434B5C;\n",
              "      --hover-fill-color: #FFFFFF;\n",
              "      --disabled-bg-color: #3B4455;\n",
              "      --disabled-fill-color: #666;\n",
              "  }\n",
              "\n",
              "  .colab-df-quickchart {\n",
              "    background-color: var(--bg-color);\n",
              "    border: none;\n",
              "    border-radius: 50%;\n",
              "    cursor: pointer;\n",
              "    display: none;\n",
              "    fill: var(--fill-color);\n",
              "    height: 32px;\n",
              "    padding: 0;\n",
              "    width: 32px;\n",
              "  }\n",
              "\n",
              "  .colab-df-quickchart:hover {\n",
              "    background-color: var(--hover-bg-color);\n",
              "    box-shadow: 0 1px 2px rgba(60, 64, 67, 0.3), 0 1px 3px 1px rgba(60, 64, 67, 0.15);\n",
              "    fill: var(--button-hover-fill-color);\n",
              "  }\n",
              "\n",
              "  .colab-df-quickchart-complete:disabled,\n",
              "  .colab-df-quickchart-complete:disabled:hover {\n",
              "    background-color: var(--disabled-bg-color);\n",
              "    fill: var(--disabled-fill-color);\n",
              "    box-shadow: none;\n",
              "  }\n",
              "\n",
              "  .colab-df-spinner {\n",
              "    border: 2px solid var(--fill-color);\n",
              "    border-color: transparent;\n",
              "    border-bottom-color: var(--fill-color);\n",
              "    animation:\n",
              "      spin 1s steps(1) infinite;\n",
              "  }\n",
              "\n",
              "  @keyframes spin {\n",
              "    0% {\n",
              "      border-color: transparent;\n",
              "      border-bottom-color: var(--fill-color);\n",
              "      border-left-color: var(--fill-color);\n",
              "    }\n",
              "    20% {\n",
              "      border-color: transparent;\n",
              "      border-left-color: var(--fill-color);\n",
              "      border-top-color: var(--fill-color);\n",
              "    }\n",
              "    30% {\n",
              "      border-color: transparent;\n",
              "      border-left-color: var(--fill-color);\n",
              "      border-top-color: var(--fill-color);\n",
              "      border-right-color: var(--fill-color);\n",
              "    }\n",
              "    40% {\n",
              "      border-color: transparent;\n",
              "      border-right-color: var(--fill-color);\n",
              "      border-top-color: var(--fill-color);\n",
              "    }\n",
              "    60% {\n",
              "      border-color: transparent;\n",
              "      border-right-color: var(--fill-color);\n",
              "    }\n",
              "    80% {\n",
              "      border-color: transparent;\n",
              "      border-right-color: var(--fill-color);\n",
              "      border-bottom-color: var(--fill-color);\n",
              "    }\n",
              "    90% {\n",
              "      border-color: transparent;\n",
              "      border-bottom-color: var(--fill-color);\n",
              "    }\n",
              "  }\n",
              "</style>\n",
              "\n",
              "  <script>\n",
              "    async function quickchart(key) {\n",
              "      const quickchartButtonEl =\n",
              "        document.querySelector('#' + key + ' button');\n",
              "      quickchartButtonEl.disabled = true;  // To prevent multiple clicks.\n",
              "      quickchartButtonEl.classList.add('colab-df-spinner');\n",
              "      try {\n",
              "        const charts = await google.colab.kernel.invokeFunction(\n",
              "            'suggestCharts', [key], {});\n",
              "      } catch (error) {\n",
              "        console.error('Error during call to suggestCharts:', error);\n",
              "      }\n",
              "      quickchartButtonEl.classList.remove('colab-df-spinner');\n",
              "      quickchartButtonEl.classList.add('colab-df-quickchart-complete');\n",
              "    }\n",
              "    (() => {\n",
              "      let quickchartButtonEl =\n",
              "        document.querySelector('#df-56eadbb8-fe16-4f2d-afdf-c04ef901e966 button');\n",
              "      quickchartButtonEl.style.display =\n",
              "        google.colab.kernel.accessAllowed ? 'block' : 'none';\n",
              "    })();\n",
              "  </script>\n",
              "</div>\n",
              "\n",
              "    </div>\n",
              "  </div>\n"
            ],
            "application/vnd.google.colaboratory.intrinsic+json": {
              "type": "dataframe",
              "summary": "{\n  \"name\": \"pc\",\n  \"rows\": 5,\n  \"fields\": [\n    {\n      \"column\": \"PC1\",\n      \"properties\": {\n        \"dtype\": \"number\",\n        \"std\": 0.1958906421710101,\n        \"min\": -0.32960501080467364,\n        \"max\": 0.16373207353342864,\n        \"num_unique_values\": 5,\n        \"samples\": [\n          0.16373207353342864,\n          0.13194453576114992,\n          0.009594849022603208\n        ],\n        \"semantic_type\": \"\",\n        \"description\": \"\"\n      }\n    },\n    {\n      \"column\": \"PC2\",\n      \"properties\": {\n        \"dtype\": \"number\",\n        \"std\": 0.1839599377856593,\n        \"min\": -0.12298583289311447,\n        \"max\": 0.32727595718611124,\n        \"num_unique_values\": 5,\n        \"samples\": [\n          -0.12298583289311447,\n          -0.053206816371163736,\n          0.32727595718611124\n        ],\n        \"semantic_type\": \"\",\n        \"description\": \"\"\n      }\n    },\n    {\n      \"column\": \"PC3\",\n      \"properties\": {\n        \"dtype\": \"number\",\n        \"std\": 0.21161783291879244,\n        \"min\": -0.37828031350925756,\n        \"max\": 0.17300331225351223,\n        \"num_unique_values\": 5,\n        \"samples\": [\n          -0.25344160201363547,\n          -0.37828031350925756,\n          0.17300331225351223\n        ],\n        \"semantic_type\": \"\",\n        \"description\": \"\"\n      }\n    },\n    {\n      \"column\": \"PC4\",\n      \"properties\": {\n        \"dtype\": \"number\",\n        \"std\": 0.045752776719891586,\n        \"min\": -0.01565593069423586,\n        \"max\": 0.09767558169929925,\n        \"num_unique_values\": 5,\n        \"samples\": [\n          0.0860464087238437,\n          0.09767558169929925,\n          -0.01565593069423586\n        ],\n        \"semantic_type\": \"\",\n        \"description\": \"\"\n      }\n    },\n    {\n      \"column\": \"PC5\",\n      \"properties\": {\n        \"dtype\": \"number\",\n        \"std\": 0.09580664261363414,\n        \"min\": -0.17673015191699815,\n        \"max\": 0.05751094351083107,\n        \"num_unique_values\": 5,\n        \"samples\": [\n          -0.12422800502004157,\n          0.05751094351083107,\n          0.011464500804437597\n        ],\n        \"semantic_type\": \"\",\n        \"description\": \"\"\n      }\n    },\n    {\n      \"column\": \"PC6\",\n      \"properties\": {\n        \"dtype\": \"number\",\n        \"std\": 0.15854422563444587,\n        \"min\": -0.15619708102072088,\n        \"max\": 0.2385683613822681,\n        \"num_unique_values\": 5,\n        \"samples\": [\n          -0.11503028529370851,\n          0.2385683613822681,\n          -0.099660453633198\n        ],\n        \"semantic_type\": \"\",\n        \"description\": \"\"\n      }\n    },\n    {\n      \"column\": \"PC7\",\n      \"properties\": {\n        \"dtype\": \"number\",\n        \"std\": 0.10878903860963875,\n        \"min\": -0.23948605957992464,\n        \"max\": 0.04124343091887888,\n        \"num_unique_values\": 5,\n        \"samples\": [\n          -0.0433901650449641,\n          0.04124343091887888,\n          -0.03849829074320627\n        ],\n        \"semantic_type\": \"\",\n        \"description\": \"\"\n      }\n    },\n    {\n      \"column\": \"PC8\",\n      \"properties\": {\n        \"dtype\": \"number\",\n        \"std\": 0.12281096944060695,\n        \"min\": -0.06903809871194848,\n        \"max\": 0.25035126697506443,\n        \"num_unique_values\": 5,\n        \"samples\": [\n          -0.06903809871194848,\n          0.0003103799607292069,\n          0.25035126697506443\n        ],\n        \"semantic_type\": \"\",\n        \"description\": \"\"\n      }\n    },\n    {\n      \"column\": \"PC9\",\n      \"properties\": {\n        \"dtype\": \"number\",\n        \"std\": 0.08540678832568369,\n        \"min\": -0.11280961690960621,\n        \"max\": 0.12078111347740006,\n        \"num_unique_values\": 5,\n        \"samples\": [\n          0.12078111347740006,\n          -0.03053772752289471,\n          0.016466549630783592\n        ],\n        \"semantic_type\": \"\",\n        \"description\": \"\"\n      }\n    },\n    {\n      \"column\": \"PC10\",\n      \"properties\": {\n        \"dtype\": \"number\",\n        \"std\": 0.039507228859989946,\n        \"min\": -0.07268640553957341,\n        \"max\": 0.021831257439978748,\n        \"num_unique_values\": 5,\n        \"samples\": [\n          -0.07268640553957341,\n          -0.06442392974660432,\n          -0.03408716879408155\n        ],\n        \"semantic_type\": \"\",\n        \"description\": \"\"\n      }\n    }\n  ]\n}"
            }
          },
          "metadata": {},
          "execution_count": 142
        }
      ]
    },
    {
      "cell_type": "markdown",
      "source": [
        "Using the coordinats, we can make a single scatter plot of the samples."
      ],
      "metadata": {
        "id": "47wB2PbWO-B-"
      }
    },
    {
      "cell_type": "code",
      "source": [
        "plt.scatter(pc.samples['PC1'], pc.samples['PC2'], s=1)"
      ],
      "metadata": {
        "colab": {
          "base_uri": "https://localhost:8080/",
          "height": 448
        },
        "id": "TNezlo8_lLpz",
        "outputId": "59d77e89-d0e3-4176-8f80-55d259958eae"
      },
      "execution_count": 143,
      "outputs": [
        {
          "output_type": "execute_result",
          "data": {
            "text/plain": [
              "<matplotlib.collections.PathCollection at 0x7babf2f31030>"
            ]
          },
          "metadata": {},
          "execution_count": 143
        },
        {
          "output_type": "display_data",
          "data": {
            "text/plain": [
              "<Figure size 640x480 with 1 Axes>"
            ],
            "image/png": "[encoded data removed]"
          },
          "metadata": {}
        }
      ]
    },
    {
      "cell_type": "markdown",
      "source": [
        "...but that's not that interesting. Let's add some color. We're going to do this a couple of times so let's write a small function.\n",
        "\n",
        "**NOTE**: We also recommend [EMPeror](https://academic.oup.com/gigascience/article/2/1/2047-217X-2-16/2656132) for large scale visualization. It is compatible with the `OrdinationResults` object, supports interactive operation and various brushing options.  "
      ],
      "metadata": {
        "id": "cx1WOdeWm3Wx"
      }
    },
    {
      "cell_type": "code",
      "source": [
        "def pcoa_plot(ord_result, metadata, category, title=None):\n",
        "  # adjust the point size based on the number of samples\n",
        "  if len(ord_result.samples) > 300:\n",
        "    s = 1\n",
        "  else:\n",
        "    s = 5\n",
        "\n",
        "  labels = []\n",
        "\n",
        "  ord_ids = set(ord_result.samples.index)\n",
        "  category_series = metadata.get_column(category).to_series()\n",
        "  for env in category_series.unique():\n",
        "    labels.append(env)\n",
        "\n",
        "    env_ids = metadata.get_ids(where=f\"[{category}] = '{env}'\")\n",
        "    env_ids = list(env_ids & ord_ids)\n",
        "\n",
        "    plt.scatter(ord_result.samples.loc[env_ids, 'PC1'],\n",
        "                ord_result.samples.loc[env_ids, 'PC2'],\n",
        "                s=s, alpha=0.75)\n",
        "  ax = plt.gca()\n",
        "  ax.set_xlabel(f'PC1 {100 * (ord_result.proportion_explained[0]):.2f}%')\n",
        "  ax.set_ylabel(f'PC2 {100 * (ord_result.proportion_explained[1]):.2f}%')\n",
        "  plt.legend(labels)\n",
        "  if title is not None:\n",
        "    plt.title(title)"
      ],
      "metadata": {
        "id": "xrKx1hawli4i"
      },
      "execution_count": 198,
      "outputs": []
    },
    {
      "cell_type": "code",
      "source": [
        "pcoa_plot(pc, metadata, 'empo_1')"
      ],
      "metadata": {
        "colab": {
          "base_uri": "https://localhost:8080/",
          "height": 449
        },
        "id": "17y4TAwpqYPy",
        "outputId": "f010ee33-19ee-4478-ff3a-d5be7196a908"
      },
      "execution_count": 199,
      "outputs": [
        {
          "output_type": "display_data",
          "data": {
            "text/plain": [
              "<Figure size 640x480 with 1 Axes>"
            ],
            "image/png": "[encoded data removed]"
          },
          "metadata": {}
        }
      ]
    },
    {
      "cell_type": "markdown",
      "source": [
        "To support the above analyses, we will apply [PERMANOVA](https://onlinelibrary.wiley.com/doi/10.1111/j.1442-9993.2001.01070.pp.x) to the distances. PERMANOVA is a non-parametric analysis of variance. By default, PERMANOVA computes 999 permutations which is used to estimate the p-value."
      ],
      "metadata": {
        "id": "n95VoxSGnuJX"
      }
    },
    {
      "cell_type": "code",
      "source": [
        "skbio.stats.distance.permanova(full_dm, empo_1)"
      ],
      "metadata": {
        "colab": {
          "base_uri": "https://localhost:8080/"
        },
        "id": "mwUbIzRblvah",
        "outputId": "21bd0c6d-c0af-4fcc-d5bb-d0f2736fced9"
      },
      "execution_count": 157,
      "outputs": [
        {
          "output_type": "execute_result",
          "data": {
            "text/plain": [
              "method name               PERMANOVA\n",
              "test statistic name        pseudo-F\n",
              "sample size                     526\n",
              "number of groups                  2\n",
              "test statistic            39.749273\n",
              "p-value                       0.001\n",
              "number of permutations          999\n",
              "Name: PERMANOVA results, dtype: object"
            ]
          },
          "metadata": {},
          "execution_count": 157
        }
      ]
    },
    {
      "cell_type": "markdown",
      "source": [
        "Now, let's tinker.\n",
        "\n",
        "We might wonder whether the sample-to-sample relationships are consistent when constrained to particular phyla.\n",
        "\n",
        "To do this, we're going to aggregate sample information up the phylogey (from tip to root). Specifically, we are going to determine the set of samples a feature is present in, and then push the unique sample IDs up the tree through a postorder traversal, effecively reducing the information.\n",
        "\n",
        "While doing so, we are also going to cache the names of the features found within a clade simply to facilitate filtering later on.\n",
        "\n"
      ],
      "metadata": {
        "id": "YdBZgroto5PE"
      }
    },
    {
      "cell_type": "code",
      "source": [
        "sample_ids = even_table.ids()\n",
        "\n",
        "# this complex dict comprehension maps a feature ID to the set of\n",
        "# samples that feature was found it. The v.indices attribute is the\n",
        "# index positions of the nonzero values within a SciPy sparse vector\n",
        "samples_represented = {id_: set(sample_ids[v.indices])\n",
        "                       for v, id_, _ in even_table.iter(axis='observation', dense=False)}"
      ],
      "metadata": {
        "id": "rC2vFgbQrguK"
      },
      "execution_count": 173,
      "outputs": []
    },
    {
      "cell_type": "markdown",
      "source": [
        "Postorder means children are assured to be evaluted before parents. The TreeNode supports many types of traversals, and pleasant examples of common traversals can be found on [Wikipedia](https://en.wikipedia.org/wiki/Tree_traversal). Here, we will decorate these new attributes onto the tree.\n",
        "\n",
        "The algorithm is:\n",
        "1. if the object being evaluated is a tip\n",
        "* get the samples represnted (or the empty set)\n",
        "* construct a set composed of only the feature name\n",
        "2. else the object must be an internal node\n",
        "* compute the set union of samples represented\n",
        "* compute the set union of features represented"
      ],
      "metadata": {
        "id": "bK9Bcb_HUPqo"
      }
    },
    {
      "cell_type": "code",
      "source": [
        "for node in phylogeny.postorder():\n",
        "  if node.is_tip():\n",
        "    node.samples_represented = samples_represented.get(node.name, set())\n",
        "    node.tips_represented = {node.name, }\n",
        "  else:\n",
        "    node.samples_represented = reduce(or_, [child.samples_represented for child in node.children])\n",
        "    node.tips_represented = reduce(or_, [child.tips_represented for child in node.children])"
      ],
      "metadata": {
        "id": "SFlL4vaCrgqH"
      },
      "execution_count": 193,
      "outputs": []
    },
    {
      "cell_type": "code",
      "source": [
        "# Let's spot check what the representation is at the domain level\n",
        "for child in phylogeny.children:\n",
        "  print(f\"Samples with {child.name}: {len(child.samples_represented)}\")"
      ],
      "metadata": {
        "colab": {
          "base_uri": "https://localhost:8080/"
        },
        "id": "m-jTAJhYrgkQ",
        "outputId": "ef067cda-d8e2-4234-d20e-4767c9a26c11"
      },
      "execution_count": 175,
      "outputs": [
        {
          "output_type": "stream",
          "name": "stdout",
          "text": [
            "Samples with d__Bacteria: 526\n",
            "Samples with d__Archaea: 61\n"
          ]
        }
      ]
    },
    {
      "cell_type": "markdown",
      "source": [
        "Next, let's gather all phylum level named nodes (p__), sort them by how many samples are represented, and print the top few"
      ],
      "metadata": {
        "id": "8AZBR29tUrRd"
      }
    },
    {
      "cell_type": "code",
      "source": [
        "named_nodes = [(n.name, len(n.samples_represented), n)\n",
        "               for n in phylogeny.traverse()\n",
        "               if n.name is not None and n.name.startswith('p__')]\n",
        "\n",
        "named_nodes = sorted(named_nodes, key=itemgetter(1), reverse=True)\n",
        "for name, count, _ in named_nodes[:10]:\n",
        "  print(f\"Samples with {name}: {count}\")"
      ],
      "metadata": {
        "colab": {
          "base_uri": "https://localhost:8080/"
        },
        "id": "k7xxaa22rgcV",
        "outputId": "44ee6cbc-7afe-4f77-c172-10bc77f5976d"
      },
      "execution_count": 176,
      "outputs": [
        {
          "output_type": "stream",
          "name": "stdout",
          "text": [
            "Samples with p__Proteobacteria: 521\n",
            "Samples with p__Firmicutes_D: 464\n",
            "Samples with p__Bacteroidota: 416\n",
            "Samples with p__Cyanobacteria: 409\n",
            "Samples with p__Firmicutes_A: 402\n",
            "Samples with p__Actinobacteriota: 384\n",
            "Samples with p__Verrucomicrobiota: 203\n",
            "Samples with p__Acidobacteriota: 187\n",
            "Samples with p__Deinococcota; c__Deinococci: 152\n",
            "Samples with p__Planctomycetota: 143\n"
          ]
        }
      ]
    },
    {
      "cell_type": "code",
      "source": [
        "# A helper function to intersect a table with the features represented by a node\n",
        "\n",
        "def intersect_with_node(tab, node):\n",
        "  tips_in_table = set(tab.ids(axis='observation'))\n",
        "  tipset = node.tips_represented & tips_in_table\n",
        "  return tab.filter(tipset, axis='observation', inplace=False).remove_empty()"
      ],
      "metadata": {
        "id": "A39vNj4MpB-n"
      },
      "execution_count": 177,
      "outputs": []
    },
    {
      "cell_type": "markdown",
      "source": [
        "Now we will take two interesting sets. While testing this notebook, it was noted the number of sample IDs in common between Proteobacteria and Firmicutes_D, after rarefaction, was relatively low. So instead, let's look at Proteobacteria and Bacteroidota.\n",
        "\n",
        "The next few cells filter the feature table to each phyla of focus, constrain them to the exact same set of IDs, compute UniFrac again, and then principal coordinates."
      ],
      "metadata": {
        "id": "XmyM8QYTUwm1"
      }
    },
    {
      "cell_type": "code",
      "source": [
        "first_name, _, first_node = named_nodes[0]\n",
        "second_name, _, second_node = named_nodes[2]\n",
        "\n",
        "even_table_first = intersect_with_node(table, first_node).subsample(depth)\n",
        "even_table_second = intersect_with_node(table, second_node).subsample(depth)"
      ],
      "metadata": {
        "id": "g_1lZQCNpLVj"
      },
      "execution_count": 195,
      "outputs": []
    },
    {
      "cell_type": "code",
      "source": [
        "common_ids = set(even_table_first.ids()) & set(even_table_second.ids())\n",
        "even_table_first = even_table_first.filter(common_ids).remove_empty()\n",
        "even_table_second = even_table_second.filter(common_ids).remove_empty()"
      ],
      "metadata": {
        "id": "gEVKgeNKpnRM"
      },
      "execution_count": 184,
      "outputs": []
    },
    {
      "cell_type": "code",
      "source": [
        "first_dm = skbio.diversity.beta_diversity('unweighted_unifrac', even_table_first, tree=phylogeny)\n",
        "second_dm = skbio.diversity.beta_diversity('unweighted_unifrac', even_table_second, tree=phylogeny)"
      ],
      "metadata": {
        "id": "hleaBnM5p3ad"
      },
      "execution_count": 185,
      "outputs": []
    },
    {
      "cell_type": "code",
      "source": [
        "first_pc = skbio.stats.ordination.pcoa(first_dm, number_of_dimensions=10)\n",
        "second_pc = skbio.stats.ordination.pcoa(second_dm, number_of_dimensions=10)"
      ],
      "metadata": {
        "colab": {
          "base_uri": "https://localhost:8080/"
        },
        "id": "HKPG6vGqqvIE",
        "outputId": "22f547de-b198-4926-83aa-f968c92f9dbb"
      },
      "execution_count": 186,
      "outputs": [
        {
          "output_type": "stream",
          "name": "stderr",
          "text": [
            "/usr/local/lib/python3.10/dist-packages/skbio/stats/ordination/_principal_coordinate_analysis.py:146: RuntimeWarning: The result contains negative eigenvalues. Please compare their magnitude with the magnitude of some of the largest positive eigenvalues. If the negative ones are smaller, it's probably safe to ignore them, but if they are large in magnitude, the results won't be useful. See the Notes section for more details. The smallest eigenvalue is -0.14093970927294128 and the largest is 5.29841437610059.\n",
            "  warn(\n",
            "/usr/local/lib/python3.10/dist-packages/skbio/stats/ordination/_principal_coordinate_analysis.py:146: RuntimeWarning: The result contains negative eigenvalues. Please compare their magnitude with the magnitude of some of the largest positive eigenvalues. If the negative ones are smaller, it's probably safe to ignore them, but if they are large in magnitude, the results won't be useful. See the Notes section for more details. The smallest eigenvalue is -0.1450398862708215 and the largest is 9.785459246256126.\n",
            "  warn(\n"
          ]
        }
      ]
    },
    {
      "cell_type": "markdown",
      "source": [
        "Now we can visualize these clade specific beta diversity calculations!"
      ],
      "metadata": {
        "id": "zuKSfRoGVLvl"
      }
    },
    {
      "cell_type": "code",
      "source": [
        "pcoa_plot(first_pc, metadata, 'empo_1', first_name)"
      ],
      "metadata": {
        "colab": {
          "base_uri": "https://localhost:8080/",
          "height": 472
        },
        "id": "HkaM_3_BqDum",
        "outputId": "574b2f78-471b-4cd5-91e1-8d962e33ac8b"
      },
      "execution_count": 200,
      "outputs": [
        {
          "output_type": "display_data",
          "data": {
            "text/plain": [
              "<Figure size 640x480 with 1 Axes>"
            ],
            "image/png": "[encoded data removed]"
          },
          "metadata": {}
        }
      ]
    },
    {
      "cell_type": "code",
      "source": [
        "pcoa_plot(second_pc, metadata, 'empo_1', second_name)"
      ],
      "metadata": {
        "colab": {
          "base_uri": "https://localhost:8080/",
          "height": 472
        },
        "id": "hGyklWnWq4ZD",
        "outputId": "62bd19b3-ce41-44cd-ffd1-d710514f8d85"
      },
      "execution_count": 201,
      "outputs": [
        {
          "output_type": "display_data",
          "data": {
            "text/plain": [
              "<Figure size 640x480 with 1 Axes>"
            ],
            "image/png": "[encoded data removed]"
          },
          "metadata": {}
        }
      ]
    },
    {
      "cell_type": "markdown",
      "source": [
        "We additionally can compute the correlation of the sample-sample relationships in both phyla using a [Mantel](https://pubmed.ncbi.nlm.nih.gov/6018555/) test. Mantel like PERMANOVA is non-parametric and by default uses 999 repetitions to estimate a p-value.\n",
        "\n",
        "In the next few cells, we will compare Proteobacteria to Bacteroidota, Proteobacteria to the full tree, and Bacteroidota to the full tree. We then will apply PERMANOVA to these clade specific distance matrices.\n",
        "\n",
        "Interestingly, we observe a relatively low correlation between these two phyla, and it seems the sample-sample relationships within Bacteroidota better recapitulate the full distance matrix. This observation is further supported by the relative difference in test statistics from PERMANOVA, where the statistic is larger between host and non-host samples."
      ],
      "metadata": {
        "id": "O5cBa12mVgaA"
      }
    },
    {
      "cell_type": "code",
      "source": [
        "r, p, _ = skbio.stats.distance.mantel(first_dm, second_dm)\n",
        "print(f\"Mantel r={r:0.2} p={p:0.2}\")"
      ],
      "metadata": {
        "colab": {
          "base_uri": "https://localhost:8080/"
        },
        "id": "ymJx8PxsrKMb",
        "outputId": "a30b59f8-8ea9-45b0-eb25-14f4ef143595"
      },
      "execution_count": 204,
      "outputs": [
        {
          "output_type": "stream",
          "name": "stdout",
          "text": [
            "Mantel r=0.46 p=0.001\n"
          ]
        }
      ]
    },
    {
      "cell_type": "code",
      "source": [
        "r, p, _ = skbio.stats.distance.mantel(full_dm, first_dm, strict=False)\n",
        "print(f\"Mantel r={r:0.2} p={p:0.2}\")"
      ],
      "metadata": {
        "colab": {
          "base_uri": "https://localhost:8080/"
        },
        "id": "JtTeQYdExdC9",
        "outputId": "681135a9-5e4d-4d16-a28c-5a210c9aacf2"
      },
      "execution_count": 191,
      "outputs": [
        {
          "output_type": "execute_result",
          "data": {
            "text/plain": [
              "(0.6305529149831159, 0.001, 103)"
            ]
          },
          "metadata": {},
          "execution_count": 191
        }
      ]
    },
    {
      "cell_type": "code",
      "source": [
        "r, p, _ = skbio.stats.distance.mantel(full_dm, second_dm, strict=False)\n",
        "print(f\"Mantel r={r:0.2} p={p:0.2}\")"
      ],
      "metadata": {
        "colab": {
          "base_uri": "https://localhost:8080/"
        },
        "id": "nPs5MeHFxw25",
        "outputId": "45475039-4369-4db7-9253-b46acb5d174f"
      },
      "execution_count": 192,
      "outputs": [
        {
          "output_type": "execute_result",
          "data": {
            "text/plain": [
              "(0.7687094835092247, 0.001, 103)"
            ]
          },
          "metadata": {},
          "execution_count": 192
        }
      ]
    },
    {
      "cell_type": "code",
      "source": [
        "skbio.stats.distance.permanova(first_dm, empo_1)"
      ],
      "metadata": {
        "colab": {
          "base_uri": "https://localhost:8080/"
        },
        "id": "kFo4Wx-jxy0J",
        "outputId": "6395597d-87ec-4b80-9cfa-ff2bd79b3a3f"
      },
      "execution_count": 111,
      "outputs": [
        {
          "output_type": "execute_result",
          "data": {
            "text/plain": [
              "method name               PERMANOVA\n",
              "test statistic name        pseudo-F\n",
              "sample size                     103\n",
              "number of groups                  2\n",
              "test statistic            25.186022\n",
              "p-value                       0.001\n",
              "number of permutations          999\n",
              "Name: PERMANOVA results, dtype: object"
            ]
          },
          "metadata": {},
          "execution_count": 111
        }
      ]
    },
    {
      "cell_type": "code",
      "source": [
        "skbio.stats.distance.permanova(second_dm, empo_1)"
      ],
      "metadata": {
        "colab": {
          "base_uri": "https://localhost:8080/"
        },
        "id": "bdK2VESdyjSx",
        "outputId": "a25568d0-526f-44f6-d441-2dd790097b6d"
      },
      "execution_count": 112,
      "outputs": [
        {
          "output_type": "execute_result",
          "data": {
            "text/plain": [
              "method name               PERMANOVA\n",
              "test statistic name        pseudo-F\n",
              "sample size                     103\n",
              "number of groups                  2\n",
              "test statistic            47.581565\n",
              "p-value                       0.001\n",
              "number of permutations          999\n",
              "Name: PERMANOVA results, dtype: object"
            ]
          },
          "metadata": {},
          "execution_count": 112
        }
      ]
    },
    {
      "cell_type": "markdown",
      "source": [
        "And last, we will compute the Procrustes disparity, a measure of fit, between the clade specific ordinations.\n",
        "\n",
        "Procrustes can also be permuted to estimate a p-value, however that is not directly supported at this time within scikit-bio. The procedure is relatively simple though: iterate N times, randomly shuffle the IDs of one of the matrices, recomptue Procrustes. This too is slated for inclusion directly in scikit-bio. And last, the EMPeror library (noted above) can plot Procrustes transforms linking the samples in both ordinations visually."
      ],
      "metadata": {
        "id": "zp5OO5ABXcbE"
      }
    },
    {
      "cell_type": "code",
      "source": [
        "mtx1, mtx2, disparity = scipy.spatial.procrustes(first_pc.samples[['PC1', 'PC2']],\n",
        "                                                 second_pc.samples[['PC1', 'PC2']])\n",
        "print(disparity)"
      ],
      "metadata": {
        "colab": {
          "base_uri": "https://localhost:8080/"
        },
        "id": "o8VwLJQrylOk",
        "outputId": "53d0aead-5aed-4789-add6-5fe60a2c4c55"
      },
      "execution_count": 206,
      "outputs": [
        {
          "output_type": "stream",
          "name": "stdout",
          "text": [
            "0.443408286020352\n"
          ]
        }
      ]
    },
    {
      "cell_type": "code",
      "source": [],
      "metadata": {
        "id": "xrFt28LDWMYj"
      },
      "execution_count": null,
      "outputs": []
    }
  ]
}