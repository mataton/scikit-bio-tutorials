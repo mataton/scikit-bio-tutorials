{
 "cells": [
  {
   "cell_type": "markdown",
   "metadata": {},
   "source": [
    "# Creating and searching against vector databases with TM-Vec\n",
    "\n",
    "To form protein databases that are easily stored using vector embeddings, we will:\n",
    "1. Generate a DB of protein vectors\n",
    "2. Convert our output to a FAISS DB (for search)\n",
    "3. Search against our DB and plot the results"
   ]
  },
  {
   "cell_type": "code",
   "execution_count": 1,
   "metadata": {},
   "outputs": [],
   "source": [
    "# import necessary functions\n",
    "import skbio\n",
    "import seaborn as sns\n",
    "import matplotlib.pyplot as plt\n",
    "import numpy as np\n",
    "import faiss"
   ]
  },
  {
   "cell_type": "markdown",
   "metadata": {},
   "source": [
    "## Building a vector database\n",
    "\n",
    "We can directly feed our FASTA file into the tmvec build_db __CLI__ function, which will output our \n",
    "vectors as a .npz file in the specified directory.\n",
    "\n",
    "This function takes in as an input:\n",
    "1. --input-fasta: A FASTA file containing your sequences.\n",
    "2. --output: the file location to output to.\n",
    "\n",
    "After this, we will feed the resulting .npz file into a numpy array, and convert it to a FAISS index."
   ]
  },
  {
   "cell_type": "code",
   "execution_count": 1,
   "metadata": {},
   "outputs": [
    {
     "name": "stdout",
     "output_type": "stream",
     "text": [
      "[2024-06-14 05:34:58] cli.build_db INFO: Removed 0 sequences longer than 1024 residues.\n",
      "/home/pbatra6/GitHub/tm-vec/tmvec/vectorizer.py:103: UserWarning: Model not found locally. Loading from HuggingFace Hub.This will require an internet connection.\n",
      "  warnings.warn(\n",
      "[2024-06-14 05:35:43] cli.build_db INFO: Please, do not move or rename input FASTA file, TM-Vec model and config files and ProtT5 model. They will be used to for sequence search. It is a design feature to ensure the consistency of the models used. If the location has chaged you can manually modify the database.\n"
     ]
    }
   ],
   "source": [
    "!tmvec build-db --input-fasta bagel.fa --output test_db/bagel_fasta\n",
    "# add flag functionality"
   ]
  },
  {
   "cell_type": "code",
   "execution_count": 5,
   "metadata": {},
   "outputs": [],
   "source": [
    "embedded_data = np.load('test_db/bagel_fasta.npz')\n",
    "# to_ord\n",
    "vectors = embedded_data['embeddings']\n"
   ]
  },
  {
   "cell_type": "markdown",
   "metadata": {},
   "source": [
    "## Plot the ordination results\n",
    "\n",
    "Now, with our FAISS DB in hand, we can use the search __CLI__ function to search for proteins against our database, and return the k-nearest neighbors results.  \n",
    "\n",
    "Finally, we can utilize the embed_vec_to_ordination function to create ordination objects from our search and plot them."
   ]
  },
  {
   "cell_type": "code",
   "execution_count": 2,
   "metadata": {},
   "outputs": [
    {
     "name": "stdout",
     "output_type": "stream",
     "text": [
      "[2024-06-14 05:36:34] cli.search INFO: Removed 0 sequences longer than 1024 residues.\n",
      "/home/pbatra6/GitHub/tm-vec/tmvec/vectorizer.py:103: UserWarning: Model not found locally. Loading from HuggingFace Hub.This will require an internet connection.\n",
      "  warnings.warn(\n"
     ]
    }
   ],
   "source": [
    "!tmvec search --input-fasta bagel.fa --database test_db/bagel_fasta.npz --output test_db/bagel_search_results"
   ]
  },
  {
   "cell_type": "code",
   "execution_count": null,
   "metadata": {},
   "outputs": [],
   "source": []
  }
 ],
 "metadata": {
  "kernelspec": {
   "display_name": ".env",
   "language": "python",
   "name": "python3"
  },
  "language_info": {
   "codemirror_mode": {
    "name": "ipython",
    "version": 3
   },
   "file_extension": ".py",
   "mimetype": "text/x-python",
   "name": "python",
   "nbconvert_exporter": "python",
   "pygments_lexer": "ipython3",
   "version": "3.12.3"
  }
 },
 "nbformat": 4,
 "nbformat_minor": 2
}
