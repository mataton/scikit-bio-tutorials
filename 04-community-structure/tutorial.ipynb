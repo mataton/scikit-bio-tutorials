{
 "cells": [
  {
   "cell_type": "markdown",
   "id": "905db6c1-1859-4f32-95ce-c24630170b87",
   "metadata": {},
   "source": [
    "# Phylogenetic alpha diversity analysis"
   ]
  },
  {
   "cell_type": "markdown",
   "id": "65c32f7c-267e-4140-b3c8-4a4b8e317175",
   "metadata": {},
   "source": [
    "This notebook demonstrates alpha diversity analysis of the classical \"[Moving Pictures](https://docs.qiime2.org/2022.8/tutorials/moving-pictures/)\" dataset using Python. Please compare the results of this workflow and those of the official QIIME 2 tutorial.\n",
    "\n",
    "This workflow requires basic Python data science libraries, including: numpy, scipy, pandas, matplotlib, and statsmodels.\n",
    "\n",
    "It further requires the Python bioinformatics library: [scikit-bio](http://scikit-bio.org/), which provides implementations of multiple alpha diversity metrics ([list](http://scikit-bio.org/docs/latest/generated/skbio.diversity.alpha.html)), among other phylogenetic community ecology analysis functionalities."
   ]
  },
  {
   "cell_type": "markdown",
   "id": "8ca3f43f-def0-4a8f-8991-2bd399b8571c",
   "metadata": {},
   "source": [
    "## Preparation"
   ]
  },
  {
   "cell_type": "markdown",
   "id": "9fdf1285-0aef-4a23-9ddf-721ecb09d44f",
   "metadata": {},
   "source": [
    "Dependencies"
   ]
  },
  {
   "cell_type": "code",
   "execution_count": 1,
   "id": "3248a3d2-e33f-4cb0-aee0-b1c9d11e18d8",
   "metadata": {
    "tags": []
   },
   "outputs": [],
   "source": [
    "import numpy as np\n",
    "import pandas as pd\n",
    "import matplotlib.pyplot as plt"
   ]
  },
  {
   "cell_type": "markdown",
   "id": "9fed8ef6-8e2a-450d-a8b7-be0272dd5443",
   "metadata": {},
   "source": [
    "This workflow includes multiple instances of subsampling, which is a stochastic process. Results are slightly different among replicates. Therefore, to ensure reproducibility of the results, it is important to specify a random seed in the beginning. `42` is a commonly used random seed."
   ]
  },
  {
   "cell_type": "code",
   "execution_count": 36,
   "id": "c7fbff4a-3ddc-4a51-b0d5-861217501dd9",
   "metadata": {},
   "outputs": [],
   "source": [
    "rng = np.random.default_rng(42)"
   ]
  },
  {
   "cell_type": "markdown",
   "id": "d4d05408-ead1-4bc3-8219-3edb721588f3",
   "metadata": {},
   "source": [
    "## Metadata"
   ]
  },
  {
   "cell_type": "markdown",
   "id": "235e12d2-0337-40f3-adde-b7c7100bb5a7",
   "metadata": {},
   "source": [
    "Read metadata table."
   ]
  },
  {
   "cell_type": "code",
   "execution_count": 2,
   "id": "8f03db8f-4db3-45be-9840-b81d66655fa0",
   "metadata": {},
   "outputs": [
    {
     "data": {
      "text/html": [
       "<div>\n",
       "<style scoped>\n",
       "    .dataframe tbody tr th:only-of-type {\n",
       "        vertical-align: middle;\n",
       "    }\n",
       "\n",
       "    .dataframe tbody tr th {\n",
       "        vertical-align: top;\n",
       "    }\n",
       "\n",
       "    .dataframe thead th {\n",
       "        text-align: right;\n",
       "    }\n",
       "</style>\n",
       "<table border=\"1\" class=\"dataframe\">\n",
       "  <thead>\n",
       "    <tr style=\"text-align: right;\">\n",
       "      <th></th>\n",
       "      <th>barcode-sequence</th>\n",
       "      <th>body-site</th>\n",
       "      <th>year</th>\n",
       "      <th>month</th>\n",
       "      <th>day</th>\n",
       "      <th>subject</th>\n",
       "      <th>reported-antibiotic-usage</th>\n",
       "      <th>days-since-experiment-start</th>\n",
       "    </tr>\n",
       "    <tr>\n",
       "      <th>sample-id</th>\n",
       "      <th></th>\n",
       "      <th></th>\n",
       "      <th></th>\n",
       "      <th></th>\n",
       "      <th></th>\n",
       "      <th></th>\n",
       "      <th></th>\n",
       "      <th></th>\n",
       "    </tr>\n",
       "  </thead>\n",
       "  <tbody>\n",
       "    <tr>\n",
       "      <th>L1S8</th>\n",
       "      <td>AGCTGACTAGTC</td>\n",
       "      <td>gut</td>\n",
       "      <td>2008</td>\n",
       "      <td>10</td>\n",
       "      <td>28</td>\n",
       "      <td>subject-1</td>\n",
       "      <td>Yes</td>\n",
       "      <td>0</td>\n",
       "    </tr>\n",
       "    <tr>\n",
       "      <th>L1S57</th>\n",
       "      <td>ACACACTATGGC</td>\n",
       "      <td>gut</td>\n",
       "      <td>2009</td>\n",
       "      <td>1</td>\n",
       "      <td>20</td>\n",
       "      <td>subject-1</td>\n",
       "      <td>No</td>\n",
       "      <td>84</td>\n",
       "    </tr>\n",
       "    <tr>\n",
       "      <th>L1S76</th>\n",
       "      <td>ACTACGTGTGGT</td>\n",
       "      <td>gut</td>\n",
       "      <td>2009</td>\n",
       "      <td>2</td>\n",
       "      <td>17</td>\n",
       "      <td>subject-1</td>\n",
       "      <td>No</td>\n",
       "      <td>112</td>\n",
       "    </tr>\n",
       "    <tr>\n",
       "      <th>L1S105</th>\n",
       "      <td>AGTGCGATGCGT</td>\n",
       "      <td>gut</td>\n",
       "      <td>2009</td>\n",
       "      <td>3</td>\n",
       "      <td>17</td>\n",
       "      <td>subject-1</td>\n",
       "      <td>No</td>\n",
       "      <td>140</td>\n",
       "    </tr>\n",
       "    <tr>\n",
       "      <th>L2S155</th>\n",
       "      <td>ACGATGCGACCA</td>\n",
       "      <td>left palm</td>\n",
       "      <td>2009</td>\n",
       "      <td>1</td>\n",
       "      <td>20</td>\n",
       "      <td>subject-1</td>\n",
       "      <td>No</td>\n",
       "      <td>84</td>\n",
       "    </tr>\n",
       "  </tbody>\n",
       "</table>\n",
       "</div>"
      ],
      "text/plain": [
       "          barcode-sequence  body-site  year  month  day    subject  \\\n",
       "sample-id                                                            \n",
       "L1S8          AGCTGACTAGTC        gut  2008     10   28  subject-1   \n",
       "L1S57         ACACACTATGGC        gut  2009      1   20  subject-1   \n",
       "L1S76         ACTACGTGTGGT        gut  2009      2   17  subject-1   \n",
       "L1S105        AGTGCGATGCGT        gut  2009      3   17  subject-1   \n",
       "L2S155        ACGATGCGACCA  left palm  2009      1   20  subject-1   \n",
       "\n",
       "          reported-antibiotic-usage  days-since-experiment-start  \n",
       "sample-id                                                         \n",
       "L1S8                            Yes                            0  \n",
       "L1S57                            No                           84  \n",
       "L1S76                            No                          112  \n",
       "L1S105                           No                          140  \n",
       "L2S155                           No                           84  "
      ]
     },
     "execution_count": 2,
     "metadata": {},
     "output_type": "execute_result"
    }
   ],
   "source": [
    "meta = pd.read_table('meta.tsv', index_col=0)\n",
    "meta.head()"
   ]
  },
  {
   "cell_type": "markdown",
   "id": "9f93f14a-d62f-4d3e-8c6d-f0a271544601",
   "metadata": {},
   "source": [
    "Drop unuseful columns."
   ]
  },
  {
   "cell_type": "code",
   "execution_count": 3,
   "id": "724146f9-7dcb-40e0-a4e3-b87e26661b44",
   "metadata": {},
   "outputs": [],
   "source": [
    "meta.drop('barcode-sequence', axis=1, inplace=True)"
   ]
  },
  {
   "cell_type": "markdown",
   "id": "9006e637-d2ab-4700-8071-1f90204d3f8b",
   "metadata": {},
   "source": [
    "Rename columns to make them slimer."
   ]
  },
  {
   "cell_type": "code",
   "execution_count": 4,
   "id": "5aeab04a-9bb1-42a1-b610-991225e829e1",
   "metadata": {},
   "outputs": [],
   "source": [
    "meta.columns = ['site', 'year', 'month', 'day', 'subject', 'antibiotic', 'elapse']"
   ]
  },
  {
   "cell_type": "code",
   "execution_count": 5,
   "id": "1ec279b4-9943-43ac-97db-ac2a6ae2b209",
   "metadata": {},
   "outputs": [
    {
     "data": {
      "text/html": [
       "<div>\n",
       "<style scoped>\n",
       "    .dataframe tbody tr th:only-of-type {\n",
       "        vertical-align: middle;\n",
       "    }\n",
       "\n",
       "    .dataframe tbody tr th {\n",
       "        vertical-align: top;\n",
       "    }\n",
       "\n",
       "    .dataframe thead th {\n",
       "        text-align: right;\n",
       "    }\n",
       "</style>\n",
       "<table border=\"1\" class=\"dataframe\">\n",
       "  <thead>\n",
       "    <tr style=\"text-align: right;\">\n",
       "      <th></th>\n",
       "      <th>site</th>\n",
       "      <th>year</th>\n",
       "      <th>month</th>\n",
       "      <th>day</th>\n",
       "      <th>subject</th>\n",
       "      <th>antibiotic</th>\n",
       "      <th>elapse</th>\n",
       "    </tr>\n",
       "    <tr>\n",
       "      <th>sample-id</th>\n",
       "      <th></th>\n",
       "      <th></th>\n",
       "      <th></th>\n",
       "      <th></th>\n",
       "      <th></th>\n",
       "      <th></th>\n",
       "      <th></th>\n",
       "    </tr>\n",
       "  </thead>\n",
       "  <tbody>\n",
       "    <tr>\n",
       "      <th>L1S8</th>\n",
       "      <td>gut</td>\n",
       "      <td>2008</td>\n",
       "      <td>10</td>\n",
       "      <td>28</td>\n",
       "      <td>subject-1</td>\n",
       "      <td>Yes</td>\n",
       "      <td>0</td>\n",
       "    </tr>\n",
       "    <tr>\n",
       "      <th>L1S57</th>\n",
       "      <td>gut</td>\n",
       "      <td>2009</td>\n",
       "      <td>1</td>\n",
       "      <td>20</td>\n",
       "      <td>subject-1</td>\n",
       "      <td>No</td>\n",
       "      <td>84</td>\n",
       "    </tr>\n",
       "    <tr>\n",
       "      <th>L1S76</th>\n",
       "      <td>gut</td>\n",
       "      <td>2009</td>\n",
       "      <td>2</td>\n",
       "      <td>17</td>\n",
       "      <td>subject-1</td>\n",
       "      <td>No</td>\n",
       "      <td>112</td>\n",
       "    </tr>\n",
       "    <tr>\n",
       "      <th>L1S105</th>\n",
       "      <td>gut</td>\n",
       "      <td>2009</td>\n",
       "      <td>3</td>\n",
       "      <td>17</td>\n",
       "      <td>subject-1</td>\n",
       "      <td>No</td>\n",
       "      <td>140</td>\n",
       "    </tr>\n",
       "    <tr>\n",
       "      <th>L2S155</th>\n",
       "      <td>left palm</td>\n",
       "      <td>2009</td>\n",
       "      <td>1</td>\n",
       "      <td>20</td>\n",
       "      <td>subject-1</td>\n",
       "      <td>No</td>\n",
       "      <td>84</td>\n",
       "    </tr>\n",
       "  </tbody>\n",
       "</table>\n",
       "</div>"
      ],
      "text/plain": [
       "                site  year  month  day    subject antibiotic  elapse\n",
       "sample-id                                                           \n",
       "L1S8             gut  2008     10   28  subject-1        Yes       0\n",
       "L1S57            gut  2009      1   20  subject-1         No      84\n",
       "L1S76            gut  2009      2   17  subject-1         No     112\n",
       "L1S105           gut  2009      3   17  subject-1         No     140\n",
       "L2S155     left palm  2009      1   20  subject-1         No      84"
      ]
     },
     "execution_count": 5,
     "metadata": {},
     "output_type": "execute_result"
    }
   ],
   "source": [
    "meta.head()"
   ]
  },
  {
   "cell_type": "markdown",
   "id": "d5ac9272-6ee5-4cb0-be92-04e2e86089d0",
   "metadata": {},
   "source": [
    "## Feature table"
   ]
  },
  {
   "cell_type": "markdown",
   "id": "c254769e-552b-4944-8697-105f80392746",
   "metadata": {},
   "source": [
    "Read data table."
   ]
  },
  {
   "cell_type": "code",
   "execution_count": 6,
   "id": "54d99089-15d0-4187-9595-b658b4fe060d",
   "metadata": {},
   "outputs": [
    {
     "data": {
      "text/html": [
       "<div>\n",
       "<style scoped>\n",
       "    .dataframe tbody tr th:only-of-type {\n",
       "        vertical-align: middle;\n",
       "    }\n",
       "\n",
       "    .dataframe tbody tr th {\n",
       "        vertical-align: top;\n",
       "    }\n",
       "\n",
       "    .dataframe thead th {\n",
       "        text-align: right;\n",
       "    }\n",
       "</style>\n",
       "<table border=\"1\" class=\"dataframe\">\n",
       "  <thead>\n",
       "    <tr style=\"text-align: right;\">\n",
       "      <th></th>\n",
       "      <th>L1S105</th>\n",
       "      <th>L1S140</th>\n",
       "      <th>L1S208</th>\n",
       "      <th>L1S257</th>\n",
       "      <th>L1S281</th>\n",
       "      <th>L1S57</th>\n",
       "      <th>L1S76</th>\n",
       "      <th>L1S8</th>\n",
       "      <th>L2S155</th>\n",
       "      <th>L2S175</th>\n",
       "      <th>...</th>\n",
       "      <th>L4S63</th>\n",
       "      <th>L5S104</th>\n",
       "      <th>L5S155</th>\n",
       "      <th>L5S174</th>\n",
       "      <th>L5S203</th>\n",
       "      <th>L5S222</th>\n",
       "      <th>L5S240</th>\n",
       "      <th>L6S20</th>\n",
       "      <th>L6S68</th>\n",
       "      <th>L6S93</th>\n",
       "    </tr>\n",
       "    <tr>\n",
       "      <th>#FeatureID</th>\n",
       "      <th></th>\n",
       "      <th></th>\n",
       "      <th></th>\n",
       "      <th></th>\n",
       "      <th></th>\n",
       "      <th></th>\n",
       "      <th></th>\n",
       "      <th></th>\n",
       "      <th></th>\n",
       "      <th></th>\n",
       "      <th></th>\n",
       "      <th></th>\n",
       "      <th></th>\n",
       "      <th></th>\n",
       "      <th></th>\n",
       "      <th></th>\n",
       "      <th></th>\n",
       "      <th></th>\n",
       "      <th></th>\n",
       "      <th></th>\n",
       "      <th></th>\n",
       "    </tr>\n",
       "  </thead>\n",
       "  <tbody>\n",
       "    <tr>\n",
       "      <th>4b5eeb300368260019c1fbc7a3c718fc</th>\n",
       "      <td>2175</td>\n",
       "      <td>0</td>\n",
       "      <td>0</td>\n",
       "      <td>0</td>\n",
       "      <td>0</td>\n",
       "      <td>2806</td>\n",
       "      <td>3309</td>\n",
       "      <td>2595</td>\n",
       "      <td>10</td>\n",
       "      <td>10</td>\n",
       "      <td>...</td>\n",
       "      <td>0</td>\n",
       "      <td>10</td>\n",
       "      <td>0</td>\n",
       "      <td>0</td>\n",
       "      <td>0</td>\n",
       "      <td>0</td>\n",
       "      <td>0</td>\n",
       "      <td>0</td>\n",
       "      <td>0</td>\n",
       "      <td>0</td>\n",
       "    </tr>\n",
       "    <tr>\n",
       "      <th>fe30ff0f71a38a39cf1717ec2be3a2fc</th>\n",
       "      <td>5</td>\n",
       "      <td>0</td>\n",
       "      <td>0</td>\n",
       "      <td>0</td>\n",
       "      <td>0</td>\n",
       "      <td>0</td>\n",
       "      <td>0</td>\n",
       "      <td>0</td>\n",
       "      <td>0</td>\n",
       "      <td>0</td>\n",
       "      <td>...</td>\n",
       "      <td>160</td>\n",
       "      <td>0</td>\n",
       "      <td>0</td>\n",
       "      <td>0</td>\n",
       "      <td>0</td>\n",
       "      <td>0</td>\n",
       "      <td>374</td>\n",
       "      <td>3323</td>\n",
       "      <td>1723</td>\n",
       "      <td>1341</td>\n",
       "    </tr>\n",
       "    <tr>\n",
       "      <th>d29fe3c70564fc0f69f2c03e0d1e5561</th>\n",
       "      <td>0</td>\n",
       "      <td>0</td>\n",
       "      <td>0</td>\n",
       "      <td>0</td>\n",
       "      <td>0</td>\n",
       "      <td>0</td>\n",
       "      <td>0</td>\n",
       "      <td>0</td>\n",
       "      <td>353</td>\n",
       "      <td>779</td>\n",
       "      <td>...</td>\n",
       "      <td>417</td>\n",
       "      <td>216</td>\n",
       "      <td>140</td>\n",
       "      <td>107</td>\n",
       "      <td>215</td>\n",
       "      <td>148</td>\n",
       "      <td>117</td>\n",
       "      <td>215</td>\n",
       "      <td>500</td>\n",
       "      <td>465</td>\n",
       "    </tr>\n",
       "    <tr>\n",
       "      <th>868528ca947bc57b69ffdf83e6b73bae</th>\n",
       "      <td>0</td>\n",
       "      <td>2249</td>\n",
       "      <td>2107</td>\n",
       "      <td>1177</td>\n",
       "      <td>1722</td>\n",
       "      <td>0</td>\n",
       "      <td>0</td>\n",
       "      <td>0</td>\n",
       "      <td>0</td>\n",
       "      <td>0</td>\n",
       "      <td>...</td>\n",
       "      <td>0</td>\n",
       "      <td>0</td>\n",
       "      <td>0</td>\n",
       "      <td>0</td>\n",
       "      <td>5</td>\n",
       "      <td>0</td>\n",
       "      <td>10</td>\n",
       "      <td>0</td>\n",
       "      <td>0</td>\n",
       "      <td>9</td>\n",
       "    </tr>\n",
       "    <tr>\n",
       "      <th>154709e160e8cada6bfb21115acc80f5</th>\n",
       "      <td>803</td>\n",
       "      <td>1174</td>\n",
       "      <td>694</td>\n",
       "      <td>406</td>\n",
       "      <td>242</td>\n",
       "      <td>1081</td>\n",
       "      <td>930</td>\n",
       "      <td>1623</td>\n",
       "      <td>0</td>\n",
       "      <td>0</td>\n",
       "      <td>...</td>\n",
       "      <td>0</td>\n",
       "      <td>0</td>\n",
       "      <td>9</td>\n",
       "      <td>0</td>\n",
       "      <td>0</td>\n",
       "      <td>0</td>\n",
       "      <td>0</td>\n",
       "      <td>0</td>\n",
       "      <td>0</td>\n",
       "      <td>0</td>\n",
       "    </tr>\n",
       "  </tbody>\n",
       "</table>\n",
       "<p>5 rows × 34 columns</p>\n",
       "</div>"
      ],
      "text/plain": [
       "                                  L1S105  L1S140  L1S208  L1S257  L1S281  \\\n",
       "#FeatureID                                                                 \n",
       "4b5eeb300368260019c1fbc7a3c718fc    2175       0       0       0       0   \n",
       "fe30ff0f71a38a39cf1717ec2be3a2fc       5       0       0       0       0   \n",
       "d29fe3c70564fc0f69f2c03e0d1e5561       0       0       0       0       0   \n",
       "868528ca947bc57b69ffdf83e6b73bae       0    2249    2107    1177    1722   \n",
       "154709e160e8cada6bfb21115acc80f5     803    1174     694     406     242   \n",
       "\n",
       "                                  L1S57  L1S76  L1S8  L2S155  L2S175  ...  \\\n",
       "#FeatureID                                                            ...   \n",
       "4b5eeb300368260019c1fbc7a3c718fc   2806   3309  2595      10      10  ...   \n",
       "fe30ff0f71a38a39cf1717ec2be3a2fc      0      0     0       0       0  ...   \n",
       "d29fe3c70564fc0f69f2c03e0d1e5561      0      0     0     353     779  ...   \n",
       "868528ca947bc57b69ffdf83e6b73bae      0      0     0       0       0  ...   \n",
       "154709e160e8cada6bfb21115acc80f5   1081    930  1623       0       0  ...   \n",
       "\n",
       "                                  L4S63  L5S104  L5S155  L5S174  L5S203  \\\n",
       "#FeatureID                                                                \n",
       "4b5eeb300368260019c1fbc7a3c718fc      0      10       0       0       0   \n",
       "fe30ff0f71a38a39cf1717ec2be3a2fc    160       0       0       0       0   \n",
       "d29fe3c70564fc0f69f2c03e0d1e5561    417     216     140     107     215   \n",
       "868528ca947bc57b69ffdf83e6b73bae      0       0       0       0       5   \n",
       "154709e160e8cada6bfb21115acc80f5      0       0       9       0       0   \n",
       "\n",
       "                                  L5S222  L5S240  L6S20  L6S68  L6S93  \n",
       "#FeatureID                                                             \n",
       "4b5eeb300368260019c1fbc7a3c718fc       0       0      0      0      0  \n",
       "fe30ff0f71a38a39cf1717ec2be3a2fc       0     374   3323   1723   1341  \n",
       "d29fe3c70564fc0f69f2c03e0d1e5561     148     117    215    500    465  \n",
       "868528ca947bc57b69ffdf83e6b73bae       0      10      0      0      9  \n",
       "154709e160e8cada6bfb21115acc80f5       0       0      0      0      0  \n",
       "\n",
       "[5 rows x 34 columns]"
      ]
     },
     "execution_count": 6,
     "metadata": {},
     "output_type": "execute_result"
    }
   ],
   "source": [
    "data = pd.read_table('data.tsv', index_col=0)\n",
    "data.head()"
   ]
  },
  {
   "cell_type": "markdown",
   "id": "5295f00f-48c9-4497-a4b8-abc9f5beeed9",
   "metadata": {},
   "source": [
    "Get dimensions of the feature table."
   ]
  },
  {
   "cell_type": "code",
   "execution_count": 7,
   "id": "4f2a572a-a9a0-40df-a31b-6e56831fb871",
   "metadata": {},
   "outputs": [
    {
     "data": {
      "text/plain": [
       "(770, 34)"
      ]
     },
     "execution_count": 7,
     "metadata": {},
     "output_type": "execute_result"
    }
   ],
   "source": [
    "data.shape"
   ]
  },
  {
   "cell_type": "markdown",
   "id": "4ba7275d-de12-4ebe-85d9-aa403d3977e8",
   "metadata": {},
   "source": [
    "## Rarefaction"
   ]
  },
  {
   "cell_type": "markdown",
   "id": "19cff9c1-b5d6-4faf-9cb6-74c67a19030f",
   "metadata": {},
   "source": [
    "### Sampling depth"
   ]
  },
  {
   "cell_type": "markdown",
   "id": "291c5508-00ad-470a-b68d-789673d2025c",
   "metadata": {},
   "source": [
    "Alpha diversity is sensitive to sampling depth (total number of organisms sampled in each site, which translates into the total number of sequencing reads per sample). In the data table, this value is the sum of cell values (feature frequencies) per column (sample)."
   ]
  },
  {
   "cell_type": "code",
   "execution_count": 8,
   "id": "21c13a31-98fb-4fec-a2d9-be1b87dffdae",
   "metadata": {},
   "outputs": [],
   "source": [
    "sums = data.sum()"
   ]
  },
  {
   "cell_type": "markdown",
   "id": "d3ff364d-175f-4c3d-a322-4a79abee3cb2",
   "metadata": {},
   "source": [
    "To ensure that alpha diversity values are comparable across samples, one needs to downsample all samples to a constant sampling depth."
   ]
  },
  {
   "cell_type": "code",
   "execution_count": 9,
   "id": "efe796f4-09c5-47c3-ad07-a9d91988d5d3",
   "metadata": {},
   "outputs": [
    {
     "data": {
      "text/plain": [
       "897"
      ]
     },
     "execution_count": 9,
     "metadata": {},
     "output_type": "execute_result"
    }
   ],
   "source": [
    "sums.min()"
   ]
  },
  {
   "cell_type": "markdown",
   "id": "50322079-7f6e-4f5b-ae66-b6b222649f1b",
   "metadata": {},
   "source": [
    "Sometimes there may be poor-quality samples (e.g., depth < 100) in the dataset. One has to drop these samples. Therefore, it will be helpful to manually observe the distribution of depths to determine a proper depth that is both reasonably big and not losing too many samples."
   ]
  },
  {
   "cell_type": "code",
   "execution_count": 10,
   "id": "29e7bacb-c206-4db5-8de2-a0913a8a9098",
   "metadata": {},
   "outputs": [
    {
     "data": {
      "text/plain": [
       "L3S242     897\n",
       "L3S341     962\n",
       "L3S360     969\n",
       "L3S313    1103\n",
       "L3S294    1225\n",
       "L3S378    1249\n",
       "L2S309    1419\n",
       "L5S240    1792\n",
       "L5S155    1800\n",
       "L5S174    1953\n",
       "dtype: int64"
      ]
     },
     "execution_count": 10,
     "metadata": {},
     "output_type": "execute_result"
    }
   ],
   "source": [
    "sums.sort_values().head(10)"
   ]
  },
  {
   "cell_type": "markdown",
   "id": "76f8856b-4d02-4bd8-b871-43555e347d3a",
   "metadata": {},
   "source": [
    "In the \"Moving Pictures\" tutorial, they chose 1103, which is 1) depth of the 4th smallest sample, 2) greater than 1000 (1000 is a recommended threshold for 16S rRNA data)."
   ]
  },
  {
   "cell_type": "code",
   "execution_count": 11,
   "id": "3ab29d3e-d693-41b9-933f-c81e65f29a7e",
   "metadata": {},
   "outputs": [
    {
     "data": {
      "text/plain": [
       "1103"
      ]
     },
     "execution_count": 11,
     "metadata": {},
     "output_type": "execute_result"
    }
   ],
   "source": [
    "depth = sums[sums > 1000].sort_values().iloc[0]\n",
    "depth"
   ]
  },
  {
   "cell_type": "markdown",
   "id": "0e18fed8-8603-4fe8-87bf-d550a3bc8037",
   "metadata": {},
   "source": [
    "Drop samples that have less than this depth."
   ]
  },
  {
   "cell_type": "code",
   "execution_count": 12,
   "id": "ec2e00ed-38f6-430f-a5db-c26054ecb4b8",
   "metadata": {},
   "outputs": [
    {
     "data": {
      "text/plain": [
       "31"
      ]
     },
     "execution_count": 12,
     "metadata": {},
     "output_type": "execute_result"
    }
   ],
   "source": [
    "data = data.loc[:, sums >= depth]\n",
    "data.shape[1]"
   ]
  },
  {
   "cell_type": "markdown",
   "id": "b0c31d2f-0b0b-489a-8e82-77b2aea51935",
   "metadata": {},
   "source": [
    "Drop features that have only zero values."
   ]
  },
  {
   "cell_type": "code",
   "execution_count": 13,
   "id": "a788409c-73dc-4492-8fd0-d800783d036b",
   "metadata": {},
   "outputs": [],
   "source": [
    "data = data.loc[data.sum(axis=1) > 0]"
   ]
  },
  {
   "cell_type": "markdown",
   "id": "87d94e27-0c11-4d4b-8726-5091eb86af1c",
   "metadata": {},
   "source": [
    "Also filter the metadata table."
   ]
  },
  {
   "cell_type": "code",
   "execution_count": 14,
   "id": "ad1fcb25-0e5c-473e-bb8d-d4201d24c3b9",
   "metadata": {},
   "outputs": [
    {
     "data": {
      "text/plain": [
       "31"
      ]
     },
     "execution_count": 14,
     "metadata": {},
     "output_type": "execute_result"
    }
   ],
   "source": [
    "meta = meta.loc[data.columns]\n",
    "meta.shape[0]"
   ]
  },
  {
   "cell_type": "markdown",
   "id": "e00c4be4-f52b-48a8-9e9b-2e0108f9f93b",
   "metadata": {},
   "source": [
    "### Subsampling"
   ]
  },
  {
   "cell_type": "markdown",
   "id": "4e8fbaac-a1f0-4f3c-9a2e-443ab6112b00",
   "metadata": {},
   "source": [
    "In this context, \"rarefaction\" is to perform random subsampling such that all samples have the same sampling depth (sum of cell values)."
   ]
  },
  {
   "cell_type": "code",
   "execution_count": 37,
   "id": "e09a6e08-4b4f-4ac4-bcde-4f66ac30afb3",
   "metadata": {},
   "outputs": [],
   "source": [
    "def rarefy(counts, n, rng):\n",
    "    \"\"\"Subsample a count table to a fixed depth per sample.\n",
    "    \"\"\"\n",
    "    nonzero = counts[nzidx := np.where(counts != 0)[0]]\n",
    "    permuted = rng.choice(nonzero.sum(), size=n, replace=False, shuffle=False)\n",
    "    digits = np.digitize(permuted, np.cumsum(nonzero))\n",
    "    idx, freqs = np.unique(digits, return_counts=True)\n",
    "    result = np.zeros_like(counts)\n",
    "    result[nzidx[idx]] = freqs\n",
    "    return result"
   ]
  },
  {
   "cell_type": "code",
   "execution_count": 43,
   "id": "f8ed3b19-f219-4054-9491-c45a2f6522b2",
   "metadata": {},
   "outputs": [],
   "source": [
    "_ = rarefy(data.iloc[:, 0].values, 5, rng)"
   ]
  },
  {
   "cell_type": "code",
   "execution_count": 16,
   "id": "f717a998-d57b-4a55-b04f-22a30cb1f77e",
   "metadata": {},
   "outputs": [
    {
     "name": "stderr",
     "output_type": "stream",
     "text": [
      "/home/drz/Dropbox/PhyAdiv/github/phyadiv/phyadiv.py:20: FutureWarning: Series.__getitem__ treating keys as positions is deprecated. In a future version, integer keys will always be treated as labels (consistent with DataFrame behavior). To access a value by position, use `ser.iloc[pos]`\n",
      "  nonzero = counts[nzidx := np.where(counts != 0)[0]]\n"
     ]
    },
    {
     "data": {
      "text/html": [
       "<div>\n",
       "<style scoped>\n",
       "    .dataframe tbody tr th:only-of-type {\n",
       "        vertical-align: middle;\n",
       "    }\n",
       "\n",
       "    .dataframe tbody tr th {\n",
       "        vertical-align: top;\n",
       "    }\n",
       "\n",
       "    .dataframe thead th {\n",
       "        text-align: right;\n",
       "    }\n",
       "</style>\n",
       "<table border=\"1\" class=\"dataframe\">\n",
       "  <thead>\n",
       "    <tr style=\"text-align: right;\">\n",
       "      <th></th>\n",
       "      <th>L1S105</th>\n",
       "      <th>L1S140</th>\n",
       "      <th>L1S208</th>\n",
       "      <th>L1S257</th>\n",
       "      <th>L1S281</th>\n",
       "      <th>L1S57</th>\n",
       "      <th>L1S76</th>\n",
       "      <th>L1S8</th>\n",
       "      <th>L2S155</th>\n",
       "      <th>L2S175</th>\n",
       "      <th>...</th>\n",
       "      <th>L4S63</th>\n",
       "      <th>L5S104</th>\n",
       "      <th>L5S155</th>\n",
       "      <th>L5S174</th>\n",
       "      <th>L5S203</th>\n",
       "      <th>L5S222</th>\n",
       "      <th>L5S240</th>\n",
       "      <th>L6S20</th>\n",
       "      <th>L6S68</th>\n",
       "      <th>L6S93</th>\n",
       "    </tr>\n",
       "    <tr>\n",
       "      <th>#FeatureID</th>\n",
       "      <th></th>\n",
       "      <th></th>\n",
       "      <th></th>\n",
       "      <th></th>\n",
       "      <th></th>\n",
       "      <th></th>\n",
       "      <th></th>\n",
       "      <th></th>\n",
       "      <th></th>\n",
       "      <th></th>\n",
       "      <th></th>\n",
       "      <th></th>\n",
       "      <th></th>\n",
       "      <th></th>\n",
       "      <th></th>\n",
       "      <th></th>\n",
       "      <th></th>\n",
       "      <th></th>\n",
       "      <th></th>\n",
       "      <th></th>\n",
       "      <th></th>\n",
       "    </tr>\n",
       "  </thead>\n",
       "  <tbody>\n",
       "    <tr>\n",
       "      <th>4b5eeb300368260019c1fbc7a3c718fc</th>\n",
       "      <td>307</td>\n",
       "      <td>0</td>\n",
       "      <td>0</td>\n",
       "      <td>0</td>\n",
       "      <td>0</td>\n",
       "      <td>352</td>\n",
       "      <td>450</td>\n",
       "      <td>388</td>\n",
       "      <td>0</td>\n",
       "      <td>0</td>\n",
       "      <td>...</td>\n",
       "      <td>0</td>\n",
       "      <td>3</td>\n",
       "      <td>0</td>\n",
       "      <td>0</td>\n",
       "      <td>0</td>\n",
       "      <td>0</td>\n",
       "      <td>0</td>\n",
       "      <td>0</td>\n",
       "      <td>0</td>\n",
       "      <td>0</td>\n",
       "    </tr>\n",
       "    <tr>\n",
       "      <th>fe30ff0f71a38a39cf1717ec2be3a2fc</th>\n",
       "      <td>0</td>\n",
       "      <td>0</td>\n",
       "      <td>0</td>\n",
       "      <td>0</td>\n",
       "      <td>0</td>\n",
       "      <td>0</td>\n",
       "      <td>0</td>\n",
       "      <td>0</td>\n",
       "      <td>0</td>\n",
       "      <td>0</td>\n",
       "      <td>...</td>\n",
       "      <td>16</td>\n",
       "      <td>0</td>\n",
       "      <td>0</td>\n",
       "      <td>0</td>\n",
       "      <td>0</td>\n",
       "      <td>0</td>\n",
       "      <td>243</td>\n",
       "      <td>526</td>\n",
       "      <td>314</td>\n",
       "      <td>222</td>\n",
       "    </tr>\n",
       "    <tr>\n",
       "      <th>d29fe3c70564fc0f69f2c03e0d1e5561</th>\n",
       "      <td>0</td>\n",
       "      <td>0</td>\n",
       "      <td>0</td>\n",
       "      <td>0</td>\n",
       "      <td>0</td>\n",
       "      <td>0</td>\n",
       "      <td>0</td>\n",
       "      <td>0</td>\n",
       "      <td>105</td>\n",
       "      <td>209</td>\n",
       "      <td>...</td>\n",
       "      <td>42</td>\n",
       "      <td>108</td>\n",
       "      <td>89</td>\n",
       "      <td>55</td>\n",
       "      <td>116</td>\n",
       "      <td>57</td>\n",
       "      <td>65</td>\n",
       "      <td>34</td>\n",
       "      <td>80</td>\n",
       "      <td>63</td>\n",
       "    </tr>\n",
       "    <tr>\n",
       "      <th>868528ca947bc57b69ffdf83e6b73bae</th>\n",
       "      <td>0</td>\n",
       "      <td>346</td>\n",
       "      <td>276</td>\n",
       "      <td>209</td>\n",
       "      <td>281</td>\n",
       "      <td>0</td>\n",
       "      <td>0</td>\n",
       "      <td>0</td>\n",
       "      <td>0</td>\n",
       "      <td>0</td>\n",
       "      <td>...</td>\n",
       "      <td>0</td>\n",
       "      <td>0</td>\n",
       "      <td>0</td>\n",
       "      <td>0</td>\n",
       "      <td>4</td>\n",
       "      <td>0</td>\n",
       "      <td>3</td>\n",
       "      <td>0</td>\n",
       "      <td>0</td>\n",
       "      <td>1</td>\n",
       "    </tr>\n",
       "    <tr>\n",
       "      <th>154709e160e8cada6bfb21115acc80f5</th>\n",
       "      <td>93</td>\n",
       "      <td>170</td>\n",
       "      <td>86</td>\n",
       "      <td>57</td>\n",
       "      <td>42</td>\n",
       "      <td>129</td>\n",
       "      <td>135</td>\n",
       "      <td>266</td>\n",
       "      <td>0</td>\n",
       "      <td>0</td>\n",
       "      <td>...</td>\n",
       "      <td>0</td>\n",
       "      <td>0</td>\n",
       "      <td>9</td>\n",
       "      <td>0</td>\n",
       "      <td>0</td>\n",
       "      <td>0</td>\n",
       "      <td>0</td>\n",
       "      <td>0</td>\n",
       "      <td>0</td>\n",
       "      <td>0</td>\n",
       "    </tr>\n",
       "  </tbody>\n",
       "</table>\n",
       "<p>5 rows × 31 columns</p>\n",
       "</div>"
      ],
      "text/plain": [
       "                                  L1S105  L1S140  L1S208  L1S257  L1S281  \\\n",
       "#FeatureID                                                                 \n",
       "4b5eeb300368260019c1fbc7a3c718fc     307       0       0       0       0   \n",
       "fe30ff0f71a38a39cf1717ec2be3a2fc       0       0       0       0       0   \n",
       "d29fe3c70564fc0f69f2c03e0d1e5561       0       0       0       0       0   \n",
       "868528ca947bc57b69ffdf83e6b73bae       0     346     276     209     281   \n",
       "154709e160e8cada6bfb21115acc80f5      93     170      86      57      42   \n",
       "\n",
       "                                  L1S57  L1S76  L1S8  L2S155  L2S175  ...  \\\n",
       "#FeatureID                                                            ...   \n",
       "4b5eeb300368260019c1fbc7a3c718fc    352    450   388       0       0  ...   \n",
       "fe30ff0f71a38a39cf1717ec2be3a2fc      0      0     0       0       0  ...   \n",
       "d29fe3c70564fc0f69f2c03e0d1e5561      0      0     0     105     209  ...   \n",
       "868528ca947bc57b69ffdf83e6b73bae      0      0     0       0       0  ...   \n",
       "154709e160e8cada6bfb21115acc80f5    129    135   266       0       0  ...   \n",
       "\n",
       "                                  L4S63  L5S104  L5S155  L5S174  L5S203  \\\n",
       "#FeatureID                                                                \n",
       "4b5eeb300368260019c1fbc7a3c718fc      0       3       0       0       0   \n",
       "fe30ff0f71a38a39cf1717ec2be3a2fc     16       0       0       0       0   \n",
       "d29fe3c70564fc0f69f2c03e0d1e5561     42     108      89      55     116   \n",
       "868528ca947bc57b69ffdf83e6b73bae      0       0       0       0       4   \n",
       "154709e160e8cada6bfb21115acc80f5      0       0       9       0       0   \n",
       "\n",
       "                                  L5S222  L5S240  L6S20  L6S68  L6S93  \n",
       "#FeatureID                                                             \n",
       "4b5eeb300368260019c1fbc7a3c718fc       0       0      0      0      0  \n",
       "fe30ff0f71a38a39cf1717ec2be3a2fc       0     243    526    314    222  \n",
       "d29fe3c70564fc0f69f2c03e0d1e5561      57      65     34     80     63  \n",
       "868528ca947bc57b69ffdf83e6b73bae       0       3      0      0      1  \n",
       "154709e160e8cada6bfb21115acc80f5       0       0      0      0      0  \n",
       "\n",
       "[5 rows x 31 columns]"
      ]
     },
     "execution_count": 16,
     "metadata": {},
     "output_type": "execute_result"
    }
   ],
   "source": [
    "data_sub = data.apply(rarefy, args=(depth, 42))\n",
    "data_sub.head()"
   ]
  },
  {
   "cell_type": "markdown",
   "id": "1f522909-5bd2-4e1e-a5b1-a2708888a963",
   "metadata": {},
   "source": [
    "After rarefaction, all samples have a sum of feature frequencies = sampling depth."
   ]
  },
  {
   "cell_type": "code",
   "execution_count": 19,
   "id": "0074499f-51c6-403e-acf1-256615c5da38",
   "metadata": {},
   "outputs": [
    {
     "data": {
      "text/plain": [
       "True"
      ]
     },
     "execution_count": 19,
     "metadata": {},
     "output_type": "execute_result"
    }
   ],
   "source": [
    "(data_sub.sum() == depth).all()"
   ]
  },
  {
   "cell_type": "code",
   "execution_count": 20,
   "id": "61fa4898-24fe-4bff-8848-3da2ffb8b6ce",
   "metadata": {},
   "outputs": [
    {
     "data": {
      "text/html": [
       "<div>\n",
       "<style scoped>\n",
       "    .dataframe tbody tr th:only-of-type {\n",
       "        vertical-align: middle;\n",
       "    }\n",
       "\n",
       "    .dataframe tbody tr th {\n",
       "        vertical-align: top;\n",
       "    }\n",
       "\n",
       "    .dataframe thead th {\n",
       "        text-align: right;\n",
       "    }\n",
       "</style>\n",
       "<table border=\"1\" class=\"dataframe\">\n",
       "  <thead>\n",
       "    <tr style=\"text-align: right;\">\n",
       "      <th></th>\n",
       "      <th>L1S105</th>\n",
       "      <th>L1S140</th>\n",
       "      <th>L1S208</th>\n",
       "      <th>L1S257</th>\n",
       "      <th>L1S281</th>\n",
       "      <th>L1S57</th>\n",
       "      <th>L1S76</th>\n",
       "      <th>L1S8</th>\n",
       "      <th>L2S155</th>\n",
       "      <th>L2S175</th>\n",
       "      <th>...</th>\n",
       "      <th>L4S63</th>\n",
       "      <th>L5S104</th>\n",
       "      <th>L5S155</th>\n",
       "      <th>L5S174</th>\n",
       "      <th>L5S203</th>\n",
       "      <th>L5S222</th>\n",
       "      <th>L5S240</th>\n",
       "      <th>L6S20</th>\n",
       "      <th>L6S68</th>\n",
       "      <th>L6S93</th>\n",
       "    </tr>\n",
       "  </thead>\n",
       "  <tbody>\n",
       "    <tr>\n",
       "      <th>4b5eeb300368260019c1fbc7a3c718fc</th>\n",
       "      <td>317</td>\n",
       "      <td>0</td>\n",
       "      <td>0</td>\n",
       "      <td>0</td>\n",
       "      <td>0</td>\n",
       "      <td>369</td>\n",
       "      <td>481</td>\n",
       "      <td>422</td>\n",
       "      <td>4</td>\n",
       "      <td>4</td>\n",
       "      <td>...</td>\n",
       "      <td>0</td>\n",
       "      <td>6</td>\n",
       "      <td>0</td>\n",
       "      <td>0</td>\n",
       "      <td>0</td>\n",
       "      <td>0</td>\n",
       "      <td>0</td>\n",
       "      <td>0</td>\n",
       "      <td>0</td>\n",
       "      <td>0</td>\n",
       "    </tr>\n",
       "    <tr>\n",
       "      <th>fe30ff0f71a38a39cf1717ec2be3a2fc</th>\n",
       "      <td>0</td>\n",
       "      <td>0</td>\n",
       "      <td>0</td>\n",
       "      <td>0</td>\n",
       "      <td>0</td>\n",
       "      <td>0</td>\n",
       "      <td>0</td>\n",
       "      <td>0</td>\n",
       "      <td>0</td>\n",
       "      <td>0</td>\n",
       "      <td>...</td>\n",
       "      <td>15</td>\n",
       "      <td>0</td>\n",
       "      <td>0</td>\n",
       "      <td>0</td>\n",
       "      <td>0</td>\n",
       "      <td>0</td>\n",
       "      <td>242</td>\n",
       "      <td>526</td>\n",
       "      <td>332</td>\n",
       "      <td>210</td>\n",
       "    </tr>\n",
       "    <tr>\n",
       "      <th>d29fe3c70564fc0f69f2c03e0d1e5561</th>\n",
       "      <td>0</td>\n",
       "      <td>0</td>\n",
       "      <td>0</td>\n",
       "      <td>0</td>\n",
       "      <td>0</td>\n",
       "      <td>0</td>\n",
       "      <td>0</td>\n",
       "      <td>0</td>\n",
       "      <td>98</td>\n",
       "      <td>196</td>\n",
       "      <td>...</td>\n",
       "      <td>51</td>\n",
       "      <td>119</td>\n",
       "      <td>85</td>\n",
       "      <td>63</td>\n",
       "      <td>104</td>\n",
       "      <td>61</td>\n",
       "      <td>79</td>\n",
       "      <td>36</td>\n",
       "      <td>87</td>\n",
       "      <td>85</td>\n",
       "    </tr>\n",
       "    <tr>\n",
       "      <th>868528ca947bc57b69ffdf83e6b73bae</th>\n",
       "      <td>0</td>\n",
       "      <td>359</td>\n",
       "      <td>287</td>\n",
       "      <td>186</td>\n",
       "      <td>293</td>\n",
       "      <td>0</td>\n",
       "      <td>0</td>\n",
       "      <td>0</td>\n",
       "      <td>0</td>\n",
       "      <td>0</td>\n",
       "      <td>...</td>\n",
       "      <td>0</td>\n",
       "      <td>0</td>\n",
       "      <td>0</td>\n",
       "      <td>0</td>\n",
       "      <td>3</td>\n",
       "      <td>0</td>\n",
       "      <td>5</td>\n",
       "      <td>0</td>\n",
       "      <td>0</td>\n",
       "      <td>1</td>\n",
       "    </tr>\n",
       "    <tr>\n",
       "      <th>154709e160e8cada6bfb21115acc80f5</th>\n",
       "      <td>116</td>\n",
       "      <td>159</td>\n",
       "      <td>94</td>\n",
       "      <td>80</td>\n",
       "      <td>30</td>\n",
       "      <td>135</td>\n",
       "      <td>131</td>\n",
       "      <td>252</td>\n",
       "      <td>0</td>\n",
       "      <td>0</td>\n",
       "      <td>...</td>\n",
       "      <td>0</td>\n",
       "      <td>0</td>\n",
       "      <td>5</td>\n",
       "      <td>0</td>\n",
       "      <td>0</td>\n",
       "      <td>0</td>\n",
       "      <td>0</td>\n",
       "      <td>0</td>\n",
       "      <td>0</td>\n",
       "      <td>0</td>\n",
       "    </tr>\n",
       "  </tbody>\n",
       "</table>\n",
       "<p>5 rows × 31 columns</p>\n",
       "</div>"
      ],
      "text/plain": [
       "                                  L1S105  L1S140  L1S208  L1S257  L1S281  \\\n",
       "4b5eeb300368260019c1fbc7a3c718fc     317       0       0       0       0   \n",
       "fe30ff0f71a38a39cf1717ec2be3a2fc       0       0       0       0       0   \n",
       "d29fe3c70564fc0f69f2c03e0d1e5561       0       0       0       0       0   \n",
       "868528ca947bc57b69ffdf83e6b73bae       0     359     287     186     293   \n",
       "154709e160e8cada6bfb21115acc80f5     116     159      94      80      30   \n",
       "\n",
       "                                  L1S57  L1S76  L1S8  L2S155  L2S175  ...  \\\n",
       "4b5eeb300368260019c1fbc7a3c718fc    369    481   422       4       4  ...   \n",
       "fe30ff0f71a38a39cf1717ec2be3a2fc      0      0     0       0       0  ...   \n",
       "d29fe3c70564fc0f69f2c03e0d1e5561      0      0     0      98     196  ...   \n",
       "868528ca947bc57b69ffdf83e6b73bae      0      0     0       0       0  ...   \n",
       "154709e160e8cada6bfb21115acc80f5    135    131   252       0       0  ...   \n",
       "\n",
       "                                  L4S63  L5S104  L5S155  L5S174  L5S203  \\\n",
       "4b5eeb300368260019c1fbc7a3c718fc      0       6       0       0       0   \n",
       "fe30ff0f71a38a39cf1717ec2be3a2fc     15       0       0       0       0   \n",
       "d29fe3c70564fc0f69f2c03e0d1e5561     51     119      85      63     104   \n",
       "868528ca947bc57b69ffdf83e6b73bae      0       0       0       0       3   \n",
       "154709e160e8cada6bfb21115acc80f5      0       0       5       0       0   \n",
       "\n",
       "                                  L5S222  L5S240  L6S20  L6S68  L6S93  \n",
       "4b5eeb300368260019c1fbc7a3c718fc       0       0      0      0      0  \n",
       "fe30ff0f71a38a39cf1717ec2be3a2fc       0     242    526    332    210  \n",
       "d29fe3c70564fc0f69f2c03e0d1e5561      61      79     36     87     85  \n",
       "868528ca947bc57b69ffdf83e6b73bae       0       5      0      0      1  \n",
       "154709e160e8cada6bfb21115acc80f5       0       0      0      0      0  \n",
       "\n",
       "[5 rows x 31 columns]"
      ]
     },
     "execution_count": 20,
     "metadata": {},
     "output_type": "execute_result"
    }
   ],
   "source": [
    "data_sub = pd.read_table('rarefied.tsv', index_col=0)\n",
    "data_sub.head()"
   ]
  },
  {
   "cell_type": "markdown",
   "id": "6eccef0c-f297-4010-918d-aceb52732fac",
   "metadata": {},
   "source": [
    "Note: Subsampling data to a constant depth is different from scaling data according to relative abundance. Although the results are similar, the latter won't guarantee that the sum of frequencies is constant."
   ]
  },
  {
   "cell_type": "markdown",
   "id": "9b861362-88b3-4fef-afc8-4dfbba3a1307",
   "metadata": {},
   "source": [
    "## Alpha diversity"
   ]
  },
  {
   "cell_type": "markdown",
   "id": "8f10c97e-530f-41b0-b794-cd545d5bd722",
   "metadata": {},
   "source": [
    "### Observed features"
   ]
  },
  {
   "cell_type": "markdown",
   "id": "c91ef7b2-4c89-485e-93f0-db2362dc043a",
   "metadata": {},
   "source": [
    "The simplest alpha diversity metric is the observed species richness (_S<sub>obs</sub>_), which is simply the number of species sampled at each site, which translates into the number of non-zero features per sample. In QIIME 2, this metric is referred to as \"**observed features**\" for generalizability."
   ]
  },
  {
   "cell_type": "code",
   "execution_count": 21,
   "id": "d129717c-b25c-4613-84e2-24ee9e566e1d",
   "metadata": {},
   "outputs": [
    {
     "data": {
      "text/plain": [
       "L1S105    63\n",
       "L1S140    65\n",
       "L1S208    85\n",
       "L1S257    81\n",
       "L1S281    72\n",
       "dtype: int64"
      ]
     },
     "execution_count": 21,
     "metadata": {},
     "output_type": "execute_result"
    }
   ],
   "source": [
    "sobs = (data > 0).sum()\n",
    "sobs.head()"
   ]
  },
  {
   "cell_type": "markdown",
   "id": "5112f38a-da05-447c-a7d3-512e336aacb1",
   "metadata": {},
   "source": [
    "### Alpha diversity metrics"
   ]
  },
  {
   "cell_type": "markdown",
   "id": "f58997fb-d337-4973-9f8f-b0045868915c",
   "metadata": {},
   "source": [
    "Scikit-bio implements multiple alpha diversity metrics. Here is a complete [list](http://scikit-bio.org/docs/latest/generated/skbio.diversity.alpha.html) of them."
   ]
  },
  {
   "cell_type": "code",
   "execution_count": 22,
   "id": "4ba32c60-065c-44ef-a3a0-c684b7304c9f",
   "metadata": {},
   "outputs": [],
   "source": [
    "from skbio.diversity import alpha_diversity"
   ]
  },
  {
   "cell_type": "markdown",
   "id": "23707e07-9a3b-4e34-b4f8-47090fa66f4d",
   "metadata": {},
   "source": [
    "One needs to transpose the feature table, such that rows are samples and columns are features."
   ]
  },
  {
   "cell_type": "code",
   "execution_count": 23,
   "id": "9ce19775-4ed1-4d93-a0a4-5ab5c562b61e",
   "metadata": {},
   "outputs": [],
   "source": [
    "data_sub_t = data_sub.T"
   ]
  },
  {
   "cell_type": "code",
   "execution_count": 24,
   "id": "663c89a6-c940-4349-9861-caf729424f9f",
   "metadata": {},
   "outputs": [],
   "source": [
    "counts, ids = data_sub_t.values, data_sub_t.index"
   ]
  },
  {
   "cell_type": "markdown",
   "id": "a03d8c4c-aa36-40eb-b81b-90daa827fd66",
   "metadata": {},
   "source": [
    "We will calculate the \"core\" alpha diversity metrics as defined in QIIME 2, and append the results to the metadata table."
   ]
  },
  {
   "cell_type": "markdown",
   "id": "a662c7d6-9706-4095-b9b6-3c9161ab6979",
   "metadata": {},
   "source": [
    "Observed OTUs (equivalent to **observed features**)"
   ]
  },
  {
   "cell_type": "code",
   "execution_count": 25,
   "id": "10020f3c-f01c-4d3a-9814-0dc47e98ecc0",
   "metadata": {},
   "outputs": [
    {
     "data": {
      "text/plain": [
       "L1S105    55\n",
       "L1S140    61\n",
       "L1S208    77\n",
       "L1S257    72\n",
       "L1S281    66\n",
       "Name: sobs, dtype: int64"
      ]
     },
     "execution_count": 25,
     "metadata": {},
     "output_type": "execute_result"
    }
   ],
   "source": [
    "meta['sobs'] = alpha_diversity('observed_otus', counts, ids)\n",
    "meta['sobs'].head()"
   ]
  },
  {
   "cell_type": "markdown",
   "id": "0e061682-7ed1-473f-a68c-e3a6b8cc22bf",
   "metadata": {},
   "source": [
    "**Shannon diversity index** (_H_)"
   ]
  },
  {
   "cell_type": "code",
   "execution_count": 26,
   "id": "6d093eb8-149c-4105-a2fe-efc32caa6e77",
   "metadata": {},
   "outputs": [
    {
     "data": {
      "text/plain": [
       "L1S105    3.717544\n",
       "L1S140    3.777692\n",
       "L1S208    4.427004\n",
       "L1S257    4.644124\n",
       "L1S281    4.596024\n",
       "Name: shannon, dtype: float64"
      ]
     },
     "execution_count": 26,
     "metadata": {},
     "output_type": "execute_result"
    }
   ],
   "source": [
    "meta['shannon'] = alpha_diversity('shannon', counts, ids)\n",
    "meta['shannon'].head()"
   ]
  },
  {
   "cell_type": "markdown",
   "id": "4cbf75cf-a905-4813-9620-11748390d4cc",
   "metadata": {},
   "source": [
    "**Pielou's evenness index** (_J_')"
   ]
  },
  {
   "cell_type": "code",
   "execution_count": 27,
   "id": "f0c3b072-f598-4fbe-8628-6514df746c50",
   "metadata": {},
   "outputs": [
    {
     "data": {
      "text/plain": [
       "L1S105    0.643022\n",
       "L1S140    0.636968\n",
       "L1S208    0.706423\n",
       "L1S257    0.752704\n",
       "L1S281    0.760378\n",
       "Name: pielou_e, dtype: float64"
      ]
     },
     "execution_count": 27,
     "metadata": {},
     "output_type": "execute_result"
    }
   ],
   "source": [
    "meta['pielou_e'] = alpha_diversity('pielou_e', counts, ids)\n",
    "meta['pielou_e'].head()"
   ]
  },
  {
   "cell_type": "markdown",
   "id": "6758b3c2-8e07-4d9d-98a6-90a19a2b7717",
   "metadata": {},
   "source": [
    "### Phylogenetic metric"
   ]
  },
  {
   "cell_type": "markdown",
   "id": "2294f749-55ca-4490-8079-a995de96ba29",
   "metadata": {},
   "source": [
    "To calculate phylogenetic alpha diversity metrics, one needs to provide a phylogenetic tree of taxa (features)."
   ]
  },
  {
   "cell_type": "code",
   "execution_count": 28,
   "id": "273a8fe0-1233-4459-be96-8f07e13a7607",
   "metadata": {},
   "outputs": [],
   "source": [
    "from skbio.tree import TreeNode"
   ]
  },
  {
   "cell_type": "code",
   "execution_count": 29,
   "id": "ffc1df22-e4ac-432f-a86b-a4967a8300e9",
   "metadata": {},
   "outputs": [
    {
     "data": {
      "text/plain": [
       "<TreeNode, name: root, internal node count: 767, tips count: 770>"
      ]
     },
     "execution_count": 29,
     "metadata": {},
     "output_type": "execute_result"
    }
   ],
   "source": [
    "tree = TreeNode.read('tree.nwk')\n",
    "tree"
   ]
  },
  {
   "cell_type": "markdown",
   "id": "b6a4824e-28e2-40c6-b5a4-dee7230edf73",
   "metadata": {},
   "source": [
    "**Faith's phylogenetic diversity** (PD)"
   ]
  },
  {
   "cell_type": "code",
   "execution_count": 30,
   "id": "5cf166ec-a528-4924-94c6-dd02f3b7d8ae",
   "metadata": {},
   "outputs": [
    {
     "data": {
      "text/plain": [
       "L1S105    6.606258\n",
       "L1S140    6.284829\n",
       "L1S208    6.863905\n",
       "L1S257    7.184280\n",
       "L1S281    6.585137\n",
       "Name: faith_pd, dtype: float64"
      ]
     },
     "execution_count": 30,
     "metadata": {},
     "output_type": "execute_result"
    }
   ],
   "source": [
    "meta['faith_pd'] = alpha_diversity('faith_pd', counts, ids, otu_ids=data_sub_t.columns, tree=tree)\n",
    "meta['faith_pd'].head()"
   ]
  },
  {
   "cell_type": "markdown",
   "id": "41f81707-c82f-4a2a-b16c-de831ed9a90b",
   "metadata": {},
   "source": [
    "Finally, take a look at the results."
   ]
  },
  {
   "cell_type": "code",
   "execution_count": 31,
   "id": "dedec16d-f3ab-4598-a7b0-ce87dd98f041",
   "metadata": {},
   "outputs": [
    {
     "data": {
      "text/html": [
       "<div>\n",
       "<style scoped>\n",
       "    .dataframe tbody tr th:only-of-type {\n",
       "        vertical-align: middle;\n",
       "    }\n",
       "\n",
       "    .dataframe tbody tr th {\n",
       "        vertical-align: top;\n",
       "    }\n",
       "\n",
       "    .dataframe thead th {\n",
       "        text-align: right;\n",
       "    }\n",
       "</style>\n",
       "<table border=\"1\" class=\"dataframe\">\n",
       "  <thead>\n",
       "    <tr style=\"text-align: right;\">\n",
       "      <th></th>\n",
       "      <th>site</th>\n",
       "      <th>year</th>\n",
       "      <th>month</th>\n",
       "      <th>day</th>\n",
       "      <th>subject</th>\n",
       "      <th>antibiotic</th>\n",
       "      <th>elapse</th>\n",
       "      <th>sobs</th>\n",
       "      <th>shannon</th>\n",
       "      <th>pielou_e</th>\n",
       "      <th>faith_pd</th>\n",
       "    </tr>\n",
       "  </thead>\n",
       "  <tbody>\n",
       "    <tr>\n",
       "      <th>L1S105</th>\n",
       "      <td>gut</td>\n",
       "      <td>2009</td>\n",
       "      <td>3</td>\n",
       "      <td>17</td>\n",
       "      <td>subject-1</td>\n",
       "      <td>No</td>\n",
       "      <td>140</td>\n",
       "      <td>55</td>\n",
       "      <td>3.717544</td>\n",
       "      <td>0.643022</td>\n",
       "      <td>6.606258</td>\n",
       "    </tr>\n",
       "    <tr>\n",
       "      <th>L1S140</th>\n",
       "      <td>gut</td>\n",
       "      <td>2008</td>\n",
       "      <td>10</td>\n",
       "      <td>28</td>\n",
       "      <td>subject-2</td>\n",
       "      <td>Yes</td>\n",
       "      <td>0</td>\n",
       "      <td>61</td>\n",
       "      <td>3.777692</td>\n",
       "      <td>0.636968</td>\n",
       "      <td>6.284829</td>\n",
       "    </tr>\n",
       "    <tr>\n",
       "      <th>L1S208</th>\n",
       "      <td>gut</td>\n",
       "      <td>2009</td>\n",
       "      <td>1</td>\n",
       "      <td>20</td>\n",
       "      <td>subject-2</td>\n",
       "      <td>No</td>\n",
       "      <td>84</td>\n",
       "      <td>77</td>\n",
       "      <td>4.427004</td>\n",
       "      <td>0.706423</td>\n",
       "      <td>6.863905</td>\n",
       "    </tr>\n",
       "    <tr>\n",
       "      <th>L1S257</th>\n",
       "      <td>gut</td>\n",
       "      <td>2009</td>\n",
       "      <td>3</td>\n",
       "      <td>17</td>\n",
       "      <td>subject-2</td>\n",
       "      <td>No</td>\n",
       "      <td>140</td>\n",
       "      <td>72</td>\n",
       "      <td>4.644124</td>\n",
       "      <td>0.752704</td>\n",
       "      <td>7.184280</td>\n",
       "    </tr>\n",
       "    <tr>\n",
       "      <th>L1S281</th>\n",
       "      <td>gut</td>\n",
       "      <td>2009</td>\n",
       "      <td>4</td>\n",
       "      <td>14</td>\n",
       "      <td>subject-2</td>\n",
       "      <td>No</td>\n",
       "      <td>168</td>\n",
       "      <td>66</td>\n",
       "      <td>4.596024</td>\n",
       "      <td>0.760378</td>\n",
       "      <td>6.585137</td>\n",
       "    </tr>\n",
       "  </tbody>\n",
       "</table>\n",
       "</div>"
      ],
      "text/plain": [
       "       site  year  month  day    subject antibiotic  elapse  sobs   shannon  \\\n",
       "L1S105  gut  2009      3   17  subject-1         No     140    55  3.717544   \n",
       "L1S140  gut  2008     10   28  subject-2        Yes       0    61  3.777692   \n",
       "L1S208  gut  2009      1   20  subject-2         No      84    77  4.427004   \n",
       "L1S257  gut  2009      3   17  subject-2         No     140    72  4.644124   \n",
       "L1S281  gut  2009      4   14  subject-2         No     168    66  4.596024   \n",
       "\n",
       "        pielou_e  faith_pd  \n",
       "L1S105  0.643022  6.606258  \n",
       "L1S140  0.636968  6.284829  \n",
       "L1S208  0.706423  6.863905  \n",
       "L1S257  0.752704  7.184280  \n",
       "L1S281  0.760378  6.585137  "
      ]
     },
     "execution_count": 31,
     "metadata": {},
     "output_type": "execute_result"
    }
   ],
   "source": [
    "meta.head()"
   ]
  },
  {
   "cell_type": "markdown",
   "id": "19547ddf-b484-4927-9af4-219f5324553b",
   "metadata": {},
   "source": [
    "## Statistical tests"
   ]
  },
  {
   "cell_type": "markdown",
   "id": "4820c870-3f80-4225-815e-356066aef4bc",
   "metadata": {},
   "source": [
    "### Two-group comparison"
   ]
  },
  {
   "cell_type": "markdown",
   "id": "d92938d7-d635-4190-8a6f-eedd55949608",
   "metadata": {},
   "source": [
    "Compare the numbers of observed features (_S<sub>obs</sub>_) in samples of the two subjects (1 vs 2)."
   ]
  },
  {
   "cell_type": "code",
   "execution_count": 32,
   "id": "3f72f360-61cd-4ab5-8fbf-b3a621bc8a01",
   "metadata": {},
   "outputs": [
    {
     "data": {
      "text/plain": [
       "subject-2    16\n",
       "subject-1    15\n",
       "Name: subject, dtype: int64"
      ]
     },
     "execution_count": 32,
     "metadata": {},
     "output_type": "execute_result"
    }
   ],
   "source": [
    "meta['subject'].value_counts()"
   ]
  },
  {
   "cell_type": "code",
   "execution_count": 33,
   "id": "68355d56-52f2-4fd9-a827-bc64d7dc1815",
   "metadata": {
    "tags": []
   },
   "outputs": [
    {
     "data": {
      "text/plain": [
       "subject\n",
       "subject-1    [55, 59, 51, 38, 98, 90, 83, 134, 40, 46, 25, ...\n",
       "subject-2    [61, 77, 72, 66, 43, 58, 50, 116, 30, 125, 111...\n",
       "Name: sobs, dtype: object"
      ]
     },
     "execution_count": 33,
     "metadata": {},
     "output_type": "execute_result"
    }
   ],
   "source": [
    "grouped = meta.groupby('subject')['sobs'].apply(np.array)\n",
    "grouped"
   ]
  },
  {
   "cell_type": "markdown",
   "id": "986e3485-3051-4f3c-8d58-540a976a653e",
   "metadata": {},
   "source": [
    "Draw a boxplot to preview the data."
   ]
  },
  {
   "cell_type": "code",
   "execution_count": 34,
   "id": "de8792db-706c-4017-88c5-e16a6dec77c6",
   "metadata": {
    "tags": []
   },
   "outputs": [
    {
     "data": {
      "image/png": "[encoded data removed]",
      "text/plain": [
       "<Figure size 640x480 with 1 Axes>"
      ]
     },
     "metadata": {},
     "output_type": "display_data"
    }
   ],
   "source": [
    "plt.boxplot(grouped, labels=grouped.index);"
   ]
  },
  {
   "cell_type": "markdown",
   "id": "ed1bb17f-3dae-46e9-8635-76591aa70729",
   "metadata": {},
   "source": [
    "Polish the figure."
   ]
  },
  {
   "cell_type": "code",
   "execution_count": 35,
   "id": "396406da-5b26-4efa-b488-885f09be9999",
   "metadata": {},
   "outputs": [
    {
     "data": {
      "image/png": "[encoded data removed]",
      "text/html": [
       "<div style=\"vertical-align: middle;\"><strong>tab10</strong> </div><div class=\"cmap\"><img alt=\"tab10 colormap\" title=\"tab10\" style=\"border: 1px solid #555;\" src=\"data:image/png;base64,iVBORw0KGgoAAAANSUhEUgAAAgAAAABACAYAAABsv8+/AAAAFHRFWHRUaXRsZQB0YWIxMCBjb2xvcm1hcFeJcQsAAAAadEVYdERlc2NyaXB0aW9uAHRhYjEwIGNvbG9ybWFwqdbY7QAAADB0RVh0QXV0aG9yAE1hdHBsb3RsaWIgdjMuNi4yLCBodHRwczovL21hdHBsb3RsaWIub3Jncc5VXwAAADJ0RVh0U29mdHdhcmUATWF0cGxvdGxpYiB2My42LjIsIGh0dHBzOi8vbWF0cGxvdGxpYi5vcmdfaMp4AAABeklEQVR4nO3WsS0EcBxAYae6KcgNYARiCwmD3AjX6a67TifRaZnFBlqFhCX+8Uu875vglW9zuX/9OftHPrb30wnLXO0uphOWeT58Tycs8357nE5Y5uvzcTphmbvdfjphmdP2bTphmeubp+mEZR42L9MJS51PBwAAf88AAECQAQCAIAMAAEEGAACCDAAABBkAAAgyAAAQZAAAIMgAAECQAQCAIAMAAEEGAACCDAAABBkAAAgyAAAQZAAAIMgAAECQAQCAIAMAAEEGAACCDAAABBkAAAgyAAAQZAAAIMgAAECQAQCAIAMAAEEGAACCDAAABBkAAAgyAAAQZAAAIMgAAECQAQCAIAMAAEEGAACCDAAABBkAAAgyAAAQZAAAIMgAAECQAQCAIAMAAEEGAACCDAAABBkAAAgyAAAQZAAAIMgAAECQAQCAIAMAAEEGAACCDAAABBkAAAgyAAAQZAAAIMgAAECQAQCAIAMAAEEGAACCDAAABBkAAAj6BcEgDyNmiQL1AAAAAElFTkSuQmCC\"></div><div style=\"vertical-align: middle; max-width: 514px; display: flex; justify-content: space-between;\"><div style=\"float: left;\"><div title=\"#1f77b4ff\" style=\"display: inline-block; width: 1em; height: 1em; margin: 0; vertical-align: middle; border: 1px solid #555; background-color: #1f77b4ff;\"></div> under</div><div style=\"margin: 0 auto; display: inline-block;\">bad <div title=\"#00000000\" style=\"display: inline-block; width: 1em; height: 1em; margin: 0; vertical-align: middle; border: 1px solid #555; background-color: #00000000;\"></div></div><div style=\"float: right;\">over <div title=\"#17becfff\" style=\"display: inline-block; width: 1em; height: 1em; margin: 0; vertical-align: middle; border: 1px solid #555; background-color: #17becfff;\"></div></div>"
      ],
      "text/plain": [
       "<matplotlib.colors.ListedColormap at 0x7f72bbab1ee0>"
      ]
     },
     "execution_count": 35,
     "metadata": {},
     "output_type": "execute_result"
    }
   ],
   "source": [
    "cmap = plt.get_cmap('tab10')\n",
    "cmap"
   ]
  },
  {
   "cell_type": "code",
   "execution_count": 36,
   "id": "d8f640d6-6f39-4b5b-9da3-81312dc0544a",
   "metadata": {},
   "outputs": [
    {
     "data": {
      "image/png": "[encoded data removed]",
      "text/plain": [
       "<Figure size 400x400 with 1 Axes>"
      ]
     },
     "metadata": {},
     "output_type": "display_data"
    }
   ],
   "source": [
    "plt.figure(figsize=(4, 4))\n",
    "for i, (group, datum) in enumerate(grouped.items()):\n",
    "    bp = plt.boxplot(datum, widths=0.75, positions=(i,), labels=(group,),\n",
    "                     medianprops=dict(color='k', linewidth=2),\n",
    "                     showfliers=False, patch_artist=True)\n",
    "    for patch in bp['boxes']:\n",
    "        patch.set(facecolor=cmap(i), alpha=0.5)\n",
    "    plt.scatter(np.random.normal(i, 0.05, len(datum)), datum,\n",
    "                color=cmap(i), edgecolor='k', linewidth=0.75, zorder=2.5)\n",
    "plt.ylabel('Observed features');"
   ]
  },
  {
   "cell_type": "markdown",
   "id": "cc70de72-5193-482a-8f97-a57e3789d3f4",
   "metadata": {},
   "source": [
    "An alternative method to generate such plots is to use the `boxplot` and `stripplot` functions of the Python library [seaborn](https://seaborn.pydata.org/)."
   ]
  },
  {
   "cell_type": "markdown",
   "id": "24426f29-8892-4d30-bdbb-469ca0112c7c",
   "metadata": {},
   "source": [
    "Perform statistical tests to assess whether the mean _S<sub>obs</sub>_ is significantly different between the two groups."
   ]
  },
  {
   "cell_type": "markdown",
   "id": "b1393616-fc1f-45c1-8242-45bc957f8773",
   "metadata": {},
   "source": [
    "In microbiome research, because data are usually highly skewed, non-parametric statistical tests (i.e., those that don't assume a normal distribution of data) are favored. This includes [Mann-Whitney _U_ test](https://en.wikipedia.org/wiki/Mann%E2%80%93Whitney_U_test) (a.k.a., Wilcoxon rank-sum test) for two groups, and [Kruskal-Wallis _H_ test](https://en.wikipedia.org/wiki/Kruskal%E2%80%93Wallis_one-way_analysis_of_variance) for two or more groups."
   ]
  },
  {
   "cell_type": "code",
   "execution_count": 37,
   "id": "f49f015e-21e4-4825-a090-3fb351f1faf4",
   "metadata": {},
   "outputs": [],
   "source": [
    "from scipy.stats import mannwhitneyu, kruskal"
   ]
  },
  {
   "cell_type": "markdown",
   "id": "5db4c132-728e-4b4b-83db-d4f65726cb4c",
   "metadata": {},
   "source": [
    "**Mann-Whitney _U_ test**\n",
    "\n",
    "- This is equivalent to `mannwhitneyu(grouped.iloc[0], grouped.iloc[1])`.\n",
    "\n",
    "- Note: _U_ test doesn't work well with small sample size (_n_ < 20 per group)."
   ]
  },
  {
   "cell_type": "code",
   "execution_count": 38,
   "id": "77893797-d47a-4fd4-a27c-d4e982ed9fc4",
   "metadata": {},
   "outputs": [
    {
     "data": {
      "text/plain": [
       "MannwhitneyuResult(statistic=89.5, pvalue=0.23563269285773247)"
      ]
     },
     "execution_count": 38,
     "metadata": {},
     "output_type": "execute_result"
    }
   ],
   "source": [
    "mannwhitneyu(*grouped)"
   ]
  },
  {
   "cell_type": "markdown",
   "id": "bec9a76d-c26e-4e91-82fb-f87866abf4e0",
   "metadata": {},
   "source": [
    "**Kruskal-Wallis _H_ test**"
   ]
  },
  {
   "cell_type": "code",
   "execution_count": 39,
   "id": "ccecc2b8-7091-4a90-8fcf-2e4b05fddd31",
   "metadata": {},
   "outputs": [
    {
     "data": {
      "text/plain": [
       "KruskalResult(statistic=1.453808731599107, pvalue=0.22791779121839684)"
      ]
     },
     "execution_count": 39,
     "metadata": {},
     "output_type": "execute_result"
    }
   ],
   "source": [
    "kruskal(*grouped)"
   ]
  },
  {
   "cell_type": "markdown",
   "id": "1db2cb1b-0fdf-4943-8e79-70afd2ad3e7c",
   "metadata": {},
   "source": [
    "Therefore, neither test suggested a significant difference."
   ]
  },
  {
   "cell_type": "markdown",
   "id": "ffde0251-5181-4851-b77c-eede582f0542",
   "metadata": {},
   "source": [
    "Note: One may choose to perform [Student's _t_-test](https://en.wikipedia.org/wiki/Student%27s_t-test) (`ttest_ind`) for two groups or [one-way ANOVA](https://en.wikipedia.org/wiki/One-way_analysis_of_variance) (`f_oneway`) for two or more groups. These parametric tests usually have higher statistical power than their non-parametric couterparts (_U_-test and _H_-test).\n",
    "\n",
    "However, one needs to check that each group fits a normal distribution, before applying an parametric test. One can use the [Shapiro-Wilk test](https://en.wikipedia.org/wiki/Shapiro–Wilk_test) (`shapiro`) for small sample size (_n_ <= 50) or [Kolmogorov-Smirnov test](https://en.wikipedia.org/wiki/Kolmogorov–Smirnov_test) (`kstest`) for large sample size.\n",
    "\n",
    "When samples are paired between two groups (e.g., before and after treatment), a [paired _t_-test](https://en.wikipedia.org/wiki/Student's_t-test#Paired_samples) (`ttest_rel`) can significantly improve the statistical power."
   ]
  },
  {
   "cell_type": "markdown",
   "id": "11b8f838-30fb-4e0e-8373-7dc27c94401b",
   "metadata": {},
   "source": [
    "### Multi-group comparison"
   ]
  },
  {
   "cell_type": "markdown",
   "id": "0f5c5b7f-29c3-41d2-9f3f-312272ab7e69",
   "metadata": {},
   "source": [
    "Compare the Faith's PD of samples of the four body sites."
   ]
  },
  {
   "cell_type": "code",
   "execution_count": 40,
   "id": "774ee4bb-9890-4aa7-8533-0e100c714025",
   "metadata": {},
   "outputs": [
    {
     "data": {
      "text/plain": [
       "tongue        9\n",
       "gut           8\n",
       "left palm     8\n",
       "right palm    6\n",
       "Name: site, dtype: int64"
      ]
     },
     "execution_count": 40,
     "metadata": {},
     "output_type": "execute_result"
    }
   ],
   "source": [
    "meta['site'].value_counts()"
   ]
  },
  {
   "cell_type": "code",
   "execution_count": 41,
   "id": "b578a948-ac1e-4c6f-83b4-9d5f4c3d0d5e",
   "metadata": {},
   "outputs": [],
   "source": [
    "grouped = meta.groupby('site')['faith_pd'].apply(np.array)"
   ]
  },
  {
   "cell_type": "markdown",
   "id": "ebb852b0-45c7-4dd4-9dad-577d9a372380",
   "metadata": {},
   "source": [
    "Boxplot"
   ]
  },
  {
   "cell_type": "code",
   "execution_count": 42,
   "id": "376929ac-841b-49af-9b0b-e0106fe28c39",
   "metadata": {},
   "outputs": [
    {
     "data": {
      "image/png": "[encoded data removed]",
      "text/plain": [
       "<Figure size 400x400 with 1 Axes>"
      ]
     },
     "metadata": {},
     "output_type": "display_data"
    }
   ],
   "source": [
    "plt.figure(figsize=(4, 4))\n",
    "for i, (group, datum) in enumerate(grouped.items()):\n",
    "    bp = plt.boxplot(datum, widths=0.75, positions=(i,), labels=(group,),\n",
    "                     medianprops=dict(color='k', linewidth=2),\n",
    "                     showfliers=False, patch_artist=True)\n",
    "    for patch in bp['boxes']:\n",
    "        patch.set(facecolor=cmap(i), alpha=0.5)\n",
    "    plt.scatter(np.random.normal(i, 0.05, len(datum)), datum,\n",
    "                color=cmap(i), edgecolor='k', linewidth=0.75, zorder=2.5)\n",
    "plt.ylabel('Faith\\' PD');"
   ]
  },
  {
   "cell_type": "markdown",
   "id": "bf26b0e4-95cc-484d-b11a-b13a80143430",
   "metadata": {},
   "source": [
    "Kruskal-Wallis _H_ test"
   ]
  },
  {
   "cell_type": "code",
   "execution_count": 43,
   "id": "576d3479-0e41-4d70-b1a2-3c60725584c9",
   "metadata": {},
   "outputs": [
    {
     "data": {
      "text/plain": [
       "KruskalResult(statistic=18.396001344086017, pvalue=0.00036440958833366775)"
      ]
     },
     "execution_count": 43,
     "metadata": {},
     "output_type": "execute_result"
    }
   ],
   "source": [
    "kruskal(*grouped)"
   ]
  },
  {
   "cell_type": "markdown",
   "id": "6c2c4fac-7115-47e4-8f20-06e1b9e25b4a",
   "metadata": {},
   "source": [
    "Therefore, the differential phylogenetic diversity among body sites is significant."
   ]
  },
  {
   "cell_type": "markdown",
   "id": "a30b2278-0b19-4dd6-9d39-cdda22360e28",
   "metadata": {},
   "source": [
    "Given that we know there is **overall** difference among the four body sites, we now want to perform a [post hoc analysis](https://en.wikipedia.org/wiki/Post_hoc_analysis) to assess which **pairs** of groups have significant difference.\n",
    "\n",
    "This can be done by performing the Kruskal-Wallis _H_ test between every pair of groups, then performing the [Benjamini-Hochberg](https://en.wikipedia.org/wiki/False_discovery_rate#Benjamini.E2.80.93Hochberg_procedure) (BH) [FDR correction](https://en.wikipedia.org/wiki/Multiple_comparisons_problem) to adjust the _p_-values, as is done in QIIME 2."
   ]
  },
  {
   "cell_type": "markdown",
   "id": "aaf50ba7-012a-4b80-8ec2-2233df505c89",
   "metadata": {},
   "source": [
    "Perform _H_ test on every pair of groups through nested iterations."
   ]
  },
  {
   "cell_type": "code",
   "execution_count": 44,
   "id": "e6c7404b-fb2a-4791-b75f-826e3283b1bd",
   "metadata": {},
   "outputs": [
    {
     "data": {
      "text/html": [
       "<div>\n",
       "<style scoped>\n",
       "    .dataframe tbody tr th:only-of-type {\n",
       "        vertical-align: middle;\n",
       "    }\n",
       "\n",
       "    .dataframe tbody tr th {\n",
       "        vertical-align: top;\n",
       "    }\n",
       "\n",
       "    .dataframe thead th {\n",
       "        text-align: right;\n",
       "    }\n",
       "</style>\n",
       "<table border=\"1\" class=\"dataframe\">\n",
       "  <thead>\n",
       "    <tr style=\"text-align: right;\">\n",
       "      <th></th>\n",
       "      <th>group_1</th>\n",
       "      <th>group_2</th>\n",
       "      <th>statistic</th>\n",
       "      <th>pvalue</th>\n",
       "    </tr>\n",
       "  </thead>\n",
       "  <tbody>\n",
       "    <tr>\n",
       "      <th>0</th>\n",
       "      <td>gut</td>\n",
       "      <td>left palm</td>\n",
       "      <td>11.294118</td>\n",
       "      <td>0.000778</td>\n",
       "    </tr>\n",
       "    <tr>\n",
       "      <th>1</th>\n",
       "      <td>gut</td>\n",
       "      <td>right palm</td>\n",
       "      <td>4.266667</td>\n",
       "      <td>0.038867</td>\n",
       "    </tr>\n",
       "    <tr>\n",
       "      <th>2</th>\n",
       "      <td>gut</td>\n",
       "      <td>tongue</td>\n",
       "      <td>3.000000</td>\n",
       "      <td>0.083265</td>\n",
       "    </tr>\n",
       "    <tr>\n",
       "      <th>3</th>\n",
       "      <td>left palm</td>\n",
       "      <td>right palm</td>\n",
       "      <td>0.416667</td>\n",
       "      <td>0.518605</td>\n",
       "    </tr>\n",
       "    <tr>\n",
       "      <th>4</th>\n",
       "      <td>left palm</td>\n",
       "      <td>tongue</td>\n",
       "      <td>12.000000</td>\n",
       "      <td>0.000532</td>\n",
       "    </tr>\n",
       "    <tr>\n",
       "      <th>5</th>\n",
       "      <td>right palm</td>\n",
       "      <td>tongue</td>\n",
       "      <td>5.013889</td>\n",
       "      <td>0.025145</td>\n",
       "    </tr>\n",
       "  </tbody>\n",
       "</table>\n",
       "</div>"
      ],
      "text/plain": [
       "      group_1     group_2  statistic    pvalue\n",
       "0         gut   left palm  11.294118  0.000778\n",
       "1         gut  right palm   4.266667  0.038867\n",
       "2         gut      tongue   3.000000  0.083265\n",
       "3   left palm  right palm   0.416667  0.518605\n",
       "4   left palm      tongue  12.000000  0.000532\n",
       "5  right palm      tongue   5.013889  0.025145"
      ]
     },
     "execution_count": 44,
     "metadata": {},
     "output_type": "execute_result"
    }
   ],
   "source": [
    "res = []\n",
    "n = grouped.shape[0]\n",
    "for i in range(n):\n",
    "    for j in range(i + 1, n):\n",
    "        test = kruskal(grouped.iloc[i], grouped.iloc[j])\n",
    "        res.append([grouped.index[i], grouped.index[j],\n",
    "                    test.statistic, test.pvalue])\n",
    "res = pd.DataFrame(res, columns=['group_1', 'group_2', 'statistic', 'pvalue'])\n",
    "res"
   ]
  },
  {
   "cell_type": "markdown",
   "id": "1638cde3-20aa-4d7a-91f2-d36fcef7b739",
   "metadata": {},
   "source": [
    "Perform FDR correction."
   ]
  },
  {
   "cell_type": "code",
   "execution_count": 45,
   "id": "6f97e17a-f6ba-47c0-9477-9150f893aa37",
   "metadata": {},
   "outputs": [],
   "source": [
    "from statsmodels.stats.multitest import fdrcorrection"
   ]
  },
  {
   "cell_type": "code",
   "execution_count": 46,
   "id": "9d61544c-2c04-4eaf-9bd1-e4f45c897f06",
   "metadata": {},
   "outputs": [
    {
     "data": {
      "text/html": [
       "<div>\n",
       "<style scoped>\n",
       "    .dataframe tbody tr th:only-of-type {\n",
       "        vertical-align: middle;\n",
       "    }\n",
       "\n",
       "    .dataframe tbody tr th {\n",
       "        vertical-align: top;\n",
       "    }\n",
       "\n",
       "    .dataframe thead th {\n",
       "        text-align: right;\n",
       "    }\n",
       "</style>\n",
       "<table border=\"1\" class=\"dataframe\">\n",
       "  <thead>\n",
       "    <tr style=\"text-align: right;\">\n",
       "      <th></th>\n",
       "      <th>group_1</th>\n",
       "      <th>group_2</th>\n",
       "      <th>statistic</th>\n",
       "      <th>pvalue</th>\n",
       "      <th>qvalue</th>\n",
       "    </tr>\n",
       "  </thead>\n",
       "  <tbody>\n",
       "    <tr>\n",
       "      <th>0</th>\n",
       "      <td>gut</td>\n",
       "      <td>left palm</td>\n",
       "      <td>11.294118</td>\n",
       "      <td>0.000778</td>\n",
       "      <td>0.002333</td>\n",
       "    </tr>\n",
       "    <tr>\n",
       "      <th>1</th>\n",
       "      <td>gut</td>\n",
       "      <td>right palm</td>\n",
       "      <td>4.266667</td>\n",
       "      <td>0.038867</td>\n",
       "      <td>0.058301</td>\n",
       "    </tr>\n",
       "    <tr>\n",
       "      <th>2</th>\n",
       "      <td>gut</td>\n",
       "      <td>tongue</td>\n",
       "      <td>3.000000</td>\n",
       "      <td>0.083265</td>\n",
       "      <td>0.099917</td>\n",
       "    </tr>\n",
       "    <tr>\n",
       "      <th>3</th>\n",
       "      <td>left palm</td>\n",
       "      <td>right palm</td>\n",
       "      <td>0.416667</td>\n",
       "      <td>0.518605</td>\n",
       "      <td>0.518605</td>\n",
       "    </tr>\n",
       "    <tr>\n",
       "      <th>4</th>\n",
       "      <td>left palm</td>\n",
       "      <td>tongue</td>\n",
       "      <td>12.000000</td>\n",
       "      <td>0.000532</td>\n",
       "      <td>0.002333</td>\n",
       "    </tr>\n",
       "    <tr>\n",
       "      <th>5</th>\n",
       "      <td>right palm</td>\n",
       "      <td>tongue</td>\n",
       "      <td>5.013889</td>\n",
       "      <td>0.025145</td>\n",
       "      <td>0.050290</td>\n",
       "    </tr>\n",
       "  </tbody>\n",
       "</table>\n",
       "</div>"
      ],
      "text/plain": [
       "      group_1     group_2  statistic    pvalue    qvalue\n",
       "0         gut   left palm  11.294118  0.000778  0.002333\n",
       "1         gut  right palm   4.266667  0.038867  0.058301\n",
       "2         gut      tongue   3.000000  0.083265  0.099917\n",
       "3   left palm  right palm   0.416667  0.518605  0.518605\n",
       "4   left palm      tongue  12.000000  0.000532  0.002333\n",
       "5  right palm      tongue   5.013889  0.025145  0.050290"
      ]
     },
     "execution_count": 46,
     "metadata": {},
     "output_type": "execute_result"
    }
   ],
   "source": [
    "res['qvalue'] = fdrcorrection(res['pvalue'])[1]\n",
    "res"
   ]
  },
  {
   "cell_type": "markdown",
   "id": "7d6dbd2f-96d8-47a3-9054-264bfa043cda",
   "metadata": {},
   "source": [
    "The _q_-values (a.k.a., FDR, or adjusted _p_-values, or corrected _p_-values) are what one should base the conclusion on. The common significance level _q_ <= 0.05 applies."
   ]
  },
  {
   "cell_type": "code",
   "execution_count": 47,
   "id": "130d4c8c-4a32-4289-8624-357cb2ccd1fc",
   "metadata": {},
   "outputs": [
    {
     "data": {
      "text/html": [
       "<div>\n",
       "<style scoped>\n",
       "    .dataframe tbody tr th:only-of-type {\n",
       "        vertical-align: middle;\n",
       "    }\n",
       "\n",
       "    .dataframe tbody tr th {\n",
       "        vertical-align: top;\n",
       "    }\n",
       "\n",
       "    .dataframe thead th {\n",
       "        text-align: right;\n",
       "    }\n",
       "</style>\n",
       "<table border=\"1\" class=\"dataframe\">\n",
       "  <thead>\n",
       "    <tr style=\"text-align: right;\">\n",
       "      <th></th>\n",
       "      <th>group_1</th>\n",
       "      <th>group_2</th>\n",
       "      <th>statistic</th>\n",
       "      <th>pvalue</th>\n",
       "      <th>qvalue</th>\n",
       "    </tr>\n",
       "  </thead>\n",
       "  <tbody>\n",
       "    <tr>\n",
       "      <th>0</th>\n",
       "      <td>gut</td>\n",
       "      <td>left palm</td>\n",
       "      <td>11.294118</td>\n",
       "      <td>0.000778</td>\n",
       "      <td>0.002333</td>\n",
       "    </tr>\n",
       "    <tr>\n",
       "      <th>4</th>\n",
       "      <td>left palm</td>\n",
       "      <td>tongue</td>\n",
       "      <td>12.000000</td>\n",
       "      <td>0.000532</td>\n",
       "      <td>0.002333</td>\n",
       "    </tr>\n",
       "  </tbody>\n",
       "</table>\n",
       "</div>"
      ],
      "text/plain": [
       "     group_1    group_2  statistic    pvalue    qvalue\n",
       "0        gut  left palm  11.294118  0.000778  0.002333\n",
       "4  left palm     tongue  12.000000  0.000532  0.002333"
      ]
     },
     "execution_count": 47,
     "metadata": {},
     "output_type": "execute_result"
    }
   ],
   "source": [
    "sigres = res.query('qvalue <= 0.05')\n",
    "sigres"
   ]
  },
  {
   "cell_type": "markdown",
   "id": "84c1edb1-537d-41fd-b912-da54f5320e80",
   "metadata": {},
   "source": [
    "Note: Another common post hoc analysis for _H_ test is the [Dunn's test](https://www.statology.org/dunns-test/), which is implemented in the Python library [scikit-posthocs](https://scikit-posthocs.readthedocs.io/en/latest/generated/scikit_posthocs.posthoc_dunn/)."
   ]
  },
  {
   "cell_type": "markdown",
   "id": "27525948-3ccf-43ff-93c2-99ffc53c5f44",
   "metadata": {},
   "source": [
    "### Correlation analysis"
   ]
  },
  {
   "cell_type": "markdown",
   "id": "dd927743-b08e-42f4-85d5-c0622fa3245b",
   "metadata": {},
   "source": [
    "Assess the correlation between Shannon diversity and the experimental time."
   ]
  },
  {
   "cell_type": "code",
   "execution_count": 48,
   "id": "603ccf1c-c05a-44fd-a5be-6cf729ff4f9d",
   "metadata": {},
   "outputs": [
    {
     "data": {
      "text/plain": [
       "L1S105    140\n",
       "L1S140      0\n",
       "L1S208     84\n",
       "L1S257    140\n",
       "L1S281    168\n",
       "Name: elapse, dtype: int64"
      ]
     },
     "execution_count": 48,
     "metadata": {},
     "output_type": "execute_result"
    }
   ],
   "source": [
    "meta['elapse'].head()"
   ]
  },
  {
   "cell_type": "markdown",
   "id": "965d948a-d5ba-430d-b4d1-276f8bd476ee",
   "metadata": {},
   "source": [
    "Draw a scatter plot to preview the data."
   ]
  },
  {
   "cell_type": "code",
   "execution_count": 49,
   "id": "387850b1-d937-4eb6-8155-4836a0b24885",
   "metadata": {},
   "outputs": [
    {
     "data": {
      "image/png": "[encoded data removed]",
      "text/plain": [
       "<Figure size 640x480 with 1 Axes>"
      ]
     },
     "metadata": {},
     "output_type": "display_data"
    }
   ],
   "source": [
    "plt.scatter('elapse', 'shannon', data=meta);"
   ]
  },
  {
   "cell_type": "markdown",
   "id": "3bf51e35-2feb-43bf-966f-d63aa11f3a20",
   "metadata": {},
   "source": [
    "Perform linear regression using the [least squares](https://en.wikipedia.org/wiki/Least_squares) method."
   ]
  },
  {
   "cell_type": "code",
   "execution_count": 50,
   "id": "ddfa238f-6cbf-434e-9883-d3ef4865ef64",
   "metadata": {},
   "outputs": [],
   "source": [
    "from scipy.stats import linregress"
   ]
  },
  {
   "cell_type": "code",
   "execution_count": 51,
   "id": "692004f9-5aa1-4c45-b820-f2d6db9473a8",
   "metadata": {},
   "outputs": [
    {
     "data": {
      "text/plain": [
       "LinregressResult(slope=0.006913534847570466, intercept=3.531032427867763, rvalue=0.4445830351645839, pvalue=0.012216854883366336, stderr=0.0025865989469158186, intercept_stderr=0.2986149787388692)"
      ]
     },
     "execution_count": 51,
     "metadata": {},
     "output_type": "execute_result"
    }
   ],
   "source": [
    "reg = linregress(meta['elapse'], meta['shannon'])\n",
    "reg"
   ]
  },
  {
   "cell_type": "markdown",
   "id": "80a9f04f-99e6-4993-9c4c-6984549c0cd5",
   "metadata": {},
   "source": [
    "According to the result, the correlation is positive (slope > 0), moderately strong (_r_ = 0.46) and significant (_p_ < 0.01)."
   ]
  },
  {
   "cell_type": "markdown",
   "id": "71a31bec-135f-453d-ab1a-4653d8ca399e",
   "metadata": {},
   "source": [
    "Draw the regression line with the scatter plot."
   ]
  },
  {
   "cell_type": "code",
   "execution_count": 52,
   "id": "db283fc5-8d4f-46cd-bda2-01a05b4fe0be",
   "metadata": {},
   "outputs": [
    {
     "data": {
      "image/png": "[encoded data removed]",
      "text/plain": [
       "<Figure size 400x400 with 1 Axes>"
      ]
     },
     "metadata": {},
     "output_type": "display_data"
    }
   ],
   "source": [
    "plt.figure(figsize=(4, 4))\n",
    "plt.scatter('elapse', 'shannon', data=meta)\n",
    "plt.plot(plt.xlim(), [x * reg.slope + reg.intercept for x in plt.xlim()], 'k--')\n",
    "plt.xlabel('Days since start')\n",
    "plt.ylabel('Shannon index');"
   ]
  },
  {
   "cell_type": "markdown",
   "id": "ed922bd7-7274-41a5-b70f-37198653bb26",
   "metadata": {},
   "source": [
    "There are two common metrics to evaluate the correlation coefficient between two variables: [Pearson's _r_](https://en.wikipedia.org/wiki/Pearson_correlation_coefficient) (parametric) and [Spearman's _ρ_](https://en.wikipedia.org/wiki/Spearman%27s_rank_correlation_coefficient) (non-parametric).\n",
    "\n",
    "As discussed above, because microbiome data are usually highly skewed, Spearman correlation is usually favored over Pearson correlation, unless one can show that both variables fit normal distributions."
   ]
  },
  {
   "cell_type": "code",
   "execution_count": 53,
   "id": "1df52b7a-8485-4ed3-9177-316ffe395faa",
   "metadata": {},
   "outputs": [],
   "source": [
    "from scipy.stats import pearsonr, spearmanr"
   ]
  },
  {
   "cell_type": "markdown",
   "id": "6c6c3f31-0752-4deb-8ef8-95474acfca3a",
   "metadata": {},
   "source": [
    "**Pearson** correlation coefficient (Pearson's _r_) (It is identical to the _r_ in the linear regression result.)"
   ]
  },
  {
   "cell_type": "code",
   "execution_count": 54,
   "id": "fd6f4e90-05db-43c8-a98e-591da2f8fd87",
   "metadata": {},
   "outputs": [
    {
     "data": {
      "text/plain": [
       "(0.444583035164584, 0.012216854883366303)"
      ]
     },
     "execution_count": 54,
     "metadata": {},
     "output_type": "execute_result"
    }
   ],
   "source": [
    "pearsonr(meta['elapse'], meta['shannon'])"
   ]
  },
  {
   "cell_type": "markdown",
   "id": "8d28eecf-7cbf-4a38-a6c9-c56543f521e0",
   "metadata": {},
   "source": [
    "**Spearman's** rank correlation coefficient (Spearman's _ρ_)"
   ]
  },
  {
   "cell_type": "code",
   "execution_count": 55,
   "id": "9d665604-87e0-4518-a6ad-638c8291bf01",
   "metadata": {},
   "outputs": [
    {
     "data": {
      "text/plain": [
       "SpearmanrResult(correlation=0.40237154473308473, pvalue=0.024828925017091656)"
      ]
     },
     "execution_count": 55,
     "metadata": {},
     "output_type": "execute_result"
    }
   ],
   "source": [
    "spearmanr(meta['elapse'], meta['shannon'])"
   ]
  },
  {
   "cell_type": "markdown",
   "id": "c4137fb3-3383-4299-9ae3-e63ef16e1e8d",
   "metadata": {},
   "source": [
    "A more comprehensive way to perform regression analysis (as well as other statistical tests) is to use the Python library [statsmodels](https://www.statsmodels.org/stable/index.html) (but the results are identical)."
   ]
  },
  {
   "cell_type": "code",
   "execution_count": 56,
   "id": "67268fc9-cc23-4cdf-8a06-73d08ee54ec9",
   "metadata": {},
   "outputs": [],
   "source": [
    "import statsmodels.formula.api as smf"
   ]
  },
  {
   "cell_type": "code",
   "execution_count": 57,
   "id": "37100328-cd22-40e2-b448-0f615338056e",
   "metadata": {},
   "outputs": [
    {
     "data": {
      "text/html": [
       "<table class=\"simpletable\">\n",
       "<caption>OLS Regression Results</caption>\n",
       "<tr>\n",
       "  <th>Dep. Variable:</th>         <td>shannon</td>     <th>  R-squared:         </th> <td>   0.198</td>\n",
       "</tr>\n",
       "<tr>\n",
       "  <th>Model:</th>                   <td>OLS</td>       <th>  Adj. R-squared:    </th> <td>   0.170</td>\n",
       "</tr>\n",
       "<tr>\n",
       "  <th>Method:</th>             <td>Least Squares</td>  <th>  F-statistic:       </th> <td>   7.144</td>\n",
       "</tr>\n",
       "<tr>\n",
       "  <th>Date:</th>             <td>Sat, 19 Nov 2022</td> <th>  Prob (F-statistic):</th>  <td>0.0122</td> \n",
       "</tr>\n",
       "<tr>\n",
       "  <th>Time:</th>                 <td>12:22:46</td>     <th>  Log-Likelihood:    </th> <td> -36.965</td>\n",
       "</tr>\n",
       "<tr>\n",
       "  <th>No. Observations:</th>      <td>    31</td>      <th>  AIC:               </th> <td>   77.93</td>\n",
       "</tr>\n",
       "<tr>\n",
       "  <th>Df Residuals:</th>          <td>    29</td>      <th>  BIC:               </th> <td>   80.80</td>\n",
       "</tr>\n",
       "<tr>\n",
       "  <th>Df Model:</th>              <td>     1</td>      <th>                     </th>     <td> </td>   \n",
       "</tr>\n",
       "<tr>\n",
       "  <th>Covariance Type:</th>      <td>nonrobust</td>    <th>                     </th>     <td> </td>   \n",
       "</tr>\n",
       "</table>\n",
       "<table class=\"simpletable\">\n",
       "<tr>\n",
       "      <td></td>         <th>coef</th>     <th>std err</th>      <th>t</th>      <th>P>|t|</th>  <th>[0.025</th>    <th>0.975]</th>  \n",
       "</tr>\n",
       "<tr>\n",
       "  <th>Intercept</th> <td>    3.5310</td> <td>    0.299</td> <td>   11.825</td> <td> 0.000</td> <td>    2.920</td> <td>    4.142</td>\n",
       "</tr>\n",
       "<tr>\n",
       "  <th>elapse</th>    <td>    0.0069</td> <td>    0.003</td> <td>    2.673</td> <td> 0.012</td> <td>    0.002</td> <td>    0.012</td>\n",
       "</tr>\n",
       "</table>\n",
       "<table class=\"simpletable\">\n",
       "<tr>\n",
       "  <th>Omnibus:</th>       <td> 1.001</td> <th>  Durbin-Watson:     </th> <td>   1.146</td>\n",
       "</tr>\n",
       "<tr>\n",
       "  <th>Prob(Omnibus):</th> <td> 0.606</td> <th>  Jarque-Bera (JB):  </th> <td>   0.705</td>\n",
       "</tr>\n",
       "<tr>\n",
       "  <th>Skew:</th>          <td> 0.364</td> <th>  Prob(JB):          </th> <td>   0.703</td>\n",
       "</tr>\n",
       "<tr>\n",
       "  <th>Kurtosis:</th>      <td> 2.870</td> <th>  Cond. No.          </th> <td>    233.</td>\n",
       "</tr>\n",
       "</table><br/><br/>Notes:<br/>[1] Standard Errors assume that the covariance matrix of the errors is correctly specified."
      ],
      "text/plain": [
       "<class 'statsmodels.iolib.summary.Summary'>\n",
       "\"\"\"\n",
       "                            OLS Regression Results                            \n",
       "==============================================================================\n",
       "Dep. Variable:                shannon   R-squared:                       0.198\n",
       "Model:                            OLS   Adj. R-squared:                  0.170\n",
       "Method:                 Least Squares   F-statistic:                     7.144\n",
       "Date:                Sat, 19 Nov 2022   Prob (F-statistic):             0.0122\n",
       "Time:                        12:22:46   Log-Likelihood:                -36.965\n",
       "No. Observations:                  31   AIC:                             77.93\n",
       "Df Residuals:                      29   BIC:                             80.80\n",
       "Df Model:                           1                                         \n",
       "Covariance Type:            nonrobust                                         \n",
       "==============================================================================\n",
       "                 coef    std err          t      P>|t|      [0.025      0.975]\n",
       "------------------------------------------------------------------------------\n",
       "Intercept      3.5310      0.299     11.825      0.000       2.920       4.142\n",
       "elapse         0.0069      0.003      2.673      0.012       0.002       0.012\n",
       "==============================================================================\n",
       "Omnibus:                        1.001   Durbin-Watson:                   1.146\n",
       "Prob(Omnibus):                  0.606   Jarque-Bera (JB):                0.705\n",
       "Skew:                           0.364   Prob(JB):                        0.703\n",
       "Kurtosis:                       2.870   Cond. No.                         233.\n",
       "==============================================================================\n",
       "\n",
       "Notes:\n",
       "[1] Standard Errors assume that the covariance matrix of the errors is correctly specified.\n",
       "\"\"\""
      ]
     },
     "execution_count": 57,
     "metadata": {},
     "output_type": "execute_result"
    }
   ],
   "source": [
    "reg = smf.ols('shannon ~ elapse', data=meta).fit()\n",
    "reg.summary()"
   ]
  },
  {
   "cell_type": "markdown",
   "id": "1a5ab24a-db65-49c4-a3cb-d140fb0f0f0d",
   "metadata": {},
   "source": [
    "With this regression model, one can plot the 95% confidence interval."
   ]
  },
  {
   "cell_type": "code",
   "execution_count": 58,
   "id": "dbf0c6f5-410f-4b83-9d9f-82b7cfb785b6",
   "metadata": {},
   "outputs": [
    {
     "data": {
      "image/png": "[encoded data removed]",
      "text/plain": [
       "<Figure size 400x400 with 1 Axes>"
      ]
     },
     "metadata": {},
     "output_type": "display_data"
    }
   ],
   "source": [
    "plt.figure(figsize=(4, 4))\n",
    "plt.scatter('elapse', 'shannon', data=meta, color=cmap(0))\n",
    "xrange = np.linspace(*plt.xlim(), 50)\n",
    "pred = reg.get_prediction(pd.Series(xrange, name='elapse'))\n",
    "plt.plot(xrange, pred.predicted_mean, color=cmap(0))\n",
    "plt.fill_between(xrange, *zip(*pred.conf_int()),\n",
    "                 color=cmap(0), alpha=0.2, ec='none')\n",
    "plt.xlabel('Days since start')\n",
    "plt.ylabel('Shannon index');"
   ]
  },
  {
   "cell_type": "markdown",
   "id": "adf2e04f-047a-4044-a8a2-0dab1ec23659",
   "metadata": {},
   "source": [
    "This type of plot can also be achieved using seaborn's `regplot` function."
   ]
  },
  {
   "cell_type": "markdown",
   "id": "d6c0903b-09c8-4a79-be87-5d71db9a3569",
   "metadata": {},
   "source": [
    "## Rarefaction curves"
   ]
  },
  {
   "cell_type": "markdown",
   "id": "676cb4b2-e715-40ae-944c-3c83bbdf3b6e",
   "metadata": {},
   "source": [
    "A rarefaction curve is to plot the estimate of a metric at different sampling depths, so as to assess 1) how stable this metric is across sampling depths, 2) whether the original sampling effort is sufficient to approximate the true value of the metric.\n",
    "\n",
    "This is because: a community may have many organisms, but our sampling effort (i.e., DNA sequencing) may only capture a proportion of them. Can we observe all species (or other metrics) among these sampled organisms? This is a question. The more samples we obtain, the more likely we will approach the true number of species in the community (or other metrics)."
   ]
  },
  {
   "cell_type": "markdown",
   "id": "5649d001-8993-4009-89c6-4e2783fcb6d4",
   "metadata": {},
   "source": [
    "### Pattern of curves"
   ]
  },
  {
   "cell_type": "markdown",
   "id": "601460da-c257-4945-8fae-211fdf272df1",
   "metadata": {},
   "source": [
    "To make things easier, let's downsample the data table to just 10 samples (5 per subject)."
   ]
  },
  {
   "cell_type": "code",
   "execution_count": 59,
   "id": "0fecbc94-4f0f-4c74-84ce-c798b04c6887",
   "metadata": {},
   "outputs": [
    {
     "name": "stdout",
     "output_type": "stream",
     "text": [
      "['L5S203', 'L2S155', 'L2S222', 'L3S294', 'L1S105', 'L4S112', 'L1S208', 'L4S63', 'L2S382', 'L5S240']\n"
     ]
    }
   ],
   "source": [
    "ids_1 = np.random.choice(meta.query('subject == \"subject-1\"').index, 5, replace=False)\n",
    "ids_2 = np.random.choice(meta.query('subject == \"subject-2\"').index, 5, replace=False)\n",
    "ids = list(ids_1) + list(ids_2)\n",
    "print(ids)"
   ]
  },
  {
   "cell_type": "code",
   "execution_count": 60,
   "id": "e8fcbbad-26c0-4afb-9bfe-eb850e925e4e",
   "metadata": {},
   "outputs": [
    {
     "data": {
      "text/html": [
       "<div>\n",
       "<style scoped>\n",
       "    .dataframe tbody tr th:only-of-type {\n",
       "        vertical-align: middle;\n",
       "    }\n",
       "\n",
       "    .dataframe tbody tr th {\n",
       "        vertical-align: top;\n",
       "    }\n",
       "\n",
       "    .dataframe thead th {\n",
       "        text-align: right;\n",
       "    }\n",
       "</style>\n",
       "<table border=\"1\" class=\"dataframe\">\n",
       "  <thead>\n",
       "    <tr style=\"text-align: right;\">\n",
       "      <th></th>\n",
       "      <th>L5S203</th>\n",
       "      <th>L2S155</th>\n",
       "      <th>L2S222</th>\n",
       "      <th>L3S294</th>\n",
       "      <th>L1S105</th>\n",
       "      <th>L4S112</th>\n",
       "      <th>L1S208</th>\n",
       "      <th>L4S63</th>\n",
       "      <th>L2S382</th>\n",
       "      <th>L5S240</th>\n",
       "    </tr>\n",
       "    <tr>\n",
       "      <th>#OTU ID</th>\n",
       "      <th></th>\n",
       "      <th></th>\n",
       "      <th></th>\n",
       "      <th></th>\n",
       "      <th></th>\n",
       "      <th></th>\n",
       "      <th></th>\n",
       "      <th></th>\n",
       "      <th></th>\n",
       "      <th></th>\n",
       "    </tr>\n",
       "  </thead>\n",
       "  <tbody>\n",
       "    <tr>\n",
       "      <th>4b5eeb300368260019c1fbc7a3c718fc</th>\n",
       "      <td>0</td>\n",
       "      <td>10</td>\n",
       "      <td>0</td>\n",
       "      <td>0</td>\n",
       "      <td>2175</td>\n",
       "      <td>55</td>\n",
       "      <td>0</td>\n",
       "      <td>0</td>\n",
       "      <td>0</td>\n",
       "      <td>0</td>\n",
       "    </tr>\n",
       "    <tr>\n",
       "      <th>fe30ff0f71a38a39cf1717ec2be3a2fc</th>\n",
       "      <td>0</td>\n",
       "      <td>0</td>\n",
       "      <td>32</td>\n",
       "      <td>0</td>\n",
       "      <td>5</td>\n",
       "      <td>330</td>\n",
       "      <td>0</td>\n",
       "      <td>160</td>\n",
       "      <td>80</td>\n",
       "      <td>374</td>\n",
       "    </tr>\n",
       "    <tr>\n",
       "      <th>d29fe3c70564fc0f69f2c03e0d1e5561</th>\n",
       "      <td>215</td>\n",
       "      <td>353</td>\n",
       "      <td>104</td>\n",
       "      <td>46</td>\n",
       "      <td>0</td>\n",
       "      <td>1269</td>\n",
       "      <td>0</td>\n",
       "      <td>417</td>\n",
       "      <td>494</td>\n",
       "      <td>117</td>\n",
       "    </tr>\n",
       "    <tr>\n",
       "      <th>868528ca947bc57b69ffdf83e6b73bae</th>\n",
       "      <td>5</td>\n",
       "      <td>0</td>\n",
       "      <td>0</td>\n",
       "      <td>0</td>\n",
       "      <td>0</td>\n",
       "      <td>0</td>\n",
       "      <td>2107</td>\n",
       "      <td>0</td>\n",
       "      <td>0</td>\n",
       "      <td>10</td>\n",
       "    </tr>\n",
       "    <tr>\n",
       "      <th>154709e160e8cada6bfb21115acc80f5</th>\n",
       "      <td>0</td>\n",
       "      <td>0</td>\n",
       "      <td>0</td>\n",
       "      <td>0</td>\n",
       "      <td>803</td>\n",
       "      <td>0</td>\n",
       "      <td>694</td>\n",
       "      <td>0</td>\n",
       "      <td>0</td>\n",
       "      <td>0</td>\n",
       "    </tr>\n",
       "  </tbody>\n",
       "</table>\n",
       "</div>"
      ],
      "text/plain": [
       "                                  L5S203  L2S155  L2S222  L3S294  L1S105  \\\n",
       "#OTU ID                                                                    \n",
       "4b5eeb300368260019c1fbc7a3c718fc       0      10       0       0    2175   \n",
       "fe30ff0f71a38a39cf1717ec2be3a2fc       0       0      32       0       5   \n",
       "d29fe3c70564fc0f69f2c03e0d1e5561     215     353     104      46       0   \n",
       "868528ca947bc57b69ffdf83e6b73bae       5       0       0       0       0   \n",
       "154709e160e8cada6bfb21115acc80f5       0       0       0       0     803   \n",
       "\n",
       "                                  L4S112  L1S208  L4S63  L2S382  L5S240  \n",
       "#OTU ID                                                                  \n",
       "4b5eeb300368260019c1fbc7a3c718fc      55       0      0       0       0  \n",
       "fe30ff0f71a38a39cf1717ec2be3a2fc     330       0    160      80     374  \n",
       "d29fe3c70564fc0f69f2c03e0d1e5561    1269       0    417     494     117  \n",
       "868528ca947bc57b69ffdf83e6b73bae       0    2107      0       0      10  \n",
       "154709e160e8cada6bfb21115acc80f5       0     694      0       0       0  "
      ]
     },
     "execution_count": 60,
     "metadata": {},
     "output_type": "execute_result"
    }
   ],
   "source": [
    "data_n8 = data[ids]\n",
    "data_n8 = data_n8.loc[data_n8.sum(axis=1) > 0]\n",
    "data_n8.head()"
   ]
  },
  {
   "cell_type": "markdown",
   "id": "3c139e87-bad2-4de1-903f-2359403c1b25",
   "metadata": {},
   "source": [
    "Define a series of sampling depths."
   ]
  },
  {
   "cell_type": "code",
   "execution_count": 61,
   "id": "d8a8b736-b55a-47d4-9dbd-a889bd398082",
   "metadata": {},
   "outputs": [
    {
     "data": {
      "text/plain": [
       "[0, 500, 1000, 1500, 2000, 2500, 3000, 3500, 4000]"
      ]
     },
     "execution_count": 61,
     "metadata": {},
     "output_type": "execute_result"
    }
   ],
   "source": [
    "depths = list(range(0, 4500, 500))\n",
    "depths"
   ]
  },
  {
   "cell_type": "markdown",
   "id": "c160f640-5240-4848-bdd2-54f405a591f5",
   "metadata": {},
   "source": [
    "Perform random sampling at each depth."
   ]
  },
  {
   "cell_type": "code",
   "execution_count": 62,
   "id": "ca4771cd-5c3b-4616-a64d-fda45e2c4c7f",
   "metadata": {},
   "outputs": [],
   "source": [
    "# when depth = 0, diversity = 0\n",
    "sobs_rc = [pd.Series(0, index=ids)]\n",
    "\n",
    "# start from 2nd depth\n",
    "for n in depths[1:]:\n",
    "\n",
    "    # drop samples below current depth\n",
    "    data_ = data_n8.loc[:, data_n8.sum() >= n]\n",
    "\n",
    "    # perform random subsampling\n",
    "    data_sub_ = data_.apply(subsample_counts, args=(n,))\n",
    "\n",
    "    # calculate observed features\n",
    "    sobs_ = (data_sub_ > 0).sum()\n",
    "    \n",
    "    # append to results\n",
    "    sobs_rc.append(sobs_)"
   ]
  },
  {
   "cell_type": "code",
   "execution_count": 63,
   "id": "30801b16-635a-4c86-839b-de46d1c1bd89",
   "metadata": {},
   "outputs": [
    {
     "data": {
      "text/plain": [
       "L2S155    108\n",
       "L2S222    141\n",
       "L1S105     62\n",
       "L4S112    151\n",
       "L1S208     82\n",
       "dtype: int64"
      ]
     },
     "execution_count": 63,
     "metadata": {},
     "output_type": "execute_result"
    }
   ],
   "source": [
    "sobs_rc[5].head()"
   ]
  },
  {
   "cell_type": "markdown",
   "id": "3af591af-1efd-4095-97e9-dafdddebe75c",
   "metadata": {},
   "source": [
    "Plot the rarefaction curves."
   ]
  },
  {
   "cell_type": "code",
   "execution_count": 64,
   "id": "41ce84fa-1e3b-4b24-afa2-8a780ebde797",
   "metadata": {},
   "outputs": [
    {
     "data": {
      "image/png": "[encoded data removed]",
      "text/plain": [
       "<Figure size 800x400 with 1 Axes>"
      ]
     },
     "metadata": {},
     "output_type": "display_data"
    }
   ],
   "source": [
    "plt.figure(figsize=(8, 4))\n",
    "for id_ in ids:\n",
    "    sobs_ = [x.get(id_) for x in sobs_rc]\n",
    "    plt.plot(depths, sobs_, marker='o')\n",
    "plt.xlabel('Sampling depth')\n",
    "plt.ylabel('Observed features');"
   ]
  },
  {
   "cell_type": "markdown",
   "id": "711e6f6c-aa90-4677-95f7-12b61605fb8b",
   "metadata": {},
   "source": [
    "As we can see, the observed feature number decreases as the sampling depth decreases. However, in the majority width (about 1000 to 4000) of the figure, most samples have (almost) reached a plateau (asymptote). Therefore we can predict that, even if we continue to increase sampling depth (which is not feasible because we only have this much sequencing data), we won't expect to observe a notable increase of observed features. Therefore, we can confidently say that the current sampling effort is sufficient to estimate the true feature number of most samples."
   ]
  },
  {
   "cell_type": "markdown",
   "id": "9544076f-dfed-4f60-83ef-eef88119bca1",
   "metadata": {},
   "source": [
    "### Technical replicates"
   ]
  },
  {
   "cell_type": "markdown",
   "id": "b077f06d-2177-4fb3-9aeb-2a166f032b0a",
   "metadata": {},
   "source": [
    "To make this process more robust, one should perform multiple replicates per sampling depth."
   ]
  },
  {
   "cell_type": "code",
   "execution_count": 65,
   "id": "18231282-ea84-489f-a3ac-8e4dc7dc3091",
   "metadata": {},
   "outputs": [],
   "source": [
    "reps = 10"
   ]
  },
  {
   "cell_type": "code",
   "execution_count": 66,
   "id": "7ee1a521-b7a2-4cf2-ba8c-50862c1aee06",
   "metadata": {},
   "outputs": [],
   "source": [
    "sobs_rc = [pd.DataFrame(0, index=range(reps), columns=ids)]\n",
    "for n in depths[1:]:\n",
    "    res_ = []\n",
    "    data_ = data_n8.loc[:, data_n8.sum() >= n]\n",
    "    for i in range(reps):\n",
    "        data_sub_ = data_.apply(subsample_counts, args=(n,))\n",
    "        sobs_ = (data_sub_ > 0).sum()\n",
    "        res_.append(sobs_)\n",
    "    sobs_rc.append(pd.DataFrame(res_))"
   ]
  },
  {
   "cell_type": "code",
   "execution_count": 67,
   "id": "e85a4407-0d67-4c7f-ba19-22bb418c2a17",
   "metadata": {},
   "outputs": [
    {
     "data": {
      "text/html": [
       "<div>\n",
       "<style scoped>\n",
       "    .dataframe tbody tr th:only-of-type {\n",
       "        vertical-align: middle;\n",
       "    }\n",
       "\n",
       "    .dataframe tbody tr th {\n",
       "        vertical-align: top;\n",
       "    }\n",
       "\n",
       "    .dataframe thead th {\n",
       "        text-align: right;\n",
       "    }\n",
       "</style>\n",
       "<table border=\"1\" class=\"dataframe\">\n",
       "  <thead>\n",
       "    <tr style=\"text-align: right;\">\n",
       "      <th></th>\n",
       "      <th>L2S155</th>\n",
       "      <th>L2S222</th>\n",
       "      <th>L1S105</th>\n",
       "      <th>L4S112</th>\n",
       "      <th>L1S208</th>\n",
       "      <th>L4S63</th>\n",
       "      <th>L2S382</th>\n",
       "    </tr>\n",
       "  </thead>\n",
       "  <tbody>\n",
       "    <tr>\n",
       "      <th>0</th>\n",
       "      <td>108</td>\n",
       "      <td>142</td>\n",
       "      <td>63</td>\n",
       "      <td>144</td>\n",
       "      <td>82</td>\n",
       "      <td>205</td>\n",
       "      <td>124</td>\n",
       "    </tr>\n",
       "    <tr>\n",
       "      <th>1</th>\n",
       "      <td>108</td>\n",
       "      <td>142</td>\n",
       "      <td>61</td>\n",
       "      <td>146</td>\n",
       "      <td>82</td>\n",
       "      <td>208</td>\n",
       "      <td>124</td>\n",
       "    </tr>\n",
       "    <tr>\n",
       "      <th>2</th>\n",
       "      <td>108</td>\n",
       "      <td>141</td>\n",
       "      <td>63</td>\n",
       "      <td>146</td>\n",
       "      <td>82</td>\n",
       "      <td>204</td>\n",
       "      <td>121</td>\n",
       "    </tr>\n",
       "    <tr>\n",
       "      <th>3</th>\n",
       "      <td>109</td>\n",
       "      <td>141</td>\n",
       "      <td>61</td>\n",
       "      <td>153</td>\n",
       "      <td>82</td>\n",
       "      <td>213</td>\n",
       "      <td>124</td>\n",
       "    </tr>\n",
       "    <tr>\n",
       "      <th>4</th>\n",
       "      <td>107</td>\n",
       "      <td>141</td>\n",
       "      <td>62</td>\n",
       "      <td>147</td>\n",
       "      <td>83</td>\n",
       "      <td>203</td>\n",
       "      <td>123</td>\n",
       "    </tr>\n",
       "  </tbody>\n",
       "</table>\n",
       "</div>"
      ],
      "text/plain": [
       "   L2S155  L2S222  L1S105  L4S112  L1S208  L4S63  L2S382\n",
       "0     108     142      63     144      82    205     124\n",
       "1     108     142      61     146      82    208     124\n",
       "2     108     141      63     146      82    204     121\n",
       "3     109     141      61     153      82    213     124\n",
       "4     107     141      62     147      83    203     123"
      ]
     },
     "execution_count": 67,
     "metadata": {},
     "output_type": "execute_result"
    }
   ],
   "source": [
    "sobs_rc[5].head()"
   ]
  },
  {
   "cell_type": "markdown",
   "id": "8c8e9a91-be73-4df6-a2c4-59b76205171d",
   "metadata": {},
   "source": [
    "And plot each sample / depth combination as a boxplot."
   ]
  },
  {
   "cell_type": "code",
   "execution_count": 68,
   "id": "b72f0d1c-f315-47be-9205-ff5e6c551cc2",
   "metadata": {},
   "outputs": [
    {
     "data": {
      "image/png": "[encoded data removed]",
      "text/plain": [
       "<Figure size 800x400 with 1 Axes>"
      ]
     },
     "metadata": {},
     "output_type": "display_data"
    }
   ],
   "source": [
    "plt.figure(figsize=(8, 4))\n",
    "for i, id_ in enumerate(ids):\n",
    "    color = cmap(i)\n",
    "    sobs_ = [x.get(id_) for x in sobs_rc]\n",
    "    datum = pd.concat(sobs_, axis=1)\n",
    "    plt.boxplot(datum, widths=0.35,\n",
    "                boxprops=dict(color=color),\n",
    "                whiskerprops=dict(color=color),\n",
    "                medianprops=dict(color=color),\n",
    "                showfliers=False, showcaps=False)\n",
    "    plt.plot(np.arange(datum.shape[1]) + 1,\n",
    "             datum.median().values, color=color)\n",
    "plt.xticks(np.arange(len(depths)) + 1, depths)\n",
    "plt.xlabel('Sampling depth')\n",
    "plt.ylabel('Observed features');"
   ]
  },
  {
   "cell_type": "markdown",
   "id": "d2a36e8d-ca1c-418c-a27c-ecb095ed46c7",
   "metadata": {},
   "source": [
    "Now, we will generalize this to multiple alpha diversity metrics."
   ]
  },
  {
   "cell_type": "code",
   "execution_count": 69,
   "id": "7bf78aaa-8fba-4b55-9ab8-b9affab20a1a",
   "metadata": {},
   "outputs": [],
   "source": [
    "metrics = ('sobs', 'shannon', 'faith_pd')\n",
    "names = ('Observed features', 'Shannon index', 'Faith\\'s PD')"
   ]
  },
  {
   "cell_type": "code",
   "execution_count": 70,
   "id": "cc9a64c4-a265-4dae-9a7c-3a6171ccdf54",
   "metadata": {},
   "outputs": [],
   "source": [
    "adiv_rc = {x: [pd.DataFrame(0, index=range(reps), columns=ids)]\n",
    "           for x in metrics}\n",
    "for n in depths[1:]:\n",
    "    res_ = {x: [] for x in metrics}\n",
    "    data_ = data_n8.loc[:, data_n8.sum() >= n]\n",
    "    for i in range(reps):\n",
    "        data_sub_ = data_.apply(subsample_counts, args=(n,))\n",
    "        data_sub_t_ = data_sub_.T\n",
    "        counts_, ids_ = data_sub_t_.values, data_sub_t_.index\n",
    "        res_['sobs'].append(alpha_diversity('observed_otus', counts_, ids_))\n",
    "        res_['shannon'].append(alpha_diversity('shannon', counts_, ids_))\n",
    "        res_['faith_pd'].append(alpha_diversity(\n",
    "            'faith_pd', counts_, ids_, otu_ids=data_sub_t_.columns, tree=tree))\n",
    "    for m in metrics:\n",
    "        adiv_rc[m].append(pd.DataFrame(res_[m]))"
   ]
  },
  {
   "cell_type": "code",
   "execution_count": 71,
   "id": "7e4af7eb-4006-4d2a-a858-8e846ed78f76",
   "metadata": {},
   "outputs": [
    {
     "data": {
      "text/html": [
       "<div>\n",
       "<style scoped>\n",
       "    .dataframe tbody tr th:only-of-type {\n",
       "        vertical-align: middle;\n",
       "    }\n",
       "\n",
       "    .dataframe tbody tr th {\n",
       "        vertical-align: top;\n",
       "    }\n",
       "\n",
       "    .dataframe thead th {\n",
       "        text-align: right;\n",
       "    }\n",
       "</style>\n",
       "<table border=\"1\" class=\"dataframe\">\n",
       "  <thead>\n",
       "    <tr style=\"text-align: right;\">\n",
       "      <th></th>\n",
       "      <th>L2S155</th>\n",
       "      <th>L2S222</th>\n",
       "      <th>L1S105</th>\n",
       "      <th>L4S112</th>\n",
       "      <th>L1S208</th>\n",
       "      <th>L4S63</th>\n",
       "      <th>L2S382</th>\n",
       "    </tr>\n",
       "  </thead>\n",
       "  <tbody>\n",
       "    <tr>\n",
       "      <th>0</th>\n",
       "      <td>17.974494</td>\n",
       "      <td>25.633105</td>\n",
       "      <td>6.594195</td>\n",
       "      <td>20.707438</td>\n",
       "      <td>8.172470</td>\n",
       "      <td>30.954109</td>\n",
       "      <td>13.592461</td>\n",
       "    </tr>\n",
       "    <tr>\n",
       "      <th>1</th>\n",
       "      <td>17.931523</td>\n",
       "      <td>25.633105</td>\n",
       "      <td>6.473668</td>\n",
       "      <td>24.839925</td>\n",
       "      <td>7.076347</td>\n",
       "      <td>34.936170</td>\n",
       "      <td>13.561433</td>\n",
       "    </tr>\n",
       "    <tr>\n",
       "      <th>2</th>\n",
       "      <td>17.792981</td>\n",
       "      <td>25.564623</td>\n",
       "      <td>6.990402</td>\n",
       "      <td>20.579406</td>\n",
       "      <td>8.179140</td>\n",
       "      <td>28.649147</td>\n",
       "      <td>13.592461</td>\n",
       "    </tr>\n",
       "    <tr>\n",
       "      <th>3</th>\n",
       "      <td>17.038767</td>\n",
       "      <td>25.633105</td>\n",
       "      <td>6.582617</td>\n",
       "      <td>20.418383</td>\n",
       "      <td>7.261930</td>\n",
       "      <td>30.241606</td>\n",
       "      <td>13.592461</td>\n",
       "    </tr>\n",
       "    <tr>\n",
       "      <th>4</th>\n",
       "      <td>17.931523</td>\n",
       "      <td>25.633105</td>\n",
       "      <td>6.688727</td>\n",
       "      <td>21.607047</td>\n",
       "      <td>7.806077</td>\n",
       "      <td>34.657108</td>\n",
       "      <td>13.330720</td>\n",
       "    </tr>\n",
       "  </tbody>\n",
       "</table>\n",
       "</div>"
      ],
      "text/plain": [
       "      L2S155     L2S222    L1S105     L4S112    L1S208      L4S63     L2S382\n",
       "0  17.974494  25.633105  6.594195  20.707438  8.172470  30.954109  13.592461\n",
       "1  17.931523  25.633105  6.473668  24.839925  7.076347  34.936170  13.561433\n",
       "2  17.792981  25.564623  6.990402  20.579406  8.179140  28.649147  13.592461\n",
       "3  17.038767  25.633105  6.582617  20.418383  7.261930  30.241606  13.592461\n",
       "4  17.931523  25.633105  6.688727  21.607047  7.806077  34.657108  13.330720"
      ]
     },
     "execution_count": 71,
     "metadata": {},
     "output_type": "execute_result"
    }
   ],
   "source": [
    "adiv_rc['faith_pd'][5].head()"
   ]
  },
  {
   "cell_type": "markdown",
   "id": "650ff239-3d5f-44fc-8783-d197202db1fb",
   "metadata": {},
   "source": [
    "Generate plots for all metrics and compare."
   ]
  },
  {
   "cell_type": "code",
   "execution_count": 72,
   "id": "2b718466-7d80-4d63-a42b-573ed8ef4e91",
   "metadata": {},
   "outputs": [
    {
     "data": {
      "image/png": "[encoded data removed]",
      "text/plain": [
       "<Figure size 800x1200 with 3 Axes>"
      ]
     },
     "metadata": {},
     "output_type": "display_data"
    }
   ],
   "source": [
    "plt.figure(figsize=(8, 12))\n",
    "for i, metric in enumerate(metrics):\n",
    "    plt.subplot(3, 1, i + 1)\n",
    "    for j, id_ in enumerate(ids):\n",
    "        color = cmap(j)\n",
    "        sobs_ = [x.get(id_) for x in adiv_rc[metric]]\n",
    "        datum = pd.concat(sobs_, axis=1)\n",
    "        plt.boxplot(datum, widths=0.35,\n",
    "                    boxprops=dict(color=color),\n",
    "                    whiskerprops=dict(color=color),\n",
    "                    medianprops=dict(color=color),\n",
    "                    showfliers=False, showcaps=False)\n",
    "        plt.plot(np.arange(datum.shape[1]) + 1,\n",
    "                 datum.median().values, color=color)\n",
    "    plt.xticks(np.arange(len(depths)) + 1, depths)\n",
    "    plt.xlabel('Sampling depth')\n",
    "    plt.ylabel(names[i]);"
   ]
  },
  {
   "cell_type": "markdown",
   "id": "a5419674-cb46-4ada-9157-193a0b826c58",
   "metadata": {},
   "source": [
    "By observing the patterns, we notice that Shannon index is the most stable metric. This is largely because it considers feature **abundance**. Faith's PD however is quite unstable with certain samples, likely because these samples are heavily influenced by some rare species with deep branches in the phylogenetic tree (my guess; no examination). This observation is consistent with QIIME 2's official [result](https://view.qiime2.org/?src=https%3A%2F%2Fdocs.qiime2.org%2F2022.8%2Fdata%2Ftutorials%2Fmoving-pictures%2Falpha-rarefaction.qzv)."
   ]
  },
  {
   "cell_type": "markdown",
   "id": "6d3ee49c-7c53-480a-be40-d575f564d3e4",
   "metadata": {},
   "source": [
    "### Biological results"
   ]
  },
  {
   "cell_type": "markdown",
   "id": "ea51ee81-5813-4719-8740-69121f330cec",
   "metadata": {},
   "source": [
    "Beyond evaluating the changes in the alpha diversity metrics, it is probably more important to assess the **stability** of estimates of biologically relevant values. A good metric should produce stable results across a reasonable range of sampling depths."
   ]
  },
  {
   "cell_type": "markdown",
   "id": "022179ea-c376-476a-a8c8-f680c11fb5dd",
   "metadata": {},
   "source": [
    "Specify a smaller gradient of sampling depths (because some samples will be lost at higher sampling depths)."
   ]
  },
  {
   "cell_type": "code",
   "execution_count": 73,
   "id": "ef598a80-ee06-47b6-8fe0-5a324fffa66b",
   "metadata": {},
   "outputs": [
    {
     "data": {
      "text/plain": [
       "[0, 250, 500, 750, 1000, 1250, 1500, 1750, 2000]"
      ]
     },
     "execution_count": 73,
     "metadata": {},
     "output_type": "execute_result"
    }
   ],
   "source": [
    "depths = list(range(0, 2250, 250))\n",
    "depths"
   ]
  },
  {
   "cell_type": "markdown",
   "id": "fc5e2579-ad06-425c-8fd6-913d743f9695",
   "metadata": {},
   "source": [
    "The following analysis calculates Faith's PD at each sampling depth using the entire dataset (not the _n_ = 8 subset)."
   ]
  },
  {
   "cell_type": "code",
   "execution_count": 74,
   "id": "372ab69d-4a50-4b18-968e-be435e7057a3",
   "metadata": {},
   "outputs": [],
   "source": [
    "ids = data.columns.tolist()\n",
    "faith_pds = [pd.DataFrame(0, index=range(reps), columns=ids)]\n",
    "for n in depths[1:]:\n",
    "    res_ = []\n",
    "    data_ = data.loc[:, data.sum() >= n]\n",
    "    for i in range(reps):\n",
    "        data_sub_ = data_.apply(subsample_counts, args=(n,))\n",
    "        data_sub_t_ = data_sub_.T\n",
    "        counts_, ids_ = data_sub_t_.values, data_sub_t_.index\n",
    "        res_.append(alpha_diversity(\n",
    "            'faith_pd', counts_, ids_, otu_ids=data_sub_t_.columns, tree=tree))\n",
    "    faith_pds.append(pd.DataFrame(res_))"
   ]
  },
  {
   "cell_type": "markdown",
   "id": "b8d182ee-e3e6-4a49-95d4-896805f05d2c",
   "metadata": {},
   "source": [
    "Group samples by subject."
   ]
  },
  {
   "cell_type": "code",
   "execution_count": 75,
   "id": "244ef14a-dbd3-438c-9fed-d541f357d549",
   "metadata": {},
   "outputs": [],
   "source": [
    "faith_pds = [x.groupby(meta['subject'], axis=1).apply(np.array) for x in faith_pds]"
   ]
  },
  {
   "cell_type": "code",
   "execution_count": 76,
   "id": "0135b351-e88a-4166-95f2-094593a9dcee",
   "metadata": {},
   "outputs": [
    {
     "data": {
      "text/plain": [
       "subject\n",
       "subject-1    [[6.464741124, 5.638528003, 5.782145585, 4.417...\n",
       "subject-2    [[6.502452669, 6.708830829, 7.254032361, 6.292...\n",
       "dtype: object"
      ]
     },
     "execution_count": 76,
     "metadata": {},
     "output_type": "execute_result"
    }
   ],
   "source": [
    "faith_pds[5]"
   ]
  },
  {
   "cell_type": "markdown",
   "id": "36c9751a-2156-4dfd-9827-39b390d81bb8",
   "metadata": {},
   "source": [
    "Calculate group mean per replicate per depth."
   ]
  },
  {
   "cell_type": "code",
   "execution_count": 77,
   "id": "7dc57e8b-369b-4d18-ba38-80b7c20df669",
   "metadata": {},
   "outputs": [],
   "source": [
    "faith_pds_mean = [x.apply(np.mean, axis=1) for x in faith_pds]"
   ]
  },
  {
   "cell_type": "code",
   "execution_count": 78,
   "id": "7a574f7c-c187-4ec4-a96f-ecbd8d8662fe",
   "metadata": {},
   "outputs": [
    {
     "data": {
      "text/plain": [
       "subject\n",
       "subject-1    [9.114586586538461, 9.13976545023077, 9.194626...\n",
       "subject-2    [10.426912090666667, 10.164747132733332, 10.37...\n",
       "dtype: object"
      ]
     },
     "execution_count": 78,
     "metadata": {},
     "output_type": "execute_result"
    }
   ],
   "source": [
    "faith_pds_mean[5]"
   ]
  },
  {
   "cell_type": "markdown",
   "id": "2607d7bf-c2a8-479c-aa16-adef472b66ee",
   "metadata": {},
   "source": [
    "Plot the distribution of means of each group."
   ]
  },
  {
   "cell_type": "code",
   "execution_count": 79,
   "id": "8cc7384c-efdf-4607-8c5f-6040def98dd9",
   "metadata": {},
   "outputs": [
    {
     "data": {
      "image/png": "[encoded data removed]",
      "text/plain": [
       "<Figure size 800x400 with 1 Axes>"
      ]
     },
     "metadata": {},
     "output_type": "display_data"
    }
   ],
   "source": [
    "plt.figure(figsize=(8, 4))\n",
    "for i in range(2):\n",
    "    group = f'subject-{i + 1}'\n",
    "    color = cmap(i)\n",
    "    datum = np.vstack([x.loc[group] for x in faith_pds_mean])\n",
    "    plt.boxplot(datum.T, widths=0.35,\n",
    "                boxprops=dict(color=color),\n",
    "                whiskerprops=dict(color=color),\n",
    "                medianprops=dict(color=color),\n",
    "                showfliers=False, showcaps=False)\n",
    "    plt.plot(np.arange(datum.shape[0]) + 1, np.median(\n",
    "        datum, axis=1), color=color, label=group)\n",
    "plt.legend()\n",
    "plt.xticks(np.arange(len(depths)) + 1, depths)\n",
    "plt.xlabel('Sampling depth')\n",
    "plt.ylabel('Faith\\'s PD');"
   ]
  },
  {
   "cell_type": "markdown",
   "id": "fac25b2f-e354-493f-9d83-226464b92248",
   "metadata": {},
   "source": [
    "Perform Kruskal-Wallis _H_ test on the two groups per replicate per depth."
   ]
  },
  {
   "cell_type": "code",
   "execution_count": 80,
   "id": "d800f0cd-21f8-4179-9e06-aa78353df97e",
   "metadata": {},
   "outputs": [],
   "source": [
    "faith_pds_kw = [[tuple(kruskal(*y)) for y in zip(*x)] for x in faith_pds[1:]]"
   ]
  },
  {
   "cell_type": "code",
   "execution_count": 81,
   "id": "61416e4a-57c9-4865-8a40-21fdd420289d",
   "metadata": {},
   "outputs": [
    {
     "data": {
      "text/plain": [
       "[(3.0518053375196104, 0.08064744976426026),\n",
       " (1.5918367346938709, 0.20706391185528422),\n",
       " (2.262951334379906, 0.13250132948726256),\n",
       " (2.4113029827315557, 0.12046206278114116),\n",
       " (2.5643642072213453, 0.10929649096336327),\n",
       " (2.262951334379906, 0.13250132948726256),\n",
       " (2.722135007849289, 0.09896556064435104),\n",
       " (2.4113029827315557, 0.12046206278114116),\n",
       " (2.262951334379906, 0.13250132948726256),\n",
       " (2.262951334379906, 0.13250132948726256)]"
      ]
     },
     "execution_count": 81,
     "metadata": {},
     "output_type": "execute_result"
    }
   ],
   "source": [
    "faith_pds_kw[5]"
   ]
  },
  {
   "cell_type": "markdown",
   "id": "13b50ea7-82fd-4093-955a-ef07657c1818",
   "metadata": {},
   "source": [
    "Plot _H_ statistics (which evaluate the differences between means)."
   ]
  },
  {
   "cell_type": "code",
   "execution_count": 82,
   "id": "bf641c88-13e2-4e08-858d-46f3d5631080",
   "metadata": {},
   "outputs": [],
   "source": [
    "stats = [[y[0] for y in x] for x in faith_pds_kw]"
   ]
  },
  {
   "cell_type": "code",
   "execution_count": 83,
   "id": "61b297fa-6780-4ec3-bc64-96694ebbd878",
   "metadata": {},
   "outputs": [
    {
     "data": {
      "image/png": "[encoded data removed]",
      "text/plain": [
       "<Figure size 800x400 with 1 Axes>"
      ]
     },
     "metadata": {},
     "output_type": "display_data"
    }
   ],
   "source": [
    "plt.figure(figsize=(8, 4))\n",
    "color = cmap(0)\n",
    "plt.boxplot(stats, widths=0.35,\n",
    "            boxprops=dict(color=color),\n",
    "            whiskerprops=dict(color=color),\n",
    "            medianprops=dict(color=color),\n",
    "            showfliers=False, showcaps=False)\n",
    "plt.plot(np.arange(len(stats)) + 1, np.median(\n",
    "    stats, axis=1), color=color)\n",
    "plt.xticks(np.arange(len(depths)), depths)\n",
    "plt.xlabel('Sampling depth')\n",
    "plt.ylabel('$\\it{H}$ statistic');"
   ]
  },
  {
   "cell_type": "markdown",
   "id": "7e9ee26c-b4ef-4952-8899-37ae0fc14e0a",
   "metadata": {},
   "source": [
    "Plot _p_-values (significance of differences) in log scale."
   ]
  },
  {
   "cell_type": "code",
   "execution_count": 84,
   "id": "43e8fde8-f137-4882-89f3-6bf941a4d849",
   "metadata": {},
   "outputs": [],
   "source": [
    "pvals = [[y[1] for y in x] for x in faith_pds_kw]"
   ]
  },
  {
   "cell_type": "code",
   "execution_count": 85,
   "id": "8c53f535-82ba-4752-b234-0c80ca013d4b",
   "metadata": {},
   "outputs": [
    {
     "data": {
      "image/png": "[encoded data removed]",
      "text/plain": [
       "<Figure size 800x400 with 1 Axes>"
      ]
     },
     "metadata": {},
     "output_type": "display_data"
    }
   ],
   "source": [
    "plt.figure(figsize=(8, 4))\n",
    "color = cmap(1)\n",
    "plt.boxplot(pvals, widths=0.35,\n",
    "            boxprops=dict(color=color),\n",
    "            whiskerprops=dict(color=color),\n",
    "            medianprops=dict(color=color),\n",
    "            showfliers=False, showcaps=False)\n",
    "plt.plot(np.arange(len(pvals)) + 1, np.median(\n",
    "    pvals, axis=1), color=color)\n",
    "plt.yscale('log')\n",
    "plt.xticks(np.arange(len(depths)), depths)\n",
    "plt.xlabel('Sampling depth')\n",
    "plt.ylabel('$\\it{p}$-value');"
   ]
  },
  {
   "cell_type": "markdown",
   "id": "aac29816-7d35-4ba1-96e2-09cd9e3d131c",
   "metadata": {},
   "source": [
    "The plots show that the estimated biological results are not stable across sampling depths (and even across replicates). Therefore, Faith's PD is not an ideal metric for microbiome research. There is room for improvement."
   ]
  }
 ],
 "metadata": {
  "kernelspec": {
   "display_name": "phyadiv",
   "language": "python",
   "name": "phyadiv"
  },
  "language_info": {
   "codemirror_mode": {
    "name": "ipython",
    "version": 3
   },
   "file_extension": ".py",
   "mimetype": "text/x-python",
   "name": "python",
   "nbconvert_exporter": "python",
   "pygments_lexer": "ipython3",
   "version": "3.11.6"
  }
 },
 "nbformat": 4,
 "nbformat_minor": 5
}
