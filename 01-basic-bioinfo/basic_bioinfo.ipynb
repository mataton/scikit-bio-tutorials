{
 "cells": [
  {
   "cell_type": "markdown",
   "id": "a34341b6-e344-425b-aac3-d7dbb2200d56",
   "metadata": {},
   "source": [
    "# Basic Bioinformatics\n",
    "## Sequence, Alignment, and Phylogeny\n",
    "Here we will use the simple IL6 dataset to show basic skbio functionality."
   ]
  },
  {
   "cell_type": "markdown",
   "id": "276f6540-516d-4f4e-ade5-c7fcd10a172b",
   "metadata": {},
   "source": [
    "First we'll handle all the necessary imports."
   ]
  },
  {
   "cell_type": "code",
   "execution_count": 1,
   "id": "490e3e49-0a1a-4bc6-a50e-c8a9c3da04ff",
   "metadata": {},
   "outputs": [],
   "source": [
    "from collections import defaultdict\n",
    "import functools"
   ]
  },
  {
   "cell_type": "code",
   "execution_count": 2,
   "id": "9dcf50b9-ebb9-466a-b032-5615c7555cbf",
   "metadata": {},
   "outputs": [],
   "source": [
    "import numpy as np"
   ]
  },
  {
   "cell_type": "code",
   "execution_count": 3,
   "id": "55f62063-32c9-4c16-a625-370784dd5ee9",
   "metadata": {},
   "outputs": [],
   "source": [
    "from skbio.sequence import Protein, DNA, SubstitutionMatrix\n",
    "from skbio.sequence.distance import kmer_distance, hamming\n",
    "from skbio.alignment import TabularMSA, global_pairwise_align_protein, local_pairwise_align_ssw, PairAlignPath, AlignPath, global_pairwise_align_nucleotide\n",
    "from skbio.stats.distance import DistanceMatrix\n",
    "from skbio.tree import TreeNode, nj\n",
    "from scipy.cluster.hierarchy import average\n",
    "import skbio.io"
   ]
  },
  {
   "cell_type": "code",
   "execution_count": 4,
   "id": "a68702aa-b886-4062-b8e2-4aee02349c9c",
   "metadata": {},
   "outputs": [],
   "source": [
    "import matplotlib.pyplot as plt"
   ]
  },
  {
   "cell_type": "code",
   "execution_count": 5,
   "id": "2da04d00-1ffe-4467-a8f5-72434b0d86d0",
   "metadata": {},
   "outputs": [],
   "source": [
    "import warnings\n",
    "warnings.filterwarnings('ignore')"
   ]
  },
  {
   "cell_type": "markdown",
   "id": "4db0d786-bcf9-4022-bbcb-3f2567bdc21d",
   "metadata": {},
   "source": [
    "## Reading sequences from fasta file\n",
    "Here we're going to read in the coding regions of the IL6 gene from 7 different organisms. \n",
    "- Homo sapiens (human)\n",
    "- Pan troglodytes (chimp)\n",
    "- Macaca mulatta (monkey)\n",
    "- Sus scrofa (pig)\n",
    "- Mus musculus (mouse)\n",
    "- Rattus norvegicus (rat)\n",
    "- Gallus gallus (chicken)\n",
    "\n",
    "The first step is to set the file path of the fasta file. Since we ultimately want a list of `DNA` sequences, we instantiate an empty list and append each sequence to that list using a for loop and `skbio.io.read`. By setting the `constructor` parameter to `DNA`, read will automatically convert each sequence into a scikit-bio `DNA` object. For protein or RNA sequences, the constructor can be set to `Protein` or `RNA`, respectively."
   ]
  },
  {
   "cell_type": "code",
   "execution_count": 6,
   "id": "b9b2dcc9-273f-48b8-9009-322544ae8f8a",
   "metadata": {},
   "outputs": [],
   "source": [
    "cds_fp = 'nucl.ffn'\n",
    "seqs = []\n",
    "for seq in skbio.io.read(cds_fp, format='fasta', constructor=DNA):\n",
    "    seqs.append(seq)"
   ]
  },
  {
   "cell_type": "markdown",
   "id": "e535abec-7388-4d85-b8f9-d4e7eab8882e",
   "metadata": {},
   "source": [
    "## Basic sequence types"
   ]
  },
  {
   "cell_type": "markdown",
   "id": "4825cc88-8b52-4b04-9e32-e9c315a6816a",
   "metadata": {},
   "source": [
    "scikit-bio supports the three basic sequence types of biology: DNA, RNA, and Protein. Additionally, each type of sequence may include optional metadata and positional metadata, which are each mutable."
   ]
  },
  {
   "cell_type": "markdown",
   "id": "3de084c0-2b51-4279-abfa-f5c01045bf00",
   "metadata": {},
   "source": [
    "We now have a list of sequences. Python list indexing can be used to show us the first two sequences in our list. They are the human and mouse IL6 coding regions. Let's explore each of these a bit more to see what functionality scikit-bio offers."
   ]
  },
  {
   "cell_type": "code",
   "execution_count": 7,
   "id": "593d72a0-bf32-4767-afcf-4ea5c17f6bb1",
   "metadata": {},
   "outputs": [
    {
     "data": {
      "text/plain": [
       "DNA\n",
       "---------------------------------------------------------------------\n",
       "Metadata:\n",
       "    'description': ''\n",
       "    'id': 'human'\n",
       "Stats:\n",
       "    length: 639\n",
       "    has gaps: False\n",
       "    has degenerates: False\n",
       "    has definites: True\n",
       "    GC-content: 50.23%\n",
       "---------------------------------------------------------------------\n",
       "0   ATGAACTCCT TCTCCACAAG CGCCTTCGGT CCAGTTGCCT TCTCCCTGGG GCTGCTCCTG\n",
       "60  GTGTTGCCTG CTGCCTTCCC TGCCCCAGTA CCCCCAGGAG AAGATTCCAA AGATGTAGCC\n",
       "...\n",
       "540 GCACAGAACC AGTGGCTGCA GGACATGACA ACTCATCTCA TTCTGCGCAG CTTTAAGGAG\n",
       "600 TTCCTGCAGT CCAGCCTGAG GGCTCTTCGG CAAATGTAG"
      ]
     },
     "execution_count": 7,
     "metadata": {},
     "output_type": "execute_result"
    }
   ],
   "source": [
    "human = seqs[0]\n",
    "human"
   ]
  },
  {
   "cell_type": "code",
   "execution_count": 8,
   "id": "6a5fedc8-9e01-4f83-a183-8e77514e33d5",
   "metadata": {},
   "outputs": [
    {
     "data": {
      "text/plain": [
       "DNA\n",
       "---------------------------------------------------------------------\n",
       "Metadata:\n",
       "    'description': ''\n",
       "    'id': 'mouse'\n",
       "Stats:\n",
       "    length: 636\n",
       "    has gaps: False\n",
       "    has degenerates: False\n",
       "    has definites: True\n",
       "    GC-content: 41.35%\n",
       "---------------------------------------------------------------------\n",
       "0   ATGAAGTTCC TCTCTGCAAG AGACTTCCAT CCAGTTGCCT TCTTGGGACT GATGCTGGTG\n",
       "60  ACAACCACGG CCTTCCCTAC TTCACAAGTC CGGAGAGGAG ACTTCACAGA GGATACCACT\n",
       "...\n",
       "540 CAGAAGGAGT GGCTAAGGAC CAAGACCATC CAATTCATCT TGAAATCACT TGAAGAATTT\n",
       "600 CTAAAAGTCA CTTTGAGATC TACTCGGCAA ACCTAG"
      ]
     },
     "execution_count": 8,
     "metadata": {},
     "output_type": "execute_result"
    }
   ],
   "source": [
    "mouse = seqs[1]\n",
    "mouse"
   ]
  },
  {
   "cell_type": "markdown",
   "id": "08aa22f1-d003-4e5b-9e41-8963a8c372dc",
   "metadata": {},
   "source": [
    "The primary information stored for each type of sequence object is the underlying sequence data itself, which is stored as an immutable NumPy array of 8-bit integers. This uses ASCII encoding and offers significant performance gains compared to operating on the strings of letters which compose the sequences."
   ]
  },
  {
   "cell_type": "code",
   "execution_count": 9,
   "id": "1dfed102-d9ec-4c91-8e71-9ae1fd413627",
   "metadata": {},
   "outputs": [
    {
     "data": {
      "text/plain": [
       "array([65, 84, 71, 65, 65, 67, 84, 67, 67, 84, 84, 67, 84, 67, 67, 65, 67,\n",
       "       65, 65, 71, 67, 71, 67, 67, 84, 84, 67, 71, 71, 84, 67, 67, 65, 71,\n",
       "       84, 84, 71, 67, 67, 84, 84, 67, 84, 67, 67, 67, 84, 71, 71, 71, 71,\n",
       "       67, 84, 71, 67, 84, 67, 67, 84, 71, 71, 84, 71, 84, 84, 71, 67, 67,\n",
       "       84, 71, 67, 84, 71, 67, 67, 84, 84, 67, 67, 67, 84, 71, 67, 67, 67,\n",
       "       67, 65, 71, 84, 65, 67, 67, 67, 67, 67, 65, 71, 71, 65, 71, 65, 65,\n",
       "       71, 65, 84, 84, 67, 67, 65, 65, 65, 71, 65, 84, 71, 84, 65, 71, 67,\n",
       "       67, 71, 67, 67, 67, 67, 65, 67, 65, 67, 65, 71, 65, 67, 65, 71, 67,\n",
       "       67, 65, 67, 84, 67, 65, 67, 67, 84, 67, 84, 84, 67, 65, 71, 65, 65,\n",
       "       67, 71, 65, 65, 84, 84, 71, 65, 67, 65, 65, 65, 67, 65, 65, 65, 84,\n",
       "       84, 67, 71, 71, 84, 65, 67, 65, 84, 67, 67, 84, 67, 71, 65, 67, 71,\n",
       "       71, 67, 65, 84, 67, 84, 67, 65, 71, 67, 67, 67, 84, 71, 65, 71, 65,\n",
       "       65, 65, 71, 71, 65, 71, 65, 67, 65, 84, 71, 84, 65, 65, 67, 65, 65,\n",
       "       71, 65, 71, 84, 65, 65, 67, 65, 84, 71, 84, 71, 84, 71, 65, 65, 65,\n",
       "       71, 67, 65, 71, 67, 65, 65, 65, 71, 65, 71, 71, 67, 65, 67, 84, 71,\n",
       "       71, 67, 65, 71, 65, 65, 65, 65, 67, 65, 65, 67, 67, 84, 71, 65, 65,\n",
       "       67, 67, 84, 84, 67, 67, 65, 65, 65, 71, 65, 84, 71, 71, 67, 84, 71,\n",
       "       65, 65, 65, 65, 65, 71, 65, 84, 71, 71, 65, 84, 71, 67, 84, 84, 67,\n",
       "       67, 65, 65, 84, 67, 84, 71, 71, 65, 84, 84, 67, 65, 65, 84, 71, 65,\n",
       "       71, 71, 65, 71, 65, 67, 84, 84, 71, 67, 67, 84, 71, 71, 84, 71, 65,\n",
       "       65, 65, 65, 84, 67, 65, 84, 67, 65, 67, 84, 71, 71, 84, 67, 84, 84,\n",
       "       84, 84, 71, 71, 65, 71, 84, 84, 84, 71, 65, 71, 71, 84, 65, 84, 65,\n",
       "       67, 67, 84, 65, 71, 65, 71, 84, 65, 67, 67, 84, 67, 67, 65, 71, 65,\n",
       "       65, 67, 65, 71, 65, 84, 84, 84, 71, 65, 71, 65, 71, 84, 65, 71, 84,\n",
       "       71, 65, 71, 71, 65, 65, 67, 65, 65, 71, 67, 67, 65, 71, 65, 71, 67,\n",
       "       84, 71, 84, 71, 67, 65, 71, 65, 84, 71, 65, 71, 84, 65, 67, 65, 65,\n",
       "       65, 65, 71, 84, 67, 67, 84, 71, 65, 84, 67, 67, 65, 71, 84, 84, 67,\n",
       "       67, 84, 71, 67, 65, 71, 65, 65, 65, 65, 65, 71, 71, 67, 65, 65, 65,\n",
       "       71, 65, 65, 84, 67, 84, 65, 71, 65, 84, 71, 67, 65, 65, 84, 65, 65,\n",
       "       67, 67, 65, 67, 67, 67, 67, 84, 71, 65, 67, 67, 67, 65, 65, 67, 67,\n",
       "       65, 67, 65, 65, 65, 84, 71, 67, 67, 65, 71, 67, 67, 84, 71, 67, 84,\n",
       "       71, 65, 67, 71, 65, 65, 71, 67, 84, 71, 67, 65, 71, 71, 67, 65, 67,\n",
       "       65, 71, 65, 65, 67, 67, 65, 71, 84, 71, 71, 67, 84, 71, 67, 65, 71,\n",
       "       71, 65, 67, 65, 84, 71, 65, 67, 65, 65, 67, 84, 67, 65, 84, 67, 84,\n",
       "       67, 65, 84, 84, 67, 84, 71, 67, 71, 67, 65, 71, 67, 84, 84, 84, 65,\n",
       "       65, 71, 71, 65, 71, 84, 84, 67, 67, 84, 71, 67, 65, 71, 84, 67, 67,\n",
       "       65, 71, 67, 67, 84, 71, 65, 71, 71, 71, 67, 84, 67, 84, 84, 67, 71,\n",
       "       71, 67, 65, 65, 65, 84, 71, 84, 65, 71], dtype=uint8)"
      ]
     },
     "execution_count": 9,
     "metadata": {},
     "output_type": "execute_result"
    }
   ],
   "source": [
    "human._bytes"
   ]
  },
  {
   "cell_type": "markdown",
   "id": "f2e0585e-f283-4bb8-9c50-74e732e3fba4",
   "metadata": {},
   "source": [
    "Common operations are defined as methods, for example computing the reverse complement of a DNA sequence, or searching for N-glycosylation motifs in protein sequences. Class attributes provide valid character sets, complement maps for different sequence types, and degenerate character definitions. <br>\n",
    "The positional metadata of a reverse complement will be reversed from the original sequence."
   ]
  },
  {
   "cell_type": "code",
   "execution_count": 10,
   "id": "558b4e60-0fa2-4239-88d4-715090933abf",
   "metadata": {},
   "outputs": [
    {
     "data": {
      "text/plain": [
       "DNA\n",
       "---------------------------------------------------------------------\n",
       "Metadata:\n",
       "    'description': ''\n",
       "    'id': 'human'\n",
       "Stats:\n",
       "    length: 639\n",
       "    has gaps: False\n",
       "    has degenerates: False\n",
       "    has definites: True\n",
       "    GC-content: 50.23%\n",
       "---------------------------------------------------------------------\n",
       "0   CTACATTTGC CGAAGAGCCC TCAGGCTGGA CTGCAGGAAC TCCTTAAAGC TGCGCAGAAT\n",
       "60  GAGATGAGTT GTCATGTCCT GCAGCCACTG GTTCTGTGCC TGCAGCTTCG TCAGCAGGCT\n",
       "...\n",
       "540 TCCTGGGGGT ACTGGGGCAG GGAAGGCAGC AGGCAACACC AGGAGCAGCC CCAGGGAGAA\n",
       "600 GGCAACTGGA CCGAAGGCGC TTGTGGAGAA GGAGTTCAT"
      ]
     },
     "execution_count": 10,
     "metadata": {},
     "output_type": "execute_result"
    }
   ],
   "source": [
    "human.reverse_complement()"
   ]
  },
  {
   "cell_type": "markdown",
   "id": "6b3b534d-6b40-46df-8365-1662f358aa5d",
   "metadata": {},
   "source": [
    "We can also transcribe, and even translate sequences with built in methods of the sequence objects."
   ]
  },
  {
   "cell_type": "code",
   "execution_count": 11,
   "id": "8e37ef14-b45f-448e-ba06-e266c9543791",
   "metadata": {},
   "outputs": [
    {
     "data": {
      "text/plain": [
       "RNA\n",
       "---------------------------------------------------------------------\n",
       "Metadata:\n",
       "    'description': ''\n",
       "    'id': 'human'\n",
       "Stats:\n",
       "    length: 639\n",
       "    has gaps: False\n",
       "    has degenerates: False\n",
       "    has definites: True\n",
       "    GC-content: 50.23%\n",
       "---------------------------------------------------------------------\n",
       "0   AUGAACUCCU UCUCCACAAG CGCCUUCGGU CCAGUUGCCU UCUCCCUGGG GCUGCUCCUG\n",
       "60  GUGUUGCCUG CUGCCUUCCC UGCCCCAGUA CCCCCAGGAG AAGAUUCCAA AGAUGUAGCC\n",
       "...\n",
       "540 GCACAGAACC AGUGGCUGCA GGACAUGACA ACUCAUCUCA UUCUGCGCAG CUUUAAGGAG\n",
       "600 UUCCUGCAGU CCAGCCUGAG GGCUCUUCGG CAAAUGUAG"
      ]
     },
     "execution_count": 11,
     "metadata": {},
     "output_type": "execute_result"
    }
   ],
   "source": [
    "human.transcribe()"
   ]
  },
  {
   "cell_type": "code",
   "execution_count": 12,
   "id": "e30fd728-ae62-45ae-be82-649066e98542",
   "metadata": {},
   "outputs": [
    {
     "data": {
      "text/plain": [
       "Protein\n",
       "---------------------------------------------------------------------\n",
       "Metadata:\n",
       "    'description': ''\n",
       "    'id': 'human'\n",
       "Stats:\n",
       "    length: 213\n",
       "    has gaps: False\n",
       "    has degenerates: False\n",
       "    has definites: True\n",
       "    has stops: True\n",
       "---------------------------------------------------------------------\n",
       "0   MNSFSTSAFG PVAFSLGLLL VLPAAFPAPV PPGEDSKDVA APHRQPLTSS ERIDKQIRYI\n",
       "60  LDGISALRKE TCNKSNMCES SKEALAENNL NLPKMAEKDG CFQSGFNEET CLVKIITGLL\n",
       "120 EFEVYLEYLQ NRFESSEEQA RAVQMSTKVL IQFLQKKAKN LDAITTPDPT TNASLLTKLQ\n",
       "180 AQNQWLQDMT THLILRSFKE FLQSSLRALR QM*"
      ]
     },
     "execution_count": 12,
     "metadata": {},
     "output_type": "execute_result"
    }
   ],
   "source": [
    "human.translate()"
   ]
  },
  {
   "cell_type": "markdown",
   "id": "b9b048f2-b4b2-4591-a1c8-d2639e402488",
   "metadata": {},
   "source": [
    "## Pairwise Alignment\n",
    "scikit-bio also provides methods for sequence alignment. We'll start by showing the functionality of local pairwise alignment using the Striped Smith Waterman algorithm. The output of the function provides a `TabularMSA` object, the alignment score, and the start and end positions for the two sequences in the alignment. "
   ]
  },
  {
   "cell_type": "code",
   "execution_count": 13,
   "id": "9c47ae5b-279d-4559-98b4-5fd32c5c41b3",
   "metadata": {},
   "outputs": [
    {
     "name": "stderr",
     "output_type": "stream",
     "text": [
      "/home/maton/qlab/skbio/github/scikit-bio/skbio/util/_warning.py:56: DeprecationWarning: local_pairwise_align_ssw is deprecated as of 0.5.8. It will be removed in favor of more general purpose and performant aligners. Additional details at https://github.com/scikit-bio/scikit-bio/issues/1814.\n",
      "  warn(\n"
     ]
    }
   ],
   "source": [
    "human_mouse_alignment, human_mouse_score, human_mouse_start_end_pos = local_pairwise_align_ssw(human, mouse)"
   ]
  },
  {
   "cell_type": "markdown",
   "id": "28349725-1971-437e-aa91-dad3f76b8362",
   "metadata": {},
   "source": [
    "The `TabularMSA` object is a scikit-bio data structure which is meant for intuitive manipulation and visualization of pairwise or multiple sequence alignments. For a more memory and compute efficient data structure, scikit-bio now has `AlignPath`, which we will explore below."
   ]
  },
  {
   "cell_type": "code",
   "execution_count": 14,
   "id": "89536739-8158-43df-8654-130cdab72a01",
   "metadata": {},
   "outputs": [
    {
     "data": {
      "text/plain": [
       "TabularMSA[DNA]\n",
       "-----------------------------------------------------------------------\n",
       "Stats:\n",
       "    sequence count: 2\n",
       "    position count: 588\n",
       "-----------------------------------------------------------------------\n",
       "ATGAACTCCTTCTCCACAAGCGCCTTCGGTCCA ... AAGCTGCAGGCACAGAACCAGTGGCTGCAGGAC\n",
       "ATGAAGTTCCTCTCTGCAAGAGACTTCCATCCA ... AAGCTGGAGTCACAGAAGGAGTGGCT-AAGGAC"
      ]
     },
     "execution_count": 14,
     "metadata": {},
     "output_type": "execute_result"
    }
   ],
   "source": [
    "human_mouse_alignment"
   ]
  },
  {
   "cell_type": "code",
   "execution_count": 15,
   "id": "90a548eb-722c-4fbe-9d77-c9a8ac279750",
   "metadata": {},
   "outputs": [
    {
     "data": {
      "text/plain": [
       "138"
      ]
     },
     "execution_count": 15,
     "metadata": {},
     "output_type": "execute_result"
    }
   ],
   "source": [
    "human_mouse_score"
   ]
  },
  {
   "cell_type": "code",
   "execution_count": 16,
   "id": "4c0e29cf-7003-4928-8b9a-bd8ba1f90ec2",
   "metadata": {},
   "outputs": [
    {
     "data": {
      "text/plain": [
       "[(0, 563), (0, 559)]"
      ]
     },
     "execution_count": 16,
     "metadata": {},
     "output_type": "execute_result"
    }
   ],
   "source": [
    "human_mouse_start_end_pos"
   ]
  },
  {
   "cell_type": "markdown",
   "id": "2e575f55-8508-46e1-9c54-8bd7ad66bf81",
   "metadata": {},
   "source": [
    "Conversion from `TabularMSA` objects to `PairAlignPath` objects is simple. The `PairAlignPath` represents the entire alignment using two arrays, `lengths` and `states`. The `lengths` array represents the segment length for each segment with consistent gap status. The sum of the `lengths` array is equal to the number of the positions in the alignment, in our case 588. If you are familiar with CIGAR strings for pairwise alignment, each value of the `lengths` array corresponds to the integer values in the corresponding CIGAR string."
   ]
  },
  {
   "cell_type": "code",
   "execution_count": 17,
   "id": "2f93769e-308f-4580-ae88-4c11c2ab86a6",
   "metadata": {},
   "outputs": [],
   "source": [
    "human_mouse_path = PairAlignPath.from_tabular(human_mouse_alignment)"
   ]
  },
  {
   "cell_type": "code",
   "execution_count": 18,
   "id": "68497d95-9101-4434-b517-00f9b587ce85",
   "metadata": {},
   "outputs": [
    {
     "data": {
      "text/plain": [
       "array([43,  3, 48,  2,  5,  2, 14,  1,  2,  1,  4,  1,  4,  1,  5,  1,  8,\n",
       "        1, 12,  2,  4,  2,  3,  2,  2,  2,  6,  3,  4,  1,  1,  1,  4,  2,\n",
       "       32,  3,  9,  1,  9,  2, 45,  1,  5,  1, 78,  2,  2,  2, 22,  1,  9,\n",
       "        1,  9,  2,  2,  1, 18,  1,  3,  1,  4,  1,  5,  1, 77,  1,  5,  1,\n",
       "       27,  1,  6])"
      ]
     },
     "execution_count": 18,
     "metadata": {},
     "output_type": "execute_result"
    }
   ],
   "source": [
    "human_mouse_path.lengths"
   ]
  },
  {
   "cell_type": "code",
   "execution_count": 19,
   "id": "fee9bf4e-e90e-4527-b82e-0aaea687df7d",
   "metadata": {},
   "outputs": [
    {
     "data": {
      "text/plain": [
       "np.int64(588)"
      ]
     },
     "execution_count": 19,
     "metadata": {},
     "output_type": "execute_result"
    }
   ],
   "source": [
    "human_mouse_path.lengths.sum()"
   ]
  },
  {
   "cell_type": "code",
   "execution_count": 20,
   "id": "ed7d347b-fd80-4cf5-a784-f2b4b592f9e1",
   "metadata": {},
   "outputs": [
    {
     "data": {
      "text/plain": [
       "'43M3D48M2D5M2I14M1I2M1D4M1I4M1D5M1I8M1D12M2I4M2D3M2I2M2I6M3D4M1D1M1D4M2D32M3I9M1D9M2D45M1D5M1I78M2D2M2I22M1D9M1I9M2I2M1I18M1D3M1I4M1I5M1D77M1I5M1D27M1D6M'"
      ]
     },
     "execution_count": 20,
     "metadata": {},
     "output_type": "execute_result"
    }
   ],
   "source": [
    "human_mouse_path.to_cigar()"
   ]
  },
  {
   "cell_type": "markdown",
   "id": "5aff9a0e-528e-4756-bbc4-637e8ddb71f9",
   "metadata": {},
   "source": [
    "The `states` array represents the gap status of each individual segment in the alignment. For a pairwise alignment `0` means (mis)match, `1` means insertion, and `2` means deletion. If greater resolution is desired between match and mismatch (`=` and `X` vs `M` in CIGAR strings), you may pass the sequences to `to_cigar`."
   ]
  },
  {
   "cell_type": "code",
   "execution_count": 21,
   "id": "26653daf-be2f-4d0d-acbd-fc262076dd10",
   "metadata": {},
   "outputs": [
    {
     "data": {
      "text/plain": [
       "array([[0, 2, 0, 2, 0, 1, 0, 1, 0, 2, 0, 1, 0, 2, 0, 1, 0, 2, 0, 1, 0, 2,\n",
       "        0, 1, 0, 1, 0, 2, 0, 2, 0, 2, 0, 2, 0, 1, 0, 2, 0, 2, 0, 2, 0, 1,\n",
       "        0, 2, 0, 1, 0, 2, 0, 1, 0, 1, 0, 1, 0, 2, 0, 1, 0, 1, 0, 2, 0, 1,\n",
       "        0, 2, 0, 2, 0]], dtype=uint8)"
      ]
     },
     "execution_count": 21,
     "metadata": {},
     "output_type": "execute_result"
    }
   ],
   "source": [
    "human_mouse_path.states"
   ]
  },
  {
   "cell_type": "code",
   "execution_count": 22,
   "id": "27a0cf3a-ba4f-4db7-b93e-be5d760bb9cc",
   "metadata": {},
   "outputs": [
    {
     "data": {
      "text/plain": [
       "'5=1X1=1X1=1X4=2X4=1X1=1X4=2X14=3D4X1=3X2=2X2=1X2=1X2=1X1=2X1=2X1=3X1=4X1=2X1=3X2=3X2D5X2I2X2=4X1=5X1I2X1D4X1I2X1=1X1D1=2X1=1X1I1X1=1X1=4X1D5X1=3X1=2X2I4X2D2X1=2I2X2I2X1=3X3D4X1D1=1D2X1=1X2D6X2=11X1=2X1=1X2=2X2=1X1=3I1X1=4X1=2X1D7X1=1X2D2=20X1=1X1=5X3=7X1=4X1D1=3X1=1I2X1=6X1=4X2=1X2=15X1=4X1=7X1=2X1=8X1=6X1=1X1=1X1=2X1=1X1=2X2D1X1=2I7X1=1X3=10X1D9X1I1X1=1X1=2X1=2X2I2X1I4X1=5X1=1X1=2X1=2X1D3X1I4X1I2X2=1X1D2=1X1=4X2=8X1=4X2=2X1=8X1=4X2=2X1=1X1=5X2=10X1=1X2=4X2=1X1=1I3X2=1D1X1=1X1=11X2=7X2=1X1D6X'"
      ]
     },
     "execution_count": 22,
     "metadata": {},
     "output_type": "execute_result"
    }
   ],
   "source": [
    "human_mouse_path.to_cigar(seqs=[human_mouse_alignment[0], human_mouse_alignment[1]])"
   ]
  },
  {
   "cell_type": "markdown",
   "id": "7070a9ca-c3db-45c7-907a-4dbee00063c2",
   "metadata": {},
   "source": [
    "## Multiple Sequence Alignment\n",
    "It is also possible to use scikit-bio to perform a multiple sequence alignment. Here, we will first translate the sequences into protein, and align the protein sequences from our seven organisms. We also create a dictionary of the sequences where each key is the name of the organism, and each value is the `Protein` sequence of that organism. This step is necessary for the progressive alignment function we've written. As you see below, translation of all the sequences is possible in a single line of code using list comprehension."
   ]
  },
  {
   "cell_type": "code",
   "execution_count": 23,
   "id": "1c16d746-dfb5-4194-bc55-7819348270f3",
   "metadata": {},
   "outputs": [],
   "source": [
    "prot_seqs = [seq.translate() for seq in seqs]"
   ]
  },
  {
   "cell_type": "code",
   "execution_count": 24,
   "id": "5959485b-b2b8-496a-88e4-44782d4bb3ef",
   "metadata": {},
   "outputs": [],
   "source": [
    "names = ('human', 'mouse', 'rat', 'chicken', 'pig', 'chimp', 'monkey')"
   ]
  },
  {
   "cell_type": "code",
   "execution_count": 25,
   "id": "2e986baa-dcb3-447f-b3f7-bf9d787b0838",
   "metadata": {},
   "outputs": [],
   "source": [
    "prot_seqs_dict = {name: sequence for name, sequence in zip(names, prot_seqs)}"
   ]
  },
  {
   "cell_type": "code",
   "execution_count": 26,
   "id": "dc059268-4ae1-4f0a-8234-a62463fdfff9",
   "metadata": {},
   "outputs": [
    {
     "data": {
      "text/plain": [
       "Protein\n",
       "---------------------------------------------------------------------\n",
       "Metadata:\n",
       "    'description': ''\n",
       "    'id': 'pig'\n",
       "Stats:\n",
       "    length: 213\n",
       "    has gaps: False\n",
       "    has degenerates: False\n",
       "    has definites: True\n",
       "    has stops: True\n",
       "---------------------------------------------------------------------\n",
       "0   MNSLSTSAFS PVAFSLGLLL VMATAFPTPG RLEEDAKGDA TSDKMLFTSP DKTEELIKYI\n",
       "60  LGKISAMRKE MCEKYEKCEN SKEVLAENNL NLPKMAEKDG CFQSGFNQET CLMRITTGLV\n",
       "120 EFQIYLDYLQ KEYESNKGNV EAVQISTKAL IQTLRQKGKN PDKATTPNPT TNAGLLDKLQ\n",
       "180 SQNEWMKNTK IILILRSLED FLQFSLRAIR IM*"
      ]
     },
     "execution_count": 26,
     "metadata": {},
     "output_type": "execute_result"
    }
   ],
   "source": [
    "prot_seqs_dict['pig']"
   ]
  },
  {
   "cell_type": "markdown",
   "id": "ae5c9f1f-63f9-43ff-98db-70ce70e4d968",
   "metadata": {},
   "source": [
    "Now with all of our sequences translated we can build a distance matrix. To do this, we use scikit-bio's `DistanceMatrix.from_iterable()` method, which automatically creates a distance matrix for all pairs of items in a Python iterable, in this case the list of sequences. The `DistanceMatrix` object will automatically create a heatmap by simply calling the object. As our distance metric, we will use the hamming distance."
   ]
  },
  {
   "cell_type": "code",
   "execution_count": 27,
   "id": "afcae6a0-075b-4a52-9ac6-655050e9217a",
   "metadata": {},
   "outputs": [],
   "source": [
    "# matrix = SubstitutionMatrix.by_name('blosum62')"
   ]
  },
  {
   "cell_type": "code",
   "execution_count": 28,
   "id": "73dd6207-c720-4581-8dae-97f63d2f699e",
   "metadata": {},
   "outputs": [],
   "source": [
    "def align_dist(seq1, seq2):\n",
    "    aln = local_pairwise_align_ssw(seq1, seq2)[0]\n",
    "    return hamming(aln[0], aln[1])"
   ]
  },
  {
   "cell_type": "code",
   "execution_count": 29,
   "id": "ef345111-bc27-4db4-bd64-573408ac0303",
   "metadata": {},
   "outputs": [
    {
     "data": {
      "image/png": "[encoded data removed]",
      "image/svg+xml": [
       "<?xml version=\"1.0\" encoding=\"utf-8\" standalone=\"no\"?>\n",
       "<!DOCTYPE svg PUBLIC \"-//W3C//DTD SVG 1.1//EN\"\n",
       "  \"http://www.w3.org/Graphics/SVG/1.1/DTD/svg11.dtd\">\n",
       "<svg xmlns:xlink=\"http://www.w3.org/1999/xlink\" width=\"460.8pt\" height=\"345.6pt\" viewBox=\"0 0 460.8 345.6\" xmlns=\"http://www.w3.org/2000/svg\" version=\"1.1\">\n",
       " <metadata>\n",
       "  <rdf:RDF xmlns:dc=\"http://purl.org/dc/elements/1.1/\" xmlns:cc=\"http://creativecommons.org/ns#\" xmlns:rdf=\"http://www.w3.org/1999/02/22-rdf-syntax-ns#\">\n",
       "   <cc:Work>\n",
       "    <dc:type rdf:resource=\"http://purl.org/dc/dcmitype/StillImage\"/>\n",
       "    <dc:date>2024-06-19T15:35:06.647889</dc:date>\n",
       "    <dc:format>image/svg+xml</dc:format>\n",
       "    <dc:creator>\n",
       "     <cc:Agent>\n",
       "      <dc:title>Matplotlib v3.8.4, https://matplotlib.org/</dc:title>\n",
       "     </cc:Agent>\n",
       "    </dc:creator>\n",
       "   </cc:Work>\n",
       "  </rdf:RDF>\n",
       " </metadata>\n",
       " <defs>\n",
       "  <style type=\"text/css\">*{stroke-linejoin: round; stroke-linecap: butt}</style>\n",
       " </defs>\n",
       " <g id=\"figure_1\">\n",
       "  <g id=\"patch_1\">\n",
       "   <path d=\"M 0 345.6 \n",
       "L 460.8 345.6 \n",
       "L 460.8 0 \n",
       "L 0 0 \n",
       "z\n",
       "\" style=\"fill: #ffffff\"/>\n",
       "  </g>\n",
       "  <g id=\"axes_1\">\n",
       "   <g id=\"patch_2\">\n",
       "    <path d=\"M 57.49 288.11 \n",
       "L 371.498 288.11 \n",
       "L 371.498 10.8 \n",
       "L 57.49 10.8 \n",
       "z\n",
       "\" style=\"fill: #ffffff\"/>\n",
       "   </g>\n",
       "   <g id=\"QuadMesh_1\">\n",
       "    <path d=\"M 57.49 10.8 \n",
       "L 102.348286 10.8 \n",
       "L 102.348286 50.415714 \n",
       "L 57.49 50.415714 \n",
       "L 57.49 10.8 \n",
       "\" clip-path=\"url(#p29facec5d2)\" style=\"fill: #440154\"/>\n",
       "    <path d=\"M 102.348286 10.8 \n",
       "L 147.206571 10.8 \n",
       "L 147.206571 50.415714 \n",
       "L 102.348286 50.415714 \n",
       "L 102.348286 10.8 \n",
       "\" clip-path=\"url(#p29facec5d2)\" style=\"fill: #e7e419\"/>\n",
       "    <path d=\"M 147.206571 10.8 \n",
       "L 192.064857 10.8 \n",
       "L 192.064857 50.415714 \n",
       "L 147.206571 50.415714 \n",
       "L 147.206571 10.8 \n",
       "\" clip-path=\"url(#p29facec5d2)\" style=\"fill: #f6e620\"/>\n",
       "    <path d=\"M 192.064857 10.8 \n",
       "L 236.923143 10.8 \n",
       "L 236.923143 50.415714 \n",
       "L 192.064857 50.415714 \n",
       "L 192.064857 10.8 \n",
       "\" clip-path=\"url(#p29facec5d2)\" style=\"fill: #cde11d\"/>\n",
       "    <path d=\"M 236.923143 10.8 \n",
       "L 281.781429 10.8 \n",
       "L 281.781429 50.415714 \n",
       "L 236.923143 50.415714 \n",
       "L 236.923143 10.8 \n",
       "\" clip-path=\"url(#p29facec5d2)\" style=\"fill: #1fa287\"/>\n",
       "    <path d=\"M 281.781429 10.8 \n",
       "L 326.639714 10.8 \n",
       "L 326.639714 50.415714 \n",
       "L 281.781429 50.415714 \n",
       "L 281.781429 10.8 \n",
       "\" clip-path=\"url(#p29facec5d2)\" style=\"fill: #440256\"/>\n",
       "    <path d=\"M 326.639714 10.8 \n",
       "L 371.498 10.8 \n",
       "L 371.498 50.415714 \n",
       "L 326.639714 50.415714 \n",
       "L 326.639714 10.8 \n",
       "\" clip-path=\"url(#p29facec5d2)\" style=\"fill: #481a6c\"/>\n",
       "    <path d=\"M 57.49 50.415714 \n",
       "L 102.348286 50.415714 \n",
       "L 102.348286 90.031429 \n",
       "L 57.49 90.031429 \n",
       "L 57.49 50.415714 \n",
       "\" clip-path=\"url(#p29facec5d2)\" style=\"fill: #e7e419\"/>\n",
       "    <path d=\"M 102.348286 50.415714 \n",
       "L 147.206571 50.415714 \n",
       "L 147.206571 90.031429 \n",
       "L 102.348286 90.031429 \n",
       "L 102.348286 50.415714 \n",
       "\" clip-path=\"url(#p29facec5d2)\" style=\"fill: #440154\"/>\n",
       "    <path d=\"M 147.206571 50.415714 \n",
       "L 192.064857 50.415714 \n",
       "L 192.064857 90.031429 \n",
       "L 147.206571 90.031429 \n",
       "L 147.206571 50.415714 \n",
       "\" clip-path=\"url(#p29facec5d2)\" style=\"fill: #3c4f8a\"/>\n",
       "    <path d=\"M 192.064857 50.415714 \n",
       "L 236.923143 50.415714 \n",
       "L 236.923143 90.031429 \n",
       "L 192.064857 90.031429 \n",
       "L 192.064857 50.415714 \n",
       "\" clip-path=\"url(#p29facec5d2)\" style=\"fill: #98d83e\"/>\n",
       "    <path d=\"M 236.923143 50.415714 \n",
       "L 281.781429 50.415714 \n",
       "L 281.781429 90.031429 \n",
       "L 236.923143 90.031429 \n",
       "L 236.923143 50.415714 \n",
       "\" clip-path=\"url(#p29facec5d2)\" style=\"fill: #ece51b\"/>\n",
       "    <path d=\"M 281.781429 50.415714 \n",
       "L 326.639714 50.415714 \n",
       "L 326.639714 90.031429 \n",
       "L 281.781429 90.031429 \n",
       "L 281.781429 50.415714 \n",
       "\" clip-path=\"url(#p29facec5d2)\" style=\"fill: #73d056\"/>\n",
       "    <path d=\"M 326.639714 50.415714 \n",
       "L 371.498 50.415714 \n",
       "L 371.498 90.031429 \n",
       "L 326.639714 90.031429 \n",
       "L 326.639714 50.415714 \n",
       "\" clip-path=\"url(#p29facec5d2)\" style=\"fill: #4ec36b\"/>\n",
       "    <path d=\"M 57.49 90.031429 \n",
       "L 102.348286 90.031429 \n",
       "L 102.348286 129.647143 \n",
       "L 57.49 129.647143 \n",
       "L 57.49 90.031429 \n",
       "\" clip-path=\"url(#p29facec5d2)\" style=\"fill: #f6e620\"/>\n",
       "    <path d=\"M 102.348286 90.031429 \n",
       "L 147.206571 90.031429 \n",
       "L 147.206571 129.647143 \n",
       "L 102.348286 129.647143 \n",
       "L 102.348286 90.031429 \n",
       "\" clip-path=\"url(#p29facec5d2)\" style=\"fill: #3c4f8a\"/>\n",
       "    <path d=\"M 147.206571 90.031429 \n",
       "L 192.064857 90.031429 \n",
       "L 192.064857 129.647143 \n",
       "L 147.206571 129.647143 \n",
       "L 147.206571 90.031429 \n",
       "\" clip-path=\"url(#p29facec5d2)\" style=\"fill: #440154\"/>\n",
       "    <path d=\"M 192.064857 90.031429 \n",
       "L 236.923143 90.031429 \n",
       "L 236.923143 129.647143 \n",
       "L 192.064857 129.647143 \n",
       "L 192.064857 90.031429 \n",
       "\" clip-path=\"url(#p29facec5d2)\" style=\"fill: #70cf57\"/>\n",
       "    <path d=\"M 236.923143 90.031429 \n",
       "L 281.781429 90.031429 \n",
       "L 281.781429 129.647143 \n",
       "L 236.923143 129.647143 \n",
       "L 236.923143 90.031429 \n",
       "\" clip-path=\"url(#p29facec5d2)\" style=\"fill: #c5e021\"/>\n",
       "    <path d=\"M 281.781429 90.031429 \n",
       "L 326.639714 90.031429 \n",
       "L 326.639714 129.647143 \n",
       "L 281.781429 129.647143 \n",
       "L 281.781429 90.031429 \n",
       "\" clip-path=\"url(#p29facec5d2)\" style=\"fill: #29af7f\"/>\n",
       "    <path d=\"M 326.639714 90.031429 \n",
       "L 371.498 90.031429 \n",
       "L 371.498 129.647143 \n",
       "L 326.639714 129.647143 \n",
       "L 326.639714 90.031429 \n",
       "\" clip-path=\"url(#p29facec5d2)\" style=\"fill: #29af7f\"/>\n",
       "    <path d=\"M 57.49 129.647143 \n",
       "L 102.348286 129.647143 \n",
       "L 102.348286 169.262857 \n",
       "L 57.49 169.262857 \n",
       "L 57.49 129.647143 \n",
       "\" clip-path=\"url(#p29facec5d2)\" style=\"fill: #cde11d\"/>\n",
       "    <path d=\"M 102.348286 129.647143 \n",
       "L 147.206571 129.647143 \n",
       "L 147.206571 169.262857 \n",
       "L 102.348286 169.262857 \n",
       "L 102.348286 129.647143 \n",
       "\" clip-path=\"url(#p29facec5d2)\" style=\"fill: #98d83e\"/>\n",
       "    <path d=\"M 147.206571 129.647143 \n",
       "L 192.064857 129.647143 \n",
       "L 192.064857 169.262857 \n",
       "L 147.206571 169.262857 \n",
       "L 147.206571 129.647143 \n",
       "\" clip-path=\"url(#p29facec5d2)\" style=\"fill: #70cf57\"/>\n",
       "    <path d=\"M 192.064857 129.647143 \n",
       "L 236.923143 129.647143 \n",
       "L 236.923143 169.262857 \n",
       "L 192.064857 169.262857 \n",
       "L 192.064857 129.647143 \n",
       "\" clip-path=\"url(#p29facec5d2)\" style=\"fill: #440154\"/>\n",
       "    <path d=\"M 236.923143 129.647143 \n",
       "L 281.781429 129.647143 \n",
       "L 281.781429 169.262857 \n",
       "L 236.923143 169.262857 \n",
       "L 236.923143 129.647143 \n",
       "\" clip-path=\"url(#p29facec5d2)\" style=\"fill: #fde725\"/>\n",
       "    <path d=\"M 281.781429 129.647143 \n",
       "L 326.639714 129.647143 \n",
       "L 326.639714 169.262857 \n",
       "L 281.781429 169.262857 \n",
       "L 281.781429 129.647143 \n",
       "\" clip-path=\"url(#p29facec5d2)\" style=\"fill: #cde11d\"/>\n",
       "    <path d=\"M 326.639714 129.647143 \n",
       "L 371.498 129.647143 \n",
       "L 371.498 169.262857 \n",
       "L 326.639714 169.262857 \n",
       "L 326.639714 129.647143 \n",
       "\" clip-path=\"url(#p29facec5d2)\" style=\"fill: #b0dd2f\"/>\n",
       "    <path d=\"M 57.49 169.262857 \n",
       "L 102.348286 169.262857 \n",
       "L 102.348286 208.878571 \n",
       "L 57.49 208.878571 \n",
       "L 57.49 169.262857 \n",
       "\" clip-path=\"url(#p29facec5d2)\" style=\"fill: #1fa287\"/>\n",
       "    <path d=\"M 102.348286 169.262857 \n",
       "L 147.206571 169.262857 \n",
       "L 147.206571 208.878571 \n",
       "L 102.348286 208.878571 \n",
       "L 102.348286 169.262857 \n",
       "\" clip-path=\"url(#p29facec5d2)\" style=\"fill: #ece51b\"/>\n",
       "    <path d=\"M 147.206571 169.262857 \n",
       "L 192.064857 169.262857 \n",
       "L 192.064857 208.878571 \n",
       "L 147.206571 208.878571 \n",
       "L 147.206571 169.262857 \n",
       "\" clip-path=\"url(#p29facec5d2)\" style=\"fill: #c5e021\"/>\n",
       "    <path d=\"M 192.064857 169.262857 \n",
       "L 236.923143 169.262857 \n",
       "L 236.923143 208.878571 \n",
       "L 192.064857 208.878571 \n",
       "L 192.064857 169.262857 \n",
       "\" clip-path=\"url(#p29facec5d2)\" style=\"fill: #fde725\"/>\n",
       "    <path d=\"M 236.923143 169.262857 \n",
       "L 281.781429 169.262857 \n",
       "L 281.781429 208.878571 \n",
       "L 236.923143 208.878571 \n",
       "L 236.923143 169.262857 \n",
       "\" clip-path=\"url(#p29facec5d2)\" style=\"fill: #440154\"/>\n",
       "    <path d=\"M 281.781429 169.262857 \n",
       "L 326.639714 169.262857 \n",
       "L 326.639714 208.878571 \n",
       "L 281.781429 208.878571 \n",
       "L 281.781429 169.262857 \n",
       "\" clip-path=\"url(#p29facec5d2)\" style=\"fill: #23a983\"/>\n",
       "    <path d=\"M 326.639714 169.262857 \n",
       "L 371.498 169.262857 \n",
       "L 371.498 208.878571 \n",
       "L 326.639714 208.878571 \n",
       "L 326.639714 169.262857 \n",
       "\" clip-path=\"url(#p29facec5d2)\" style=\"fill: #29af7f\"/>\n",
       "    <path d=\"M 57.49 208.878571 \n",
       "L 102.348286 208.878571 \n",
       "L 102.348286 248.494286 \n",
       "L 57.49 248.494286 \n",
       "L 57.49 208.878571 \n",
       "\" clip-path=\"url(#p29facec5d2)\" style=\"fill: #440256\"/>\n",
       "    <path d=\"M 102.348286 208.878571 \n",
       "L 147.206571 208.878571 \n",
       "L 147.206571 248.494286 \n",
       "L 102.348286 248.494286 \n",
       "L 102.348286 208.878571 \n",
       "\" clip-path=\"url(#p29facec5d2)\" style=\"fill: #73d056\"/>\n",
       "    <path d=\"M 147.206571 208.878571 \n",
       "L 192.064857 208.878571 \n",
       "L 192.064857 248.494286 \n",
       "L 147.206571 248.494286 \n",
       "L 147.206571 208.878571 \n",
       "\" clip-path=\"url(#p29facec5d2)\" style=\"fill: #29af7f\"/>\n",
       "    <path d=\"M 192.064857 208.878571 \n",
       "L 236.923143 208.878571 \n",
       "L 236.923143 248.494286 \n",
       "L 192.064857 248.494286 \n",
       "L 192.064857 208.878571 \n",
       "\" clip-path=\"url(#p29facec5d2)\" style=\"fill: #cde11d\"/>\n",
       "    <path d=\"M 236.923143 208.878571 \n",
       "L 281.781429 208.878571 \n",
       "L 281.781429 248.494286 \n",
       "L 236.923143 248.494286 \n",
       "L 236.923143 208.878571 \n",
       "\" clip-path=\"url(#p29facec5d2)\" style=\"fill: #23a983\"/>\n",
       "    <path d=\"M 281.781429 208.878571 \n",
       "L 326.639714 208.878571 \n",
       "L 326.639714 248.494286 \n",
       "L 281.781429 248.494286 \n",
       "L 281.781429 208.878571 \n",
       "\" clip-path=\"url(#p29facec5d2)\" style=\"fill: #440154\"/>\n",
       "    <path d=\"M 326.639714 208.878571 \n",
       "L 371.498 208.878571 \n",
       "L 371.498 248.494286 \n",
       "L 326.639714 248.494286 \n",
       "L 326.639714 208.878571 \n",
       "\" clip-path=\"url(#p29facec5d2)\" style=\"fill: #481c6e\"/>\n",
       "    <path d=\"M 57.49 248.494286 \n",
       "L 102.348286 248.494286 \n",
       "L 102.348286 288.11 \n",
       "L 57.49 288.11 \n",
       "L 57.49 248.494286 \n",
       "\" clip-path=\"url(#p29facec5d2)\" style=\"fill: #481a6c\"/>\n",
       "    <path d=\"M 102.348286 248.494286 \n",
       "L 147.206571 248.494286 \n",
       "L 147.206571 288.11 \n",
       "L 102.348286 288.11 \n",
       "L 102.348286 248.494286 \n",
       "\" clip-path=\"url(#p29facec5d2)\" style=\"fill: #4ec36b\"/>\n",
       "    <path d=\"M 147.206571 248.494286 \n",
       "L 192.064857 248.494286 \n",
       "L 192.064857 288.11 \n",
       "L 147.206571 288.11 \n",
       "L 147.206571 248.494286 \n",
       "\" clip-path=\"url(#p29facec5d2)\" style=\"fill: #29af7f\"/>\n",
       "    <path d=\"M 192.064857 248.494286 \n",
       "L 236.923143 248.494286 \n",
       "L 236.923143 288.11 \n",
       "L 192.064857 288.11 \n",
       "L 192.064857 248.494286 \n",
       "\" clip-path=\"url(#p29facec5d2)\" style=\"fill: #b0dd2f\"/>\n",
       "    <path d=\"M 236.923143 248.494286 \n",
       "L 281.781429 248.494286 \n",
       "L 281.781429 288.11 \n",
       "L 236.923143 288.11 \n",
       "L 236.923143 248.494286 \n",
       "\" clip-path=\"url(#p29facec5d2)\" style=\"fill: #29af7f\"/>\n",
       "    <path d=\"M 281.781429 248.494286 \n",
       "L 326.639714 248.494286 \n",
       "L 326.639714 288.11 \n",
       "L 281.781429 288.11 \n",
       "L 281.781429 248.494286 \n",
       "\" clip-path=\"url(#p29facec5d2)\" style=\"fill: #481c6e\"/>\n",
       "    <path d=\"M 326.639714 248.494286 \n",
       "L 371.498 248.494286 \n",
       "L 371.498 288.11 \n",
       "L 326.639714 288.11 \n",
       "L 326.639714 248.494286 \n",
       "\" clip-path=\"url(#p29facec5d2)\" style=\"fill: #440154\"/>\n",
       "   </g>\n",
       "   <g id=\"matplotlib.axis_1\">\n",
       "    <g id=\"xtick_1\">\n",
       "     <g id=\"line2d_1\">\n",
       "      <defs>\n",
       "       <path id=\"mad841e4824\" d=\"M 0 0 \n",
       "L 0 3.5 \n",
       "\" style=\"stroke: #000000; stroke-width: 0.8\"/>\n",
       "      </defs>\n",
       "      <g>\n",
       "       <use xlink:href=\"#mad841e4824\" x=\"79.919143\" y=\"288.11\" style=\"stroke: #000000; stroke-width: 0.8\"/>\n",
       "      </g>\n",
       "     </g>\n",
       "     <g id=\"text_1\">\n",
       "      <!-- human -->\n",
       "      <g transform=\"translate(82.678518 329.99125) rotate(-90) scale(0.1 -0.1)\">\n",
       "       <defs>\n",
       "        <path id=\"DejaVuSans-68\" d=\"M 3513 2113 \n",
       "L 3513 0 \n",
       "L 2938 0 \n",
       "L 2938 2094 \n",
       "Q 2938 2591 2744 2837 \n",
       "Q 2550 3084 2163 3084 \n",
       "Q 1697 3084 1428 2787 \n",
       "Q 1159 2491 1159 1978 \n",
       "L 1159 0 \n",
       "L 581 0 \n",
       "L 581 4863 \n",
       "L 1159 4863 \n",
       "L 1159 2956 \n",
       "Q 1366 3272 1645 3428 \n",
       "Q 1925 3584 2291 3584 \n",
       "Q 2894 3584 3203 3211 \n",
       "Q 3513 2838 3513 2113 \n",
       "z\n",
       "\" transform=\"scale(0.015625)\"/>\n",
       "        <path id=\"DejaVuSans-75\" d=\"M 544 1381 \n",
       "L 544 3500 \n",
       "L 1119 3500 \n",
       "L 1119 1403 \n",
       "Q 1119 906 1312 657 \n",
       "Q 1506 409 1894 409 \n",
       "Q 2359 409 2629 706 \n",
       "Q 2900 1003 2900 1516 \n",
       "L 2900 3500 \n",
       "L 3475 3500 \n",
       "L 3475 0 \n",
       "L 2900 0 \n",
       "L 2900 538 \n",
       "Q 2691 219 2414 64 \n",
       "Q 2138 -91 1772 -91 \n",
       "Q 1169 -91 856 284 \n",
       "Q 544 659 544 1381 \n",
       "z\n",
       "M 1991 3584 \n",
       "L 1991 3584 \n",
       "z\n",
       "\" transform=\"scale(0.015625)\"/>\n",
       "        <path id=\"DejaVuSans-6d\" d=\"M 3328 2828 \n",
       "Q 3544 3216 3844 3400 \n",
       "Q 4144 3584 4550 3584 \n",
       "Q 5097 3584 5394 3201 \n",
       "Q 5691 2819 5691 2113 \n",
       "L 5691 0 \n",
       "L 5113 0 \n",
       "L 5113 2094 \n",
       "Q 5113 2597 4934 2840 \n",
       "Q 4756 3084 4391 3084 \n",
       "Q 3944 3084 3684 2787 \n",
       "Q 3425 2491 3425 1978 \n",
       "L 3425 0 \n",
       "L 2847 0 \n",
       "L 2847 2094 \n",
       "Q 2847 2600 2669 2842 \n",
       "Q 2491 3084 2119 3084 \n",
       "Q 1678 3084 1418 2786 \n",
       "Q 1159 2488 1159 1978 \n",
       "L 1159 0 \n",
       "L 581 0 \n",
       "L 581 3500 \n",
       "L 1159 3500 \n",
       "L 1159 2956 \n",
       "Q 1356 3278 1631 3431 \n",
       "Q 1906 3584 2284 3584 \n",
       "Q 2666 3584 2933 3390 \n",
       "Q 3200 3197 3328 2828 \n",
       "z\n",
       "\" transform=\"scale(0.015625)\"/>\n",
       "        <path id=\"DejaVuSans-61\" d=\"M 2194 1759 \n",
       "Q 1497 1759 1228 1600 \n",
       "Q 959 1441 959 1056 \n",
       "Q 959 750 1161 570 \n",
       "Q 1363 391 1709 391 \n",
       "Q 2188 391 2477 730 \n",
       "Q 2766 1069 2766 1631 \n",
       "L 2766 1759 \n",
       "L 2194 1759 \n",
       "z\n",
       "M 3341 1997 \n",
       "L 3341 0 \n",
       "L 2766 0 \n",
       "L 2766 531 \n",
       "Q 2569 213 2275 61 \n",
       "Q 1981 -91 1556 -91 \n",
       "Q 1019 -91 701 211 \n",
       "Q 384 513 384 1019 \n",
       "Q 384 1609 779 1909 \n",
       "Q 1175 2209 1959 2209 \n",
       "L 2766 2209 \n",
       "L 2766 2266 \n",
       "Q 2766 2663 2505 2880 \n",
       "Q 2244 3097 1772 3097 \n",
       "Q 1472 3097 1187 3025 \n",
       "Q 903 2953 641 2809 \n",
       "L 641 3341 \n",
       "Q 956 3463 1253 3523 \n",
       "Q 1550 3584 1831 3584 \n",
       "Q 2591 3584 2966 3190 \n",
       "Q 3341 2797 3341 1997 \n",
       "z\n",
       "\" transform=\"scale(0.015625)\"/>\n",
       "        <path id=\"DejaVuSans-6e\" d=\"M 3513 2113 \n",
       "L 3513 0 \n",
       "L 2938 0 \n",
       "L 2938 2094 \n",
       "Q 2938 2591 2744 2837 \n",
       "Q 2550 3084 2163 3084 \n",
       "Q 1697 3084 1428 2787 \n",
       "Q 1159 2491 1159 1978 \n",
       "L 1159 0 \n",
       "L 581 0 \n",
       "L 581 3500 \n",
       "L 1159 3500 \n",
       "L 1159 2956 \n",
       "Q 1366 3272 1645 3428 \n",
       "Q 1925 3584 2291 3584 \n",
       "Q 2894 3584 3203 3211 \n",
       "Q 3513 2838 3513 2113 \n",
       "z\n",
       "\" transform=\"scale(0.015625)\"/>\n",
       "       </defs>\n",
       "       <use xlink:href=\"#DejaVuSans-68\"/>\n",
       "       <use xlink:href=\"#DejaVuSans-75\" x=\"63.378906\"/>\n",
       "       <use xlink:href=\"#DejaVuSans-6d\" x=\"126.757812\"/>\n",
       "       <use xlink:href=\"#DejaVuSans-61\" x=\"224.169922\"/>\n",
       "       <use xlink:href=\"#DejaVuSans-6e\" x=\"285.449219\"/>\n",
       "      </g>\n",
       "     </g>\n",
       "    </g>\n",
       "    <g id=\"xtick_2\">\n",
       "     <g id=\"line2d_2\">\n",
       "      <g>\n",
       "       <use xlink:href=\"#mad841e4824\" x=\"124.777429\" y=\"288.11\" style=\"stroke: #000000; stroke-width: 0.8\"/>\n",
       "      </g>\n",
       "     </g>\n",
       "     <g id=\"text_2\">\n",
       "      <!-- mouse -->\n",
       "      <g transform=\"translate(127.536804 328.669375) rotate(-90) scale(0.1 -0.1)\">\n",
       "       <defs>\n",
       "        <path id=\"DejaVuSans-6f\" d=\"M 1959 3097 \n",
       "Q 1497 3097 1228 2736 \n",
       "Q 959 2375 959 1747 \n",
       "Q 959 1119 1226 758 \n",
       "Q 1494 397 1959 397 \n",
       "Q 2419 397 2687 759 \n",
       "Q 2956 1122 2956 1747 \n",
       "Q 2956 2369 2687 2733 \n",
       "Q 2419 3097 1959 3097 \n",
       "z\n",
       "M 1959 3584 \n",
       "Q 2709 3584 3137 3096 \n",
       "Q 3566 2609 3566 1747 \n",
       "Q 3566 888 3137 398 \n",
       "Q 2709 -91 1959 -91 \n",
       "Q 1206 -91 779 398 \n",
       "Q 353 888 353 1747 \n",
       "Q 353 2609 779 3096 \n",
       "Q 1206 3584 1959 3584 \n",
       "z\n",
       "\" transform=\"scale(0.015625)\"/>\n",
       "        <path id=\"DejaVuSans-73\" d=\"M 2834 3397 \n",
       "L 2834 2853 \n",
       "Q 2591 2978 2328 3040 \n",
       "Q 2066 3103 1784 3103 \n",
       "Q 1356 3103 1142 2972 \n",
       "Q 928 2841 928 2578 \n",
       "Q 928 2378 1081 2264 \n",
       "Q 1234 2150 1697 2047 \n",
       "L 1894 2003 \n",
       "Q 2506 1872 2764 1633 \n",
       "Q 3022 1394 3022 966 \n",
       "Q 3022 478 2636 193 \n",
       "Q 2250 -91 1575 -91 \n",
       "Q 1294 -91 989 -36 \n",
       "Q 684 19 347 128 \n",
       "L 347 722 \n",
       "Q 666 556 975 473 \n",
       "Q 1284 391 1588 391 \n",
       "Q 1994 391 2212 530 \n",
       "Q 2431 669 2431 922 \n",
       "Q 2431 1156 2273 1281 \n",
       "Q 2116 1406 1581 1522 \n",
       "L 1381 1569 \n",
       "Q 847 1681 609 1914 \n",
       "Q 372 2147 372 2553 \n",
       "Q 372 3047 722 3315 \n",
       "Q 1072 3584 1716 3584 \n",
       "Q 2034 3584 2315 3537 \n",
       "Q 2597 3491 2834 3397 \n",
       "z\n",
       "\" transform=\"scale(0.015625)\"/>\n",
       "        <path id=\"DejaVuSans-65\" d=\"M 3597 1894 \n",
       "L 3597 1613 \n",
       "L 953 1613 \n",
       "Q 991 1019 1311 708 \n",
       "Q 1631 397 2203 397 \n",
       "Q 2534 397 2845 478 \n",
       "Q 3156 559 3463 722 \n",
       "L 3463 178 \n",
       "Q 3153 47 2828 -22 \n",
       "Q 2503 -91 2169 -91 \n",
       "Q 1331 -91 842 396 \n",
       "Q 353 884 353 1716 \n",
       "Q 353 2575 817 3079 \n",
       "Q 1281 3584 2069 3584 \n",
       "Q 2775 3584 3186 3129 \n",
       "Q 3597 2675 3597 1894 \n",
       "z\n",
       "M 3022 2063 \n",
       "Q 3016 2534 2758 2815 \n",
       "Q 2500 3097 2075 3097 \n",
       "Q 1594 3097 1305 2825 \n",
       "Q 1016 2553 972 2059 \n",
       "L 3022 2063 \n",
       "z\n",
       "\" transform=\"scale(0.015625)\"/>\n",
       "       </defs>\n",
       "       <use xlink:href=\"#DejaVuSans-6d\"/>\n",
       "       <use xlink:href=\"#DejaVuSans-6f\" x=\"97.412109\"/>\n",
       "       <use xlink:href=\"#DejaVuSans-75\" x=\"158.59375\"/>\n",
       "       <use xlink:href=\"#DejaVuSans-73\" x=\"221.972656\"/>\n",
       "       <use xlink:href=\"#DejaVuSans-65\" x=\"274.072266\"/>\n",
       "      </g>\n",
       "     </g>\n",
       "    </g>\n",
       "    <g id=\"xtick_3\">\n",
       "     <g id=\"line2d_3\">\n",
       "      <g>\n",
       "       <use xlink:href=\"#mad841e4824\" x=\"169.635714\" y=\"288.11\" style=\"stroke: #000000; stroke-width: 0.8\"/>\n",
       "      </g>\n",
       "     </g>\n",
       "     <g id=\"text_3\">\n",
       "      <!-- rat -->\n",
       "      <g transform=\"translate(172.395089 309.269375) rotate(-90) scale(0.1 -0.1)\">\n",
       "       <defs>\n",
       "        <path id=\"DejaVuSans-72\" d=\"M 2631 2963 \n",
       "Q 2534 3019 2420 3045 \n",
       "Q 2306 3072 2169 3072 \n",
       "Q 1681 3072 1420 2755 \n",
       "Q 1159 2438 1159 1844 \n",
       "L 1159 0 \n",
       "L 581 0 \n",
       "L 581 3500 \n",
       "L 1159 3500 \n",
       "L 1159 2956 \n",
       "Q 1341 3275 1631 3429 \n",
       "Q 1922 3584 2338 3584 \n",
       "Q 2397 3584 2469 3576 \n",
       "Q 2541 3569 2628 3553 \n",
       "L 2631 2963 \n",
       "z\n",
       "\" transform=\"scale(0.015625)\"/>\n",
       "        <path id=\"DejaVuSans-74\" d=\"M 1172 4494 \n",
       "L 1172 3500 \n",
       "L 2356 3500 \n",
       "L 2356 3053 \n",
       "L 1172 3053 \n",
       "L 1172 1153 \n",
       "Q 1172 725 1289 603 \n",
       "Q 1406 481 1766 481 \n",
       "L 2356 481 \n",
       "L 2356 0 \n",
       "L 1766 0 \n",
       "Q 1100 0 847 248 \n",
       "Q 594 497 594 1153 \n",
       "L 594 3053 \n",
       "L 172 3053 \n",
       "L 172 3500 \n",
       "L 594 3500 \n",
       "L 594 4494 \n",
       "L 1172 4494 \n",
       "z\n",
       "\" transform=\"scale(0.015625)\"/>\n",
       "       </defs>\n",
       "       <use xlink:href=\"#DejaVuSans-72\"/>\n",
       "       <use xlink:href=\"#DejaVuSans-61\" x=\"41.113281\"/>\n",
       "       <use xlink:href=\"#DejaVuSans-74\" x=\"102.392578\"/>\n",
       "      </g>\n",
       "     </g>\n",
       "    </g>\n",
       "    <g id=\"xtick_4\">\n",
       "     <g id=\"line2d_4\">\n",
       "      <g>\n",
       "       <use xlink:href=\"#mad841e4824\" x=\"214.494\" y=\"288.11\" style=\"stroke: #000000; stroke-width: 0.8\"/>\n",
       "      </g>\n",
       "     </g>\n",
       "     <g id=\"text_4\">\n",
       "      <!-- chicken -->\n",
       "      <g transform=\"translate(217.253375 333.14125) rotate(-90) scale(0.1 -0.1)\">\n",
       "       <defs>\n",
       "        <path id=\"DejaVuSans-63\" d=\"M 3122 3366 \n",
       "L 3122 2828 \n",
       "Q 2878 2963 2633 3030 \n",
       "Q 2388 3097 2138 3097 \n",
       "Q 1578 3097 1268 2742 \n",
       "Q 959 2388 959 1747 \n",
       "Q 959 1106 1268 751 \n",
       "Q 1578 397 2138 397 \n",
       "Q 2388 397 2633 464 \n",
       "Q 2878 531 3122 666 \n",
       "L 3122 134 \n",
       "Q 2881 22 2623 -34 \n",
       "Q 2366 -91 2075 -91 \n",
       "Q 1284 -91 818 406 \n",
       "Q 353 903 353 1747 \n",
       "Q 353 2603 823 3093 \n",
       "Q 1294 3584 2113 3584 \n",
       "Q 2378 3584 2631 3529 \n",
       "Q 2884 3475 3122 3366 \n",
       "z\n",
       "\" transform=\"scale(0.015625)\"/>\n",
       "        <path id=\"DejaVuSans-69\" d=\"M 603 3500 \n",
       "L 1178 3500 \n",
       "L 1178 0 \n",
       "L 603 0 \n",
       "L 603 3500 \n",
       "z\n",
       "M 603 4863 \n",
       "L 1178 4863 \n",
       "L 1178 4134 \n",
       "L 603 4134 \n",
       "L 603 4863 \n",
       "z\n",
       "\" transform=\"scale(0.015625)\"/>\n",
       "        <path id=\"DejaVuSans-6b\" d=\"M 581 4863 \n",
       "L 1159 4863 \n",
       "L 1159 1991 \n",
       "L 2875 3500 \n",
       "L 3609 3500 \n",
       "L 1753 1863 \n",
       "L 3688 0 \n",
       "L 2938 0 \n",
       "L 1159 1709 \n",
       "L 1159 0 \n",
       "L 581 0 \n",
       "L 581 4863 \n",
       "z\n",
       "\" transform=\"scale(0.015625)\"/>\n",
       "       </defs>\n",
       "       <use xlink:href=\"#DejaVuSans-63\"/>\n",
       "       <use xlink:href=\"#DejaVuSans-68\" x=\"54.980469\"/>\n",
       "       <use xlink:href=\"#DejaVuSans-69\" x=\"118.359375\"/>\n",
       "       <use xlink:href=\"#DejaVuSans-63\" x=\"146.142578\"/>\n",
       "       <use xlink:href=\"#DejaVuSans-6b\" x=\"201.123047\"/>\n",
       "       <use xlink:href=\"#DejaVuSans-65\" x=\"255.408203\"/>\n",
       "       <use xlink:href=\"#DejaVuSans-6e\" x=\"316.931641\"/>\n",
       "      </g>\n",
       "     </g>\n",
       "    </g>\n",
       "    <g id=\"xtick_5\">\n",
       "     <g id=\"line2d_5\">\n",
       "      <g>\n",
       "       <use xlink:href=\"#mad841e4824\" x=\"259.352286\" y=\"288.11\" style=\"stroke: #000000; stroke-width: 0.8\"/>\n",
       "      </g>\n",
       "     </g>\n",
       "     <g id=\"text_5\">\n",
       "      <!-- pig -->\n",
       "      <g transform=\"translate(262.111661 310.585) rotate(-90) scale(0.1 -0.1)\">\n",
       "       <defs>\n",
       "        <path id=\"DejaVuSans-70\" d=\"M 1159 525 \n",
       "L 1159 -1331 \n",
       "L 581 -1331 \n",
       "L 581 3500 \n",
       "L 1159 3500 \n",
       "L 1159 2969 \n",
       "Q 1341 3281 1617 3432 \n",
       "Q 1894 3584 2278 3584 \n",
       "Q 2916 3584 3314 3078 \n",
       "Q 3713 2572 3713 1747 \n",
       "Q 3713 922 3314 415 \n",
       "Q 2916 -91 2278 -91 \n",
       "Q 1894 -91 1617 61 \n",
       "Q 1341 213 1159 525 \n",
       "z\n",
       "M 3116 1747 \n",
       "Q 3116 2381 2855 2742 \n",
       "Q 2594 3103 2138 3103 \n",
       "Q 1681 3103 1420 2742 \n",
       "Q 1159 2381 1159 1747 \n",
       "Q 1159 1113 1420 752 \n",
       "Q 1681 391 2138 391 \n",
       "Q 2594 391 2855 752 \n",
       "Q 3116 1113 3116 1747 \n",
       "z\n",
       "\" transform=\"scale(0.015625)\"/>\n",
       "        <path id=\"DejaVuSans-67\" d=\"M 2906 1791 \n",
       "Q 2906 2416 2648 2759 \n",
       "Q 2391 3103 1925 3103 \n",
       "Q 1463 3103 1205 2759 \n",
       "Q 947 2416 947 1791 \n",
       "Q 947 1169 1205 825 \n",
       "Q 1463 481 1925 481 \n",
       "Q 2391 481 2648 825 \n",
       "Q 2906 1169 2906 1791 \n",
       "z\n",
       "M 3481 434 \n",
       "Q 3481 -459 3084 -895 \n",
       "Q 2688 -1331 1869 -1331 \n",
       "Q 1566 -1331 1297 -1286 \n",
       "Q 1028 -1241 775 -1147 \n",
       "L 775 -588 \n",
       "Q 1028 -725 1275 -790 \n",
       "Q 1522 -856 1778 -856 \n",
       "Q 2344 -856 2625 -561 \n",
       "Q 2906 -266 2906 331 \n",
       "L 2906 616 \n",
       "Q 2728 306 2450 153 \n",
       "Q 2172 0 1784 0 \n",
       "Q 1141 0 747 490 \n",
       "Q 353 981 353 1791 \n",
       "Q 353 2603 747 3093 \n",
       "Q 1141 3584 1784 3584 \n",
       "Q 2172 3584 2450 3431 \n",
       "Q 2728 3278 2906 2969 \n",
       "L 2906 3500 \n",
       "L 3481 3500 \n",
       "L 3481 434 \n",
       "z\n",
       "\" transform=\"scale(0.015625)\"/>\n",
       "       </defs>\n",
       "       <use xlink:href=\"#DejaVuSans-70\"/>\n",
       "       <use xlink:href=\"#DejaVuSans-69\" x=\"63.476562\"/>\n",
       "       <use xlink:href=\"#DejaVuSans-67\" x=\"91.259766\"/>\n",
       "      </g>\n",
       "     </g>\n",
       "    </g>\n",
       "    <g id=\"xtick_6\">\n",
       "     <g id=\"line2d_6\">\n",
       "      <g>\n",
       "       <use xlink:href=\"#mad841e4824\" x=\"304.210571\" y=\"288.11\" style=\"stroke: #000000; stroke-width: 0.8\"/>\n",
       "      </g>\n",
       "     </g>\n",
       "     <g id=\"text_6\">\n",
       "      <!-- chimp -->\n",
       "      <g transform=\"translate(306.969946 325.813125) rotate(-90) scale(0.1 -0.1)\">\n",
       "       <use xlink:href=\"#DejaVuSans-63\"/>\n",
       "       <use xlink:href=\"#DejaVuSans-68\" x=\"54.980469\"/>\n",
       "       <use xlink:href=\"#DejaVuSans-69\" x=\"118.359375\"/>\n",
       "       <use xlink:href=\"#DejaVuSans-6d\" x=\"146.142578\"/>\n",
       "       <use xlink:href=\"#DejaVuSans-70\" x=\"243.554688\"/>\n",
       "      </g>\n",
       "     </g>\n",
       "    </g>\n",
       "    <g id=\"xtick_7\">\n",
       "     <g id=\"line2d_7\">\n",
       "      <g>\n",
       "       <use xlink:href=\"#mad841e4824\" x=\"349.068857\" y=\"288.11\" style=\"stroke: #000000; stroke-width: 0.8\"/>\n",
       "      </g>\n",
       "     </g>\n",
       "     <g id=\"text_7\">\n",
       "      <!-- monkey -->\n",
       "      <g transform=\"translate(351.828232 334.806875) rotate(-90) scale(0.1 -0.1)\">\n",
       "       <defs>\n",
       "        <path id=\"DejaVuSans-79\" d=\"M 2059 -325 \n",
       "Q 1816 -950 1584 -1140 \n",
       "Q 1353 -1331 966 -1331 \n",
       "L 506 -1331 \n",
       "L 506 -850 \n",
       "L 844 -850 \n",
       "Q 1081 -850 1212 -737 \n",
       "Q 1344 -625 1503 -206 \n",
       "L 1606 56 \n",
       "L 191 3500 \n",
       "L 800 3500 \n",
       "L 1894 763 \n",
       "L 2988 3500 \n",
       "L 3597 3500 \n",
       "L 2059 -325 \n",
       "z\n",
       "\" transform=\"scale(0.015625)\"/>\n",
       "       </defs>\n",
       "       <use xlink:href=\"#DejaVuSans-6d\"/>\n",
       "       <use xlink:href=\"#DejaVuSans-6f\" x=\"97.412109\"/>\n",
       "       <use xlink:href=\"#DejaVuSans-6e\" x=\"158.59375\"/>\n",
       "       <use xlink:href=\"#DejaVuSans-6b\" x=\"221.972656\"/>\n",
       "       <use xlink:href=\"#DejaVuSans-65\" x=\"276.257812\"/>\n",
       "       <use xlink:href=\"#DejaVuSans-79\" x=\"337.78125\"/>\n",
       "      </g>\n",
       "     </g>\n",
       "    </g>\n",
       "   </g>\n",
       "   <g id=\"matplotlib.axis_2\">\n",
       "    <g id=\"ytick_1\">\n",
       "     <g id=\"line2d_8\">\n",
       "      <defs>\n",
       "       <path id=\"m2612a5ac53\" d=\"M 0 0 \n",
       "L -3.5 0 \n",
       "\" style=\"stroke: #000000; stroke-width: 0.8\"/>\n",
       "      </defs>\n",
       "      <g>\n",
       "       <use xlink:href=\"#m2612a5ac53\" x=\"57.49\" y=\"30.607857\" style=\"stroke: #000000; stroke-width: 0.8\"/>\n",
       "      </g>\n",
       "     </g>\n",
       "     <g id=\"text_8\">\n",
       "      <!-- human -->\n",
       "      <g transform=\"translate(15.60875 34.407076) scale(0.1 -0.1)\">\n",
       "       <use xlink:href=\"#DejaVuSans-68\"/>\n",
       "       <use xlink:href=\"#DejaVuSans-75\" x=\"63.378906\"/>\n",
       "       <use xlink:href=\"#DejaVuSans-6d\" x=\"126.757812\"/>\n",
       "       <use xlink:href=\"#DejaVuSans-61\" x=\"224.169922\"/>\n",
       "       <use xlink:href=\"#DejaVuSans-6e\" x=\"285.449219\"/>\n",
       "      </g>\n",
       "     </g>\n",
       "    </g>\n",
       "    <g id=\"ytick_2\">\n",
       "     <g id=\"line2d_9\">\n",
       "      <g>\n",
       "       <use xlink:href=\"#m2612a5ac53\" x=\"57.49\" y=\"70.223571\" style=\"stroke: #000000; stroke-width: 0.8\"/>\n",
       "      </g>\n",
       "     </g>\n",
       "     <g id=\"text_9\">\n",
       "      <!-- mouse -->\n",
       "      <g transform=\"translate(16.930625 74.02279) scale(0.1 -0.1)\">\n",
       "       <use xlink:href=\"#DejaVuSans-6d\"/>\n",
       "       <use xlink:href=\"#DejaVuSans-6f\" x=\"97.412109\"/>\n",
       "       <use xlink:href=\"#DejaVuSans-75\" x=\"158.59375\"/>\n",
       "       <use xlink:href=\"#DejaVuSans-73\" x=\"221.972656\"/>\n",
       "       <use xlink:href=\"#DejaVuSans-65\" x=\"274.072266\"/>\n",
       "      </g>\n",
       "     </g>\n",
       "    </g>\n",
       "    <g id=\"ytick_3\">\n",
       "     <g id=\"line2d_10\">\n",
       "      <g>\n",
       "       <use xlink:href=\"#m2612a5ac53\" x=\"57.49\" y=\"109.839286\" style=\"stroke: #000000; stroke-width: 0.8\"/>\n",
       "      </g>\n",
       "     </g>\n",
       "     <g id=\"text_10\">\n",
       "      <!-- rat -->\n",
       "      <g transform=\"translate(36.330625 113.638504) scale(0.1 -0.1)\">\n",
       "       <use xlink:href=\"#DejaVuSans-72\"/>\n",
       "       <use xlink:href=\"#DejaVuSans-61\" x=\"41.113281\"/>\n",
       "       <use xlink:href=\"#DejaVuSans-74\" x=\"102.392578\"/>\n",
       "      </g>\n",
       "     </g>\n",
       "    </g>\n",
       "    <g id=\"ytick_4\">\n",
       "     <g id=\"line2d_11\">\n",
       "      <g>\n",
       "       <use xlink:href=\"#m2612a5ac53\" x=\"57.49\" y=\"149.455\" style=\"stroke: #000000; stroke-width: 0.8\"/>\n",
       "      </g>\n",
       "     </g>\n",
       "     <g id=\"text_11\">\n",
       "      <!-- chicken -->\n",
       "      <g transform=\"translate(12.45875 153.254219) scale(0.1 -0.1)\">\n",
       "       <use xlink:href=\"#DejaVuSans-63\"/>\n",
       "       <use xlink:href=\"#DejaVuSans-68\" x=\"54.980469\"/>\n",
       "       <use xlink:href=\"#DejaVuSans-69\" x=\"118.359375\"/>\n",
       "       <use xlink:href=\"#DejaVuSans-63\" x=\"146.142578\"/>\n",
       "       <use xlink:href=\"#DejaVuSans-6b\" x=\"201.123047\"/>\n",
       "       <use xlink:href=\"#DejaVuSans-65\" x=\"255.408203\"/>\n",
       "       <use xlink:href=\"#DejaVuSans-6e\" x=\"316.931641\"/>\n",
       "      </g>\n",
       "     </g>\n",
       "    </g>\n",
       "    <g id=\"ytick_5\">\n",
       "     <g id=\"line2d_12\">\n",
       "      <g>\n",
       "       <use xlink:href=\"#m2612a5ac53\" x=\"57.49\" y=\"189.070714\" style=\"stroke: #000000; stroke-width: 0.8\"/>\n",
       "      </g>\n",
       "     </g>\n",
       "     <g id=\"text_12\">\n",
       "      <!-- pig -->\n",
       "      <g transform=\"translate(35.015 192.869933) scale(0.1 -0.1)\">\n",
       "       <use xlink:href=\"#DejaVuSans-70\"/>\n",
       "       <use xlink:href=\"#DejaVuSans-69\" x=\"63.476562\"/>\n",
       "       <use xlink:href=\"#DejaVuSans-67\" x=\"91.259766\"/>\n",
       "      </g>\n",
       "     </g>\n",
       "    </g>\n",
       "    <g id=\"ytick_6\">\n",
       "     <g id=\"line2d_13\">\n",
       "      <g>\n",
       "       <use xlink:href=\"#m2612a5ac53\" x=\"57.49\" y=\"228.686429\" style=\"stroke: #000000; stroke-width: 0.8\"/>\n",
       "      </g>\n",
       "     </g>\n",
       "     <g id=\"text_13\">\n",
       "      <!-- chimp -->\n",
       "      <g transform=\"translate(19.786875 232.485647) scale(0.1 -0.1)\">\n",
       "       <use xlink:href=\"#DejaVuSans-63\"/>\n",
       "       <use xlink:href=\"#DejaVuSans-68\" x=\"54.980469\"/>\n",
       "       <use xlink:href=\"#DejaVuSans-69\" x=\"118.359375\"/>\n",
       "       <use xlink:href=\"#DejaVuSans-6d\" x=\"146.142578\"/>\n",
       "       <use xlink:href=\"#DejaVuSans-70\" x=\"243.554688\"/>\n",
       "      </g>\n",
       "     </g>\n",
       "    </g>\n",
       "    <g id=\"ytick_7\">\n",
       "     <g id=\"line2d_14\">\n",
       "      <g>\n",
       "       <use xlink:href=\"#m2612a5ac53\" x=\"57.49\" y=\"268.302143\" style=\"stroke: #000000; stroke-width: 0.8\"/>\n",
       "      </g>\n",
       "     </g>\n",
       "     <g id=\"text_14\">\n",
       "      <!-- monkey -->\n",
       "      <g transform=\"translate(10.793125 272.101362) scale(0.1 -0.1)\">\n",
       "       <use xlink:href=\"#DejaVuSans-6d\"/>\n",
       "       <use xlink:href=\"#DejaVuSans-6f\" x=\"97.412109\"/>\n",
       "       <use xlink:href=\"#DejaVuSans-6e\" x=\"158.59375\"/>\n",
       "       <use xlink:href=\"#DejaVuSans-6b\" x=\"221.972656\"/>\n",
       "       <use xlink:href=\"#DejaVuSans-65\" x=\"276.257812\"/>\n",
       "       <use xlink:href=\"#DejaVuSans-79\" x=\"337.78125\"/>\n",
       "      </g>\n",
       "     </g>\n",
       "    </g>\n",
       "   </g>\n",
       "   <g id=\"patch_3\">\n",
       "    <path d=\"M 57.49 288.11 \n",
       "L 57.49 10.8 \n",
       "\" style=\"fill: none; stroke: #000000; stroke-width: 0.8; stroke-linejoin: miter; stroke-linecap: square\"/>\n",
       "   </g>\n",
       "   <g id=\"patch_4\">\n",
       "    <path d=\"M 371.498 288.11 \n",
       "L 371.498 10.8 \n",
       "\" style=\"fill: none; stroke: #000000; stroke-width: 0.8; stroke-linejoin: miter; stroke-linecap: square\"/>\n",
       "   </g>\n",
       "   <g id=\"patch_5\">\n",
       "    <path d=\"M 57.49 288.11 \n",
       "L 371.498 288.11 \n",
       "\" style=\"fill: none; stroke: #000000; stroke-width: 0.8; stroke-linejoin: miter; stroke-linecap: square\"/>\n",
       "   </g>\n",
       "   <g id=\"patch_6\">\n",
       "    <path d=\"M 57.49 10.8 \n",
       "L 371.498 10.8 \n",
       "\" style=\"fill: none; stroke: #000000; stroke-width: 0.8; stroke-linejoin: miter; stroke-linecap: square\"/>\n",
       "   </g>\n",
       "  </g>\n",
       "  <g id=\"axes_2\">\n",
       "   <g id=\"patch_7\">\n",
       "    <path d=\"M 391.1235 288.11 \n",
       "L 404.989 288.11 \n",
       "L 404.989 10.8 \n",
       "L 391.1235 10.8 \n",
       "z\n",
       "\" style=\"fill: #ffffff\"/>\n",
       "   </g>\n",
       "   <image xlink:href=\"data:image/png;base64,\n",
       "iVBORw0KGgoAAAANSUhEUgAAABMAAAGBCAYAAACEiYowAAAB+UlEQVR4nO2cgW3DQAwD9XZG6wjdf5S4M8g4oAeQHIDImZT+6wY5P+f3GUifORflNZzTzHzOdTizYq7FYg6LyZnRaXJ+YsxJwQRLezqbW8GY4CdDJ8CMmZJmBmZX0FbqNLWYGWk+7ArCvFraFxJ/svbsf82a5l5smuQzozFRMyvmA9qZMTPSREsrnk2ytGJMNk3OTH2gYF7mNL3vNeBNy5mpMZvmUmrMprmU+k7LmanTbGmXKuZexXxhZsZE3+xhXk3zhXL+3gTNirmWGNM7myErCPv+66gxO5t7sxBMb2lDVlBLuzcLwfSWNmM2vc+spd0rpLQpmHO4y3tnc6+Wdi86TW4CvGmKT/SYOy24aWNmkzNrmnvRB4p106KlBf+71tK+kPmTTUQAJ6NnMZigmfcMQNP0ngExpSXTxKzcmOLZBM0uMWbT3JqFpHmBN8emuRecZjG3YjHJcRJvWjIAc5ohmGRpxZghaWZcD+A0v5iZGbNpbsVi3ilpcgGIN+3NnpvW0qKzSU4AfQsKKW0GJrqCtJuWxdSuoJBNG4OZsYJITHLQxW8PzJhomhGlDVlB3jTh0kakGXLZI+8aLe1e9GXPmia7ab2lRV+SaDHh0mJeakzMij9QSDPwS3v0gQKa3dqfxrvAANRpkpjiNDk/9JnRKwjF5MxQzD/F2I4EKpyHxAAAAABJRU5ErkJggg==\" id=\"image24c2aef75e\" transform=\"scale(1 -1) translate(0 -277.2)\" x=\"390.96\" y=\"-10.8\" width=\"13.68\" height=\"277.2\"/>\n",
       "   <g id=\"matplotlib.axis_3\"/>\n",
       "   <g id=\"matplotlib.axis_4\">\n",
       "    <g id=\"ytick_8\">\n",
       "     <g id=\"line2d_15\">\n",
       "      <defs>\n",
       "       <path id=\"m1e5b6f401b\" d=\"M 0 0 \n",
       "L 3.5 0 \n",
       "\" style=\"stroke: #000000; stroke-width: 0.8\"/>\n",
       "      </defs>\n",
       "      <g>\n",
       "       <use xlink:href=\"#m1e5b6f401b\" x=\"404.989\" y=\"288.11\" style=\"stroke: #000000; stroke-width: 0.8\"/>\n",
       "      </g>\n",
       "     </g>\n",
       "     <g id=\"text_15\">\n",
       "      <!-- 0.00 -->\n",
       "      <g transform=\"translate(411.989 291.909219) scale(0.1 -0.1)\">\n",
       "       <defs>\n",
       "        <path id=\"DejaVuSans-30\" d=\"M 2034 4250 \n",
       "Q 1547 4250 1301 3770 \n",
       "Q 1056 3291 1056 2328 \n",
       "Q 1056 1369 1301 889 \n",
       "Q 1547 409 2034 409 \n",
       "Q 2525 409 2770 889 \n",
       "Q 3016 1369 3016 2328 \n",
       "Q 3016 3291 2770 3770 \n",
       "Q 2525 4250 2034 4250 \n",
       "z\n",
       "M 2034 4750 \n",
       "Q 2819 4750 3233 4129 \n",
       "Q 3647 3509 3647 2328 \n",
       "Q 3647 1150 3233 529 \n",
       "Q 2819 -91 2034 -91 \n",
       "Q 1250 -91 836 529 \n",
       "Q 422 1150 422 2328 \n",
       "Q 422 3509 836 4129 \n",
       "Q 1250 4750 2034 4750 \n",
       "z\n",
       "\" transform=\"scale(0.015625)\"/>\n",
       "        <path id=\"DejaVuSans-2e\" d=\"M 684 794 \n",
       "L 1344 794 \n",
       "L 1344 0 \n",
       "L 684 0 \n",
       "L 684 794 \n",
       "z\n",
       "\" transform=\"scale(0.015625)\"/>\n",
       "       </defs>\n",
       "       <use xlink:href=\"#DejaVuSans-30\"/>\n",
       "       <use xlink:href=\"#DejaVuSans-2e\" x=\"63.623047\"/>\n",
       "       <use xlink:href=\"#DejaVuSans-30\" x=\"95.410156\"/>\n",
       "       <use xlink:href=\"#DejaVuSans-30\" x=\"159.033203\"/>\n",
       "      </g>\n",
       "     </g>\n",
       "    </g>\n",
       "    <g id=\"ytick_9\">\n",
       "     <g id=\"line2d_16\">\n",
       "      <g>\n",
       "       <use xlink:href=\"#m1e5b6f401b\" x=\"404.989\" y=\"248.197168\" style=\"stroke: #000000; stroke-width: 0.8\"/>\n",
       "      </g>\n",
       "     </g>\n",
       "     <g id=\"text_16\">\n",
       "      <!-- 0.05 -->\n",
       "      <g transform=\"translate(411.989 251.996387) scale(0.1 -0.1)\">\n",
       "       <defs>\n",
       "        <path id=\"DejaVuSans-35\" d=\"M 691 4666 \n",
       "L 3169 4666 \n",
       "L 3169 4134 \n",
       "L 1269 4134 \n",
       "L 1269 2991 \n",
       "Q 1406 3038 1543 3061 \n",
       "Q 1681 3084 1819 3084 \n",
       "Q 2600 3084 3056 2656 \n",
       "Q 3513 2228 3513 1497 \n",
       "Q 3513 744 3044 326 \n",
       "Q 2575 -91 1722 -91 \n",
       "Q 1428 -91 1123 -41 \n",
       "Q 819 9 494 109 \n",
       "L 494 744 \n",
       "Q 775 591 1075 516 \n",
       "Q 1375 441 1709 441 \n",
       "Q 2250 441 2565 725 \n",
       "Q 2881 1009 2881 1497 \n",
       "Q 2881 1984 2565 2268 \n",
       "Q 2250 2553 1709 2553 \n",
       "Q 1456 2553 1204 2497 \n",
       "Q 953 2441 691 2322 \n",
       "L 691 4666 \n",
       "z\n",
       "\" transform=\"scale(0.015625)\"/>\n",
       "       </defs>\n",
       "       <use xlink:href=\"#DejaVuSans-30\"/>\n",
       "       <use xlink:href=\"#DejaVuSans-2e\" x=\"63.623047\"/>\n",
       "       <use xlink:href=\"#DejaVuSans-30\" x=\"95.410156\"/>\n",
       "       <use xlink:href=\"#DejaVuSans-35\" x=\"159.033203\"/>\n",
       "      </g>\n",
       "     </g>\n",
       "    </g>\n",
       "    <g id=\"ytick_10\">\n",
       "     <g id=\"line2d_17\">\n",
       "      <g>\n",
       "       <use xlink:href=\"#m1e5b6f401b\" x=\"404.989\" y=\"208.284336\" style=\"stroke: #000000; stroke-width: 0.8\"/>\n",
       "      </g>\n",
       "     </g>\n",
       "     <g id=\"text_17\">\n",
       "      <!-- 0.10 -->\n",
       "      <g transform=\"translate(411.989 212.083554) scale(0.1 -0.1)\">\n",
       "       <defs>\n",
       "        <path id=\"DejaVuSans-31\" d=\"M 794 531 \n",
       "L 1825 531 \n",
       "L 1825 4091 \n",
       "L 703 3866 \n",
       "L 703 4441 \n",
       "L 1819 4666 \n",
       "L 2450 4666 \n",
       "L 2450 531 \n",
       "L 3481 531 \n",
       "L 3481 0 \n",
       "L 794 0 \n",
       "L 794 531 \n",
       "z\n",
       "\" transform=\"scale(0.015625)\"/>\n",
       "       </defs>\n",
       "       <use xlink:href=\"#DejaVuSans-30\"/>\n",
       "       <use xlink:href=\"#DejaVuSans-2e\" x=\"63.623047\"/>\n",
       "       <use xlink:href=\"#DejaVuSans-31\" x=\"95.410156\"/>\n",
       "       <use xlink:href=\"#DejaVuSans-30\" x=\"159.033203\"/>\n",
       "      </g>\n",
       "     </g>\n",
       "    </g>\n",
       "    <g id=\"ytick_11\">\n",
       "     <g id=\"line2d_18\">\n",
       "      <g>\n",
       "       <use xlink:href=\"#m1e5b6f401b\" x=\"404.989\" y=\"168.371504\" style=\"stroke: #000000; stroke-width: 0.8\"/>\n",
       "      </g>\n",
       "     </g>\n",
       "     <g id=\"text_18\">\n",
       "      <!-- 0.15 -->\n",
       "      <g transform=\"translate(411.989 172.170722) scale(0.1 -0.1)\">\n",
       "       <use xlink:href=\"#DejaVuSans-30\"/>\n",
       "       <use xlink:href=\"#DejaVuSans-2e\" x=\"63.623047\"/>\n",
       "       <use xlink:href=\"#DejaVuSans-31\" x=\"95.410156\"/>\n",
       "       <use xlink:href=\"#DejaVuSans-35\" x=\"159.033203\"/>\n",
       "      </g>\n",
       "     </g>\n",
       "    </g>\n",
       "    <g id=\"ytick_12\">\n",
       "     <g id=\"line2d_19\">\n",
       "      <g>\n",
       "       <use xlink:href=\"#m1e5b6f401b\" x=\"404.989\" y=\"128.458671\" style=\"stroke: #000000; stroke-width: 0.8\"/>\n",
       "      </g>\n",
       "     </g>\n",
       "     <g id=\"text_19\">\n",
       "      <!-- 0.20 -->\n",
       "      <g transform=\"translate(411.989 132.25789) scale(0.1 -0.1)\">\n",
       "       <defs>\n",
       "        <path id=\"DejaVuSans-32\" d=\"M 1228 531 \n",
       "L 3431 531 \n",
       "L 3431 0 \n",
       "L 469 0 \n",
       "L 469 531 \n",
       "Q 828 903 1448 1529 \n",
       "Q 2069 2156 2228 2338 \n",
       "Q 2531 2678 2651 2914 \n",
       "Q 2772 3150 2772 3378 \n",
       "Q 2772 3750 2511 3984 \n",
       "Q 2250 4219 1831 4219 \n",
       "Q 1534 4219 1204 4116 \n",
       "Q 875 4013 500 3803 \n",
       "L 500 4441 \n",
       "Q 881 4594 1212 4672 \n",
       "Q 1544 4750 1819 4750 \n",
       "Q 2544 4750 2975 4387 \n",
       "Q 3406 4025 3406 3419 \n",
       "Q 3406 3131 3298 2873 \n",
       "Q 3191 2616 2906 2266 \n",
       "Q 2828 2175 2409 1742 \n",
       "Q 1991 1309 1228 531 \n",
       "z\n",
       "\" transform=\"scale(0.015625)\"/>\n",
       "       </defs>\n",
       "       <use xlink:href=\"#DejaVuSans-30\"/>\n",
       "       <use xlink:href=\"#DejaVuSans-2e\" x=\"63.623047\"/>\n",
       "       <use xlink:href=\"#DejaVuSans-32\" x=\"95.410156\"/>\n",
       "       <use xlink:href=\"#DejaVuSans-30\" x=\"159.033203\"/>\n",
       "      </g>\n",
       "     </g>\n",
       "    </g>\n",
       "    <g id=\"ytick_13\">\n",
       "     <g id=\"line2d_20\">\n",
       "      <g>\n",
       "       <use xlink:href=\"#m1e5b6f401b\" x=\"404.989\" y=\"88.545839\" style=\"stroke: #000000; stroke-width: 0.8\"/>\n",
       "      </g>\n",
       "     </g>\n",
       "     <g id=\"text_20\">\n",
       "      <!-- 0.25 -->\n",
       "      <g transform=\"translate(411.989 92.345058) scale(0.1 -0.1)\">\n",
       "       <use xlink:href=\"#DejaVuSans-30\"/>\n",
       "       <use xlink:href=\"#DejaVuSans-2e\" x=\"63.623047\"/>\n",
       "       <use xlink:href=\"#DejaVuSans-32\" x=\"95.410156\"/>\n",
       "       <use xlink:href=\"#DejaVuSans-35\" x=\"159.033203\"/>\n",
       "      </g>\n",
       "     </g>\n",
       "    </g>\n",
       "    <g id=\"ytick_14\">\n",
       "     <g id=\"line2d_21\">\n",
       "      <g>\n",
       "       <use xlink:href=\"#m1e5b6f401b\" x=\"404.989\" y=\"48.633007\" style=\"stroke: #000000; stroke-width: 0.8\"/>\n",
       "      </g>\n",
       "     </g>\n",
       "     <g id=\"text_21\">\n",
       "      <!-- 0.30 -->\n",
       "      <g transform=\"translate(411.989 52.432226) scale(0.1 -0.1)\">\n",
       "       <defs>\n",
       "        <path id=\"DejaVuSans-33\" d=\"M 2597 2516 \n",
       "Q 3050 2419 3304 2112 \n",
       "Q 3559 1806 3559 1356 \n",
       "Q 3559 666 3084 287 \n",
       "Q 2609 -91 1734 -91 \n",
       "Q 1441 -91 1130 -33 \n",
       "Q 819 25 488 141 \n",
       "L 488 750 \n",
       "Q 750 597 1062 519 \n",
       "Q 1375 441 1716 441 \n",
       "Q 2309 441 2620 675 \n",
       "Q 2931 909 2931 1356 \n",
       "Q 2931 1769 2642 2001 \n",
       "Q 2353 2234 1838 2234 \n",
       "L 1294 2234 \n",
       "L 1294 2753 \n",
       "L 1863 2753 \n",
       "Q 2328 2753 2575 2939 \n",
       "Q 2822 3125 2822 3475 \n",
       "Q 2822 3834 2567 4026 \n",
       "Q 2313 4219 1838 4219 \n",
       "Q 1578 4219 1281 4162 \n",
       "Q 984 4106 628 3988 \n",
       "L 628 4550 \n",
       "Q 988 4650 1302 4700 \n",
       "Q 1616 4750 1894 4750 \n",
       "Q 2613 4750 3031 4423 \n",
       "Q 3450 4097 3450 3541 \n",
       "Q 3450 3153 3228 2886 \n",
       "Q 3006 2619 2597 2516 \n",
       "z\n",
       "\" transform=\"scale(0.015625)\"/>\n",
       "       </defs>\n",
       "       <use xlink:href=\"#DejaVuSans-30\"/>\n",
       "       <use xlink:href=\"#DejaVuSans-2e\" x=\"63.623047\"/>\n",
       "       <use xlink:href=\"#DejaVuSans-33\" x=\"95.410156\"/>\n",
       "       <use xlink:href=\"#DejaVuSans-30\" x=\"159.033203\"/>\n",
       "      </g>\n",
       "     </g>\n",
       "    </g>\n",
       "   </g>\n",
       "   <g id=\"LineCollection_1\"/>\n",
       "   <g id=\"patch_8\">\n",
       "    <path d=\"M 391.1235 288.11 \n",
       "L 398.05625 288.11 \n",
       "L 404.989 288.11 \n",
       "L 404.989 10.8 \n",
       "L 398.05625 10.8 \n",
       "L 391.1235 10.8 \n",
       "L 391.1235 288.11 \n",
       "z\n",
       "\" style=\"fill: none; stroke: #000000; stroke-width: 0.8; stroke-linejoin: miter; stroke-linecap: square\"/>\n",
       "   </g>\n",
       "  </g>\n",
       " </g>\n",
       " <defs>\n",
       "  <clipPath id=\"p29facec5d2\">\n",
       "   <rect x=\"57.49\" y=\"10.8\" width=\"314.008\" height=\"277.31\"/>\n",
       "  </clipPath>\n",
       " </defs>\n",
       "</svg>\n"
      ],
      "text/plain": [
       "<skbio.stats.distance._base.DistanceMatrix at 0x7f8f9c1f83e0>"
      ]
     },
     "execution_count": 29,
     "metadata": {},
     "output_type": "execute_result"
    }
   ],
   "source": [
    "dm = DistanceMatrix.from_iterable(seqs, align_dist, key='id', validate=False)\n",
    "dm"
   ]
  },
  {
   "cell_type": "markdown",
   "id": "de8a979a-a8c7-48b8-8f9d-a347958827c3",
   "metadata": {},
   "source": [
    "Once we've created our distance matrix, we generate a tree based on this matrix. This tree will serve as the guide tree for the progressive alignment algorithm below."
   ]
  },
  {
   "cell_type": "code",
   "execution_count": 30,
   "id": "b235e3de-f98e-4aab-ba3d-1168d0b83326",
   "metadata": {},
   "outputs": [
    {
     "name": "stdout",
     "output_type": "stream",
     "text": [
      "                    /-chicken\n",
      "          /--------|\n",
      "         |         |          /-rat\n",
      "         |          \\--------|\n",
      "-root----|                    \\-mouse\n",
      "         |\n",
      "         |          /-pig\n",
      "         |         |\n",
      "          \\--------|                    /-chimp\n",
      "                   |          /--------|\n",
      "                    \\--------|          \\-human\n",
      "                             |\n",
      "                              \\-monkey\n"
     ]
    }
   ],
   "source": [
    "tree = nj(dm).root_at_midpoint()\n",
    "print(tree.ascii_art())"
   ]
  },
  {
   "cell_type": "code",
   "execution_count": 31,
   "id": "f74ab0e4-3e7e-47f4-acd7-e25113d45852",
   "metadata": {},
   "outputs": [],
   "source": [
    "guide_lm = average(dm.condensed_form())"
   ]
  },
  {
   "cell_type": "code",
   "execution_count": 32,
   "id": "cef39ef5-ee80-4dfe-9528-ed380c8f383c",
   "metadata": {},
   "outputs": [],
   "source": [
    "guide_tree = TreeNode.from_linkage_matrix(guide_lm, dm.ids)"
   ]
  },
  {
   "cell_type": "markdown",
   "id": "f217153a-a811-4e37-9adf-793b69035349",
   "metadata": {},
   "source": [
    "Here we define our progressive alignment function. "
   ]
  },
  {
   "cell_type": "code",
   "execution_count": 33,
   "id": "5ae2d110-1449-4669-9a6b-6584113b5cd1",
   "metadata": {},
   "outputs": [],
   "source": [
    "def progressive_msa(query_seqs, guide_tree, pairwise_aligner=global_pairwise_align_protein):\n",
    "    c1, c2 = guide_tree.children\n",
    "    if c1.is_tip():\n",
    "        c1_aln = query_seqs[c1.name]\n",
    "    else:\n",
    "        c1_aln = progressive_msa(query_seqs, c1, pairwise_aligner)\n",
    "\n",
    "    if c2.is_tip():\n",
    "        c2_aln = query_seqs[c2.name]\n",
    "    else:\n",
    "        c2_aln = progressive_msa(query_seqs, c2, pairwise_aligner)\n",
    "\n",
    "    return pairwise_aligner(c1_aln, c2_aln)[0]"
   ]
  },
  {
   "cell_type": "markdown",
   "id": "6a1cadf4-62d4-4ed2-8c61-8bccedfda69a",
   "metadata": {},
   "source": [
    "Here we perform progressive alignment. By default, the alignment programs in scikit-bio will return `TabularMSA` objects. As mentioned previously, these are intuitive data structures and have several built in methods which are useful. Here we can see what the consensus sequence among the alignment is by calling the `consensus` method."
   ]
  },
  {
   "cell_type": "code",
   "execution_count": 34,
   "id": "4f5e9622-4dd5-4bd7-b03e-51af29752277",
   "metadata": {},
   "outputs": [],
   "source": [
    "msa_new = progressive_msa(prot_seqs_dict, guide_tree)"
   ]
  },
  {
   "cell_type": "code",
   "execution_count": 35,
   "id": "f0093839-2f18-49a7-9691-eab89484ef7c",
   "metadata": {},
   "outputs": [
    {
     "data": {
      "text/plain": [
       "TabularMSA[Protein]\n",
       "-----------------------------------------------------------------------\n",
       "Stats:\n",
       "    sequence count: 7\n",
       "    position count: 286\n",
       "-----------------------------------------------------------------------\n",
       "--------------------------------- ... TKIILILRSLEDFLQFSLRAIRIM*--------\n",
       "MNSVSTSKCRKSLALERPAAVEPCVREGCVAQG ... --CHF----QKRRLHVNKKV*------------\n",
       "...\n",
       "--------------------------------- ... KTIQFILKSLEEFLKVTLRSTRQT*--------\n",
       "--------------------------------- ... KTIQLILKALEEFLKVTMRSTRQT*--------"
      ]
     },
     "execution_count": 35,
     "metadata": {},
     "output_type": "execute_result"
    }
   ],
   "source": [
    "msa_new"
   ]
  },
  {
   "cell_type": "code",
   "execution_count": 36,
   "id": "93d38762-c717-40f7-be74-26ded5260288",
   "metadata": {},
   "outputs": [
    {
     "data": {
      "text/plain": [
       "Protein\n",
       "---------------------------------------------------------------------\n",
       "Stats:\n",
       "    length: 286\n",
       "    has gaps: True\n",
       "    has degenerates: False\n",
       "    has definites: True\n",
       "    has stops: True\n",
       "---------------------------------------------------------------------\n",
       "0   ---------- ---------- ---------- ---------- ---------- --MNSLFLST\n",
       "60  GAFGPVAFSL GLLL------ VLAAAFPA-P VRPGEDSKDD AAPHRQPLTS SERIDKLIRY\n",
       "120 IL-DGISALR KETCNKSNMC ENSKEALAEN NLNLPKMAEK DGCFQSGFNE ETCLVKIITG\n",
       "180 LLEFEVYLEY LQNRFESSE- EQARAVQMST KVLIQFLQQK V--KNFDKIV LPDPTLNASL\n",
       "240 LDKLESQNEW LQTKTIHLIL RSLEEFLQVT LRA*RQM*-- ------"
      ]
     },
     "execution_count": 36,
     "metadata": {},
     "output_type": "execute_result"
    }
   ],
   "source": [
    "msa_new.consensus()"
   ]
  },
  {
   "cell_type": "markdown",
   "id": "a37666e8-b1f7-4b7b-8c7f-21b94cf1502b",
   "metadata": {},
   "source": [
    "We can also convert the `TabularMSA` object into an `AlignPath` object like we did earlier. `AlignPath` objects are exactly like `PairAlignPath` objects except that they don't have a few methods which are specific to pairwise alignments. The underlying data structure is the same, and can be quite useful."
   ]
  },
  {
   "cell_type": "code",
   "execution_count": 37,
   "id": "b502b4b4-03c8-40a4-8a7e-1a4940ab1ce0",
   "metadata": {},
   "outputs": [],
   "source": [
    "msa_path = AlignPath.from_tabular(msa_new)"
   ]
  },
  {
   "cell_type": "code",
   "execution_count": 38,
   "id": "905ad148-bf18-45a7-80b8-b894b82ed7a9",
   "metadata": {},
   "outputs": [
    {
     "data": {
      "text/plain": [
       "array([36, 16,  2,  2,  2, 10,  1,  5,  6,  8,  1,  7,  1, 15,  1,  3,  6,\n",
       "        1,  1,  1, 70,  1,  3,  1, 20,  1,  1,  1, 18,  5,  6,  3,  3,  4,\n",
       "       12,  4,  8])"
      ]
     },
     "execution_count": 38,
     "metadata": {},
     "output_type": "execute_result"
    }
   ],
   "source": [
    "msa_path.lengths"
   ]
  },
  {
   "cell_type": "code",
   "execution_count": 39,
   "id": "30912d9d-5809-49d1-80c9-d335232ccb33",
   "metadata": {},
   "outputs": [
    {
     "data": {
      "text/plain": [
       "array([[117, 101,  96,   0,   5,   0, 112,   0, 111,   0,  15,   0,  96,\n",
       "          0, 112,  16,   0,  15,   0,  96,   0,  16,   0,  15,   0,   5,\n",
       "        117, 112,   0,  10,   0,  10,   0,  10,   0,  10, 111]],\n",
       "      dtype=uint8)"
      ]
     },
     "execution_count": 39,
     "metadata": {},
     "output_type": "execute_result"
    }
   ],
   "source": [
    "msa_path.states"
   ]
  },
  {
   "cell_type": "markdown",
   "id": "55a43ccb-a978-4978-954a-b36cad04f1b0",
   "metadata": {},
   "source": [
    "## MSA Exploration\n",
    "Based on this notebook\n",
    "https://github.com/scikit-bio/scikit-bio-cookbook/blob/master/Alignments%20and%20phylogenetic%20reconstruction.ipynb\n",
    "\n",
    "We can next get some information about this alignment. For example, we can easily see that there are 43 sequences in this alignment, and that it's 154 characters long. By definition, there is no variance in sequence length in a multiple sequence alignment. For this reason, it's common to think of an alignment as a matrix or table, where rows represent sequences and columns represent positions in the sequences."
   ]
  },
  {
   "cell_type": "code",
   "execution_count": 40,
   "id": "5f029209-a603-4042-9764-d365011998b5",
   "metadata": {},
   "outputs": [
    {
     "data": {
      "text/plain": [
       "Shape(sequence=7, position=286)"
      ]
     },
     "execution_count": 40,
     "metadata": {},
     "output_type": "execute_result"
    }
   ],
   "source": [
    "msa_new.shape"
   ]
  },
  {
   "cell_type": "code",
   "execution_count": 41,
   "id": "dc271db9-7dca-41cc-8b34-f8d68e80263c",
   "metadata": {},
   "outputs": [
    {
     "data": {
      "text/plain": [
       "RangeIndex(start=0, stop=7, step=1)"
      ]
     },
     "execution_count": 41,
     "metadata": {},
     "output_type": "execute_result"
    }
   ],
   "source": [
    "msa_new.index"
   ]
  },
  {
   "cell_type": "markdown",
   "id": "3868558d-c73f-4b95-a343-b70442b22d16",
   "metadata": {},
   "source": [
    "We can also explore some more interesting features of this alignment. For example, we can compute conservation for each position in the alignment using the inverse Shannon uncertainty metric. In this case, we're going to treat gap characters as another character in the amino acid alphabet, though the right way to handle gaps in alignments when computing conservation is debatable. To learn more about positional conservation, see `TabularMSA.conservation`."
   ]
  },
  {
   "cell_type": "code",
   "execution_count": 42,
   "id": "89e7e920-9905-4e30-aa40-0d415a7bf346",
   "metadata": {},
   "outputs": [],
   "source": [
    "positional_conservation = msa_new.conservation(metric='inverse_shannon_uncertainty', degenerate_mode='nan', gap_mode='include')"
   ]
  },
  {
   "cell_type": "markdown",
   "id": "fa152649-944c-4367-a23e-bc799e826f85",
   "metadata": {},
   "source": [
    "We get an array of positional conservation values (here we'll just print the first ten). A low conservation value means that there is a lot of variation in the sequences at the corresponding position in the alignment, while a high conservation value means that the corresponding position in the alignment is highly conserved. A conservation of 1.0 means that a position is perfectly conserved. A conservation of 0.0 means that every character in the alphabet is present in exactly equal frequency at that position in the alignment (this is uncommon in practice)."
   ]
  },
  {
   "cell_type": "code",
   "execution_count": 43,
   "id": "c9a34e5e-d8e5-4102-ab86-27f66ccad11c",
   "metadata": {},
   "outputs": [
    {
     "name": "stdout",
     "output_type": "stream",
     "text": [
      "0.6951996000320066\n",
      "0.7822008086536675\n",
      "0.6320382487584343\n",
      "0.5927167548329499\n",
      "0.7460331337470384\n",
      "0.5927167548329499\n",
      "0.5927167548329499\n",
      "0.6951996000320066\n",
      "0.8692020172753283\n",
      "0.6951996000320066\n"
     ]
    }
   ],
   "source": [
    "for value in positional_conservation[100:110]:\n",
    "    print(value)"
   ]
  },
  {
   "cell_type": "markdown",
   "id": "b8a30766-9638-43c8-a422-49d0a65bff9a",
   "metadata": {},
   "source": [
    "In our alignment, there are exactly 38 positions that are perfectly conserved across all sequences."
   ]
  },
  {
   "cell_type": "code",
   "execution_count": 44,
   "id": "58762f2f-b215-4fa7-8a41-8e6c7446736a",
   "metadata": {},
   "outputs": [
    {
     "data": {
      "text/plain": [
       "np.int64(29)"
      ]
     },
     "execution_count": 44,
     "metadata": {},
     "output_type": "execute_result"
    }
   ],
   "source": [
    "(positional_conservation == 1.0).sum()"
   ]
  },
  {
   "cell_type": "markdown",
   "id": "a8103d50-f115-4f2e-b455-f738417ad660",
   "metadata": {},
   "source": [
    "Let's figure out what amino acids are at these perfectly conserved positions:"
   ]
  },
  {
   "cell_type": "code",
   "execution_count": 45,
   "id": "ee7ef494-4aa4-4833-bf37-2e7e0c9dbed0",
   "metadata": {},
   "outputs": [
    {
     "name": "stdout",
     "output_type": "stream",
     "text": [
      "Position 64 is perfectly conserved, containing P in all sequences.\n",
      "Position 65 is perfectly conserved, containing V in all sequences.\n",
      "Position 66 is perfectly conserved, containing A in all sequences.\n",
      "Position 69 is perfectly conserved, containing L in all sequences.\n",
      "Position 71 is perfectly conserved, containing L in all sequences.\n",
      "Position 73 is perfectly conserved, containing L in all sequences.\n",
      "Position 86 is perfectly conserved, containing P in all sequences.\n",
      "Position 121 is perfectly conserved, containing L in all sequences.\n",
      "Position 131 is perfectly conserved, containing E in all sequences.\n",
      "Position 133 is perfectly conserved, containing C in all sequences.\n",
      "Position 139 is perfectly conserved, containing C in all sequences.\n",
      "Position 146 is perfectly conserved, containing L in all sequences.\n",
      "Position 149 is perfectly conserved, containing N in all sequences.\n",
      "Position 150 is perfectly conserved, containing N in all sequences.\n",
      "Position 151 is perfectly conserved, containing L in all sequences.\n",
      "Position 153 is perfectly conserved, containing L in all sequences.\n",
      "Position 154 is perfectly conserved, containing P in all sequences.\n",
      "Position 160 is perfectly conserved, containing D in all sequences.\n",
      "Position 161 is perfectly conserved, containing G in all sequences.\n",
      "Position 162 is perfectly conserved, containing C in all sequences.\n",
      "Position 166 is perfectly conserved, containing G in all sequences.\n",
      "Position 172 is perfectly conserved, containing C in all sequences.\n",
      "Position 173 is perfectly conserved, containing L in all sequences.\n",
      "Position 179 is perfectly conserved, containing G in all sequences.\n",
      "Position 180 is perfectly conserved, containing L in all sequences.\n",
      "Position 186 is perfectly conserved, containing Y in all sequences.\n",
      "Position 187 is perfectly conserved, containing L in all sequences.\n",
      "Position 209 is perfectly conserved, containing T in all sequences.\n",
      "Position 212 is perfectly conserved, containing L in all sequences.\n"
     ]
    }
   ],
   "source": [
    "for pos_idx, conservation in enumerate(positional_conservation):\n",
    "    if conservation == 1.0:\n",
    "        aa = msa_new[0][pos_idx]\n",
    "        print(f\"Position {pos_idx} is perfectly conserved, containing {aa} in all sequences.\")"
   ]
  },
  {
   "cell_type": "markdown",
   "id": "ec681a15-49da-4c38-9eea-1e2c688786e0",
   "metadata": {},
   "source": [
    "Finally we can visualize the conservation along the full length of the alignment to get an idea of where the more and less conserved positions are found. In general, positions that are highly conserved are thought to have specific structural or functional roles in the protein, while positions that are less conserved might have less specific roles (e.g., providing a filler between two functional domains in the linear protein backbone)."
   ]
  },
  {
   "cell_type": "code",
   "execution_count": 46,
   "id": "a1ef2051-d7b1-4060-b48f-22a403b03583",
   "metadata": {},
   "outputs": [
    {
     "data": {
      "text/plain": [
       "Text(0.5, 1.0, 'Positional Conservation Plot')"
      ]
     },
     "execution_count": 46,
     "metadata": {},
     "output_type": "execute_result"
    },
    {
     "data": {
      "image/png": "[encoded data removed]",
      "text/plain": [
       "<Figure size 2000x1000 with 1 Axes>"
      ]
     },
     "metadata": {},
     "output_type": "display_data"
    }
   ],
   "source": [
    "fig, ax = plt.subplots(figsize=(20,10))\n",
    "ax.plot(range(len(positional_conservation)), positional_conservation)\n",
    "ax.set_xlabel('Position')\n",
    "ax.set_ylabel('Conservation')\n",
    "ax.set_title('Positional Conservation Plot')"
   ]
  },
  {
   "cell_type": "code",
   "execution_count": null,
   "id": "f7f4229e-187a-4805-b9db-7956db148f8e",
   "metadata": {},
   "outputs": [],
   "source": []
  }
 ],
 "metadata": {
  "kernelspec": {
   "display_name": "Python 3 (ipykernel)",
   "language": "python",
   "name": "python3"
  },
  "language_info": {
   "codemirror_mode": {
    "name": "ipython",
    "version": 3
   },
   "file_extension": ".py",
   "mimetype": "text/x-python",
   "name": "python",
   "nbconvert_exporter": "python",
   "pygments_lexer": "ipython3",
   "version": "3.12.3"
  }
 },
 "nbformat": 4,
 "nbformat_minor": 5
}
