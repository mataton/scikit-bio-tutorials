{
 "cells": [
  {
   "cell_type": "markdown",
   "metadata": {},
   "source": [
    "# Section 04: Comparing microbial community structures\n",
    "\n",
    "- Author: Daniel McDonald\n",
    "\n",
    "---"
   ]
  },
  {
   "cell_type": "markdown",
   "metadata": {
    "id": "EPh7zQDBEgpW"
   },
   "source": [
    "## Background\n",
    "\n",
    "In this workshop section, we will focus on beta-diversity using UniFrac, on the 16S rRNA V4 data from the EMP500 dataset. We will apply UniFrac which is a popular phylogenetic beta-diversity metric. The similarity computed is the **uni**que **frac**tion of the phylogenetic branch length between a pair of samples. Then, we will perform Principal Coordinates Analysis to visualize the primary axes of variation among samples. We will then apply PERMANOVA to test for significant differences among groups of samples.\n",
    "\n",
    "Last, to further explore the capabilities of scikit-bio, we will  test whether sample similarities are correlated between two prevalent phyla using both a Mantel test and Procrustes analysis.\n",
    "\n",
    "## Learning objectives\n",
    "\n",
    "In this section of the workshop, you will learn how to:\n",
    "\n",
    "* Filter and rarefy a feature table\n",
    "* Run UniFrac programmatically\n",
    "* Apply Principal Coordinates Analysis, and visualize the resulting coordinates\n",
    "* Perform PERMANOVA, Mantel and Procustes tests\n",
    "* Use the TreeNode to identify common phyla, and constrain subsequent analyses based on the subtrees"
   ]
  },
  {
   "cell_type": "markdown",
   "metadata": {},
   "source": [
    "## Preparation"
   ]
  },
  {
   "cell_type": "markdown",
   "metadata": {},
   "source": [
    "Install the latest version of scikit-bio if it hasn't been (needed for every Google Colab instance)."
   ]
  },
  {
   "cell_type": "code",
   "execution_count": 1,
   "metadata": {},
   "outputs": [],
   "source": [
    "from importlib.util import find_spec"
   ]
  },
  {
   "cell_type": "code",
   "execution_count": 2,
   "metadata": {
    "colab": {
     "base_uri": "https://localhost:8080/"
    },
    "id": "ofwaW-T1W6AS",
    "outputId": "cff0bc50-21ac-42f2-858f-c9960c0500f0"
   },
   "outputs": [],
   "source": [
    "if find_spec('skbio') is None:\n",
    "    !pip install -q scikit-bio"
   ]
  },
  {
   "cell_type": "code",
   "execution_count": 3,
   "metadata": {},
   "outputs": [
    {
     "data": {
      "text/plain": [
       "'0.7.1-dev'"
      ]
     },
     "execution_count": 3,
     "metadata": {},
     "output_type": "execute_result"
    }
   ],
   "source": [
    "import skbio\n",
    "skbio.__version__"
   ]
  },
  {
   "cell_type": "markdown",
   "metadata": {},
   "source": [
    "Download the EMP500 dataset and unzip it. (If you have done it already, skip the following code.)"
   ]
  },
  {
   "cell_type": "code",
   "execution_count": 4,
   "metadata": {},
   "outputs": [],
   "source": [
    "!wget -q -O emp500.tar.gz \"https://www.dropbox.com/scl/fi/7sepykr3vhss60647osc8/emp500.tar.gz?rlkey=6q5ac48noeax5n2htaqslvo8g&dl=0\"\n",
    "!tar zxf emp500.tar.gz"
   ]
  },
  {
   "cell_type": "code",
   "execution_count": 5,
   "metadata": {},
   "outputs": [],
   "source": [
    "HOME = 'emp500'"
   ]
  },
  {
   "cell_type": "markdown",
   "metadata": {},
   "source": [
    "Check if the directory exists by listing its content."
   ]
  },
  {
   "cell_type": "code",
   "execution_count": 6,
   "metadata": {},
   "outputs": [
    {
     "name": "stdout",
     "output_type": "stream",
     "text": [
      "amplicon  assembly  masspec  README.md\tsample.tsv  shotgun\n"
     ]
    }
   ],
   "source": [
    "!ls $HOME"
   ]
  },
  {
   "cell_type": "markdown",
   "metadata": {},
   "source": [
    "Import Matplotlib for plotting."
   ]
  },
  {
   "cell_type": "code",
   "execution_count": 7,
   "metadata": {
    "id": "C-NorEnVlaIX"
   },
   "outputs": [],
   "source": [
    "import matplotlib.pyplot as plt"
   ]
  },
  {
   "cell_type": "markdown",
   "metadata": {},
   "source": [
    "Mute warnings."
   ]
  },
  {
   "cell_type": "code",
   "execution_count": 8,
   "metadata": {},
   "outputs": [],
   "source": [
    "import warnings\n",
    "warnings.filterwarnings('ignore')"
   ]
  },
  {
   "cell_type": "markdown",
   "metadata": {},
   "source": [
    "Before we can do anything exciting, we need to load the various pieces of data into memory.\n",
    "\n",
    "First, we're going to load the phylogeny into the `TreeNode` object. A `TreeNode` provides a rich set of methods for interacting with phylogeny, including operations to traverse, compare trees, aggregate information, collect subtrees and more. Later on in the Notebook, we will show an example of aggregating information up a tree, following by collecting tips from specific clades."
   ]
  },
  {
   "cell_type": "code",
   "execution_count": 9,
   "metadata": {},
   "outputs": [],
   "source": [
    "from skbio import TreeNode"
   ]
  },
  {
   "cell_type": "code",
   "execution_count": 10,
   "metadata": {},
   "outputs": [],
   "source": [
    "phylogeny = skbio.TreeNode.read(f'{HOME}/amplicon/subset/16s_labeled.nwk', format='newick')"
   ]
  },
  {
   "cell_type": "markdown",
   "metadata": {
    "id": "6xUp9GaZd--G"
   },
   "source": [
    "Next, we're going to load the feature table into the `Table` object. Often, feature tables are quite sparse -- in the American Gut Project, we observe < .1% of values in a feature table are non-zero. To account for the sparsity, this object represents the matrix of sample / feature counts using a sparse matrix representation which only stores the non-zero data. Like the `TreeNode`, the `Table` object has a rich set of methods for filtering, transforming, collapsing, partitioning, subsampling (i.e., rarefaction) and more."
   ]
  },
  {
   "cell_type": "code",
   "execution_count": 11,
   "metadata": {},
   "outputs": [],
   "source": [
    "from skbio import Table"
   ]
  },
  {
   "cell_type": "code",
   "execution_count": 12,
   "metadata": {
    "id": "JIBewY2edNOX"
   },
   "outputs": [],
   "source": [
    "table = Table.read(f'{HOME}/amplicon/subset/16s.biom')"
   ]
  },
  {
   "cell_type": "markdown",
   "metadata": {},
   "source": [
    "Last, we will load the sample metadata, which has been discussed in prior sections. We will focus on the `empo_1` category which describes whether a sample is host associated or environmental, so we'll pull that column out upfront."
   ]
  },
  {
   "cell_type": "code",
   "execution_count": 13,
   "metadata": {},
   "outputs": [],
   "source": [
    "from skbio import SampleMetadata"
   ]
  },
  {
   "cell_type": "code",
   "execution_count": 14,
   "metadata": {
    "id": "z7beKytLeV0b"
   },
   "outputs": [],
   "source": [
    "metadata = SampleMetadata.load(f'{HOME}/sample.tsv')"
   ]
  },
  {
   "cell_type": "code",
   "execution_count": 15,
   "metadata": {},
   "outputs": [],
   "source": [
    "empo_1 = metadata.get_column('empo_1').to_series()"
   ]
  },
  {
   "cell_type": "markdown",
   "metadata": {},
   "source": [
    "## Rarefaction"
   ]
  },
  {
   "cell_type": "markdown",
   "metadata": {
    "id": "QnEvmpskgbe-"
   },
   "source": [
    "UniFrac is sensitive to uneven sequencing effort among samples. To account for this, we will rarefy the table a single time. In interests of simplifying compute in the tutorial, we will rarefy to a fairly shallow level of 100 sequences per sample. However, as we will see, this shallow depth is still sufficient to differentiate a high effect size variable like whether a sample is host associated or environmental.\n",
    "\n",
    "**NOTE**: Not all diversity calculations are sensitive to sequencing depth. However, with those other metrics such as [RPCA](https://journals.asm.org/doi/10.1128/msystems.00016-19) and [Phylo-PRCA](https://journals.asm.org/doi/10.1128/msystems.00050-22) it may still be important to remove samples with too few sequences.\n",
    "\n"
   ]
  },
  {
   "cell_type": "code",
   "execution_count": 16,
   "metadata": {
    "id": "V-2yBooFgXoB"
   },
   "outputs": [],
   "source": [
    "depth = 100\n",
    "even_table = table.subsample(depth)"
   ]
  },
  {
   "cell_type": "markdown",
   "metadata": {
    "id": "TDHkjO40glUw"
   },
   "source": [
    "While not strictly necessary, we will remove unnecessary vertices and edges from the phylogeny relative to the rarefied table. Doing so reduces the compute for UniFrac later on.\n",
    "\n",
    "**NOTE**: scikit-bio is the reference implementation for [Fast UniFrac](https://www.nature.com/articles/ismej200997). However, subsequent large [algorithmic improvements](https://journals.asm.org/doi/10.1128/msystems.00028-22) have been developed. This advanced variant will be included directly in scikit-bio in the future."
   ]
  },
  {
   "cell_type": "code",
   "execution_count": 17,
   "metadata": {
    "id": "0ZbA2Hljgjf5"
   },
   "outputs": [],
   "source": [
    "even_phylogeny = phylogeny.shear(set(even_table.ids(axis='observation')))"
   ]
  },
  {
   "cell_type": "markdown",
   "metadata": {},
   "source": [
    "## UniFrac distance"
   ]
  },
  {
   "cell_type": "markdown",
   "metadata": {
    "id": "qyvsQDkyhfaL"
   },
   "source": [
    "Let's go ahead and run UniFrac now.\n",
    "\n",
    "If you're unfamiliar with UniFrac, it is a [distance metric](https://www.nature.com/articles/ismej2010133) that computes a distance between two samples based on the amount of unique branch length within each sample. For example, given a sample composed entirely of Archaea, and a sample composed entirely of Bacteria, all branches of the tree would be unique to each sample, leading to a maximal distance of 1.0. In constrast, a sample composed of *Prevotella* and *Bacteroides*, and a sample composed of *Lactobacillus* and *Faecalibacterium*, would have a fair amount of shared branches with fewer branches unique to a sample -- the distance between them would be far less than 1.0. The original UniFrac algorithm is described [here](https://journals.asm.org/doi/10.1128/aem.71.12.8228-8235.2005)."
   ]
  },
  {
   "cell_type": "code",
   "execution_count": 18,
   "metadata": {},
   "outputs": [],
   "source": [
    "from skbio.diversity import beta_diversity"
   ]
  },
  {
   "cell_type": "code",
   "execution_count": 19,
   "metadata": {
    "id": "fFBJ3I0thFs7"
   },
   "outputs": [],
   "source": [
    "full_dm = beta_diversity('unweighted_unifrac', even_table, tree=even_phylogeny)"
   ]
  },
  {
   "cell_type": "markdown",
   "metadata": {
    "id": "3WaK58Gwk7uU"
   },
   "source": [
    "The subsequent `DistanceMatrix` object has support methods for pulling interesting sets of distances. Let's take a quick look at obtaining distances \"within\" a group, and contrast them to the distances \"between\" two groups.\n"
   ]
  },
  {
   "cell_type": "code",
   "execution_count": 20,
   "metadata": {
    "colab": {
     "base_uri": "https://localhost:8080/",
     "height": 448
    },
    "id": "qph9Fp1VLsbf",
    "outputId": "841a5c8b-fcfa-4509-a7e1-4413512ab99d"
   },
   "outputs": [
    {
     "data": {
      "image/png": "[encoded data removed]",
      "text/plain": [
       "<Figure size 1000x500 with 1 Axes>"
      ]
     },
     "metadata": {},
     "output_type": "display_data"
    }
   ],
   "source": [
    "plt.figure(figsize=(10, 5))\n",
    "\n",
    "empo_1 = empo_1.loc[list(full_dm.ids)]\n",
    "\n",
    "labels = []\n",
    "for env in empo_1.unique():\n",
    "    env_ids = set(empo_1[empo_1 == env].index)\n",
    "    within_data = full_dm.within(env_ids)\n",
    "    plt.hist(within_data['value'], alpha=0.65, bins=100)\n",
    "    labels.append(env)\n",
    "\n",
    "from_label, to_label = empo_1.unique()\n",
    "from_ = empo_1[empo_1 == from_label].index\n",
    "to_ = empo_1[empo_1 == to_label].index\n",
    "\n",
    "between_data = full_dm.between(from_, to_)\n",
    "plt.hist(between_data['value'], alpha=0.65, bins=100)\n",
    "labels.append(f'{from_label} vs. {to_label}')\n",
    "\n",
    "plt.legend(labels);"
   ]
  },
  {
   "cell_type": "markdown",
   "metadata": {},
   "source": [
    "## PCoA and PERMANOVA"
   ]
  },
  {
   "cell_type": "markdown",
   "metadata": {
    "id": "VOQGcVv9SuS0"
   },
   "source": [
    "Let's now move on to [Principal Coordinates Analysis](https://en.wikipedia.org/wiki/Multidimensional_scaling#Classical_multidimensional_scaling) (PCoA). PCoA is a dimensionality reduction technique, which allows us to examine the primary axes of variation in a dataset. The scikit-bio implementation is based on [Legendre & Legendre](https://shop.elsevier.com/books/numerical-ecology/legendre/978-0-444-89249-2), but scikit-bio also supports an approximate version of PCoA, where the number of dimensions calculated is parameterized, and is scalable to quite large datasets.\n",
    "\n",
    "As we'll see, the `OrdinationResults` object has a few member methods, including a `DataFrame` representation of the coordinate data."
   ]
  },
  {
   "cell_type": "code",
   "execution_count": 21,
   "metadata": {},
   "outputs": [],
   "source": [
    "from skbio.stats.ordination import pcoa"
   ]
  },
  {
   "cell_type": "code",
   "execution_count": 22,
   "metadata": {
    "colab": {
     "base_uri": "https://localhost:8080/"
    },
    "id": "vw8PFFnsi7TQ",
    "outputId": "a9911843-34a0-45bd-da41-e72ee4591765"
   },
   "outputs": [],
   "source": [
    "pc = pcoa(full_dm, number_of_dimensions=10)"
   ]
  },
  {
   "cell_type": "code",
   "execution_count": 23,
   "metadata": {
    "colab": {
     "base_uri": "https://localhost:8080/"
    },
    "id": "7UTTnpWuO5Mc",
    "outputId": "a5980a3d-f5fe-4c1b-dd2d-f5dce51c9562"
   },
   "outputs": [
    {
     "data": {
      "text/plain": [
       "PC1     0.163660\n",
       "PC2     0.107195\n",
       "PC3     0.058670\n",
       "PC4     0.048101\n",
       "PC5     0.034802\n",
       "PC6     0.029445\n",
       "PC7     0.027780\n",
       "PC8     0.024234\n",
       "PC9     0.021476\n",
       "PC10    0.019042\n",
       "dtype: float64"
      ]
     },
     "execution_count": 23,
     "metadata": {},
     "output_type": "execute_result"
    }
   ],
   "source": [
    "pc.proportion_explained"
   ]
  },
  {
   "cell_type": "code",
   "execution_count": 24,
   "metadata": {
    "colab": {
     "base_uri": "https://localhost:8080/",
     "height": 207
    },
    "id": "ny1LpwS8lCnK",
    "outputId": "f5dad8d5-a023-4934-e69a-b4d49e71a0ea"
   },
   "outputs": [
    {
     "data": {
      "text/html": [
       "<div>\n",
       "<style scoped>\n",
       "    .dataframe tbody tr th:only-of-type {\n",
       "        vertical-align: middle;\n",
       "    }\n",
       "\n",
       "    .dataframe tbody tr th {\n",
       "        vertical-align: top;\n",
       "    }\n",
       "\n",
       "    .dataframe thead th {\n",
       "        text-align: right;\n",
       "    }\n",
       "</style>\n",
       "<table border=\"1\" class=\"dataframe\">\n",
       "  <thead>\n",
       "    <tr style=\"text-align: right;\">\n",
       "      <th></th>\n",
       "      <th>PC1</th>\n",
       "      <th>PC2</th>\n",
       "      <th>PC3</th>\n",
       "      <th>PC4</th>\n",
       "      <th>PC5</th>\n",
       "      <th>PC6</th>\n",
       "      <th>PC7</th>\n",
       "      <th>PC8</th>\n",
       "      <th>PC9</th>\n",
       "      <th>PC10</th>\n",
       "    </tr>\n",
       "  </thead>\n",
       "  <tbody>\n",
       "    <tr>\n",
       "      <th>13114.song.51.s009</th>\n",
       "      <td>0.042510</td>\n",
       "      <td>-0.036326</td>\n",
       "      <td>0.006767</td>\n",
       "      <td>-0.049057</td>\n",
       "      <td>-0.141679</td>\n",
       "      <td>0.187427</td>\n",
       "      <td>0.065830</td>\n",
       "      <td>-0.149270</td>\n",
       "      <td>0.355220</td>\n",
       "      <td>0.174050</td>\n",
       "    </tr>\n",
       "    <tr>\n",
       "      <th>13114.minich.76.s006</th>\n",
       "      <td>-0.165712</td>\n",
       "      <td>-0.100060</td>\n",
       "      <td>0.229435</td>\n",
       "      <td>0.046471</td>\n",
       "      <td>-0.101067</td>\n",
       "      <td>0.109309</td>\n",
       "      <td>0.051436</td>\n",
       "      <td>0.084869</td>\n",
       "      <td>-0.073321</td>\n",
       "      <td>-0.041010</td>\n",
       "    </tr>\n",
       "    <tr>\n",
       "      <th>13114.stegen.38.s015</th>\n",
       "      <td>0.004148</td>\n",
       "      <td>0.314941</td>\n",
       "      <td>-0.170188</td>\n",
       "      <td>-0.021385</td>\n",
       "      <td>-0.010038</td>\n",
       "      <td>0.111820</td>\n",
       "      <td>0.071186</td>\n",
       "      <td>-0.255865</td>\n",
       "      <td>0.004634</td>\n",
       "      <td>0.106999</td>\n",
       "    </tr>\n",
       "    <tr>\n",
       "      <th>13114.mousseau.88.s056</th>\n",
       "      <td>0.347220</td>\n",
       "      <td>-0.071569</td>\n",
       "      <td>0.061535</td>\n",
       "      <td>0.020820</td>\n",
       "      <td>-0.035580</td>\n",
       "      <td>0.038144</td>\n",
       "      <td>0.130380</td>\n",
       "      <td>0.023505</td>\n",
       "      <td>-0.004246</td>\n",
       "      <td>0.009300</td>\n",
       "    </tr>\n",
       "    <tr>\n",
       "      <th>13114.king.27.s017</th>\n",
       "      <td>-0.112540</td>\n",
       "      <td>-0.034258</td>\n",
       "      <td>0.405194</td>\n",
       "      <td>0.106610</td>\n",
       "      <td>0.036275</td>\n",
       "      <td>-0.225322</td>\n",
       "      <td>0.019813</td>\n",
       "      <td>0.032210</td>\n",
       "      <td>-0.000027</td>\n",
       "      <td>0.182978</td>\n",
       "    </tr>\n",
       "  </tbody>\n",
       "</table>\n",
       "</div>"
      ],
      "text/plain": [
       "                             PC1       PC2       PC3       PC4       PC5  \\\n",
       "13114.song.51.s009      0.042510 -0.036326  0.006767 -0.049057 -0.141679   \n",
       "13114.minich.76.s006   -0.165712 -0.100060  0.229435  0.046471 -0.101067   \n",
       "13114.stegen.38.s015    0.004148  0.314941 -0.170188 -0.021385 -0.010038   \n",
       "13114.mousseau.88.s056  0.347220 -0.071569  0.061535  0.020820 -0.035580   \n",
       "13114.king.27.s017     -0.112540 -0.034258  0.405194  0.106610  0.036275   \n",
       "\n",
       "                             PC6       PC7       PC8       PC9      PC10  \n",
       "13114.song.51.s009      0.187427  0.065830 -0.149270  0.355220  0.174050  \n",
       "13114.minich.76.s006    0.109309  0.051436  0.084869 -0.073321 -0.041010  \n",
       "13114.stegen.38.s015    0.111820  0.071186 -0.255865  0.004634  0.106999  \n",
       "13114.mousseau.88.s056  0.038144  0.130380  0.023505 -0.004246  0.009300  \n",
       "13114.king.27.s017     -0.225322  0.019813  0.032210 -0.000027  0.182978  "
      ]
     },
     "execution_count": 24,
     "metadata": {},
     "output_type": "execute_result"
    }
   ],
   "source": [
    "pc.samples.head()"
   ]
  },
  {
   "cell_type": "markdown",
   "metadata": {
    "id": "47wB2PbWO-B-"
   },
   "source": [
    "Using the coordinates, we can make a single scatter plot of the samples."
   ]
  },
  {
   "cell_type": "code",
   "execution_count": 25,
   "metadata": {
    "colab": {
     "base_uri": "https://localhost:8080/",
     "height": 448
    },
    "id": "TNezlo8_lLpz",
    "outputId": "59d77e89-d0e3-4176-8f80-55d259958eae"
   },
   "outputs": [
    {
     "data": {
      "image/png": "[encoded data removed]",
      "text/plain": [
       "<Figure size 640x480 with 1 Axes>"
      ]
     },
     "metadata": {},
     "output_type": "display_data"
    }
   ],
   "source": [
    "plt.scatter(pc.samples['PC1'], pc.samples['PC2'], s=5);"
   ]
  },
  {
   "cell_type": "markdown",
   "metadata": {
    "id": "cx1WOdeWm3Wx"
   },
   "source": [
    "...but that's not that interesting. Let's add some color. We're going to do this a couple of times so let's write a small function.\n",
    "\n",
    "**NOTE**: We also recommend [EMPeror](https://academic.oup.com/gigascience/article/2/1/2047-217X-2-16/2656132) for large scale visualization. It is compatible with the `OrdinationResults` object, supports interactive operation and various brushing options.  "
   ]
  },
  {
   "cell_type": "code",
   "execution_count": 26,
   "metadata": {
    "id": "xrKx1hawli4i"
   },
   "outputs": [],
   "source": [
    "def pcoa_plot(ord_result, metadata, category, title=None):\n",
    "    plt.figure(figsize=(7, 7))\n",
    "\n",
    "    # adjust the point size based on the number of samples\n",
    "    if len(ord_result.samples) > 300:\n",
    "        s = 5\n",
    "    else:\n",
    "        s = 10\n",
    "\n",
    "    labels = []\n",
    "\n",
    "    ord_ids = set(ord_result.samples.index)\n",
    "    category_series = metadata.get_column(category).to_series()\n",
    "    for env in category_series.unique():\n",
    "        labels.append(env)\n",
    "\n",
    "        env_ids = metadata.get_ids(where=f\"[{category}] = '{env}'\")\n",
    "        env_ids = list(env_ids & ord_ids)\n",
    "\n",
    "        plt.scatter(ord_result.samples.loc[env_ids, 'PC1'],\n",
    "                    ord_result.samples.loc[env_ids, 'PC2'],\n",
    "                    s=s, alpha=0.75)\n",
    "    ax = plt.gca()\n",
    "    ax.set_xlabel(f'PC1 ({100 * (ord_result.proportion_explained[0]):.2f}%)')\n",
    "    ax.set_ylabel(f'PC2 ({100 * (ord_result.proportion_explained[1]):.2f}%)')\n",
    "    plt.legend(labels)\n",
    "    if title is not None:\n",
    "        plt.title(title)"
   ]
  },
  {
   "cell_type": "code",
   "execution_count": 27,
   "metadata": {
    "colab": {
     "base_uri": "https://localhost:8080/",
     "height": 449
    },
    "id": "17y4TAwpqYPy",
    "outputId": "f010ee33-19ee-4478-ff3a-d5be7196a908"
   },
   "outputs": [
    {
     "data": {
      "image/png": "[encoded data removed]",
      "text/plain": [
       "<Figure size 700x700 with 1 Axes>"
      ]
     },
     "metadata": {},
     "output_type": "display_data"
    }
   ],
   "source": [
    "pcoa_plot(pc, metadata, 'empo_1')"
   ]
  },
  {
   "cell_type": "markdown",
   "metadata": {
    "id": "n95VoxSGnuJX"
   },
   "source": [
    "To support the above analyses, we will apply [PERMANOVA](https://onlinelibrary.wiley.com/doi/10.1111/j.1442-9993.2001.01070.pp.x) to the distances. PERMANOVA is a non-parametric analysis of variance. By default, PERMANOVA computes 999 permutations which is used to estimate the p-value."
   ]
  },
  {
   "cell_type": "code",
   "execution_count": 28,
   "metadata": {},
   "outputs": [],
   "source": [
    "from skbio.stats.distance import permanova"
   ]
  },
  {
   "cell_type": "code",
   "execution_count": 29,
   "metadata": {
    "colab": {
     "base_uri": "https://localhost:8080/"
    },
    "id": "mwUbIzRblvah",
    "outputId": "21bd0c6d-c0af-4fcc-d5bb-d0f2736fced9"
   },
   "outputs": [
    {
     "data": {
      "text/plain": [
       "method name               PERMANOVA\n",
       "test statistic name        pseudo-F\n",
       "sample size                     526\n",
       "number of groups                  2\n",
       "test statistic            39.630091\n",
       "p-value                       0.001\n",
       "number of permutations          999\n",
       "Name: PERMANOVA results, dtype: object"
      ]
     },
     "execution_count": 29,
     "metadata": {},
     "output_type": "execute_result"
    }
   ],
   "source": [
    "permanova(full_dm, empo_1)"
   ]
  },
  {
   "cell_type": "markdown",
   "metadata": {},
   "source": [
    "## Incorporating phylogeny"
   ]
  },
  {
   "cell_type": "markdown",
   "metadata": {
    "id": "YdBZgroto5PE"
   },
   "source": [
    "Now, let's tinker.\n",
    "\n",
    "We might wonder whether the sample-to-sample relationships are consistent when constrained to particular phyla.\n",
    "\n",
    "To do this, we're going to aggregate sample information up the phylogeny (from tip to root). Specifically, we are going to determine the set of samples a feature is present in, and then push the unique sample IDs up the tree through a postorder traversal, effecively reducing the information.\n",
    "\n",
    "While doing so, we are also going to cache the names of the features found within a clade simply to facilitate filtering later on.\n",
    "\n"
   ]
  },
  {
   "cell_type": "code",
   "execution_count": 30,
   "metadata": {
    "id": "rC2vFgbQrguK"
   },
   "outputs": [],
   "source": [
    "sample_ids = even_table.ids()\n",
    "\n",
    "# this complex dict comprehension maps a feature ID to the set of\n",
    "# samples that feature was found it. The v.indices attribute is the\n",
    "# index positions of the nonzero values within a SciPy sparse vector\n",
    "samples_represented = {id_: set(sample_ids[v.indices])\n",
    "                       for v, id_, _ in even_table.iter(axis='observation', dense=False)}"
   ]
  },
  {
   "cell_type": "markdown",
   "metadata": {
    "id": "bK9Bcb_HUPqo"
   },
   "source": [
    "Postorder means children are assured to be evaluted before parents. The TreeNode supports many types of traversals, and pleasant examples of common traversals can be found on [Wikipedia](https://en.wikipedia.org/wiki/Tree_traversal). Here, we will decorate these new attributes onto the tree.\n",
    "\n",
    "The algorithm is:\n",
    "1. if the object being evaluated is a tip\n",
    "* get the samples represnted (or the empty set)\n",
    "* construct a set composed of only the feature name\n",
    "2. else the object must be an internal node\n",
    "* compute the set union of samples represented\n",
    "* compute the set union of features represented"
   ]
  },
  {
   "cell_type": "code",
   "execution_count": 31,
   "metadata": {},
   "outputs": [],
   "source": [
    "from functools import reduce\n",
    "from operator import or_"
   ]
  },
  {
   "cell_type": "code",
   "execution_count": 32,
   "metadata": {
    "id": "SFlL4vaCrgqH"
   },
   "outputs": [],
   "source": [
    "for node in phylogeny.postorder():\n",
    "    if node.is_tip():\n",
    "        node.samples_represented = samples_represented.get(node.name, set())\n",
    "        node.tips_represented = {node.name, }\n",
    "    else:\n",
    "        node.samples_represented = reduce(or_, [child.samples_represented for child in node.children])\n",
    "        node.tips_represented = reduce(or_, [child.tips_represented for child in node.children])"
   ]
  },
  {
   "cell_type": "markdown",
   "metadata": {},
   "source": [
    "Let's spot check what the representation is at the domain level."
   ]
  },
  {
   "cell_type": "code",
   "execution_count": 33,
   "metadata": {
    "colab": {
     "base_uri": "https://localhost:8080/"
    },
    "id": "m-jTAJhYrgkQ",
    "outputId": "ef067cda-d8e2-4234-d20e-4767c9a26c11"
   },
   "outputs": [
    {
     "name": "stdout",
     "output_type": "stream",
     "text": [
      "Samples with d__Bacteria: 526\n",
      "Samples with d__Archaea: 61\n"
     ]
    }
   ],
   "source": [
    "for child in phylogeny.children:\n",
    "    print(f\"Samples with {child.name}: {len(child.samples_represented)}\")"
   ]
  },
  {
   "cell_type": "markdown",
   "metadata": {
    "id": "8AZBR29tUrRd"
   },
   "source": [
    "Next, let's gather all phylum level named nodes (p__), sort them by how many samples are represented, and print the top few"
   ]
  },
  {
   "cell_type": "code",
   "execution_count": 34,
   "metadata": {},
   "outputs": [],
   "source": [
    "from operator import itemgetter"
   ]
  },
  {
   "cell_type": "code",
   "execution_count": 35,
   "metadata": {
    "colab": {
     "base_uri": "https://localhost:8080/"
    },
    "id": "k7xxaa22rgcV",
    "outputId": "44ee6cbc-7afe-4f77-c172-10bc77f5976d"
   },
   "outputs": [
    {
     "name": "stdout",
     "output_type": "stream",
     "text": [
      "Samples with p__Proteobacteria: 521\n",
      "Samples with p__Firmicutes_D: 464\n",
      "Samples with p__Bacteroidota: 416\n",
      "Samples with p__Cyanobacteria: 409\n",
      "Samples with p__Firmicutes_A: 402\n",
      "Samples with p__Actinobacteriota: 384\n",
      "Samples with p__Verrucomicrobiota: 203\n",
      "Samples with p__Acidobacteriota: 187\n",
      "Samples with p__Deinococcota; c__Deinococci: 152\n",
      "Samples with p__Planctomycetota: 143\n"
     ]
    }
   ],
   "source": [
    "named_nodes = [(n.name, len(n.samples_represented), n)\n",
    "               for n in phylogeny.traverse()\n",
    "               if n.name is not None and n.name.startswith('p__')]\n",
    "\n",
    "named_nodes = sorted(named_nodes, key=itemgetter(1), reverse=True)\n",
    "for name, count, _ in named_nodes[:10]:\n",
    "    print(f\"Samples with {name}: {count}\")"
   ]
  },
  {
   "cell_type": "code",
   "execution_count": 36,
   "metadata": {
    "id": "A39vNj4MpB-n"
   },
   "outputs": [],
   "source": [
    "# A helper function to intersect a table with the features represented by a node\n",
    "\n",
    "def intersect_with_node(tab, node):\n",
    "    tips_in_table = set(tab.ids(axis='observation'))\n",
    "    tipset = node.tips_represented & tips_in_table\n",
    "    return tab.filter(tipset, axis='observation', inplace=False).remove_empty()"
   ]
  },
  {
   "cell_type": "markdown",
   "metadata": {
    "id": "XmyM8QYTUwm1"
   },
   "source": [
    "Now we will take two interesting sets. While testing this notebook, it was noted the number of sample IDs in common between Proteobacteria and Firmicutes_D, after rarefaction, was relatively low. So instead, let's look at Proteobacteria and Bacteroidota.\n",
    "\n",
    "The next few cells filter the feature table to each phyla of focus, constrain them to the exact same set of IDs, compute UniFrac again, and then principal coordinates."
   ]
  },
  {
   "cell_type": "code",
   "execution_count": 37,
   "metadata": {
    "id": "g_1lZQCNpLVj"
   },
   "outputs": [],
   "source": [
    "first_name, _, first_node = named_nodes[0]\n",
    "second_name, _, second_node = named_nodes[2]\n",
    "\n",
    "even_table_first = intersect_with_node(table, first_node).subsample(depth)\n",
    "even_table_second = intersect_with_node(table, second_node).subsample(depth)"
   ]
  },
  {
   "cell_type": "code",
   "execution_count": 38,
   "metadata": {
    "id": "gEVKgeNKpnRM"
   },
   "outputs": [],
   "source": [
    "common_ids = set(even_table_first.ids()) & set(even_table_second.ids())\n",
    "even_table_first = even_table_first.filter(common_ids).remove_empty()\n",
    "even_table_second = even_table_second.filter(common_ids).remove_empty()"
   ]
  },
  {
   "cell_type": "code",
   "execution_count": 39,
   "metadata": {
    "id": "hleaBnM5p3ad"
   },
   "outputs": [],
   "source": [
    "first_dm = beta_diversity('unweighted_unifrac', even_table_first, tree=phylogeny)\n",
    "second_dm = beta_diversity('unweighted_unifrac', even_table_second, tree=phylogeny)"
   ]
  },
  {
   "cell_type": "code",
   "execution_count": 40,
   "metadata": {
    "colab": {
     "base_uri": "https://localhost:8080/"
    },
    "id": "HKPG6vGqqvIE",
    "outputId": "22f547de-b198-4926-83aa-f968c92f9dbb"
   },
   "outputs": [],
   "source": [
    "first_pc = pcoa(first_dm, number_of_dimensions=10)\n",
    "second_pc = pcoa(second_dm, number_of_dimensions=10)"
   ]
  },
  {
   "cell_type": "markdown",
   "metadata": {
    "id": "zuKSfRoGVLvl"
   },
   "source": [
    "Now we can visualize these clade specific beta diversity calculations!"
   ]
  },
  {
   "cell_type": "code",
   "execution_count": 41,
   "metadata": {
    "colab": {
     "base_uri": "https://localhost:8080/",
     "height": 472
    },
    "id": "HkaM_3_BqDum",
    "outputId": "574b2f78-471b-4cd5-91e1-8d962e33ac8b"
   },
   "outputs": [
    {
     "data": {
      "image/png": "[encoded data removed]",
      "text/plain": [
       "<Figure size 700x700 with 1 Axes>"
      ]
     },
     "metadata": {},
     "output_type": "display_data"
    }
   ],
   "source": [
    "pcoa_plot(first_pc, metadata, 'empo_1', first_name)"
   ]
  },
  {
   "cell_type": "code",
   "execution_count": 42,
   "metadata": {
    "colab": {
     "base_uri": "https://localhost:8080/",
     "height": 472
    },
    "id": "hGyklWnWq4ZD",
    "outputId": "62bd19b3-ce41-44cd-ffd1-d710514f8d85"
   },
   "outputs": [
    {
     "data": {
      "image/png": "[encoded data removed]",
      "text/plain": [
       "<Figure size 700x700 with 1 Axes>"
      ]
     },
     "metadata": {},
     "output_type": "display_data"
    }
   ],
   "source": [
    "pcoa_plot(second_pc, metadata, 'empo_1', second_name)"
   ]
  },
  {
   "cell_type": "markdown",
   "metadata": {},
   "source": [
    "## Mantel test"
   ]
  },
  {
   "cell_type": "markdown",
   "metadata": {
    "id": "O5cBa12mVgaA"
   },
   "source": [
    "We additionally can compute the correlation of the sample-sample relationships in both phyla using a [Mantel](https://pubmed.ncbi.nlm.nih.gov/6018555/) test. Mantel, like PERMANOVA, is non-parametric and by default uses 999 repetitions to estimate a p-value.\n",
    "\n",
    "In the next few cells, we will compare Proteobacteria to Bacteroidota, Proteobacteria to the full tree, and Bacteroidota to the full tree. We then will apply PERMANOVA to these clade specific distance matrices.\n",
    "\n",
    "Interestingly, we observe a relatively low correlation between these two phyla, and it seems the sample-sample relationships within Bacteroidota better recapitulate the full distance matrix. This observation is further supported by the relative difference in test statistics from PERMANOVA, where the statistic is larger between host and non-host samples."
   ]
  },
  {
   "cell_type": "code",
   "execution_count": 43,
   "metadata": {},
   "outputs": [],
   "source": [
    "from skbio.stats.distance import mantel"
   ]
  },
  {
   "cell_type": "code",
   "execution_count": 44,
   "metadata": {
    "colab": {
     "base_uri": "https://localhost:8080/"
    },
    "id": "ymJx8PxsrKMb",
    "outputId": "a30b59f8-8ea9-45b0-eb25-14f4ef143595"
   },
   "outputs": [
    {
     "name": "stdout",
     "output_type": "stream",
     "text": [
      "Mantel r=0.46 p=0.001\n"
     ]
    }
   ],
   "source": [
    "r, p, _ = mantel(first_dm, second_dm)\n",
    "print(f\"Mantel r={r:0.2} p={p:0.2}\")"
   ]
  },
  {
   "cell_type": "code",
   "execution_count": 45,
   "metadata": {
    "colab": {
     "base_uri": "https://localhost:8080/"
    },
    "id": "JtTeQYdExdC9",
    "outputId": "681135a9-5e4d-4d16-a28c-5a210c9aacf2"
   },
   "outputs": [
    {
     "name": "stdout",
     "output_type": "stream",
     "text": [
      "Mantel r=0.63 p=0.001\n"
     ]
    }
   ],
   "source": [
    "r, p, _ = mantel(full_dm, first_dm, strict=False)\n",
    "print(f\"Mantel r={r:0.2} p={p:0.2}\")"
   ]
  },
  {
   "cell_type": "code",
   "execution_count": 46,
   "metadata": {
    "colab": {
     "base_uri": "https://localhost:8080/"
    },
    "id": "nPs5MeHFxw25",
    "outputId": "45475039-4369-4db7-9253-b46acb5d174f"
   },
   "outputs": [
    {
     "name": "stdout",
     "output_type": "stream",
     "text": [
      "Mantel r=0.77 p=0.001\n"
     ]
    }
   ],
   "source": [
    "r, p, _ = mantel(full_dm, second_dm, strict=False)\n",
    "print(f\"Mantel r={r:0.2} p={p:0.2}\")"
   ]
  },
  {
   "cell_type": "code",
   "execution_count": 47,
   "metadata": {
    "colab": {
     "base_uri": "https://localhost:8080/"
    },
    "id": "kFo4Wx-jxy0J",
    "outputId": "6395597d-87ec-4b80-9cfa-ff2bd79b3a3f"
   },
   "outputs": [
    {
     "data": {
      "text/plain": [
       "method name               PERMANOVA\n",
       "test statistic name        pseudo-F\n",
       "sample size                     103\n",
       "number of groups                  2\n",
       "test statistic             23.98533\n",
       "p-value                       0.001\n",
       "number of permutations          999\n",
       "Name: PERMANOVA results, dtype: object"
      ]
     },
     "execution_count": 47,
     "metadata": {},
     "output_type": "execute_result"
    }
   ],
   "source": [
    "permanova(first_dm, empo_1)"
   ]
  },
  {
   "cell_type": "code",
   "execution_count": 48,
   "metadata": {
    "colab": {
     "base_uri": "https://localhost:8080/"
    },
    "id": "bdK2VESdyjSx",
    "outputId": "a25568d0-526f-44f6-d441-2dd790097b6d"
   },
   "outputs": [
    {
     "data": {
      "text/plain": [
       "method name               PERMANOVA\n",
       "test statistic name        pseudo-F\n",
       "sample size                     103\n",
       "number of groups                  2\n",
       "test statistic            49.348809\n",
       "p-value                       0.001\n",
       "number of permutations          999\n",
       "Name: PERMANOVA results, dtype: object"
      ]
     },
     "execution_count": 48,
     "metadata": {},
     "output_type": "execute_result"
    }
   ],
   "source": [
    "permanova(second_dm, empo_1)"
   ]
  },
  {
   "cell_type": "markdown",
   "metadata": {},
   "source": [
    "## Proscrustes disparity"
   ]
  },
  {
   "cell_type": "markdown",
   "metadata": {
    "id": "zp5OO5ABXcbE"
   },
   "source": [
    "And last, we will compute the [Procrustes disparity](https://en.wikipedia.org/wiki/Procrustes_analysis), a measure of fit, between the clade specific ordinations.\n",
    "\n",
    "Procrustes can also be permuted to estimate a p-value, however that is not directly supported at this time within scikit-bio. The procedure is relatively simple though: iterate N times, randomly shuffle the IDs of one of the matrices, recomptue Procrustes. This too is slated for inclusion directly in scikit-bio. And last, the EMPeror library (noted above) can plot Procrustes transforms linking the samples in both ordinations visually."
   ]
  },
  {
   "cell_type": "code",
   "execution_count": 49,
   "metadata": {},
   "outputs": [],
   "source": [
    "from scipy.spatial import procrustes"
   ]
  },
  {
   "cell_type": "code",
   "execution_count": 50,
   "metadata": {
    "colab": {
     "base_uri": "https://localhost:8080/"
    },
    "id": "o8VwLJQrylOk",
    "outputId": "53d0aead-5aed-4789-add6-5fe60a2c4c55"
   },
   "outputs": [
    {
     "name": "stdout",
     "output_type": "stream",
     "text": [
      "0.4653587637551996\n"
     ]
    }
   ],
   "source": [
    "mtx1, mtx2, disparity = procrustes(\n",
    "    first_pc.samples[['PC1', 'PC2']],\n",
    "    second_pc.samples[['PC1', 'PC2']]\n",
    ")\n",
    "print(disparity)"
   ]
  }
 ],
 "metadata": {
  "colab": {
   "provenance": []
  },
  "kernelspec": {
   "display_name": "Python [conda env:skbio-dev]",
   "language": "python",
   "name": "conda-env-skbio-dev-py"
  },
  "language_info": {
   "codemirror_mode": {
    "name": "ipython",
    "version": 3
   },
   "file_extension": ".py",
   "mimetype": "text/x-python",
   "name": "python",
   "nbconvert_exporter": "python",
   "pygments_lexer": "ipython3",
   "version": "3.13.2"
  }
 },
 "nbformat": 4,
 "nbformat_minor": 4
}
